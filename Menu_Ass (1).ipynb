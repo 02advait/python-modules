{
  "nbformat": 4,
  "nbformat_minor": 0,
  "metadata": {
    "colab": {
      "provenance": []
    },
    "kernelspec": {
      "name": "python3",
      "display_name": "Python 3"
    },
    "language_info": {
      "name": "python"
    }
  },
  "cells": [
    {
      "cell_type": "code",
      "execution_count": null,
      "metadata": {
        "id": "fxAM1ZN-OH6M"
      },
      "outputs": [],
      "source": []
    },
    {
      "cell_type": "code",
      "source": [
        "b_price = 50\n",
        "p_price = 120\n",
        "ff_price = 80\n",
        "\n",
        "b_count = 0\n",
        "p_count =  0\n",
        "ff_count = 0\n",
        "\n",
        "\n",
        "while True:\n",
        "  print(\"-----------\")\n",
        "  print(\"  M E N U  \")\n",
        "  print(\"-----------\")\n",
        "  print(\"1. Burger (₹50)\")\n",
        "  print(\"2. Pizza (₹120)\")\n",
        "  print(\"3. French Fries (₹80)\")\n",
        "  print('0. Exit')\n",
        "  b_count = int(input(\" Enter the number of Burgers: \"))\n",
        "  p_count = int(input(\" Enter the number of Pizzas: \"))\n",
        "  ff_count = int(input(\" Enter the number of French Fries: \"))\n",
        "  print(\" =========== Bill Summary =========== \")\n",
        "  print(\"Burger       -->\",b_count,\"X\",b_price,\"=\",b_price * b_count)\n",
        "  print(\"Pizza        -->\",p_count,\"X\",p_price ,\"=\" ,p_price * p_count)\n",
        "  print(\"French Fries -->\",ff_count,\"X\",ff_price  ,\"=\"  ,ff_price * ff_count)\n",
        "  bill = (b_price * b_count) + (p_price * p_count) + (ff_price * ff_count)\n",
        "  print(\"Total bill before discount --->\",bill )\n",
        "\n",
        "\n",
        "  if bill > 3000:\n",
        "    discounted_bill = bill * 0.3\n",
        "  elif bill > 2000:\n",
        "    discounted_bill = bill * 0.2\n",
        "  elif bill > 1000:\n",
        "    discounted_bill = bill * 0.1\n",
        "  else:\n",
        "    discounted_bill = 0\n",
        "  discount = bill - discounted_bill\n",
        "  print(\"Discount Applied =\", discounted_bill)\n",
        "  print(\"Final Bill = \", discount)\n",
        "\n",
        "  break"
      ],
      "metadata": {
        "colab": {
          "base_uri": "https://localhost:8080/"
        },
        "id": "-cxgwGkwoS8w",
        "outputId": "e4cf53a9-6883-4ab0-b502-6b5f6129b10b"
      },
      "execution_count": 39,
      "outputs": [
        {
          "output_type": "stream",
          "name": "stdout",
          "text": [
            "-----------\n",
            "  M E N U  \n",
            "-----------\n",
            "1. Burger (₹50)\n",
            "2. Pizza (₹120)\n",
            "3. French Fries (₹80)\n",
            "0. Exit\n",
            " Enter the number of Burgers: 10\n",
            " Enter the number of Pizzas: 10\n",
            " Enter the number of French Fries: 10\n",
            " =========== Bill Summary =========== \n",
            "Burger       --> 10 X 50 = 500\n",
            "Pizza        --> 10 X 120 = 1200\n",
            "French Fries --> 10 X 80 = 800\n",
            "Total bill before discount ---> 2500\n",
            "Discount Applied = 500.0\n",
            "Final Bill =  2000.0\n"
          ]
        }
      ]
    }
  ]
}