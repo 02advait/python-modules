{
 "cells": [
  {
   "cell_type": "code",
   "execution_count": null,
   "metadata": {},
   "outputs": [],
   "source": [
    "#  1. Create a string variable named my_string and assign it the value\n",
    "#     \"qwertyuiopasdfghjkl asdfghjkzxcvbnm\".\n",
    "\n",
    "my_string = \"qwertyuiopasdfghjkl asdfghjkzxcvbnm\""
   ]
  },
  {
   "cell_type": "code",
   "execution_count": 2,
   "metadata": {},
   "outputs": [
    {
     "name": "stdout",
     "output_type": "stream",
     "text": [
      "e\n"
     ]
    }
   ],
   "source": [
    "#  2. Print the third character of my_string using indexing.\n",
    "\n",
    "print(my_string[2])"
   ]
  },
  {
   "cell_type": "code",
   "execution_count": 3,
   "metadata": {},
   "outputs": [
    {
     "name": "stdout",
     "output_type": "stream",
     "text": [
      "m\n"
     ]
    }
   ],
   "source": [
    "#  3. Print the last character of my_string using indexing.\n",
    "\n",
    "print(my_string[-1])\n"
   ]
  },
  {
   "cell_type": "code",
   "execution_count": 4,
   "metadata": {},
   "outputs": [
    {
     "name": "stdout",
     "output_type": "stream",
     "text": [
      "qwert\n"
     ]
    }
   ],
   "source": [
    "#  4. Print the first five characters of my_string using slicing\n",
    "\n",
    "print(my_string[:5])"
   ]
  },
  {
   "cell_type": "code",
   "execution_count": 5,
   "metadata": {},
   "outputs": [
    {
     "name": "stdout",
     "output_type": "stream",
     "text": [
      "cvbnm\n"
     ]
    }
   ],
   "source": [
    "#  5. Print the last five characters of my_string using slicing.\n",
    "\n",
    "print(my_string[-5:])"
   ]
  },
  {
   "cell_type": "code",
   "execution_count": 6,
   "metadata": {},
   "outputs": [
    {
     "name": "stdout",
     "output_type": "stream",
     "text": [
      "qetuoadgjladgjzcbm\n"
     ]
    }
   ],
   "source": [
    "#  6. Print every other character of my_string using slicing.\n",
    "\n",
    "print(my_string[::2])"
   ]
  },
  {
   "cell_type": "code",
   "execution_count": 7,
   "metadata": {},
   "outputs": [
    {
     "name": "stdout",
     "output_type": "stream",
     "text": [
      "mnbvcxzkjhgfdsa lkjhgfdsapoiuytrewq\n"
     ]
    }
   ],
   "source": [
    "#  7. Print my_string in reverse using slicing.\n",
    "\n",
    "print(my_string[::-1])"
   ]
  },
  {
   "cell_type": "code",
   "execution_count": 8,
   "metadata": {},
   "outputs": [
    {
     "name": "stdout",
     "output_type": "stream",
     "text": [
      "qw\n"
     ]
    }
   ],
   "source": [
    "#  8. Print the first two characters of my_string using slicing.\n",
    "\n",
    "print(my_string[:2])"
   ]
  },
  {
   "cell_type": "code",
   "execution_count": 9,
   "metadata": {},
   "outputs": [
    {
     "name": "stdout",
     "output_type": "stream",
     "text": [
      "iopasd\n"
     ]
    }
   ],
   "source": [
    "#  9. Print the characters of my_string from index 7 to index 12 (inclusive) using slicing.\n",
    "\n",
    "print(my_string[7:13])"
   ]
  },
  {
   "cell_type": "code",
   "execution_count": 10,
   "metadata": {},
   "outputs": [
    {
     "name": "stdout",
     "output_type": "stream",
     "text": [
      "bnm\n"
     ]
    }
   ],
   "source": [
    "#  10.Print the last three characters of my_string using slicing.\n",
    "\n",
    "print(my_string[-3:])"
   ]
  },
  {
   "cell_type": "code",
   "execution_count": 11,
   "metadata": {},
   "outputs": [
    {
     "name": "stdout",
     "output_type": "stream",
     "text": [
      "mnbvcxzkjhgfdsa lkjhgfdsapoiuytrewq\n"
     ]
    }
   ],
   "source": [
    "#  11.Print the characters of my_string in reverse order using slicing.\n",
    "\n",
    "print(my_string[::-1])"
   ]
  },
  {
   "cell_type": "code",
   "execution_count": 12,
   "metadata": {},
   "outputs": [
    {
     "name": "stdout",
     "output_type": "stream",
     "text": [
      "wtiafj dhzvm\n"
     ]
    }
   ],
   "source": [
    "#  12.Print every third character of my_string starting from the second character using slicing.\n",
    "\n",
    "print(my_string[1::3])"
   ]
  },
  {
   "cell_type": "code",
   "execution_count": 13,
   "metadata": {},
   "outputs": [
    {
     "data": {
      "text/plain": [
       "'qwertyuiopasdfghjkl asdfghjkzxcvbnmlearning is fun'"
      ]
     },
     "execution_count": 13,
     "metadata": {},
     "output_type": "execute_result"
    }
   ],
   "source": [
    "'''    13.Create a new string variable named new_string and assign it the value\n",
    "    \"learning is fun\". Concatenate my_string and new_string using the +\n",
    "    operator and print the resulting string.\n",
    "'''\n",
    "\n",
    "new_string = \"learning is fun\"\n",
    "resulting_string = my_string + new_string\n",
    "resulting_string"
   ]
  },
  {
   "cell_type": "code",
   "execution_count": 14,
   "metadata": {},
   "outputs": [
    {
     "name": "stdout",
     "output_type": "stream",
     "text": [
      "24\n"
     ]
    }
   ],
   "source": [
    "'''14.Create a string variable named my_string and assign it the value \"Python is\n",
    "    easy to learn!\"\n",
    "    a. Print the length of my_string.\n",
    "    b. Convert my_string to uppercase and print it.\n",
    "    c. Replace the word \"easy\" in my_string with the word \"powerful\" and print the resulting string.\n",
    "'''\n",
    "\n",
    "my_string = \"Python is easy to learn!\"\n",
    "print(len(my_string))"
   ]
  },
  {
   "cell_type": "code",
   "execution_count": 15,
   "metadata": {},
   "outputs": [
    {
     "name": "stdout",
     "output_type": "stream",
     "text": [
      "jane.doe@example.com\n",
      "example.com\n",
      "jane.doe@mycompany.com\n"
     ]
    }
   ],
   "source": [
    "'''15.Create a string variable named email and assign it the value \"jane.doe@example.com\".\n",
    "    a. Print the username (i.e., \"jane.doe\") by slicing the string.\n",
    "    b. Print the domain (i.e., \"example.com\") by slicing the string.\n",
    "    c. Replace the domain with \"mycompany.com\" and print the resulting email address.\n",
    "'''\n",
    "\n",
    "email = \"jane.doe@example.com\"\n",
    "print(email)\n",
    "\n",
    "domain = email.split(\"@\")[1]\n",
    "print(domain)\n",
    "\n",
    "new_email = email.replace(domain,\"mycompany.com\")\n",
    "print(new_email)"
   ]
  },
  {
   "cell_type": "code",
   "execution_count": 16,
   "metadata": {},
   "outputs": [
    {
     "name": "stdout",
     "output_type": "stream",
     "text": [
      "7\n",
      "-1\n",
      "['Python', 'is', 'fun']\n"
     ]
    }
   ],
   "source": [
    "''' 16.Create a string variable named my_string and assign it the value \"Python is fun\".\n",
    "\n",
    "    a. Check if the word \"is\" is in my_string and print the result.\n",
    "    b. Check if the word \"Java\" is not in my_string and print the result.\n",
    "    c. Split my_string into a list of words and print the result.\n",
    "'''\n",
    "\n",
    "my_string = \"Python is fun\"\n",
    "print(my_string.find(\"is\"))\n",
    "print(my_string.find(\"Java\"))\n",
    "print(my_string.split())\n"
   ]
  },
  {
   "cell_type": "code",
   "execution_count": 17,
   "metadata": {},
   "outputs": [
    {
     "name": "stdout",
     "output_type": "stream",
     "text": [
      "Programming is awesome!\n",
      "['Programming', 'is', 'fun!']\n",
      "Programming is fun!\n"
     ]
    }
   ],
   "source": [
    "'''    17.Create a string variable named my_string and assign it the value \"Programming is fun!\".\n",
    "    \n",
    "    ● Use string interpolation to replace \"fun\" with \"awesome\" and print the\n",
    "    resulting string.\n",
    "    ● Use the split method to split my_string into a list of words and print\n",
    "    the result.\n",
    "    ● Use the join method to concatenate the list of words into a single\n",
    "    string using a space as a separator and print the resulting string.\n",
    "'''\n",
    "my_string = \"Programming is fun!\"\n",
    "print(my_string.replace(\"fun\",\"awesome\"))\n",
    "list_of_words = my_string.split()\n",
    "print(list_of_words)\n",
    "print(\" \".join(list_of_words))\n"
   ]
  },
  {
   "cell_type": "code",
   "execution_count": 18,
   "metadata": {},
   "outputs": [
    {
     "name": "stdout",
     "output_type": "stream",
     "text": [
      "4\n",
      "10\n",
      "This is a example sentence.\n"
     ]
    }
   ],
   "source": [
    "'''    18.Create a string variable named my_string and assign it the value \"This is a test sentence.\".\n",
    "\n",
    "    ● Use the count method to count the number of occurrences of the letter\n",
    "    \"e\" in my_string and print the result.\n",
    "    ● Use the find method to find the index of the first occurrence of the\n",
    "    word \"test\" in my_string and print the result.\n",
    "    ● Use the replace method to replace the word \"test\" with the word\n",
    "    \"example\" in my_string and print the resulting string.\n",
    "'''\n",
    "my_string = \"This is a test sentence.\"\n",
    "\n",
    "print(my_string.count(\"e\"))\n",
    "print(my_string.find(\"test\"))\n",
    "print(my_string.replace(\"test\",\"example\"))"
   ]
  },
  {
   "cell_type": "code",
   "execution_count": 19,
   "metadata": {},
   "outputs": [
    {
     "name": "stdout",
     "output_type": "stream",
     "text": [
      "typ\n",
      "p/y/t/h/o/n\n"
     ]
    }
   ],
   "source": [
    "'''    19.Create a string variable named my_string and assign it the value \"python\".\n",
    "    ● Use slicing to print the first three characters of my_string in reverse\n",
    "    order.\n",
    "    ● Use slicing to print the last two characters of my_string in reverse\n",
    "    order.\n",
    "    ● Use the join method to add a hyphen between each character of\n",
    "    my_string and print the resulting string.\n",
    "'''\n",
    "\n",
    "my_string = \"python\"\n",
    "print(my_string[2::-1])\n",
    "print(\"/\".join(my_string))"
   ]
  },
  {
   "cell_type": "code",
   "execution_count": 20,
   "metadata": {},
   "outputs": [
    {
     "name": "stdout",
     "output_type": "stream",
     "text": [
      "Python Is A Popular Programming Language\n",
      "['Python', 'is', 'a', 'popular', 'programming', 'language']\n",
      "Java is a popular programming language\n"
     ]
    }
   ],
   "source": [
    "'''    20.Create a string variable named my_string and assign it the value \"Python is a popular programming language\".\n",
    "\n",
    "    a. Use the title method to capitalize the first letter of each word in\n",
    "    my_string and print the resulting string.\n",
    "    b. Use the split method to split my_string into a list of words and print\n",
    "    the result.\n",
    "    c. Use the replace method to replace the word \"Python\" with \"Java\" in\n",
    "    my_string and print the resulting string.\n",
    "'''\n",
    "my_string = \"Python is a popular programming language\"\n",
    "\n",
    "print(my_string.title())\n",
    "print(my_string.split())\n",
    "print(my_string.replace(\"Python\",\"Java\"))"
   ]
  },
  {
   "cell_type": "code",
   "execution_count": 21,
   "metadata": {},
   "outputs": [
    {
     "name": "stdout",
     "output_type": "stream",
     "text": [
      "hello,world!\n",
      "HELLO,WORLD!\n",
      "World\n"
     ]
    }
   ],
   "source": [
    "'''    21.Create a string variable named my_string and assign it the value \"Hello,World!\".\n",
    "\n",
    "    a. Use the lower method to convert my_string to lowercase and print the\n",
    "    resulting string.\n",
    "    b. Use the upper method to convert my_string to uppercase and print the\n",
    "    resulting string.\n",
    "    c. Use slicing to print the string \"World\" from my_string.\n",
    "'''\n",
    "\n",
    "my_string = \"Hello,World!\"\n",
    "print(my_string.lower())\n",
    "print(my_string.upper())\n",
    "print(my_string[-6:-1])"
   ]
  },
  {
   "cell_type": "code",
   "execution_count": 22,
   "metadata": {},
   "outputs": [
    {
     "name": "stdout",
     "output_type": "stream",
     "text": [
      "race\n",
      "cec\n",
      "This string is palindrome\n",
      "None\n"
     ]
    }
   ],
   "source": [
    "'''    22.Create a string variable named my_string and assign it the value \"racecar\".\n",
    "    a. Use slicing to print the string \"race\" from my_string.\n",
    "    b. Use slicing to print the string \"cec\" from my_string in reverse order.\n",
    "    c. Check if my_string is a palindrome (i.e., reads the same forwards and\n",
    "    backwards) and print the result.\n",
    "'''\n",
    "\n",
    "my_string = \"racecar\"\n",
    "print(my_string[:4])\n",
    "print(my_string[-3:1:-1])\n",
    "\n",
    "def palindrome():\n",
    "    if my_string == my_string[::-1]:\n",
    "        print(\"This string is palindrome\")\n",
    "    else:\n",
    "        print(\"This string is not palindrome\")\n",
    "\n",
    "print(palindrome())"
   ]
  }
 ],
 "metadata": {
  "kernelspec": {
   "display_name": "Python 3",
   "language": "python",
   "name": "python3"
  },
  "language_info": {
   "codemirror_mode": {
    "name": "ipython",
    "version": 3
   },
   "file_extension": ".py",
   "mimetype": "text/x-python",
   "name": "python",
   "nbconvert_exporter": "python",
   "pygments_lexer": "ipython3",
   "version": "3.11.9"
  }
 },
 "nbformat": 4,
 "nbformat_minor": 2
}
