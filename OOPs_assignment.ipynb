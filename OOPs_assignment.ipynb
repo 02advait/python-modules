{
  "nbformat": 4,
  "nbformat_minor": 0,
  "metadata": {
    "colab": {
      "provenance": []
    },
    "kernelspec": {
      "name": "python3",
      "display_name": "Python 3"
    },
    "language_info": {
      "name": "python"
    }
  },
  "cells": [
    {
      "cell_type": "code",
      "execution_count": null,
      "metadata": {
        "colab": {
          "base_uri": "https://localhost:8080/"
        },
        "id": "Qqz9CAdl-HTu",
        "outputId": "5b4eac37-8167-4063-9c64-4a70d52258db"
      },
      "outputs": [
        {
          "output_type": "stream",
          "name": "stdout",
          "text": [
            "Enter name - > ADvait\n",
            "roll no assigned {1}\n",
            "u have been assigned roll no 1, hello ADvait\n"
          ]
        }
      ],
      "source": [
        "\n",
        "'''\n",
        "1.Create a class named 'Student' with a string variable 'name' and an\n",
        "integer variable 'roll_no'. Assign the value of roll_no as '2' and that of name\n",
        "as \"John\" by creating an object of the class Student.\n",
        "'''\n",
        "class Student:\n",
        "  rollno = 0\n",
        "  def __init__(self,name):\n",
        "    Student.rollno += 1\n",
        "    self.__name = name\n",
        "    self.__rollno = Student.rollno\n",
        "    print(\"roll no assigned\",{self.rollno})\n",
        "  def __str__(self):\n",
        "    return f'u have been assigned roll no {self.__rollno}, hello {self.__name}'\n",
        "\n",
        "n = input(\"Enter name - > \")\n",
        "\n",
        "a=Student(n)\n",
        "print(a)"
      ]
    },
    {
      "cell_type": "code",
      "source": [
        "'''\n",
        "2.\n",
        "Assign and print the roll\n",
        "number, phone number and address of two students having names \"Sam\"\n",
        "and \"John\" respectively by creating two objects of the class\n",
        "'Student'.\n",
        "'''\n",
        "\n",
        "class Student:\n",
        "  rollno = 0\n",
        "  def __init__(self,name,phone_no,addresss):\n",
        "    Student.rollno += 1\n",
        "    self.__phone_no = phone_no\n",
        "    self.__addresss =addresss\n",
        "    self.__name = name\n",
        "    self.__rollno = Student.rollno\n",
        "    print(\"roll no assigned\",{self.__rollno})\n",
        "  def __str__(self):\n",
        "    return f'u have been assigned roll no {self.__rollno}, hello {self.__name}'\n"
      ],
      "metadata": {
        "id": "Emxk56kZBAo4"
      },
      "execution_count": null,
      "outputs": []
    },
    {
      "cell_type": "code",
      "source": [
        "def call_Student():\n",
        "  n = input(\"Enter name - > \")\n",
        "  p = int(input(\"Enter phone no - > \"))\n",
        "  addr = input(\"Enter Address - > \")\n",
        "  return n,p,addr"
      ],
      "metadata": {
        "id": "f52hhLLY5-7n"
      },
      "execution_count": null,
      "outputs": []
    },
    {
      "cell_type": "code",
      "source": [
        "a=Student( * call_Student())\n",
        "print(a)"
      ],
      "metadata": {
        "colab": {
          "base_uri": "https://localhost:8080/"
        },
        "id": "MGpzmMwQ7Qe9",
        "outputId": "23096d5d-3992-4f53-d092-085d36b9a845"
      },
      "execution_count": null,
      "outputs": [
        {
          "output_type": "stream",
          "name": "stdout",
          "text": [
            "Enter name - > Sam\n",
            "Enter phone no638438\n",
            "Enter Addresskrvbkd\n",
            "roll no assigned {1}\n",
            "u have been assigned roll no 1, hello Sam\n"
          ]
        }
      ]
    },
    {
      "cell_type": "code",
      "source": [
        "a=Student( * call_Student())\n",
        "print(a)"
      ],
      "metadata": {
        "colab": {
          "base_uri": "https://localhost:8080/"
        },
        "id": "nC06O4207puL",
        "outputId": "5530cdcb-dfb3-4609-e952-541a9d79d293"
      },
      "execution_count": null,
      "outputs": [
        {
          "output_type": "stream",
          "name": "stdout",
          "text": [
            "Enter name - > jhon\n",
            "Enter phone no5494\n",
            "Enter Addressdxfvd\n",
            "roll no assigned {2}\n",
            "u have been assigned roll no 2, hello jhon\n"
          ]
        }
      ]
    },
    {
      "cell_type": "code",
      "source": [
        "'''\n",
        "3.Write a program to print the\n",
        "area and perimeter of a triangle having sides of 3, 4 and 5 units by creating a\n",
        "class named 'Triangle' with a function to print the area and perimeter.\n",
        "'''\n",
        "\n",
        "class Triangle:\n",
        "  def __init__(self,d,e,f):\n",
        "    self.a = d\n",
        "    self.b = e\n",
        "    self.c = f\n",
        "    print('sidesc addeded')\n",
        "  def perimeter(self):\n",
        "    return 'Perimeter is' ,(self.a + self.b + self.c)\n",
        "  def area(self):\n",
        "    self.s = (self.a + self.b + self.c) / 2\n",
        "    self.area1 = (self.s * ( self.s - self.a )*( self.s - self.b )*( self.s - self.c ))**0.5\n",
        "    return self.area1"
      ],
      "metadata": {
        "id": "MRNIeTmd9aSE"
      },
      "execution_count": null,
      "outputs": []
    },
    {
      "cell_type": "code",
      "source": [
        "a=Triangle(3,4,5)"
      ],
      "metadata": {
        "colab": {
          "base_uri": "https://localhost:8080/"
        },
        "id": "aQ3UXhL6Zrl5",
        "outputId": "af918240-671d-4dcb-df86-6621ec08dd38"
      },
      "execution_count": null,
      "outputs": [
        {
          "output_type": "stream",
          "name": "stdout",
          "text": [
            "sidesc addeded\n"
          ]
        }
      ]
    },
    {
      "cell_type": "code",
      "source": [
        "a.perimeter()"
      ],
      "metadata": {
        "colab": {
          "base_uri": "https://localhost:8080/"
        },
        "id": "vjA_f6bgaLGp",
        "outputId": "7c4ad269-7bb6-4317-febf-c89fcf9c4fe7"
      },
      "execution_count": null,
      "outputs": [
        {
          "output_type": "execute_result",
          "data": {
            "text/plain": [
              "('Perimeter is', 12)"
            ]
          },
          "metadata": {},
          "execution_count": 57
        }
      ]
    },
    {
      "cell_type": "code",
      "source": [
        "a.area()"
      ],
      "metadata": {
        "colab": {
          "base_uri": "https://localhost:8080/"
        },
        "id": "b993vy6La4Sh",
        "outputId": "bc4b2f33-e83f-4c47-dc69-230ecb5728dc"
      },
      "execution_count": null,
      "outputs": [
        {
          "output_type": "execute_result",
          "data": {
            "text/plain": [
              "6.0"
            ]
          },
          "metadata": {},
          "execution_count": 58
        }
      ]
    },
    {
      "cell_type": "code",
      "source": [
        "'''\n",
        "4.Write a program to print the\n",
        "area and perimeter of a triangle having sides of 3, 4 and 5 units by creating a\n",
        "class named 'Triangle' with the constructor having the three sides as its\n",
        "parameters.\n",
        "'''\n",
        "class Triangle:\n",
        "  def __init__(self,d,e,f):\n",
        "    self.a = d\n",
        "    self.b = e\n",
        "    self.c = f\n",
        "    print('sidesc addeded')\n",
        "  def perimeter(self):\n",
        "    return 'Perimeter is' ,(self.a + self.b + self.c)\n",
        "  def area(self):\n",
        "    self.s = (self.a + self.b + self.c) / 2\n",
        "    self.area1 = (self.s * ( self.s - self.a )*( self.s - self.b )*( self.s - self.c ))**0.5\n",
        "    return self.area1\n",
        "\n",
        "a=Triangle(3,4,5)\n",
        "print(a.perimeter())\n",
        "a.area()"
      ],
      "metadata": {
        "id": "yFZQulY3Tlt3",
        "colab": {
          "base_uri": "https://localhost:8080/"
        },
        "outputId": "0cd22c10-1e61-413e-e2eb-3c70fb5fa145"
      },
      "execution_count": null,
      "outputs": [
        {
          "output_type": "stream",
          "name": "stdout",
          "text": [
            "sidesc addeded\n",
            "('Perimeter is', 12)\n"
          ]
        },
        {
          "output_type": "execute_result",
          "data": {
            "text/plain": [
              "6.0"
            ]
          },
          "metadata": {},
          "execution_count": 60
        }
      ]
    },
    {
      "cell_type": "code",
      "source": [
        "'''\n",
        "5.Write a program to print the\n",
        "area of two rectangles having sides (4,5) and (5,8) respectively by creating a\n",
        "class named 'Rectangle' with a function named 'Area' which returns the area.\n",
        "Length and breadth are passed as parameters to its constructor.\n",
        "'''\n",
        "class Rectangle:\n",
        "  def __init__(self,l,b):\n",
        "    self.length = l\n",
        "    self.breath = b\n",
        "    print(\"Initialized length and breath\")\n",
        "  def Area(self):\n",
        "    return self.length * self.breath\n"
      ],
      "metadata": {
        "id": "EfVYoNFVbhXJ"
      },
      "execution_count": null,
      "outputs": []
    },
    {
      "cell_type": "code",
      "source": [
        "rect_area=Rectangle(4,5)\n",
        "rect_area.Area()"
      ],
      "metadata": {
        "colab": {
          "base_uri": "https://localhost:8080/"
        },
        "id": "Ah3nTrvQeJer",
        "outputId": "7272a057-bbf0-4f20-995d-84d6a7b00272"
      },
      "execution_count": null,
      "outputs": [
        {
          "output_type": "stream",
          "name": "stdout",
          "text": [
            "Initialized length and breath\n"
          ]
        },
        {
          "output_type": "execute_result",
          "data": {
            "text/plain": [
              "20"
            ]
          },
          "metadata": {},
          "execution_count": 71
        }
      ]
    },
    {
      "cell_type": "code",
      "source": [
        "rect_area=Rectangle(5,8)\n",
        "rect_area.Area()"
      ],
      "metadata": {
        "colab": {
          "base_uri": "https://localhost:8080/"
        },
        "id": "lo-vQ7c4eJXn",
        "outputId": "3a23f748-222e-4aeb-b8d4-8e9363bbfaef"
      },
      "execution_count": null,
      "outputs": [
        {
          "output_type": "stream",
          "name": "stdout",
          "text": [
            "Initialized length and breath\n"
          ]
        },
        {
          "output_type": "execute_result",
          "data": {
            "text/plain": [
              "40"
            ]
          },
          "metadata": {},
          "execution_count": 72
        }
      ]
    },
    {
      "cell_type": "code",
      "source": [
        "'''\n",
        "6.Write a program to print the\n",
        "area of a rectangle by creating a class named 'Area' having two functions.\n",
        "First function named as 'setDim' takes the length and breadth of the rectangle\n",
        "as parameters and the second function named as 'getArea' returns the area of\n",
        "the rectangle. Length and breadth of the rectangle are entered through\n",
        "keyboard.\n",
        "'''\n",
        "class Rectangle2:\n",
        "  def setDim(self,l,b):\n",
        "    self.length = l\n",
        "    self.breath = b\n",
        "    print(\"Initialized length and breath\")\n",
        "  def getArea(self):\n",
        "    return self.length * self.breath\n"
      ],
      "metadata": {
        "id": "GE137YDYdO77"
      },
      "execution_count": null,
      "outputs": []
    },
    {
      "cell_type": "code",
      "source": [
        "rect_area1=Rectangle2()\n"
      ],
      "metadata": {
        "id": "zlMReMrOkAoo"
      },
      "execution_count": null,
      "outputs": []
    },
    {
      "cell_type": "code",
      "source": [
        "rect_area1.setDim(4,5)"
      ],
      "metadata": {
        "colab": {
          "base_uri": "https://localhost:8080/"
        },
        "id": "NbfkVOJXkZoW",
        "outputId": "1e726df3-7ac9-408c-959b-7e4f6e576946"
      },
      "execution_count": null,
      "outputs": [
        {
          "output_type": "stream",
          "name": "stdout",
          "text": [
            "Initialized length and breath\n"
          ]
        }
      ]
    },
    {
      "cell_type": "code",
      "source": [
        "rect_area1.getArea()"
      ],
      "metadata": {
        "colab": {
          "base_uri": "https://localhost:8080/"
        },
        "id": "Z9tTDNslkker",
        "outputId": "0007454a-6089-4eec-edda-ade5342f4f49"
      },
      "execution_count": null,
      "outputs": [
        {
          "output_type": "execute_result",
          "data": {
            "text/plain": [
              "20"
            ]
          },
          "metadata": {},
          "execution_count": 85
        }
      ]
    },
    {
      "cell_type": "code",
      "source": [
        "'''\n",
        "\n",
        "7.Write a program to print the\n",
        "area of a rectangle by creating a class named 'Area' taking the values of its\n",
        "length and breadth as parameters of its constructor and having a function named\n",
        "'returnArea' which returns the area of the rectangle. Length and breadth of the\n",
        "rectangle are entered through keyboard.\n",
        "'''\n",
        "\n",
        "class Area1:\n",
        "  def setDim(self,l,b):\n",
        "    self.length = l\n",
        "    self.breath = b\n",
        "    print(\"Initialized length and breath\")\n",
        "  def returnArea(self):\n",
        "    return self.length * self.breath\n"
      ],
      "metadata": {
        "id": "DBu6Id7_dO3i"
      },
      "execution_count": null,
      "outputs": []
    },
    {
      "cell_type": "code",
      "source": [
        "rect_area2=Area1()"
      ],
      "metadata": {
        "id": "Uo4uNNDPsMh7"
      },
      "execution_count": null,
      "outputs": []
    },
    {
      "cell_type": "code",
      "source": [
        "rect_area2.setDim(40,125)"
      ],
      "metadata": {
        "colab": {
          "base_uri": "https://localhost:8080/"
        },
        "id": "rlK767LasX6n",
        "outputId": "c3f8219b-ba29-4784-c6b2-6be180af4bdb"
      },
      "execution_count": null,
      "outputs": [
        {
          "output_type": "stream",
          "name": "stdout",
          "text": [
            "Initialized length and breath\n"
          ]
        }
      ]
    },
    {
      "cell_type": "code",
      "source": [
        "rect_area2.returnArea()"
      ],
      "metadata": {
        "colab": {
          "base_uri": "https://localhost:8080/"
        },
        "id": "Q9KHH66HsXvY",
        "outputId": "bcb6d18f-113c-463b-c8ec-e04057499f54"
      },
      "execution_count": null,
      "outputs": [
        {
          "output_type": "execute_result",
          "data": {
            "text/plain": [
              "5000"
            ]
          },
          "metadata": {},
          "execution_count": 93
        }
      ]
    },
    {
      "cell_type": "code",
      "source": [
        "'''\n",
        "8.Print the average of three\n",
        "numbers entered by the user by creating a class named 'Average' having a\n",
        "function to calculate and print the average without creating any object of the\n",
        "Average class.\n",
        "'''\n",
        "\n",
        "class Avarage:\n",
        "  def avg():\n",
        "    a = int(input('Enter first no'))\n",
        "    b = int(input('Enter second no'))\n",
        "    c = int(input('Enter third no'))\n",
        "    return (a+b+c) / 3\n",
        "Avarage.avg()"
      ],
      "metadata": {
        "colab": {
          "base_uri": "https://localhost:8080/"
        },
        "id": "NVTdtt8ldOzC",
        "outputId": "5c74c74a-8bd8-412b-d235-ade166798112"
      },
      "execution_count": null,
      "outputs": [
        {
          "name": "stdout",
          "output_type": "stream",
          "text": [
            "Enter first no10\n",
            "Enter second no20\n",
            "Enter third no80\n"
          ]
        },
        {
          "output_type": "execute_result",
          "data": {
            "text/plain": [
              "36.666666666666664"
            ]
          },
          "metadata": {},
          "execution_count": 100
        }
      ]
    },
    {
      "cell_type": "code",
      "source": [
        "'''\n",
        "9.Print the sum, difference\n",
        "and product of two complex numbers by creating a class named 'Complex' with\n",
        "separate functions for each operation whose real and imaginary parts are\n",
        "entered by the user.\n",
        "'''\n",
        "\n",
        "\n"
      ],
      "metadata": {
        "id": "71BywxAqdOvp"
      },
      "execution_count": null,
      "outputs": []
    },
    {
      "cell_type": "code",
      "source": [
        "'''\n",
        "10.Write a program to print the\n",
        "volume of a box by creating a class named 'Volume' with an initialization list\n",
        "to initialize its length, breadth and height. (just to make you familiar with\n",
        "initialization lists)\n",
        "'''\n",
        "\n",
        "class Volume:\n",
        "  def __init__(self,length,breadth,height):\n",
        "    self.length  = length\n",
        "    self.breadth = breadth\n",
        "    self.height  = height\n",
        "  def __str__(self):\n",
        "    return f'Area = {self.length * self.breadth * self.height}'\n"
      ],
      "metadata": {
        "id": "Wz-dnv7udT9v"
      },
      "execution_count": null,
      "outputs": []
    },
    {
      "cell_type": "code",
      "source": [
        "g = 15\n",
        "h = 22\n",
        "i = 41"
      ],
      "metadata": {
        "id": "Qm0kC0S9_yL3"
      },
      "execution_count": null,
      "outputs": []
    },
    {
      "cell_type": "code",
      "source": [
        "q=Volume(g,h,i)\n",
        "print(q)"
      ],
      "metadata": {
        "colab": {
          "base_uri": "https://localhost:8080/"
        },
        "id": "Ft7_s9I5_c2z",
        "outputId": "c35d333e-e71d-4acc-cfff-b72bca9f2dbc"
      },
      "execution_count": null,
      "outputs": [
        {
          "output_type": "stream",
          "name": "stdout",
          "text": [
            "Area = 13530\n"
          ]
        }
      ]
    },
    {
      "cell_type": "code",
      "source": [
        "\"\"\"\n",
        "11.\n",
        "Write a program that would\n",
        "print the information (name, year of joining, salary, address) of three\n",
        "employees by creating a class named 'Employee'. The output should be as\n",
        "follows:\n",
        "\n",
        "Name        Year of\n",
        "joining        Address\n",
        "\n",
        "Robert        1994        64C-\n",
        "WallsStreat\n",
        "\n",
        "Sam        2000        68D-\n",
        "WallsStreat\n",
        "\n",
        "John        1999        26B-\n",
        "WallsStreat\n",
        "\"\"\"\n",
        "\n",
        "class Employee:\n",
        "  def __init__(self,name,year_of_joining,address):\n",
        "    self.name        = name\n",
        "    self.year        = year_of_joining\n",
        "    self.address     = address\n",
        "\n",
        "  def __str__(self):\n",
        "    return f'{self.name}\\t\\t{self.year}\\t\\t{self.address}'\n"
      ],
      "metadata": {
        "id": "12H0cMkt_Z3S"
      },
      "execution_count": null,
      "outputs": []
    },
    {
      "cell_type": "code",
      "source": [
        "asd=Employee('Robert','1994','64C-WallsStreat')"
      ],
      "metadata": {
        "id": "UNHNt5IKC7Ao"
      },
      "execution_count": null,
      "outputs": []
    },
    {
      "cell_type": "code",
      "source": [
        "print(asd1)"
      ],
      "metadata": {
        "colab": {
          "base_uri": "https://localhost:8080/"
        },
        "id": "vsPDiagQF8WP",
        "outputId": "710262f2-4ea6-45d4-9935-2fa16138eba7"
      },
      "execution_count": null,
      "outputs": [
        {
          "output_type": "stream",
          "name": "stdout",
          "text": [
            "\t\tRobert\t\t1994\t\t64C-WallsStreat\n"
          ]
        }
      ]
    },
    {
      "cell_type": "code",
      "source": [
        "asd2=Employee('Sam','2000','68D-WallsStreat')"
      ],
      "metadata": {
        "id": "dClZIGHBGfGn"
      },
      "execution_count": null,
      "outputs": []
    },
    {
      "cell_type": "code",
      "source": [
        "asd3=Employee('John','1999','26B-WallsStreat')"
      ],
      "metadata": {
        "id": "qOfzorVeGgBV"
      },
      "execution_count": null,
      "outputs": []
    },
    {
      "cell_type": "code",
      "source": [
        "print(asd1)\n",
        "print(asd2)\n",
        "print(asd3)"
      ],
      "metadata": {
        "colab": {
          "base_uri": "https://localhost:8080/"
        },
        "id": "QolzHSBkEU-I",
        "outputId": "397f5c1b-cb1d-4198-b3c0-2dee8fa4f81a"
      },
      "execution_count": null,
      "outputs": [
        {
          "output_type": "stream",
          "name": "stdout",
          "text": [
            "\t\tRobert\t\t1994\t\t64C-WallsStreat\n",
            "Sam\t\t2000\t\t68D-WallsStreat\n",
            "John\t\t1999\t\t26B-WallsStreat\n"
          ]
        }
      ]
    },
    {
      "cell_type": "code",
      "source": [
        "'''\n",
        "12. Add two distances in inch-feet by creating a class named 'AddDistance'.\n",
        "'''\n",
        "class AddDistance:\n",
        "    def __init__(self, feet, inches):\n",
        "        self.feet = feet\n",
        "        self.inches = inches\n",
        "\n",
        "    def __add__(self, other):\n",
        "        total_feet = self.feet + other.feet\n",
        "        total_inches = self.inches + other.inches\n",
        "\n",
        "        # Convert inches to feet if >= 12\n",
        "        if total_inches >= 12:\n",
        "            total_feet += total_inches // 12\n",
        "            total_inches = total_inches % 12\n",
        "\n",
        "        return AddDistance(total_feet, total_inches)\n",
        "\n",
        "    def __str__(self):\n",
        "        return f\"{self.feet} feet {self.inches} inches\"\n"
      ],
      "metadata": {
        "id": "C0bB19ynEggi"
      },
      "execution_count": 1,
      "outputs": []
    },
    {
      "cell_type": "code",
      "source": [
        "d1 = AddDistance(5, 20)\n",
        "d2 = AddDistance(3, 10)"
      ],
      "metadata": {
        "id": "xBZMwXTlPyKP"
      },
      "execution_count": 5,
      "outputs": []
    },
    {
      "cell_type": "code",
      "source": [
        "d3 = d1 + d2"
      ],
      "metadata": {
        "id": "r6bLGYDDA9S6"
      },
      "execution_count": 6,
      "outputs": []
    },
    {
      "cell_type": "code",
      "source": [
        "print(\"Distance 1:\", d1)\n",
        "print(\"Distance 2:\", d2)\n",
        "print(\"Total Distance:\", d3)"
      ],
      "metadata": {
        "colab": {
          "base_uri": "https://localhost:8080/"
        },
        "id": "7L9SipQAA9Pm",
        "outputId": "231ff6c0-d86d-4232-e028-0295772ca5c0"
      },
      "execution_count": 7,
      "outputs": [
        {
          "output_type": "stream",
          "name": "stdout",
          "text": [
            "Distance 1: 5 feet 20 inches\n",
            "Distance 2: 3 feet 10 inches\n",
            "Total Distance: 10 feet 6 inches\n"
          ]
        }
      ]
    },
    {
      "cell_type": "code",
      "source": [],
      "metadata": {
        "id": "pmHfo2DDA9M7"
      },
      "execution_count": null,
      "outputs": []
    }
  ]
}