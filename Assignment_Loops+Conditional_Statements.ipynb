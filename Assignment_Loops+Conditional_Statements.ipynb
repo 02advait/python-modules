{
  "cells": [
    {
      "cell_type": "code",
      "execution_count": 4,
      "metadata": {
        "colab": {
          "base_uri": "https://localhost:8080/"
        },
        "id": "JrnBdZeTKUo7",
        "outputId": "357f298e-052c-4bcc-ac5d-b2586c6f92b0"
      },
      "outputs": [
        {
          "name": "stdout",
          "output_type": "stream",
          "text": [
            "enter no14\n",
            "this no is greater than 10\n"
          ]
        }
      ],
      "source": [
        "# 1.  Check number is less than 10\n",
        "\n",
        "no = int(input('enter no  '))\n",
        "\n",
        "if no > 10:\n",
        "  print(\"this no is greater than 10\")\n",
        "else:\n",
        "  print(\"this no is lesser than 10\")"
      ]
    },
    {
      "cell_type": "code",
      "execution_count": 10,
      "metadata": {
        "colab": {
          "base_uri": "https://localhost:8080/"
        },
        "id": "PZDh4VaPLJSS",
        "outputId": "28b7ab2c-c4a0-4a8e-d283-411d37630232"
      },
      "outputs": [
        {
          "name": "stdout",
          "output_type": "stream",
          "text": [
            "first no4\n",
            "second  no4\n",
            "nos are equivalent\n"
          ]
        }
      ],
      "source": [
        "# 2.  Check numbers are equivalent\n",
        "\n",
        "a = int(input('first no'))\n",
        "b = int(input('second  no'))\n",
        "if a == b:\n",
        "  print('nos are equivalent')\n",
        "else:\n",
        "  print('nos are not equivalent')\n"
      ]
    },
    {
      "cell_type": "code",
      "execution_count": 12,
      "metadata": {
        "colab": {
          "base_uri": "https://localhost:8080/"
        },
        "id": "liC4JRjtN0jl",
        "outputId": "dc63b7bb-afd1-4134-a619-643f8fac6798"
      },
      "outputs": [
        {
          "name": "stdout",
          "output_type": "stream",
          "text": [
            "enter age25\n",
            "elegible for voting\n"
          ]
        }
      ],
      "source": [
        "# 3.  Checvoting eligibility voting eligibility\n",
        "\n",
        "age = int(input('enter age'))\n",
        "if age >= 18:\n",
        "  print('elegible for voting')\n",
        "else:\n",
        "  print('not elegible for voting')"
      ]
    },
    {
      "cell_type": "code",
      "execution_count": 13,
      "metadata": {
        "colab": {
          "base_uri": "https://localhost:8080/"
        },
        "id": "jf3ud3e6N5tf",
        "outputId": "4f37e36a-0b77-4c24-9ee6-1d08268e9803"
      },
      "outputs": [
        {
          "name": "stdout",
          "output_type": "stream",
          "text": [
            "enter no15\n",
            "it's odd\n"
          ]
        }
      ],
      "source": [
        "# 4.  Check if number is even or odd\n",
        "no = int(input('enter no'))\n",
        "\n",
        "if no % 2 == 0:\n",
        "  print(\"it's even\")\n",
        "else:\n",
        "    print(\"it's odd\")\n"
      ]
    },
    {
      "cell_type": "code",
      "execution_count": 1,
      "metadata": {
        "colab": {
          "base_uri": "https://localhost:8080/"
        },
        "id": "YRK4eHVMN81t",
        "outputId": "b063e74e-5a27-48a8-b6f0-aba593894fae"
      },
      "outputs": [
        {
          "name": "stdout",
          "output_type": "stream",
          "text": [
            "its a triangle\n"
          ]
        }
      ],
      "source": [
        "# 5.  Enter three angles & check if it is a triangle\n",
        "a1 = float(input('enter first angle '))\n",
        "a2 = float(input('enter second angle '))\n",
        "a3 = float(input('enter third angle '))\n",
        "\n",
        "if a1 + a2 + a3 ==180:\n",
        "  print('its a triangle')\n",
        "else:\n",
        "  print('not triangle')\n",
        "\n",
        "\n"
      ]
    },
    {
      "cell_type": "code",
      "execution_count": 3,
      "metadata": {
        "id": "2t570z4NN8yx"
      },
      "outputs": [
        {
          "name": "stdout",
          "output_type": "stream",
          "text": [
            "75.0 %\n"
          ]
        }
      ],
      "source": [
        "# 6.   Find total marks & percentage\n",
        "marks = float(input('enter marks'))\n",
        "max_marks = int(input('enter total obtainable marks'))\n",
        "\n",
        "percentage = (marks/max_marks) * 100\n",
        "print(percentage,\"%\")\n"
      ]
    },
    {
      "cell_type": "code",
      "execution_count": 4,
      "metadata": {
        "id": "tovdNt-_N8tg"
      },
      "outputs": [
        {
          "name": "stdout",
          "output_type": "stream",
          "text": [
            "3\n"
          ]
        }
      ],
      "source": [
        "# 7.  Largest amongst three numbers\n",
        "a = int(input('enter no'))\n",
        "b = int(input('enter no'))\n",
        "c = int(input('enter no'))\n",
        "\n",
        "if a>b>c:\n",
        "  print(a)\n",
        "elif b>a>c:\n",
        "  print(b)\n",
        "else:\n",
        "  print(c)"
      ]
    },
    {
      "cell_type": "code",
      "execution_count": 5,
      "metadata": {
        "id": "I_LvhTsZN8rI"
      },
      "outputs": [
        {
          "name": "stdout",
          "output_type": "stream",
          "text": [
            "6\n"
          ]
        }
      ],
      "source": [
        "# 8.  Find greatest among 3 numbers\n",
        "a = int(input('enter no'))\n",
        "b = int(input('enter no'))\n",
        "c = int(input('enter no'))\n",
        "\n",
        "if a>b>c:\n",
        "  print(a)\n",
        "elif b>a>c:\n",
        "  print(b)\n",
        "else:\n",
        "  print(c)"
      ]
    },
    {
      "cell_type": "code",
      "execution_count": 6,
      "metadata": {
        "id": "bHrq7RDvN8ov"
      },
      "outputs": [
        {
          "name": "stdout",
          "output_type": "stream",
          "text": [
            "u scoredscored distinction\n"
          ]
        }
      ],
      "source": [
        "# 9.  Check if student scored distinction\n",
        "marks = float(input('enter marks'))\n",
        "max_marks = int(input('enter total obtainable marks'))\n",
        "\n",
        "percentage = (marks/max_marks) * 100\n",
        "if percentage > 85:\n",
        "  print('u scoredscored distinction')\n",
        "else:\n",
        "    print('u did not scored distinction')\n"
      ]
    },
    {
      "cell_type": "code",
      "execution_count": null,
      "metadata": {
        "id": "hFOXGyPLN8kY"
      },
      "outputs": [],
      "source": [
        "# 10. Check type of triangle"
      ]
    },
    {
      "cell_type": "code",
      "execution_count": 8,
      "metadata": {
        "id": "mGTk8eZgN8iL"
      },
      "outputs": [
        {
          "name": "stdout",
          "output_type": "stream",
          "text": [
            "no sum of digits is not greater than 10\n"
          ]
        }
      ],
      "source": [
        "# 11.Check sum of digit greater than 10\n",
        "a = int(input('enter no'))\n",
        "b = int(input('enter no'))\n",
        "c = int(input('enter no'))\n",
        "\n",
        "if a+b+c > 10:\n",
        "  print('yes sum of digits is greater than 10')\n",
        "else:\n",
        "    print('no sum of digits is not greater than 10')\n"
      ]
    },
    {
      "cell_type": "code",
      "execution_count": null,
      "metadata": {
        "id": "GbvsOgKNN8fi"
      },
      "outputs": [],
      "source": [
        "# 12. Print single digit number in words"
      ]
    },
    {
      "cell_type": "code",
      "execution_count": null,
      "metadata": {
        "id": "Ln0aaja0N8dL"
      },
      "outputs": [],
      "source": [
        "# 13. Print numbers in words Example: 123\n",
        "# One Two Three"
      ]
    },
    {
      "cell_type": "code",
      "execution_count": null,
      "metadata": {
        "id": "GsIbz7rhN8a3"
      },
      "outputs": [
        {
          "name": "stdout",
          "output_type": "stream",
          "text": [
            "10,9,8,7,6,5,4,3,2,1,"
          ]
        }
      ],
      "source": [
        "# 14. Print 10 to 1 numbers\n",
        "\n",
        "for i in range(10,0,-1):\n",
        "  print(i,end=\",\")\n"
      ]
    },
    {
      "cell_type": "code",
      "execution_count": null,
      "metadata": {
        "id": "ut_808NeN8Ye"
      },
      "outputs": [],
      "source": [
        "# 15. Sum of first n even numbers\n",
        "n = int(input(\"Enter number:\"))\n",
        "sum = 0\n",
        "for i in range(0, n + 1):\n",
        "    sum += 2 * i \n",
        "    print(total)"
      ]
    },
    {
      "cell_type": "code",
      "execution_count": 11,
      "metadata": {
        "id": "pvO1GYkAN8WH"
      },
      "outputs": [
        {
          "name": "stdout",
          "output_type": "stream",
          "text": [
            "120\n"
          ]
        }
      ],
      "source": [
        "# 16. Print factorial of a number\n",
        "no = int(input(\"Enter number:\"))\n",
        "fact = 1\n",
        "for no in range(1,no):\n",
        "    fact = fact*(no+1)\n",
        "print(fact)"
      ]
    },
    {
      "cell_type": "code",
      "execution_count": null,
      "metadata": {
        "id": "T71yBqRMN8TK"
      },
      "outputs": [],
      "source": [
        "# 17. Number perfectly dividing given number\n",
        "\n",
        "num,den = map(int,input(\"Enter numerator and denominator:\").split(\":\"))\n",
        "\n",
        "if num%den == 0:\n",
        "    print(num, \"is perfectly divisble by\", den)\n",
        "else:\n",
        "    print(num,\"is not divisble by\", den)"
      ]
    },
    {
      "cell_type": "code",
      "execution_count": 13,
      "metadata": {
        "id": "PnB5X9SKN8QX"
      },
      "outputs": [
        {
          "name": "stdout",
          "output_type": "stream",
          "text": [
            "1.0 2\n",
            "1.4142135623730951 2\n",
            "1.7320508075688772 2\n",
            "2.0 2\n",
            "2.23606797749979 2\n",
            "2.449489742783178 2\n",
            "2.6457513110645907 2\n",
            "2.8284271247461903 2\n",
            "3.0 2\n"
          ]
        }
      ],
      "source": [
        "# 18. Square roots of 1 to 9 numbers\n",
        "import math\n",
        "\n",
        "for num in range(1, 10):\n",
        "    sqrt_value = math.sqrt(num)\n",
        "    print(sqrt_value, 2)\n"
      ]
    },
    {
      "cell_type": "code",
      "execution_count": 14,
      "metadata": {
        "id": "zmlDCslmOXiG"
      },
      "outputs": [
        {
          "name": "stdout",
          "output_type": "stream",
          "text": [
            "1\n",
            "7\n",
            "11\n",
            "13\n",
            "17\n",
            "19\n",
            "23\n",
            "29\n",
            "31\n",
            "37\n",
            "41\n",
            "43\n",
            "47\n",
            "49\n"
          ]
        }
      ],
      "source": [
        "# 19. Numbers not divisible by 2,3, 5\n",
        "for i in range(0,51):\n",
        "    if i%2!=0 and i%3!=0 and i%5!=0:\n",
        "        print(i)"
      ]
    },
    {
      "cell_type": "code",
      "execution_count": 15,
      "metadata": {
        "id": "gw6ryF3yOXfk"
      },
      "outputs": [
        {
          "name": "stdout",
          "output_type": "stream",
          "text": [
            "1.0\n"
          ]
        }
      ],
      "source": [
        "# 20. Harmonic sequence & its sum\n",
        "\n",
        "n = int(input(\"enter last number:\"))\n",
        "d = int(input(\"enter difference:\"))\n",
        "\n",
        "sum = 0\n",
        "for i in range(1,n+1,d):\n",
        "    sum = sum + 1/i\n",
        "    print(sum)"
      ]
    },
    {
      "cell_type": "code",
      "execution_count": null,
      "metadata": {
        "id": "4YnF0GwsOXdA"
      },
      "outputs": [],
      "source": [
        "# 21. Arithmetic progression & its sum\n",
        "\n",
        "n = int(input(\"enter last number:\"))\n",
        "d = int(input(\"enter difference:\"))\n",
        "sum = 0\n",
        "\n",
        "for i in range(0,n+1,d):\n",
        "    sum = sum + i\n",
        "    print(sum)"
      ]
    },
    {
      "cell_type": "code",
      "execution_count": null,
      "metadata": {
        "id": "ku_y8-JPOXal"
      },
      "outputs": [],
      "source": [
        "# 22. Sum of first & last digit of number\n",
        "\n",
        "no = input(\"Enter number:\")\n",
        "sum = int(no[0])+int(no[len(no)-1])\n",
        "print(\"Sum of first and last digit:\",sum)"
      ]
    },
    {
      "cell_type": "code",
      "execution_count": null,
      "metadata": {
        "id": "8MGLj0vFOXYN"
      },
      "outputs": [],
      "source": [
        "# 23. Sum of all digits of number\n",
        "no = input(\"Enter number:\")\n",
        "\n",
        "sum = 0\n",
        "for digit in no:\n",
        "    sum += int(digit)\n",
        "    print(sum)"
      ]
    },
    {
      "cell_type": "code",
      "execution_count": 16,
      "metadata": {
        "id": "TMEcxhqiOXV4"
      },
      "outputs": [
        {
          "name": "stdout",
          "output_type": "stream",
          "text": [
            "7\n"
          ]
        }
      ],
      "source": [
        "# 24. Calculate sum of Fibonacci series\n",
        "n=5\n",
        "sum=0\n",
        "a=0\n",
        "b=1\n",
        "for I in range(1,n+1):\n",
        "   sum+=a\n",
        "   a,b=b,a+b\n",
        "print(sum)"
      ]
    },
    {
      "cell_type": "code",
      "execution_count": 18,
      "metadata": {
        "id": "zr4HkUgjOXTh"
      },
      "outputs": [
        {
          "name": "stdout",
          "output_type": "stream",
          "text": [
            "HCF is: 25\n"
          ]
        }
      ],
      "source": [
        "# 25. Calculate H.C.F using while loop\n",
        "\n",
        "a = int(input(\"Enter first number: \"))\n",
        "b = int(input(\"Enter second number: \"))\n",
        "\n",
        "while b != 0:\n",
        "    a, b = b, a % b\n",
        "\n",
        "print(\"HCF is:\", a)\n"
      ]
    },
    {
      "cell_type": "code",
      "execution_count": 17,
      "metadata": {
        "id": "nbJPYBfBOXOz"
      },
      "outputs": [
        {
          "name": "stdout",
          "output_type": "stream",
          "text": [
            "0\n",
            "5\n",
            "10\n",
            "15\n",
            "20\n",
            "25\n",
            "30\n",
            "35\n",
            "40\n",
            "45\n"
          ]
        }
      ],
      "source": [
        "# 26. Print series skipping given numbers\n",
        "a = int(input('enter no'))\n",
        "b = int(input('enter no'))\n",
        "\n",
        "for i in range(0,a,b):\n",
        "    print(i)"
      ]
    },
    {
      "cell_type": "code",
      "execution_count": 19,
      "metadata": {
        "id": "cYZA0CB1OXMZ"
      },
      "outputs": [
        {
          "name": "stdout",
          "output_type": "stream",
          "text": [
            "Sum of positive numbers: 137\n",
            "Sum of negative numbers: -158\n"
          ]
        }
      ],
      "source": [
        "# 27. Sum of all +ve & -ve numbers\n",
        "\n",
        "# Take input list of numbers\n",
        "numbers = list(map(int, input(\"Enter numbers separated by space: \").split()))\n",
        "\n",
        "pos_sum = 0\n",
        "neg_sum = 0\n",
        "\n",
        "for num in numbers:\n",
        "    if num > 0:\n",
        "        pos_sum += num\n",
        "    elif num < 0:\n",
        "        neg_sum += num\n",
        "print(\"Sum of positive numbers:\", pos_sum)\n",
        "print(\"Sum of negative numbers:\", neg_sum)\n"
      ]
    },
    {
      "cell_type": "code",
      "execution_count": null,
      "metadata": {},
      "outputs": [],
      "source": []
    }
  ],
  "metadata": {
    "colab": {
      "provenance": []
    },
    "kernelspec": {
      "display_name": "Python 3",
      "name": "python3"
    },
    "language_info": {
      "codemirror_mode": {
        "name": "ipython",
        "version": 3
      },
      "file_extension": ".py",
      "mimetype": "text/x-python",
      "name": "python",
      "nbconvert_exporter": "python",
      "pygments_lexer": "ipython3",
      "version": "3.11.9"
    }
  },
  "nbformat": 4,
  "nbformat_minor": 0
}
