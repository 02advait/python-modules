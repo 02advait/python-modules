{
  "nbformat": 4,
  "nbformat_minor": 0,
  "metadata": {
    "colab": {
      "provenance": []
    },
    "kernelspec": {
      "name": "python3",
      "display_name": "Python 3"
    },
    "language_info": {
      "name": "python"
    }
  },
  "cells": [
    {
      "cell_type": "code",
      "execution_count": null,
      "metadata": {
        "id": "-Mkm0Pr2BJiX"
      },
      "outputs": [],
      "source": [
        "\n",
        "#20 Python Coding Exercises Combining Data Structures\n",
        "\n",
        "#Basic Exercises\n"
      ]
    },
    {
      "cell_type": "code",
      "source": [
        "'''\n",
        "1 Create a list of numbers and find the sum, average, maximum, and minimum values.\n",
        "'''\n",
        "listq = [1,2,3,4,5,6,7,8,9,10]\n",
        "\n",
        "def math(x):\n",
        "  print(\"Sum--\", sum(x))\n",
        "  print(\"Max--\",max(x))\n",
        "  print(\"Min--\",min(x))\n",
        "  avg = sum(x) / len(x)\n",
        "  print(\"Avg--\",avg)\n",
        "\n",
        "print(math(listq))"
      ],
      "metadata": {
        "colab": {
          "base_uri": "https://localhost:8080/"
        },
        "id": "PUW0RZWsEExu",
        "outputId": "70d33aec-7427-4634-ac85-eedbcb24ec11"
      },
      "execution_count": null,
      "outputs": [
        {
          "output_type": "stream",
          "name": "stdout",
          "text": [
            "Sum-- 55\n",
            "Max-- 10\n",
            "Min-- 1\n",
            "Avg-- 5.5\n",
            "None\n"
          ]
        }
      ]
    },
    {
      "cell_type": "code",
      "source": [
        "'''\n",
        "2 Given a list of strings, create a dictionary where the keys are the strings and\n",
        " the values are their lengths.\n",
        "'''\n",
        "str_list = ['Given','a','list','of','strings','create','a','dictionary','where','the','keys','are','the','strings','and','the','values','are','their','lengths']\n",
        "\n",
        "def str_dict(str_list):\n",
        "  new_dict = { i : len(i) for i in str_list}\n",
        "  return new_dict\n",
        "print(str_dict(str_list))\n",
        "\n"
      ],
      "metadata": {
        "colab": {
          "base_uri": "https://localhost:8080/"
        },
        "id": "j6zFdJyIDeBn",
        "outputId": "b41be6dd-e94e-4116-eab2-be8a59c21c9a"
      },
      "execution_count": null,
      "outputs": [
        {
          "output_type": "stream",
          "name": "stdout",
          "text": [
            "{'Given': 5, 'a': 1, 'list': 4, 'of': 2, 'strings': 7, 'create': 6, 'dictionary': 10, 'where': 5, 'the': 3, 'keys': 4, 'are': 3, 'and': 3, 'values': 6, 'their': 5, 'lengths': 7}\n"
          ]
        }
      ]
    },
    {
      "cell_type": "code",
      "source": [
        "'''\n",
        "3 Convert a list of tuples into a dictionary.\n",
        "'''\n",
        "students = [(\"Alice\", 85), (\"Bob\", 90), (\"Charlie\", 80)]\n",
        "def tup_dic(x):\n",
        "  dict6 = {}\n",
        "  for i in x:\n",
        "    key = i[0]\n",
        "    value = i[1]\n",
        "    dict6[ key ] = value\n",
        "  return dict6\n",
        "print(tup_dic(students))"
      ],
      "metadata": {
        "id": "xXL0r67nDd-b",
        "colab": {
          "base_uri": "https://localhost:8080/"
        },
        "outputId": "5eb5f296-3c3e-4083-9b16-e14e53e933e3"
      },
      "execution_count": null,
      "outputs": [
        {
          "output_type": "stream",
          "name": "stdout",
          "text": [
            "{'Alice': 85, 'Bob': 90, 'Charlie': 80}\n"
          ]
        }
      ]
    },
    {
      "cell_type": "code",
      "source": [
        "'''\n",
        "4 Create a dictionary and find the keys and values separately.\n",
        "'''\n",
        "new_dict = {'Given': 5, 'a': 1, 'list': 4, 'of': 2, 'strings': 7, 'create': 6, 'dictionary': 10, 'where': 5, 'the': 3, 'keys': 4, 'are': 3, 'and': 3, 'values': 6, 'their': 5, 'lengths': 7}\n",
        "\n",
        "def find(a,b):\n",
        "  print(new_dict[a]\n",
        "  empty = []\n",
        "  for k,v in new_dict.items():\n",
        "    if v == b :\n",
        "      empty.append(k)\n",
        "x = input(\"enter key so value could be found\")\n",
        "y = int(input(\"enter value so value could be found\"))\n",
        "print(find(x,y))\n"
      ],
      "metadata": {
        "colab": {
          "base_uri": "https://localhost:8080/",
          "height": 332
        },
        "id": "CcYDRcZfDd7T",
        "outputId": "9b12dfdf-0761-40f3-f9aa-593e7df6c357"
      },
      "execution_count": null,
      "outputs": [
        {
          "name": "stdout",
          "output_type": "stream",
          "text": [
            "enter key so value could be found5\n",
            "enter value so value could be found4\n"
          ]
        },
        {
          "output_type": "error",
          "ename": "KeyError",
          "evalue": "'5'",
          "traceback": [
            "\u001b[0;31m---------------------------------------------------------------------------\u001b[0m",
            "\u001b[0;31mKeyError\u001b[0m                                  Traceback (most recent call last)",
            "\u001b[0;32m<ipython-input-5-bbbb9bdb1365>\u001b[0m in \u001b[0;36m<cell line: 0>\u001b[0;34m()\u001b[0m\n\u001b[1;32m     12\u001b[0m \u001b[0mx\u001b[0m \u001b[0;34m=\u001b[0m \u001b[0minput\u001b[0m\u001b[0;34m(\u001b[0m\u001b[0;34m\"enter key so value could be found\"\u001b[0m\u001b[0;34m)\u001b[0m\u001b[0;34m\u001b[0m\u001b[0;34m\u001b[0m\u001b[0m\n\u001b[1;32m     13\u001b[0m \u001b[0my\u001b[0m \u001b[0;34m=\u001b[0m \u001b[0mint\u001b[0m\u001b[0;34m(\u001b[0m\u001b[0minput\u001b[0m\u001b[0;34m(\u001b[0m\u001b[0;34m\"enter value so value could be found\"\u001b[0m\u001b[0;34m)\u001b[0m\u001b[0;34m)\u001b[0m\u001b[0;34m\u001b[0m\u001b[0;34m\u001b[0m\u001b[0m\n\u001b[0;32m---> 14\u001b[0;31m \u001b[0mprint\u001b[0m\u001b[0;34m(\u001b[0m\u001b[0mfind\u001b[0m\u001b[0;34m(\u001b[0m\u001b[0mx\u001b[0m\u001b[0;34m,\u001b[0m\u001b[0my\u001b[0m\u001b[0;34m)\u001b[0m\u001b[0;34m)\u001b[0m\u001b[0;34m\u001b[0m\u001b[0;34m\u001b[0m\u001b[0m\n\u001b[0m",
            "\u001b[0;32m<ipython-input-5-bbbb9bdb1365>\u001b[0m in \u001b[0;36mfind\u001b[0;34m(a, b)\u001b[0m\n\u001b[1;32m      5\u001b[0m \u001b[0;34m\u001b[0m\u001b[0m\n\u001b[1;32m      6\u001b[0m \u001b[0;32mdef\u001b[0m \u001b[0mfind\u001b[0m\u001b[0;34m(\u001b[0m\u001b[0ma\u001b[0m\u001b[0;34m,\u001b[0m\u001b[0mb\u001b[0m\u001b[0;34m)\u001b[0m\u001b[0;34m:\u001b[0m\u001b[0;34m\u001b[0m\u001b[0;34m\u001b[0m\u001b[0m\n\u001b[0;32m----> 7\u001b[0;31m   \u001b[0mprint\u001b[0m\u001b[0;34m(\u001b[0m\u001b[0mnew_dict\u001b[0m\u001b[0;34m[\u001b[0m\u001b[0ma\u001b[0m\u001b[0;34m]\u001b[0m\u001b[0;34m)\u001b[0m\u001b[0;34m\u001b[0m\u001b[0;34m\u001b[0m\u001b[0m\n\u001b[0m\u001b[1;32m      8\u001b[0m   \u001b[0mempty\u001b[0m \u001b[0;34m=\u001b[0m \u001b[0;34m[\u001b[0m\u001b[0;34m]\u001b[0m\u001b[0;34m\u001b[0m\u001b[0;34m\u001b[0m\u001b[0m\n\u001b[1;32m      9\u001b[0m   \u001b[0;32mfor\u001b[0m \u001b[0mk\u001b[0m\u001b[0;34m,\u001b[0m\u001b[0mv\u001b[0m \u001b[0;32min\u001b[0m \u001b[0mnew_dict\u001b[0m\u001b[0;34m.\u001b[0m\u001b[0mitems\u001b[0m\u001b[0;34m(\u001b[0m\u001b[0;34m)\u001b[0m\u001b[0;34m:\u001b[0m\u001b[0;34m\u001b[0m\u001b[0;34m\u001b[0m\u001b[0m\n",
            "\u001b[0;31mKeyError\u001b[0m: '5'"
          ]
        }
      ]
    },
    {
      "cell_type": "code",
      "source": [
        "'''\n",
        "4 Merge two dictionaries into one.\n",
        "'''\n",
        "dict1 = { 'Given': 5, 'a': 1, 'list': 4, 'of': 2 }\n",
        "dict2 = { 'strings': 7, 'create': 6, 'dictionary': 10, 'where': 5, 'the': 3 }\n",
        "dict3 = dict1 | dict2\n",
        "print(dict3)"
      ],
      "metadata": {
        "id": "JZN3y0OTDd42"
      },
      "execution_count": null,
      "outputs": []
    },
    {
      "cell_type": "code",
      "source": [
        "# Intermediate Exercises\n",
        "\n",
        "'''\n",
        "6 Given a list of dictionaries, create a new list containing only the values\n",
        " of a specific key.\n",
        "'''\n",
        "students = [    {\"name\": \"Alice\", \"age\": 22, \"grade\": \"A\"},\n",
        "               {\"name\": \"Bob\", \"age\": 23, \"grade\": \"B\"},\n",
        "              {\"name\": \"Charlie\", \"age\": 21, \"grade\": \"A\"},\n",
        "             {\"name\": \"David\", \"age\": 22, \"grade\": \"C\"}   ]\n",
        "\n",
        "\n",
        "def stu(x):\n",
        "  for student in students:\n",
        "      print(student[x])\n",
        "\n",
        "print(stu(input(\"enter\")))"
      ],
      "metadata": {
        "id": "2tZpVtaqDSGa"
      },
      "execution_count": null,
      "outputs": []
    },
    {
      "cell_type": "code",
      "source": [
        "'''\n",
        "7 Create a dictionary where the keys are the first letters of words in a list and\n",
        " the values are lists of words starting with that letter.\n",
        "'''\n",
        "\n",
        "fruits = [\"apple\", \"banana\", \"orange\", \"grapes\", \"mango\",\n",
        "          \"strawberry\", \"watermelon\", \"pineapple\", \"cherry\", \"kiwi\"]\n",
        "\n",
        "def fru(x):\n",
        "  fruit_dict = {i[0]:i for i in x}\n",
        "  return fruit_dict\n",
        "print(fru(fruits))\n"
      ],
      "metadata": {
        "id": "4dqkhLHhDSDz"
      },
      "execution_count": null,
      "outputs": []
    },
    {
      "cell_type": "code",
      "source": [
        "''' 8\n",
        "Sort a list of tuples based on the second element.\n",
        "'''\n",
        "fruits = [\n",
        "    (\"apple\", 5),\n",
        "    (\"banana\", 2),\n",
        "    (\"orange\", 4),\n",
        "    (\"grapes\", 1),\n",
        "    (\"mango\", 3)\n",
        "]\n",
        "\n",
        "sor = sorted(fruits,key=lambda x : x[1])\n",
        "print(sor)"
      ],
      "metadata": {
        "id": "VkhSR5tYDSBE"
      },
      "execution_count": null,
      "outputs": []
    },
    {
      "cell_type": "code",
      "source": [
        "'''   9\n",
        "Create a dictionary where the keys are numbers and the values are their squares.\n",
        " Use a list comprehension.\n",
        " '''\n",
        "dict5 = {}\n",
        "def square(n):\n",
        "  dict5 = { i : i**2 for i in n }\n",
        "  return dict5\n",
        "\n",
        "\n",
        "o = [1,2,3,4,5,6,7,8,9,10]\n",
        "print(square(o))"
      ],
      "metadata": {
        "id": "o_XFCoHdDR-b"
      },
      "execution_count": null,
      "outputs": []
    },
    {
      "cell_type": "code",
      "source": [
        "'''  10\n",
        "Find the most frequent element in a list.\n",
        "'''\n",
        "a = ['a','a','a','a','a','c','c','c','f','f','e','e']\n",
        "def most_frequent(a):\n",
        "  dict7 = {}\n",
        "  for i in a:\n",
        "    key = i\n",
        "    value = a.count(i)\n",
        "    dict7[key] = value\n",
        "    maxi = max(dict7, key=dict7.get)\n",
        "  return maxi\n",
        "print(most_frequent(a))"
      ],
      "metadata": {
        "id": "MSSObV0DDR7_"
      },
      "execution_count": null,
      "outputs": []
    },
    {
      "cell_type": "code",
      "source": [
        "#Advanced Exercises\n",
        "\n",
        "'''  11\n",
        "Create a dictionary where the keys are words and the values are their counts in\n",
        " a given text.\n",
        "'''\n",
        "unique_words = [\n",
        "    \"apple\", \"banana\", \"cherry\", \"dragonfruit\", \"elderberry\",\n",
        "    \"fig\", \"grape\", \"honeydew\", \"kiwi\", \"lemon\", \"mango\",\n",
        "    \"nectarine\", \"orange\", \"papaya\", \"quince\", \"raspberry\",\n",
        "    \"strawberry\", \"tangerine\", \"ugli\", \"vanilla\", \"watermelon\",\n",
        "    \"xigua\", \"yam\", \"zucchini\"\n",
        "]\n",
        "\n",
        "def word_count(a):\n",
        "  dict6 = {}\n",
        "  for i in a:\n",
        "    key = i\n",
        "    value = len(i)\n",
        "    dict6[key] = value\n",
        "  return dict6\n",
        "\n",
        "print(word_count(unique_words))\n"
      ],
      "metadata": {
        "id": "61HCVOwiBVNM"
      },
      "execution_count": null,
      "outputs": []
    },
    {
      "cell_type": "code",
      "source": [
        "'''  12\n",
        "Implement a simple text editor using dictionaries to store lines of text.\n",
        "\n",
        "'''\n",
        "sample_lines = [\"The quick brown fox jumps over the lazy dog.\",\n",
        "                \"Python is a powerful and versatile programming language.\",\n",
        "                \"Data science and machine learning are transforming industries.\",\n",
        "                \"Practice makes perfect keep coding every day!\",\n",
        "                \"Artificial intelligence is shaping the future of technology.\",\n",
        "                \"Debugging is like being the detective in a crime movie.\",\n",
        "                \"Stay curious, keep learning, and never stop exploring!\"]\n",
        "\n",
        "\n",
        "def text_editor(a):\n",
        "  dict_7 = {}\n",
        "  while True:\n",
        "    print('= = = =  WELCOME TO TEXT EDITOR  = = = =')\n",
        "    print('  To edit text use thier assigned no.s  ')\n",
        "    print(\" 1 The quick brown fox jumps over the lazy dog.\")\n",
        "    print(\" 2 Python is a powerful and versatile programming language.\")\n",
        "    print(\" 3 Data science and machine learning are transforming industries.\")\n",
        "    print(\" 4 Practice makes perfect keep coding every day!\")\n",
        "    print(\" 5 Artificial intelligence is shaping the future of technology.\")\n",
        "    print(\" 6 Debugging is like being the detective in a crime movie.\")\n",
        "    print(\" 7 Stay curious, keep learning, and never stop exploring!\")\n",
        "    text_selected = int(input('Select text line no.'))\n",
        "\n"
      ],
      "metadata": {
        "id": "TOn7EtykBVKp"
      },
      "execution_count": null,
      "outputs": []
    },
    {
      "cell_type": "code",
      "source": [
        "'''   13\n",
        "Create a function that takes a dictionary and returns a new dictionary with the\n",
        " keys and values swapped.\n",
        "'''\n",
        "dict_8 = {\n",
        "    1: \"Hello world.\",\n",
        "    2: \"Python is fun.\",\n",
        "    3: \"I love coding.\",\n",
        "    4: \"Practice daily.\",\n",
        "    5: \"Stay curious.\"\n",
        "}\n",
        "\n",
        "def swapped(a):\n",
        "  dict_9 = {}\n",
        "  for keys,value in a.items():\n",
        "    dict_9[value] = keys\n",
        "  return dict_9\n",
        "print(swapped(dict_8))\n"
      ],
      "metadata": {
        "id": "L2hgqA1cBVIF"
      },
      "execution_count": null,
      "outputs": []
    },
    {
      "cell_type": "code",
      "source": [
        "\n",
        "# 14 Given a dictionary, find the key with the longest value.\n",
        "\n",
        "dict_8 = {\n",
        "    1: \"Hello world.\",\n",
        "    2: \"Python is fun.\",\n",
        "    3: \"I love coding.\",\n",
        "    4: \"Practice daily.\",\n",
        "    5: \"Stay curious.\"\n",
        "}\n",
        "\n",
        "def longest_value(a):\n",
        "  return max(a,key=lambda x :len(a[x]))\n",
        "\n",
        "print(longest_value(dict_8))\n"
      ],
      "metadata": {
        "id": "B7e9U1NOBVGA",
        "colab": {
          "base_uri": "https://localhost:8080/"
        },
        "outputId": "8066b23d-c65c-47a8-999d-6b5b3e0a8b0f"
      },
      "execution_count": null,
      "outputs": [
        {
          "output_type": "stream",
          "name": "stdout",
          "text": [
            "4\n"
          ]
        }
      ]
    },
    {
      "cell_type": "code",
      "source": [
        "'''   15\n",
        "Implement a basic word search game using lists and dictionaries.\n",
        "\n",
        "'''"
      ],
      "metadata": {
        "id": "1x5-VReIBVDl"
      },
      "execution_count": null,
      "outputs": []
    },
    {
      "cell_type": "code",
      "source": [
        "\n",
        "# List and Tuple Exercises\n",
        "\n"
      ],
      "metadata": {
        "id": "rJhAxTFHBVBQ"
      },
      "execution_count": null,
      "outputs": []
    },
    {
      "cell_type": "code",
      "source": [
        "'''   16\n",
        "Create a list of tuples representing products with names and prices. Sort the\n",
        " list by price.\n",
        "'''\n",
        "items = [\n",
        "    (\"Banana\", 20),\n",
        "    (\"Apple\", 50),\n",
        "    (\"Cherry\", 150),\n",
        "    (\"Dragonfruit\", 300),\n",
        "    (\"Elderberry\", 250),\n",
        "    (\"Fig\", 80),\n",
        "    (\"Grapes\", 90),\n",
        "    (\"Honeydew\", 120),\n",
        "    (\"Kiwi\", 200),\n",
        "    (\"Lemon\", 30)\n",
        "]\n",
        "\n",
        "def sorted_prices(items):\n",
        "  return sorted(items,key=lambda x :x[1])\n",
        "\n",
        "print(sorted_prices(items))\n"
      ],
      "metadata": {
        "id": "UBxZ9AwHBU-x",
        "colab": {
          "base_uri": "https://localhost:8080/"
        },
        "outputId": "31184fcf-8c4e-4fa9-9b2b-fe36d8b138bd"
      },
      "execution_count": null,
      "outputs": [
        {
          "output_type": "stream",
          "name": "stdout",
          "text": [
            "[('Banana', 20), ('Lemon', 30), ('Apple', 50), ('Fig', 80), ('Grapes', 90), ('Honeydew', 120), ('Cherry', 150), ('Kiwi', 200), ('Elderberry', 250), ('Dragonfruit', 300)]\n"
          ]
        }
      ]
    },
    {
      "cell_type": "code",
      "source": [
        "'''    17\n",
        "Given a list of tuples, create a new list containing only the first elements\n",
        " of each tuple.\n",
        "'''\n",
        "items = [\n",
        "    (\"Banana\", 20),\n",
        "    (\"Apple\", 50),\n",
        "    (\"Cherry\", 150),\n",
        "    (\"Dragonfruit\", 300),\n",
        "    (\"Elderberry\", 250),\n",
        "    (\"Fig\", 80),\n",
        "    (\"Grapes\", 90),\n",
        "    (\"Honeydew\", 120),\n",
        "    (\"Kiwi\", 200),\n",
        "    (\"Lemon\", 30)\n",
        "]\n",
        "\n",
        "def new_list(a):\n",
        "  listz = []\n",
        "  for i in a:\n",
        "   listz.append(i[0])\n",
        "  return listz\n",
        "print(new_list(items))\n"
      ],
      "metadata": {
        "id": "bXskVXF_BU6J",
        "colab": {
          "base_uri": "https://localhost:8080/"
        },
        "outputId": "fa99d65e-28c1-4f36-e253-914a230b8638"
      },
      "execution_count": null,
      "outputs": [
        {
          "output_type": "stream",
          "name": "stdout",
          "text": [
            "['Banana', 'Apple', 'Cherry', 'Dragonfruit', 'Elderberry', 'Fig', 'Grapes', 'Honeydew', 'Kiwi', 'Lemon']\n"
          ]
        }
      ]
    },
    {
      "cell_type": "code",
      "source": [
        "'''   18\n",
        "Convert a list of lists into a list of tuples.\n",
        "\n",
        "'''\n",
        "products = [\n",
        "    [\"Apple\", 50],\n",
        "    [\"Banana\", 20],\n",
        "    [\"Cherry\", 150],\n",
        "    [\"Dragonfruit\", 300],\n",
        "    [\"Elderberry\", 250],\n",
        "    [\"Fig\", 80],\n",
        "    [\"Grapes\", 90],\n",
        "    [\"Honeydew\", 120],\n",
        "    [\"Kiwi\", 200],\n",
        "    [\"Lemon\", 30]\n",
        "]\n",
        "\n",
        "def lol_lot(a):\n",
        "  list_tup = []\n",
        "  for i in a:\n",
        "    list_i_tup = (i[0],i[1])\n",
        "    list_tup.append(list_i_tup)\n",
        "  return list_tup\n",
        "print(lol_lot(products))\n"
      ],
      "metadata": {
        "id": "GyGKXpCfBU3x",
        "colab": {
          "base_uri": "https://localhost:8080/"
        },
        "outputId": "5d117e4a-defb-40ad-e993-0ca884e91d32"
      },
      "execution_count": null,
      "outputs": [
        {
          "output_type": "stream",
          "name": "stdout",
          "text": [
            "[('Apple', 50), ('Banana', 20), ('Cherry', 150), ('Dragonfruit', 300), ('Elderberry', 250), ('Fig', 80), ('Grapes', 90), ('Honeydew', 120), ('Kiwi', 200), ('Lemon', 30)]\n"
          ]
        }
      ]
    },
    {
      "cell_type": "code",
      "source": [
        "from functools import reduce\n",
        "'''   19\n",
        "Create a tuple of integers and find the product of all elements.\n",
        "\n",
        "'''\n",
        "numbers = (10, 20, 30, 40, 50)\n",
        "def product_tup(q):\n",
        "  product = 1\n",
        "  for i in q:\n",
        "    product *= i\n",
        "  return product\n",
        "\n",
        "print(product_tup(numbers))\n"
      ],
      "metadata": {
        "id": "oFhqEtMSBUzF",
        "colab": {
          "base_uri": "https://localhost:8080/"
        },
        "outputId": "34f645ce-03fe-4233-f76c-368a991aaca0"
      },
      "execution_count": 6,
      "outputs": [
        {
          "output_type": "stream",
          "name": "stdout",
          "text": [
            "12000000\n"
          ]
        }
      ]
    },
    {
      "cell_type": "code",
      "source": [
        "'''  20  Given a list of tuples, create a dictionary where the keys are the first elements\n",
        " of the tuples and the values are the second elements.\n",
        " '''\n",
        "items = [\n",
        "    (\"Banana\", 20),\n",
        "    (\"Apple\", 50),\n",
        "    (\"Cherry\", 150),\n",
        "    (\"Dragonfruit\", 300),\n",
        "    (\"Elderberry\", 250),\n",
        "    (\"Fig\", 80),\n",
        "    (\"Grapes\", 90),\n",
        "    (\"Honeydew\", 120),\n",
        "    (\"Kiwi\", 200),\n",
        "    (\"Lemon\", 30)\n",
        "]\n",
        "def tup_to_dic(a):\n",
        "  dict_10 ={}\n",
        "  for i in a:\n",
        "    keys = i[0]\n",
        "    values = i[1]\n",
        "    dict_10[keys]  =  values\n",
        "  return dict_10\n",
        "\n",
        "print(tup_to_dic(items))"
      ],
      "metadata": {
        "id": "fRycMs37CnDp",
        "colab": {
          "base_uri": "https://localhost:8080/"
        },
        "outputId": "8b3a95f7-d4a7-4790-c81c-153b822817bc"
      },
      "execution_count": 8,
      "outputs": [
        {
          "output_type": "stream",
          "name": "stdout",
          "text": [
            "{'Banana': 20, 'Apple': 50, 'Cherry': 150, 'Dragonfruit': 300, 'Elderberry': 250, 'Fig': 80, 'Grapes': 90, 'Honeydew': 120, 'Kiwi': 200, 'Lemon': 30}\n"
          ]
        }
      ]
    },
    {
      "cell_type": "code",
      "source": [],
      "metadata": {
        "id": "qrApudzHCnLc"
      },
      "execution_count": null,
      "outputs": []
    }
  ]
}