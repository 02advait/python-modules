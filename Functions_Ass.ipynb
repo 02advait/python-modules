{
  "nbformat": 4,
  "nbformat_minor": 0,
  "metadata": {
    "colab": {
      "provenance": []
    },
    "kernelspec": {
      "name": "python3",
      "display_name": "Python 3"
    },
    "language_info": {
      "name": "python"
    }
  },
  "cells": [
    {
      "cell_type": "code",
      "execution_count": null,
      "metadata": {
        "id": "2f7tgJZ9bnyz",
        "colab": {
          "base_uri": "https://localhost:8080/"
        },
        "outputId": "432169fd-13d1-4416-99f5-1a23eb4b7778"
      },
      "outputs": [
        {
          "output_type": "stream",
          "name": "stdout",
          "text": [
            "olleh\n"
          ]
        }
      ],
      "source": [
        "'''\n",
        "Write a function reverse_string(s) that takes a string and returns its reverse.\n",
        "\n",
        "print(reverse_string(\"hello\")) # Output: \"olleh\"\n",
        "'''\n",
        "def reverse_string(x):\n",
        " return x[::-1]\n",
        "print(reverse_string(\"hello\"))\n",
        "\n",
        "\n",
        "\n"
      ]
    },
    {
      "cell_type": "code",
      "source": [
        "# Write a function is_palindrome(s) that returns True if the string is a palindrome, else False.\n",
        "\n",
        "def is_palindrome(s):\n",
        "  if s == s[::-1]:\n",
        "    print(True)\n",
        "  else:\n",
        "    print(False)\n",
        "\n",
        "print(is_palindrome(\"madam\")) # Output: True\n",
        "print(is_palindrome(\"hello\")) # Output: False"
      ],
      "metadata": {
        "colab": {
          "base_uri": "https://localhost:8080/"
        },
        "id": "f7-NeMiBckJi",
        "outputId": "887dd165-20ed-40a1-8b98-9b503c8c8b15"
      },
      "execution_count": null,
      "outputs": [
        {
          "output_type": "stream",
          "name": "stdout",
          "text": [
            "True\n",
            "None\n",
            "False\n",
            "None\n"
          ]
        }
      ]
    },
    {
      "cell_type": "code",
      "source": [
        "#  Write a function count_vowels_consonants(s) that returns the count of vowels and consonants in a string.\n",
        "\n",
        "vovles = \"aeiou\"\n",
        "constants   = \"bcdfghjklmnpqrstvwxyz\"\n",
        "\n",
        "def count_vowels_consonants(s):\n",
        "  vovles_count = sum(1 for char in s if char in vovles)\n",
        "  constants_count = sum (1 for char in s if char in constants)\n",
        "  return (vovles_count,constants_count)\n",
        "\n",
        "\n",
        "\n",
        "print(count_vowels_consonants(\"apple\")) # Output: (2, 3)"
      ],
      "metadata": {
        "colab": {
          "base_uri": "https://localhost:8080/"
        },
        "id": "4xpsn5GpdBa1",
        "outputId": "1da511a6-6e4b-42cf-b902-948212c2203c"
      },
      "execution_count": null,
      "outputs": [
        {
          "output_type": "stream",
          "name": "stdout",
          "text": [
            "(2, 3)\n"
          ]
        }
      ]
    },
    {
      "cell_type": "code",
      "source": [
        "# Write a function most_frequent_char(s) that returns the character appearing most frequently in a string.\n",
        "a = list(\"banana\")\n",
        "new_dict = {}\n",
        "def most_frequent_char(a):\n",
        "  for i in a:\n",
        "    new_dict[i]=a.count(i)\n",
        "  return max(new_dict, key=new_dict.get)\n",
        "print(new_dict)\n",
        "\n",
        "print(most_frequent_char(\"banana\")) # Output: 'a'"
      ],
      "metadata": {
        "id": "Fc4I-YJfhJM3",
        "colab": {
          "base_uri": "https://localhost:8080/"
        },
        "outputId": "8fc10e4f-7095-48b6-ea2e-4047dae592d9"
      },
      "execution_count": null,
      "outputs": [
        {
          "output_type": "stream",
          "name": "stdout",
          "text": [
            "{}\n",
            "a\n"
          ]
        }
      ]
    },
    {
      "cell_type": "code",
      "source": [
        "# Write a function most_frequent_char(s) that returns the character appearing most frequently in a string.\n",
        "\n",
        "def most_frequent_char(x):\n",
        "  freq_dict = {}\n",
        "  for i in x:\n",
        "    keys = i\n",
        "    value = x.count(i)\n",
        "    freq_dict[keys] = value\n",
        "  return freq_dict\n",
        "print(most_frequent_char(\"apple\")) # Output: 'p'\n",
        "print(max(freq_dict,key=freq_dict.get))\n"
      ],
      "metadata": {
        "colab": {
          "base_uri": "https://localhost:8080/"
        },
        "id": "RlLacQL14An8",
        "outputId": "48d3b227-1335-49c8-970d-40f4c6f314f6"
      },
      "execution_count": null,
      "outputs": [
        {
          "output_type": "stream",
          "name": "stdout",
          "text": [
            "{'a': 1, 'p': 2, 'l': 1, 'e': 1}\n",
            "p\n"
          ]
        }
      ]
    },
    {
      "cell_type": "code",
      "source": [
        "# Write a function remove_duplicates(s) that removes duplicate characters while maintaining the order.\n",
        "\n",
        "def remove_duplicates(s):\n",
        "  dict2 ={}\n",
        "  dict2 = dict2.fromkeys(s)\n",
        "  listx = dict2.keys()\n",
        "  return \"\".join(listx)\n",
        "\n",
        "print(remove_duplicates(\"programming\")) # Output: \"progamin\""
      ],
      "metadata": {
        "colab": {
          "base_uri": "https://localhost:8080/"
        },
        "id": "9gS9zoF-lBrg",
        "outputId": "8b47ac16-be8a-4366-9aae-d52e25d901fb"
      },
      "execution_count": null,
      "outputs": [
        {
          "output_type": "stream",
          "name": "stdout",
          "text": [
            "progamin\n"
          ]
        }
      ]
    },
    {
      "cell_type": "code",
      "source": [
        "# Write a function remove_list_duplicates(lst) that removes duplicates from a list while keeping order.\n",
        "def remove_list_duplicates(s):\n",
        "  dict2 ={}\n",
        "  dict2 = dict2.fromkeys(s)\n",
        "  listx = dict2.keys()\n",
        "  return listx\n",
        "print(remove_list_duplicates([1, 2, 2, 3, 4, 4])) # Output: [1, 2, 3, 4]\n",
        "\n"
      ],
      "metadata": {
        "id": "663hfKqOlBj8",
        "colab": {
          "base_uri": "https://localhost:8080/"
        },
        "outputId": "507d9adb-a79f-4131-b99f-bfe981d65e32"
      },
      "execution_count": null,
      "outputs": [
        {
          "output_type": "stream",
          "name": "stdout",
          "text": [
            "dict_keys([1, 2, 3, 4])\n"
          ]
        }
      ]
    },
    {
      "cell_type": "code",
      "source": [
        "# Write a function set_intersection(set1, set2) that returns the intersection of two sets.\n",
        "\n",
        "def set_intersection(set1, set2):\n",
        "  return set1 & set2\n",
        "\n",
        "print(set_intersection({1, 2, 3}, {2, 3, 4})) # Output: {2, 3}"
      ],
      "metadata": {
        "colab": {
          "base_uri": "https://localhost:8080/"
        },
        "id": "5iQJvPwjIChV",
        "outputId": "823434ae-ef05-45a3-b9d1-585408f2c48f"
      },
      "execution_count": null,
      "outputs": [
        {
          "output_type": "stream",
          "name": "stdout",
          "text": [
            "{2, 3}\n"
          ]
        }
      ]
    },
    {
      "cell_type": "code",
      "source": [
        "# Write a function merge_dicts(dict1, dict2) that merges two dictionaries, adding values if keys overlap.\n",
        "\n",
        "dict1 = {'a': 10, 'b': 20}\n",
        "dict2 = {'b': 30, 'c': 40}\n",
        "\n",
        "def merge_dicts(dict1, dict2):\n",
        "  comn_dict =  dict1 | dict2\n",
        "  merged_dict = {}\n",
        "  for key in comn_dict:\n",
        "    value = dict1.get(key,0) + dict2.get(key,0)\n",
        "    merged_dict[key] = value\n",
        "  return merged_dict\n",
        "\n",
        "print(merge_dicts(dict1, dict2))\n",
        "# Output: {'a': 10, 'b': 50, 'c': 40}"
      ],
      "metadata": {
        "colab": {
          "base_uri": "https://localhost:8080/"
        },
        "id": "GEhoToiHJzH1",
        "outputId": "07e885b8-bc86-44c6-ee34-ef0d5019da64"
      },
      "execution_count": null,
      "outputs": [
        {
          "output_type": "stream",
          "name": "stdout",
          "text": [
            "{'a': 10, 'b': 50, 'c': 40}\n"
          ]
        }
      ]
    },
    {
      "cell_type": "code",
      "source": [
        "# Write a function sort_by_second(lst) that sorts a list of tuples based on the second value.\n",
        "\n",
        "def sort_by_second(lst):\n",
        "  return sorted(lst,key=lambda x : x[1])\n",
        "\n",
        "\n",
        "print(sort_by_second([(1, 3), (2, 2), (3, 1)]))\n",
        "# Output: [(3, 1), (2, 2), (1, 3)] \\"
      ],
      "metadata": {
        "colab": {
          "base_uri": "https://localhost:8080/"
        },
        "id": "d0h1EoeDKBUo",
        "outputId": "98e67d9c-25da-4683-e851-0d6212bf57ac"
      },
      "execution_count": null,
      "outputs": [
        {
          "output_type": "stream",
          "name": "stdout",
          "text": [
            "[(3, 1), (2, 2), (1, 3)]\n"
          ]
        }
      ]
    },
    {
      "cell_type": "code",
      "source": [
        "# Write a function most_frequent_element(lst) that returns the most frequent element in a list.\n",
        "\n",
        "def most_frequent_element(x):\n",
        "  return max(x,key = x.count)\n",
        "\n",
        "\n",
        "print(most_frequent_element([1, 3, 3, 2, 1, 3])) # Output: 3"
      ],
      "metadata": {
        "colab": {
          "base_uri": "https://localhost:8080/"
        },
        "id": "uAlBREK_KBR2",
        "outputId": "df1caeea-09dd-48c2-e843-a78d6de32026"
      },
      "execution_count": null,
      "outputs": [
        {
          "output_type": "stream",
          "name": "stdout",
          "text": [
            "3\n"
          ]
        }
      ]
    },
    {
      "cell_type": "code",
      "source": [],
      "metadata": {
        "id": "qOw1_3XM1gtv"
      },
      "execution_count": null,
      "outputs": []
    }
  ]
}