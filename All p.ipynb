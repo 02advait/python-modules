{
  "cells": [
    {
      "cell_type": "markdown",
      "metadata": {
        "id": "u4qdy9CM1-Nk"
      },
      "source": [
        "**=================================================================================================**"
      ]
    },
    {
      "cell_type": "markdown",
      "metadata": {
        "id": "kbkBu99v2Dzx"
      },
      "source": [
        "# Day one  , I / O"
      ]
    },
    {
      "cell_type": "markdown",
      "metadata": {
        "id": "Ql_f8PI92NIJ"
      },
      "source": [
        "**=================================================================================================**"
      ]
    },
    {
      "cell_type": "markdown",
      "metadata": {
        "id": "JAcs6c_AXnJL"
      },
      "source": [
        "Python why ?\n",
        "lose syntax/simple syntax:\n",
        "    <br>\n",
        "    very less {}(); limited keywords,all in\n",
        "    lowercase,UPPERCASE:Constants\n",
        "\tbetter readability\n",
        "Dynamic casting:\n",
        "\tno need to exclusively give data type\n",
        "\tgive data datatype would be derrived from it\n",
        "\ttype()\n",
        "\ttypes:int,float,bool,str,complex"
      ]
    },
    {
      "cell_type": "code",
      "execution_count": null,
      "metadata": {
        "colab": {
          "base_uri": "https://localhost:8080/"
        },
        "id": "zeKnC1aIWhlH",
        "outputId": "b01306c6-92e2-47be-dde8-3ecdf155d127"
      },
      "outputs": [
        {
          "data": {
            "text/plain": [
              "bool"
            ]
          },
          "execution_count": 7,
          "metadata": {},
          "output_type": "execute_result"
        }
      ],
      "source": [
        "a=True\n",
        "type(a)"
      ]
    },
    {
      "cell_type": "code",
      "execution_count": null,
      "metadata": {
        "collapsed": true,
        "id": "pOoAvTani8B-"
      },
      "outputs": [],
      "source": [
        "I/O\n",
        "read anything in input is  string :input()\n",
        "Default mode of input in python? String\n",
        "var=input(\"prompt\")\n",
        "prompt:output on screen to tell user what input needed"
      ]
    },
    {
      "cell_type": "code",
      "execution_count": null,
      "metadata": {
        "colab": {
          "base_uri": "https://localhost:8080/"
        },
        "id": "ymrE6Gg6jKaf",
        "outputId": "24a096c1-1224-4a2e-8205-51630b149dd5"
      },
      "outputs": [
        {
          "name": "stdout",
          "output_type": "stream",
          "text": [
            "Enter name:amar\n",
            "you are amar\n"
          ]
        }
      ],
      "source": [
        "name=input(\"Enter name:\")\n",
        "print(\"you are\",name)"
      ]
    },
    {
      "cell_type": "code",
      "execution_count": null,
      "metadata": {
        "colab": {
          "base_uri": "https://localhost:8080/"
        },
        "id": "3J8Tj7FEjx0A",
        "outputId": "f42b6a77-2cb6-42b7-97c6-5273d32c5378"
      },
      "outputs": [
        {
          "name": "stdout",
          "output_type": "stream",
          "text": [
            "Enter data:12\n",
            "data: 12.0 type is: <class 'float'>\n"
          ]
        }
      ],
      "source": [
        "data=float(input(\"Enter data:\"))\n",
        "print(\"data:\",data,\"type is:\",type(data))"
      ]
    },
    {
      "cell_type": "code",
      "execution_count": null,
      "metadata": {
        "colab": {
          "base_uri": "https://localhost:8080/"
        },
        "id": "RWeRZiY4kl6m",
        "outputId": "85e25962-58b9-4d09-bbee-da59a71252c9"
      },
      "outputs": [
        {
          "name": "stdout",
          "output_type": "stream",
          "text": [
            "Enter data:\n",
            "data: False type is: <class 'bool'>\n"
          ]
        }
      ],
      "source": [
        "data=bool(input(\"Enter data:\"))\n",
        "print(\"data:\",data,\"type is:\",type(data))"
      ]
    },
    {
      "cell_type": "code",
      "execution_count": null,
      "metadata": {
        "id": "pBbJ7Btpkz2T"
      },
      "outputs": [],
      "source": [
        "#print('')/\" \" /''' ''' /\"\"\" \"\"\"\n",
        "#print(var)\n",
        "#, is separator   var,\" message\"\n",
        "#, is separator   \" message\",var\n",
        "'''\n",
        "ads\n",
        "adf\n",
        "as\n",
        "fa\n",
        "sf\n",
        "as\n",
        "fas\n",
        "f\n",
        "awf\n",
        "'''"
      ]
    },
    {
      "cell_type": "code",
      "execution_count": null,
      "metadata": {
        "colab": {
          "base_uri": "https://localhost:8080/"
        },
        "id": "-ZQwobJTlToW",
        "outputId": "9218b310-9df7-47cc-f19b-3515c4c44fb6"
      },
      "outputs": [
        {
          "name": "stdout",
          "output_type": "stream",
          "text": [
            "10\n",
            "20\n"
          ]
        }
      ],
      "source": [
        "a=10\n",
        "b=20\n",
        "print(a)\n",
        "print(b)"
      ]
    },
    {
      "cell_type": "code",
      "execution_count": null,
      "metadata": {
        "colab": {
          "base_uri": "https://localhost:8080/"
        },
        "id": "fZLBZ5KVlnl8",
        "outputId": "f4608c04-43ae-4fa9-8f3d-e9ec77d00700"
      },
      "outputs": [
        {
          "name": "stdout",
          "output_type": "stream",
          "text": [
            "10 20\n"
          ]
        }
      ],
      "source": [
        "print(a,b)"
      ]
    },
    {
      "cell_type": "code",
      "execution_count": null,
      "metadata": {
        "id": "IC4spoT0ltek"
      },
      "outputs": [],
      "source": [
        "\",\" adds a Space\n",
        "sep=\"any symbol\" then for that print seprator changes"
      ]
    },
    {
      "cell_type": "code",
      "execution_count": null,
      "metadata": {
        "colab": {
          "base_uri": "https://localhost:8080/"
        },
        "id": "-270LG-Gl2W0",
        "outputId": "9c0b45cb-2a34-4ee5-bd93-8c62d522cada"
      },
      "outputs": [
        {
          "name": "stdout",
          "output_type": "stream",
          "text": [
            "10 20 30\n",
            "10meri marzi....20meri marzi....30\n",
            "10 20 30\n"
          ]
        }
      ],
      "source": [
        "a=10\n",
        "b=20\n",
        "c=30\n",
        "print(a,b,c)\n",
        "print(a,b,c,sep=\"meri marzi....\")\n",
        "print(a,b,c)"
      ]
    },
    {
      "cell_type": "code",
      "execution_count": null,
      "metadata": {
        "colab": {
          "base_uri": "https://localhost:8080/"
        },
        "id": "6mTCf80umSok",
        "outputId": "dbd30e24-73f7-4c77-83a2-e44d8c18f395"
      },
      "outputs": [
        {
          "name": "stdout",
          "output_type": "stream",
          "text": [
            "line 1,line 2\n",
            "line 3\n",
            "line 4\n"
          ]
        }
      ],
      "source": [
        "#print() #prints on new line\n",
        "#if not needed end=\"\\n\" default\n",
        "#end=\"symbol\" then print ends with it\n",
        "print(\"line 1\",end=\",\")\n",
        "print(\"line 2\")\n",
        "print(\"line 3\")\n",
        "print(\"line 4\")"
      ]
    },
    {
      "cell_type": "code",
      "execution_count": null,
      "metadata": {
        "colab": {
          "base_uri": "https://localhost:8080/"
        },
        "id": "Y5lC-c7Km6Mm",
        "outputId": "dba8d9f0-7b05-4c7a-b4f0-1a62630a8a2b"
      },
      "outputs": [
        {
          "name": "stdout",
          "output_type": "stream",
          "text": [
            "a is 10\n",
            "10 is a and b is 20\n",
            "a is 10 and 20 is b\n"
          ]
        }
      ],
      "source": [
        "a=10\n",
        "b=20\n",
        "#a is 10\n",
        "print(\"a is\",a)\n",
        "#10 is a and b is 20\n",
        "print(a,\"is a and b is\",b)\n",
        "#a is 10 and 20 is b\n",
        "print(\"a is\",a,\"and\",b,\"is b\")"
      ]
    },
    {
      "cell_type": "code",
      "execution_count": null,
      "metadata": {
        "colab": {
          "base_uri": "https://localhost:8080/"
        },
        "id": "IwjdByucoO4V",
        "outputId": "6fc045ab-5b20-4b9d-b489-3b0d062257d6"
      },
      "outputs": [
        {
          "name": "stdout",
          "output_type": "stream",
          "text": [
            "amar panchal\n"
          ]
        }
      ],
      "source": [
        "print(\"amar \"+\"panchal\")"
      ]
    },
    {
      "cell_type": "code",
      "execution_count": null,
      "metadata": {
        "colab": {
          "base_uri": "https://localhost:8080/",
          "height": 141
        },
        "id": "JXVMOyORoTMb",
        "outputId": "93143f54-6fcc-4747-be2b-9f5fe41c08fb"
      },
      "outputs": [
        {
          "ename": "TypeError",
          "evalue": "can only concatenate str (not \"int\") to str",
          "output_type": "error",
          "traceback": [
            "\u001b[0;31m---------------------------------------------------------------------------\u001b[0m",
            "\u001b[0;31mTypeError\u001b[0m                                 Traceback (most recent call last)",
            "\u001b[0;32m<ipython-input-34-4695948628a7>\u001b[0m in \u001b[0;36m<cell line: 0>\u001b[0;34m()\u001b[0m\n\u001b[0;32m----> 1\u001b[0;31m \u001b[0mprint\u001b[0m\u001b[0;34m(\u001b[0m\u001b[0;34m\"amar\"\u001b[0m\u001b[0;34m+\u001b[0m\u001b[0;36m10\u001b[0m\u001b[0;34m)\u001b[0m\u001b[0;34m\u001b[0m\u001b[0;34m\u001b[0m\u001b[0m\n\u001b[0m",
            "\u001b[0;31mTypeError\u001b[0m: can only concatenate str (not \"int\") to str"
          ]
        }
      ],
      "source": [
        "print(\"amar\"+10)"
      ]
    },
    {
      "cell_type": "code",
      "execution_count": null,
      "metadata": {
        "id": "CzMQbi-ook51"
      },
      "outputs": [],
      "source": [
        "#assign =\n",
        "#assign rvlaue to lvalue  a=10\n",
        "# give sapce to save 10 and this address is ref by an identifier\n",
        "#example \"home\" identifier\n",
        "'''\n",
        "chained assignment\n",
        "a=b=c=d=10\n",
        "\n",
        "\n",
        "pair based assignment\n",
        "a,b,c=10,\"amar\",True\n",
        "'''"
      ]
    },
    {
      "cell_type": "code",
      "execution_count": null,
      "metadata": {
        "colab": {
          "base_uri": "https://localhost:8080/",
          "height": 158
        },
        "id": "qw4uKvWEpu8w",
        "outputId": "9509fd14-3838-48bc-b945-51de63196771"
      },
      "outputs": [
        {
          "ename": "ValueError",
          "evalue": "not enough values to unpack (expected 3, got 2)",
          "output_type": "error",
          "traceback": [
            "\u001b[0;31m---------------------------------------------------------------------------\u001b[0m",
            "\u001b[0;31mValueError\u001b[0m                                Traceback (most recent call last)",
            "\u001b[0;32m<ipython-input-37-9699e56544c8>\u001b[0m in \u001b[0;36m<cell line: 0>\u001b[0;34m()\u001b[0m\n\u001b[0;32m----> 1\u001b[0;31m \u001b[0ma\u001b[0m\u001b[0;34m,\u001b[0m\u001b[0mb\u001b[0m\u001b[0;34m,\u001b[0m\u001b[0mc\u001b[0m\u001b[0;34m=\u001b[0m\u001b[0;36m10\u001b[0m\u001b[0;34m,\u001b[0m\u001b[0;34m\"amar\"\u001b[0m\u001b[0;34m\u001b[0m\u001b[0;34m\u001b[0m\u001b[0m\n\u001b[0m\u001b[1;32m      2\u001b[0m \u001b[0mprint\u001b[0m\u001b[0;34m(\u001b[0m\u001b[0ma\u001b[0m\u001b[0;34m,\u001b[0m\u001b[0mb\u001b[0m\u001b[0;34m,\u001b[0m\u001b[0mc\u001b[0m\u001b[0;34m)\u001b[0m\u001b[0;34m\u001b[0m\u001b[0;34m\u001b[0m\u001b[0m\n",
            "\u001b[0;31mValueError\u001b[0m: not enough values to unpack (expected 3, got 2)"
          ]
        }
      ],
      "source": [
        "a,b,c=10,\"amar\",True\n",
        "print(a,b,c)"
      ]
    },
    {
      "cell_type": "code",
      "execution_count": null,
      "metadata": {
        "colab": {
          "base_uri": "https://localhost:8080/"
        },
        "id": "FpR_UdGtp7Jr",
        "outputId": "80eba902-1b22-4709-c9f5-aa4dfed27ee3"
      },
      "outputs": [
        {
          "name": "stdout",
          "output_type": "stream",
          "text": [
            "start a: 10 b: 20\n",
            "end a: 20 b: 10\n"
          ]
        }
      ],
      "source": [
        "a=10\n",
        "b=20\n",
        "print(\"start a:\",a,\"b:\",b)\n",
        "a,b=b,a\n",
        "print(\"end a:\",a,\"b:\",b)"
      ]
    },
    {
      "cell_type": "code",
      "execution_count": null,
      "metadata": {
        "colab": {
          "base_uri": "https://localhost:8080/"
        },
        "id": "nzVdRtV8qpZP",
        "outputId": "0aa8fd51-a1cf-41c0-fdb7-f72529455f26"
      },
      "outputs": [
        {
          "name": "stdout",
          "output_type": "stream",
          "text": [
            "a is: 10 at ref: 10751144\n",
            "a is: 15 at ref: 10751304\n",
            "a is: 0 at ref: 10750824\n"
          ]
        }
      ],
      "source": [
        "#on every change python gives new memory and old is sent to AGC\n",
        "a=10\n",
        "print(\"a is:\",a,\"at ref:\",id(a))#memory ref\n",
        "a=a+5\n",
        "print(\"a is:\",a,\"at ref:\",id(a))#memory ref\n",
        "a=a-15\n",
        "print(\"a is:\",a,\"at ref:\",id(a))#memory ref"
      ]
    },
    {
      "cell_type": "code",
      "execution_count": null,
      "metadata": {
        "colab": {
          "base_uri": "https://localhost:8080/"
        },
        "id": "M-ZhlsQcrwcp",
        "outputId": "527700c5-691f-4a7f-81af-2f431ecb4c69"
      },
      "outputs": [
        {
          "name": "stdout",
          "output_type": "stream",
          "text": [
            "a is: 10 at ref: 10751144\n",
            "b is: 10 at ref: 10751144\n",
            "c is: 10 at ref: 10751144\n"
          ]
        }
      ],
      "source": [
        "#on every same data it shares the memory\n",
        "a=10\n",
        "print(\"a is:\",a,\"at ref:\",id(a))#memory ref\n",
        "b=5+5\n",
        "print(\"b is:\",b,\"at ref:\",id(b))#memory ref\n",
        "c=15-5\n",
        "print(\"c is:\",c,\"at ref:\",id(c))#memory ref"
      ]
    },
    {
      "cell_type": "code",
      "execution_count": null,
      "metadata": {
        "id": "R_vxzjsjtCTm"
      },
      "outputs": [],
      "source": [
        "#no increment decrement operation a++ ++a\n",
        "a=a+1\n",
        "a+=1#this\n",
        "#better control"
      ]
    },
    {
      "cell_type": "code",
      "execution_count": null,
      "metadata": {
        "id": "Ikx8XQnrtYfc"
      },
      "outputs": [],
      "source": [
        "a+=0.01"
      ]
    },
    {
      "cell_type": "markdown",
      "metadata": {
        "id": "j1MmKqR2puuQ"
      },
      "source": []
    },
    {
      "cell_type": "code",
      "execution_count": null,
      "metadata": {
        "id": "TeJG9plQtiU5"
      },
      "outputs": [],
      "source": [
        "Arithmatic:\n",
        "+,-,*,/,%(remainder)\n",
        "\n",
        "//(int div/ floor)\n",
        "**(power)\n"
      ]
    },
    {
      "cell_type": "code",
      "execution_count": null,
      "metadata": {
        "colab": {
          "base_uri": "https://localhost:8080/"
        },
        "id": "64LV9Mjitj1m",
        "outputId": "2fd6c8b1-4dee-422f-83a9-ef51cd0a1b49"
      },
      "outputs": [
        {
          "data": {
            "text/plain": [
              "5"
            ]
          },
          "execution_count": 46,
          "metadata": {},
          "output_type": "execute_result"
        }
      ],
      "source": [
        "5%30"
      ]
    },
    {
      "cell_type": "code",
      "execution_count": null,
      "metadata": {
        "colab": {
          "base_uri": "https://localhost:8080/"
        },
        "id": "CYQs89qQujjW",
        "outputId": "048598df-e393-4e11-ff46-429a086aca5c"
      },
      "outputs": [
        {
          "data": {
            "text/plain": [
              "2.5"
            ]
          },
          "execution_count": 47,
          "metadata": {},
          "output_type": "execute_result"
        }
      ],
      "source": [
        "5/2"
      ]
    },
    {
      "cell_type": "code",
      "execution_count": null,
      "metadata": {
        "colab": {
          "base_uri": "https://localhost:8080/"
        },
        "id": "kFGeWP_Ouk4S",
        "outputId": "43e17aec-7827-4a83-8c83-07ad24fcd1cd"
      },
      "outputs": [
        {
          "data": {
            "text/plain": [
              "2"
            ]
          },
          "execution_count": 48,
          "metadata": {},
          "output_type": "execute_result"
        }
      ],
      "source": [
        "5//2"
      ]
    },
    {
      "cell_type": "code",
      "execution_count": null,
      "metadata": {
        "colab": {
          "base_uri": "https://localhost:8080/"
        },
        "id": "hA-EZzu_vbpX",
        "outputId": "f1ba0565-9979-440d-866d-4b6a041d3e80"
      },
      "outputs": [
        {
          "data": {
            "text/plain": [
              "8"
            ]
          },
          "execution_count": 50,
          "metadata": {},
          "output_type": "execute_result"
        }
      ],
      "source": [
        "2**3"
      ]
    },
    {
      "cell_type": "code",
      "execution_count": null,
      "metadata": {
        "colab": {
          "base_uri": "https://localhost:8080/"
        },
        "id": "qzh560lJve61",
        "outputId": "bdd28b07-82bb-4d0c-9d02-a59ffc9a9d37"
      },
      "outputs": [
        {
          "data": {
            "text/plain": [
              "7.0"
            ]
          },
          "execution_count": 51,
          "metadata": {},
          "output_type": "execute_result"
        }
      ],
      "source": [
        "49**0.5"
      ]
    },
    {
      "cell_type": "code",
      "execution_count": null,
      "metadata": {
        "id": "r_BrjmMiwXxR"
      },
      "outputs": [],
      "source": [
        "l-->r if all equal  **(3),   *,/,//,%(2)  +,-(1)\n",
        "if different priorities then 1st higher then lower\n",
        "in case of () start from inner most\n",
        "\n",
        "=3+5*2-1\n",
        "=3+10-1\n",
        "=13-1\n",
        "=12\n",
        "\n",
        "(3-1)*(5+1)\n",
        "2*6\n",
        "12"
      ]
    },
    {
      "cell_type": "code",
      "execution_count": null,
      "metadata": {
        "id": "-mNplAHJwaNC"
      },
      "outputs": [],
      "source": [
        "Relational and logical operators\n",
        "\n",
        "<,<=,>,>=,!=,== :T/F\n",
        "\n",
        "logical: combines 2 or more conditions\n",
        "condition (logical) condition\n",
        "\n",
        "and:when all needed\n",
        "or: when anyone would do"
      ]
    },
    {
      "cell_type": "code",
      "execution_count": null,
      "metadata": {
        "id": "M-VXom9wxwMv"
      },
      "outputs": [],
      "source": [
        "#bitwise operates on bits\n",
        "gates and(&) or(|) x-or(^)\n",
        "shifters >> <<\n",
        "syntax:grammer of programming lang\n",
        "shifts data by n bits to left or right\n",
        "\n",
        "var=var<<n-----*2^n\n",
        "var=var>>n-----/2^n\n",
        "#double the number without using any arithmatic operators"
      ]
    },
    {
      "cell_type": "code",
      "execution_count": null,
      "metadata": {
        "colab": {
          "base_uri": "https://localhost:8080/"
        },
        "id": "NNsy9QQ6yvrt",
        "outputId": "58bc6174-726a-4e61-a615-abb7cbd249bc"
      },
      "outputs": [
        {
          "data": {
            "text/plain": [
              "5"
            ]
          },
          "execution_count": 53,
          "metadata": {},
          "output_type": "execute_result"
        }
      ],
      "source": [
        "x=10\n",
        "x>>1"
      ]
    },
    {
      "cell_type": "code",
      "execution_count": null,
      "metadata": {
        "id": "qnIyfv9z3MDg"
      },
      "outputs": [],
      "source": [
        "#wap to convert given inr to usd\n",
        "'''\n",
        "o/p:usd\n",
        "process:inr/86\n",
        "i/p:inr\n",
        "\n",
        "step:\n",
        "    read inr\n",
        "    conver to usd inr/86\n",
        "    print usd\n",
        "'''"
      ]
    },
    {
      "cell_type": "code",
      "execution_count": null,
      "metadata": {
        "colab": {
          "base_uri": "https://localhost:8080/"
        },
        "id": "f1Boi0873i8u",
        "outputId": "a5270d56-91ee-4245-bfab-0aba308417b7"
      },
      "outputs": [
        {
          "name": "stdout",
          "output_type": "stream",
          "text": [
            "Enter amount in INR:120000\n",
            "usd is: 1395.3488372093022\n"
          ]
        }
      ],
      "source": [
        "  #read inr\n",
        "  inr=float(input(\"Enter amount in INR:\"))\n",
        "  #conver to usd inr/86\n",
        "  usd=inr/86\n",
        "  #print usd\n",
        "  print(\"usd is:\",usd)"
      ]
    },
    {
      "cell_type": "code",
      "execution_count": null,
      "metadata": {
        "colab": {
          "base_uri": "https://localhost:8080/"
        },
        "id": "BdDom-eV4GXi",
        "outputId": "39e9503a-53eb-4326-a8c1-ebe5f611b3c4"
      },
      "outputs": [
        {
          "name": "stdout",
          "output_type": "stream",
          "text": [
            "Enter amount in INR:120000\n",
            "usd is: 1395.3488372093022\n"
          ]
        }
      ],
      "source": [
        "#read inr, #conver to usd inr/86\n",
        "usd=float(input(\"Enter amount in INR:\"))/86\n",
        "#print usd\n",
        "print(\"usd is:\",usd)"
      ]
    },
    {
      "cell_type": "code",
      "execution_count": null,
      "metadata": {
        "colab": {
          "base_uri": "https://localhost:8080/"
        },
        "id": "5xXbO4q74SHr",
        "outputId": "1e413b09-4249-441f-8e52-e31ee3def600"
      },
      "outputs": [
        {
          "name": "stdout",
          "output_type": "stream",
          "text": [
            "Enter amount in INR:120000\n",
            "usd is: 1395.3488372093022\n"
          ]
        }
      ],
      "source": [
        "#read inr, #conver to usd inr/86,#print usd\n",
        "print(\"usd is:\",float(input(\"Enter amount in INR:\"))/86)"
      ]
    },
    {
      "cell_type": "code",
      "execution_count": null,
      "metadata": {
        "colab": {
          "base_uri": "https://localhost:8080/"
        },
        "id": "5gnKzJV6JNfp",
        "outputId": "f806bdf4-6777-4efd-8b6f-7e13762b5cea"
      },
      "outputs": [
        {
          "name": "stdout",
          "output_type": "stream",
          "text": [
            "Enter time in H:M:S1:12:53\n",
            "given data is H: 1 M: 12 S: 53\n",
            "Total time in seconds: 4373\n"
          ]
        }
      ],
      "source": [
        "#convert given time which is in H:M:S to seconds\n",
        "'''\n",
        "o/p:data in sec\n",
        "process:H*60*60+M*60+S\n",
        "i/p:read h,m,s\n",
        "algo:\n",
        "read h,m,s\n",
        "total_seconds=H*60*60+M*60+S\n",
        "display time in seconds\n",
        "'''\n",
        "h,m,s=map(int,input(\"Enter time in H:M:S\").split(\":\"))\n",
        "print(\"given data is H:\",h,\"M:\",m,\"S:\",s)\n",
        "total_seconds=h*3600+m*60+s\n",
        "print(\"Total time in seconds:\",total_seconds)"
      ]
    },
    {
      "cell_type": "code",
      "execution_count": null,
      "metadata": {
        "colab": {
          "base_uri": "https://localhost:8080/"
        },
        "id": "hyJU-u0EMk7s",
        "outputId": "ea5d8f05-d340-4282-c728-aa5ae60e0d7c"
      },
      "outputs": [
        {
          "name": "stdout",
          "output_type": "stream",
          "text": [
            "Enter time in seconds:4373\n",
            "1 : 12 : 53\n"
          ]
        }
      ],
      "source": [
        "#convert given time which in seconds to H:M:S\n",
        "'''\n",
        "o/p:data in H:M:S\n",
        "\n",
        "process:4373//3600--1 4373%3600--->min_in_sec\n",
        "\n",
        "\n",
        "i/p:read total_time in seconds\n",
        "algo:\n",
        "read time\n",
        "convert\n",
        "print time h:m:s\n",
        "'''\n",
        "total_time=int(input(\"Enter time in seconds:\"))\n",
        "h=total_time//3600\n",
        "m=(total_time%3600)//60\n",
        "s=(total_time%60)\n",
        "print(h,\":\",m,\":\",s)"
      ]
    },
    {
      "cell_type": "code",
      "execution_count": null,
      "metadata": {
        "colab": {
          "base_uri": "https://localhost:8080/"
        },
        "id": "KSvPK11OO_ml",
        "outputId": "28aa620b-c59a-4ab3-faa5-160f76ef7497"
      },
      "outputs": [
        {
          "name": "stdout",
          "output_type": "stream",
          "text": [
            "Enter time 1 in H:M:S1:20:10\n",
            "Enter time 2 in H:M:S1:52:55\n",
            "Total time in seconds: 11585\n",
            "3 : 13 : 5\n"
          ]
        }
      ],
      "source": [
        "#take 2 times in H:M:S from user\n",
        "#add them to generate total time in H:M:S\n",
        "'''\n",
        "o/p:total of 2 times\n",
        "process:\n",
        "read 2 times,convert to seconds,add,convert to H:M:S\n",
        "i/p:read 2 times in H:M:S\"\n",
        "'''\n",
        "h1,m1,s1=map(int,input(\"Enter time 1 in H:M:S\").split(\":\"))\n",
        "h2,m2,s2=map(int,input(\"Enter time 2 in H:M:S\").split(\":\"))\n",
        "total_seconds1=h1*3600+m1*60+s1\n",
        "total_seconds2=h2*3600+m2*60+s2\n",
        "total_time=total_seconds1+total_seconds2\n",
        "print(\"Total time in seconds:\",total_time)\n",
        "\n",
        "h=total_time//3600\n",
        "m=(total_time%3600)//60\n",
        "s=(total_time%60)\n",
        "print(h,\":\",m,\":\",s)"
      ]
    },
    {
      "cell_type": "code",
      "execution_count": null,
      "metadata": {
        "id": "SfGczVbCWFqx"
      },
      "outputs": [],
      "source": [
        "'''\n",
        "conditional stmt\n",
        "\n",
        "if\n",
        "option:1\n",
        "---generally within loop to print right data\n",
        "if condition:\n",
        "    #if block\n",
        "    #if block\n",
        "    #if block\n",
        "#next stmt out of if\n",
        "\n",
        "if-else\n",
        "option:2\n",
        "---generally at end of code to print right/wrong data\n",
        "if condition:\n",
        "    #if block\n",
        "    #if block\n",
        "else:\n",
        "    #else block\n",
        "\n",
        "\n",
        "if-elif-elif-else\n",
        "options:2+\n",
        "---generally to select one from range or on choice from many\n",
        "if condition:\n",
        "    #block 1\n",
        "elif condition:\n",
        "    #block 2\n",
        "elif condition:\n",
        "    #block 3\n",
        "else:\n",
        "    #default block\n",
        "'''\n"
      ]
    },
    {
      "cell_type": "code",
      "execution_count": null,
      "metadata": {
        "colab": {
          "base_uri": "https://localhost:8080/"
        },
        "id": "472cSO9vYUV0",
        "outputId": "8b716fd1-0f7d-417a-cdc3-d1b215e3a889"
      },
      "outputs": [
        {
          "name": "stdout",
          "output_type": "stream",
          "text": [
            "Enter a number:2\n",
            "2 is +ve\n"
          ]
        }
      ],
      "source": [
        "#+ve or -ve\n",
        "\n",
        "'''\n",
        "o/p: +ve or -ve\n",
        "process: if no>0 +ve else -ve\n",
        "i/p:read no\n",
        "'''\n",
        "no=int(input(\"Enter a number:\"))\n",
        "if no<0:\n",
        "    print(no,\"is -ve\")\n",
        "if no>0:\n",
        "    print(no,\"is +ve\")\n"
      ]
    },
    {
      "cell_type": "code",
      "execution_count": null,
      "metadata": {
        "id": "VwnEa6vrYx8m"
      },
      "outputs": [],
      "source": [
        "#+ve or -ve\n",
        "\n",
        "'''\n",
        "o/p: +ve or -ve\n",
        "process: if no>0 +ve else -ve\n",
        "i/p:read no\n",
        "'''\n",
        "no=int(input(\"Enter a number:\"))\n",
        "if no<0:\n",
        "    print(no,\"is -ve\")\n",
        "else:\n",
        "    print(no,\"is +ve\")\n"
      ]
    },
    {
      "cell_type": "code",
      "execution_count": null,
      "metadata": {
        "colab": {
          "base_uri": "https://localhost:8080/"
        },
        "id": "jhpwgTmfY2-Q",
        "outputId": "72a2132c-3499-4478-bccf-4611de00dbe8"
      },
      "outputs": [
        {
          "name": "stdout",
          "output_type": "stream",
          "text": [
            "Enter a number:0\n",
            "0 is Zero\n"
          ]
        }
      ],
      "source": [
        "#+ve or -ve or zero\n",
        "\n",
        "'''\n",
        "o/p: +ve or -ve\n",
        "process: if no>0 +ve else -ve\n",
        "i/p:read no\n",
        "'''\n",
        "no=int(input(\"Enter a number:\"))\n",
        "if no<0:\n",
        "    print(no,\"is -ve\")\n",
        "elif no>0:\n",
        "    print(no,\"is +ve\")\n",
        "else:\n",
        "    print(no,\"is Zero\")\n"
      ]
    },
    {
      "cell_type": "code",
      "execution_count": null,
      "metadata": {
        "id": "vN2sXdU8ZIMJ"
      },
      "outputs": [],
      "source": [
        "Problem Definition:\n",
        "Discount Calculation on Total Bill\n",
        "\n",
        "Objective:\n",
        "Write a program that calculates the total payable amount after applying discounts based on the total bill amount.\n",
        "\n",
        "Discount Criteria:\n",
        "If the bill amount is ₹1000 or more, apply a 10% discount.\n",
        "If the bill amount is ₹2000 or more, apply a 15% discount.\n",
        "If the bill amount is ₹5000 or more, apply a 20% discount.\n",
        "\n",
        "Input:\n",
        "A single integer or floating-point number representing the total bill amount before the discount.\n",
        "\n",
        "Output:\n",
        "The final amount to be paid after applying the appropriate discount.\n",
        "Example Cases:\n",
        "\n",
        "Input (Bill Amount ₹)\tDiscount Applied\tFinal Payable Amount ₹\n",
        "800\t     No Discount\t800\n",
        "1200\t10% Off (₹120)\t1080\n",
        "2500\t15% Off (₹375)\t2125\n",
        "6000\t20% Off (₹1200)\t4800\n",
        "Constraints:\n",
        "The bill amount should be a positive number.\n",
        "The discount is not cumulative\n",
        " (only one discount rate applies based on the highest eligible category)."
      ]
    },
    {
      "cell_type": "code",
      "execution_count": null,
      "metadata": {
        "colab": {
          "base_uri": "https://localhost:8080/"
        },
        "id": "rCuKYA8_ZpQz",
        "outputId": "bd12147f-f4e7-419c-a713-6728feaf4fd7"
      },
      "outputs": [
        {
          "name": "stdout",
          "output_type": "stream",
          "text": [
            "Enter total bill amount:1250\n",
            "Total amount: 1250.0 Disscount of: 125.0\n",
            "Total amount to be paid: 1125.0\n"
          ]
        }
      ],
      "source": [
        "'''\n",
        "o/p amount to be paid after disscount\n",
        "process : read bill amount then if >=1000 10% >=2000 15% >=5000 20%\n",
        "i/p:amount of bill\n",
        "'''\n",
        "amount=float(input(\"Enter total bill amount:\"))\n",
        "disscount=0.0\n",
        "if amount>=1000 and amount<2000:\n",
        "    disscount=0.10\n",
        "elif amount>=2000 and amount<5000:\n",
        "    disscount=0.15\n",
        "elif amount>=5000:\n",
        "    disscount=0.20\n",
        "print(\"Total amount:\",amount,\"Disscount of:\",amount*disscount)\n",
        "print(\"Total amount to be paid:\",amount-(amount*disscount))\n",
        "\n"
      ]
    },
    {
      "cell_type": "code",
      "execution_count": null,
      "metadata": {
        "id": "ZVP6EREGc-r9"
      },
      "outputs": [],
      "source": [
        "'''\n",
        "o/p amount to be paid after disscount\n",
        "process : read bill amount then if >=1000 10% >=2000 15% >=5000 20%\n",
        "i/p:amount of bill\n",
        "'''\n",
        "amount=float(input(\"Enter total bill amount:\"))\n",
        "if amount>0:\n",
        "    disscount=0.0\n",
        "    if amount>=5000:\n",
        "        disscount=0.20\n",
        "    elif amount>=2000:\n",
        "        disscount=0.15\n",
        "    if amount>=1000:\n",
        "        disscount=0.10\n",
        "    print(\"Total amount:\",amount,\"Disscount of:\",amount*disscount)\n",
        "    print(\"Total amount to be paid:\",amount-(amount*disscount))\n",
        "else:\n",
        "    print(\"Amount can not be -ve\")\n"
      ]
    },
    {
      "cell_type": "code",
      "execution_count": null,
      "metadata": {
        "id": "7p1FjkCzegse"
      },
      "outputs": [],
      "source": [
        "Question: Determine Passing Class of Students Based on Percentage\n",
        "\n",
        "Problem Statement:\n",
        "Write a program that determines the passing class of students based on their percentage calculated from the total marks obtained out of 500.\n",
        "\n",
        "Classification Criteria (Based on Percentage):\n",
        "Below 50% → Fail\n",
        "50% to 69% → Third Class\n",
        "70% to 79% → Second Class\n",
        "80% to 89% → First Class\n",
        "90% and above → Distinction\n",
        "Input:\n",
        "An integer representing the total marks obtained by a student (out of 500).\n",
        "Output:\n",
        "A string indicating the passing class of the student.\n",
        "\n",
        "Example Cases:\n",
        "Input (Total Marks)\tPercentage\tOutput (Passing Class)\n",
        "200\t40.00%\tFail\n",
        "300\t60.00%\tThird Class\n",
        "370\t74.00%\tSecond Class\n",
        "420\t84.00%\tFirst Class\n",
        "480\t96.00%\tDistinction"
      ]
    },
    {
      "cell_type": "code",
      "execution_count": null,
      "metadata": {
        "colab": {
          "base_uri": "https://localhost:8080/"
        },
        "id": "LGmlMS6mgswa",
        "outputId": "36b81bdb-c94f-405c-d9b2-bd79819e6855"
      },
      "outputs": [
        {
          "name": "stdout",
          "output_type": "stream",
          "text": [
            "Enter total:421\n",
            "84.2 → First Class\n"
          ]
        }
      ],
      "source": [
        "'''\n",
        "o/p passing class with percentage\n",
        "process:range\n",
        "90% and above → Distinction\n",
        "80% >= → First Class\n",
        "70% >= Second Class\n",
        "50% >= Third Class\n",
        "else 50% → Fail\n",
        "i/p:total--->percentage\n",
        "'''\n",
        "total=int(input(\"Enter total:\"))\n",
        "if total>500 or total<0:\n",
        "    print(\"Wrong input\")\n",
        "else:\n",
        "    percentage=total*100/500\n",
        "    if percentage>=90:\n",
        "        print(percentage,\"→ Distinction\")\n",
        "    elif percentage>=80:\n",
        "        print(percentage,\"→ First Class\")\n",
        "    elif percentage>=70:\n",
        "        print(percentage,\"→ Second Class\")\n",
        "    elif percentage>=50:\n",
        "        print(percentage,\"→ Third Class\")\n",
        "    else:\n",
        "        print(percentage,\"→ Bhai tumse na ho pyee\")\n"
      ]
    },
    {
      "cell_type": "markdown",
      "metadata": {
        "id": "gLaaL2Cm2Plk"
      },
      "source": [
        "**=================================================================================================**"
      ]
    },
    {
      "cell_type": "markdown",
      "metadata": {
        "id": "CYs_qdqL2PaK"
      },
      "source": [
        "# Day two  ,  Loops"
      ]
    },
    {
      "cell_type": "markdown",
      "metadata": {
        "id": "Egkh0hwj2PTp"
      },
      "source": [
        "**=================================================================================================**"
      ]
    },
    {
      "cell_type": "code",
      "execution_count": null,
      "metadata": {
        "id": "sF8F0_1X2eqA"
      },
      "outputs": [],
      "source": []
    },
    {
      "cell_type": "code",
      "execution_count": null,
      "metadata": {
        "id": "4BtZXgOtVO-t"
      },
      "outputs": [],
      "source": [
        "loops in python:\n",
        "\n",
        "while:\n",
        "-more control and fast\n",
        "-can have float based step\n",
        "-no automation\n",
        "where used:\n",
        "\t-Infinite loop---Games,menu driven,number breaking\n",
        "\n",
        "for:\n",
        "-slow due to sequence being used start-end---list generated and then iterates over it\n",
        "-int based step\n",
        "-complete automation\n",
        " (give sequence and will interate over it)\n",
        "where used:\n",
        "\t-patterns\n",
        "\t-iterative codes\n",
        "\t-list/sequence based question(array)\n",
        "\t-string manipulation\n"
      ]
    },
    {
      "cell_type": "code",
      "execution_count": null,
      "metadata": {
        "id": "llykpwMBZBPx"
      },
      "outputs": [],
      "source": [
        "'''\n",
        "#start\n",
        "while condition:\n",
        "    #loop block\n",
        "    #loop block\n",
        "    #loop block\n",
        "    #loop block\n",
        "    #step\n",
        "#next statement out of loop\n",
        "'''"
      ]
    },
    {
      "cell_type": "code",
      "execution_count": null,
      "metadata": {
        "colab": {
          "base_uri": "https://localhost:8080/"
        },
        "id": "PI9m_nmXZSjz",
        "outputId": "6e1aa6d2-3159-4b55-f12d-7f6f591735ac"
      },
      "outputs": [
        {
          "name": "stdout",
          "output_type": "stream",
          "text": [
            "1,2,3,4,5,6,7,8,9,10,"
          ]
        }
      ],
      "source": [
        "#1,2,3, ...10\n",
        "#start\n",
        "i=1\n",
        "while i<=10:\n",
        "    print(i,end=',')\n",
        "    i+=1#step"
      ]
    },
    {
      "cell_type": "code",
      "execution_count": null,
      "metadata": {
        "colab": {
          "base_uri": "https://localhost:8080/"
        },
        "id": "Uplr5K-gaShO",
        "outputId": "7f3bb4e3-b78c-4be3-d2c9-6ca40703df80"
      },
      "outputs": [
        {
          "name": "stdout",
          "output_type": "stream",
          "text": [
            "Enter n:10\n",
            "1,2,3,4,5,6,7,8,9,"
          ]
        }
      ],
      "source": [
        "#1,2,3, ...n\n",
        "#start\n",
        "n=int(input(\"Enter n:\"))\n",
        "i=1\n",
        "while i<=n:\n",
        "    print(i,end=',')\n",
        "    i+=1#step"
      ]
    },
    {
      "cell_type": "code",
      "execution_count": null,
      "metadata": {
        "colab": {
          "base_uri": "https://localhost:8080/"
        },
        "id": "oq3RJZM3ah3G",
        "outputId": "4b97bde1-dc67-4b1e-ea05-4a75c9885629"
      },
      "outputs": [
        {
          "name": "stdout",
          "output_type": "stream",
          "text": [
            "Enter n:3\n",
            "0,1,2,3,"
          ]
        }
      ],
      "source": [
        "#print up to n in either sides\n",
        "#n=-3 0,-1,-2,-3\n",
        "#n=3  0,1,2,3\n",
        "#start\n",
        "n=int(input(\"Enter n:\"))\n",
        "i=0\n",
        "if n>0:# counter\n",
        "    while i<=n:\n",
        "        print(i,end=',')\n",
        "        i+=1#step\n",
        "else:\n",
        "    while i>=n:\n",
        "        print(i,end=',')\n",
        "        i-=1#step"
      ]
    },
    {
      "cell_type": "code",
      "execution_count": null,
      "metadata": {
        "colab": {
          "base_uri": "https://localhost:8080/"
        },
        "id": "ccU3J-4DdLrz",
        "outputId": "f45f15ab-45dd-49fa-c640-2ced5c5140ad"
      },
      "outputs": [
        {
          "name": "stdout",
          "output_type": "stream",
          "text": [
            "Enter n:5\n",
            "-5,-4,-3,-2,-1,0,1,2,3,4,5,"
          ]
        }
      ],
      "source": [
        "#print n to -n where n given buy user\n",
        "#n=2   -2 -1 0 1 2\n",
        "n=int(input(\"Enter n:\"))\n",
        "i=-1*n\n",
        "while i<=n:\n",
        "    print(i,end=',')\n",
        "    i+=1#step"
      ]
    },
    {
      "cell_type": "code",
      "execution_count": null,
      "metadata": {
        "colab": {
          "base_uri": "https://localhost:8080/"
        },
        "id": "Z6EKHplaev7Q",
        "outputId": "4b3b891c-c77a-44fe-cf67-de8b339ce7d4"
      },
      "outputs": [
        {
          "name": "stdout",
          "output_type": "stream",
          "text": [
            "----------\n",
            "---Menu---\n",
            "----------\n",
            "1.Tea\n",
            "2.Coffee\n",
            "3.Water\n",
            "0.Exit\n",
            "choice:\n",
            ":1\n",
            "Tea selected...\n",
            "----------\n",
            "---Menu---\n",
            "----------\n",
            "1.Tea\n",
            "2.Coffee\n",
            "3.Water\n",
            "0.Exit\n",
            "choice:\n",
            ":2\n",
            "Coffee selected...\n",
            "----------\n",
            "---Menu---\n",
            "----------\n",
            "1.Tea\n",
            "2.Coffee\n",
            "3.Water\n",
            "0.Exit\n",
            "choice:\n",
            ":3\n",
            "Water selected...\n",
            "----------\n",
            "---Menu---\n",
            "----------\n",
            "1.Tea\n",
            "2.Coffee\n",
            "3.Water\n",
            "0.Exit\n",
            "choice:\n",
            ":9\n",
            "wrong option selected\n",
            "----------\n",
            "---Menu---\n",
            "----------\n",
            "1.Tea\n",
            "2.Coffee\n",
            "3.Water\n",
            "0.Exit\n",
            "choice:\n",
            ":0\n",
            "Exiting system........\n"
          ]
        }
      ],
      "source": [
        "#menu driven:\n",
        "#tea is 10 RS. coffee 40Rs. water 20Rs.\n",
        "#when user exits show total sale for the day\n",
        "#distribution w.r.t\n",
        "# tea    10 each total sold X total amount 10*X\n",
        "# coffee 40 each total sold X total amount 40*X\n",
        "# water  20 each total sold X total amount 20*X\n",
        "while True:\n",
        "    print(\"----------\")\n",
        "    print(\"---Menu---\")\n",
        "    print(\"----------\")\n",
        "    print(\"1.Tea\")\n",
        "    print(\"2.Coffee\")\n",
        "    print(\"3.Water\")\n",
        "    print(\"0.Exit\")\n",
        "    print(\"choice:\")\n",
        "    choice=int(input(\":\"))\n",
        "    if choice==0:\n",
        "        print(\"Exiting system........\")\n",
        "        break\n",
        "    elif choice==1:\n",
        "        print(\"Tea selected...\")\n",
        "    elif choice==2:\n",
        "        print(\"Coffee selected...\")\n",
        "    elif choice==3:\n",
        "        print(\"Water selected...\")\n",
        "    else:\n",
        "        print(\"wrong option selected\")\n"
      ]
    },
    {
      "cell_type": "code",
      "execution_count": null,
      "metadata": {
        "id": "rue3Ns0Gjv2e"
      },
      "outputs": [],
      "source": [
        "tea_price = 10\n",
        "coffee_price = 40\n",
        "water_price = 20\n",
        "\n",
        "tea_count = 0\n",
        "coffee_count = 0\n",
        "water_count = 0\n",
        "\n",
        "while True:\n",
        "    print(\"\\n----------\")\n",
        "    print(\"   MENU   \")\n",
        "    print(\"----------\")\n",
        "    print(\"1. Tea (₹10)\")\n",
        "    print(\"2. Coffee (₹40)\")\n",
        "    print(\"3. Water (₹20)\")\n",
        "    print(\"0. Exit & Show Sales Report\")\n",
        "    choice = int(input(\"Enter your choice: \"))\n",
        "\n",
        "    if choice == 0:\n",
        "        print(\"\\nExiting system... Generating Sales Report...\\n\")\n",
        "        break\n",
        "    elif choice == 1:\n",
        "        tea_count += 1\n",
        "        print(\"Tea selected. ₹10 added to total sales.\")\n",
        "    elif choice == 2:\n",
        "        coffee_count += 1\n",
        "        print(\"Coffee selected. ₹40 added to total sales.\")\n",
        "    elif choice == 3:\n",
        "        water_count += 1\n",
        "        print(\"Water selected. ₹20 added to total sales.\")\n",
        "    else:\n",
        "        print(\"Wrong option selected. Please try again.\")\n",
        "\n",
        "total_sales = (tea_count * tea_price) + (coffee_count * coffee_price) + (water_count * water_price)\n",
        "\n",
        "print(\"\\n================ Sales Report ================\")\n",
        "print(\"Tea    -\", tea_count, \"sold, Total: ₹\", tea_count * tea_price)\n",
        "print(\"Coffee -\", coffee_count, \"sold, Total: ₹\", coffee_count * coffee_price)\n",
        "print(\"Water  -\", water_count, \"sold, Total: ₹\", water_count * water_price)\n",
        "print(\"-----------------------------------------------\")\n",
        "print(\"Total Sales for the Day: ₹\", total_sales)\n",
        "print(\"===============================================\")\n"
      ]
    },
    {
      "cell_type": "code",
      "execution_count": null,
      "metadata": {
        "colab": {
          "base_uri": "https://localhost:8080/"
        },
        "id": "vFyRh6QNmA5Z",
        "outputId": "59462dbf-07f3-4517-ccca-04fecc49d6d2"
      },
      "outputs": [
        {
          "name": "stdout",
          "output_type": "stream",
          "text": [
            "Enter value:3\n",
            "Enter value:1\n",
            "Enter value:6\n",
            "Enter value:3\n",
            "Enter value:88\n",
            "Enter value:3.4\n",
            "Enter value:6.7\n",
            "Enter value:2.3\n",
            "Enter value:2.1\n",
            "Enter value:0\n",
            "Enter value:-9\n",
            "Stopping\n"
          ]
        }
      ],
      "source": [
        "#infinite loop :ends when we get situation\n",
        "#do not stop till -ve value given\n",
        "while True:\n",
        "    data=float(input(\"Enter value:\"))\n",
        "    if data<0:\n",
        "        print(\"Stopping\")\n",
        "        break\n",
        "\n"
      ]
    },
    {
      "cell_type": "code",
      "execution_count": null,
      "metadata": {
        "colab": {
          "base_uri": "https://localhost:8080/"
        },
        "id": "8-ntq44fmhOR",
        "outputId": "be85ff9f-ddd9-4352-a22e-b41592c5385b"
      },
      "outputs": [
        {
          "name": "stdout",
          "output_type": "stream",
          "text": [
            "Enter cost:100\n",
            "Guess the value:110\n",
            "no....\n",
            "less than this\n",
            "Guess the value:90\n",
            "no....\n",
            "more than this\n",
            "Guess the value:105\n",
            "no....\n",
            "less than this\n",
            "Guess the value:95\n",
            "no....\n",
            "more than this\n",
            "Guess the value:100\n",
            "right after 5 turns\n"
          ]
        }
      ],
      "source": [
        "#set cost as per user\n",
        "#allow friend to guess the cost and stop only when right cost selected\n",
        "#at end print right guess was in how many turns\n",
        "#at each guess show help  if guess<cost print more than this else print Less than this\n",
        "cost=float(input(\"Enter cost:\"))\n",
        "count=0\n",
        "while True:\n",
        "    count+=1\n",
        "    data=float(input(\"Guess the value:\"))\n",
        "    if data==cost:\n",
        "        print(\"right after\",count,\"turns\")\n",
        "        break\n",
        "    else:\n",
        "        print(\"no....\")\n",
        "        if data<cost:\n",
        "            print(\"more than this\")\n",
        "        else:\n",
        "            print(\"less than this\")\n"
      ]
    },
    {
      "cell_type": "code",
      "execution_count": null,
      "metadata": {
        "colab": {
          "base_uri": "https://localhost:8080/",
          "height": 228
        },
        "id": "SmotFXmoxjjm",
        "outputId": "448df4e8-c946-4e14-cfb9-591ef4df8ebc"
      },
      "outputs": [
        {
          "name": "stdout",
          "output_type": "stream",
          "text": [
            "1,2,3,4,5,\n",
            "5,4,3,2,1,\n"
          ]
        },
        {
          "ename": "TypeError",
          "evalue": "'float' object cannot be interpreted as an integer",
          "output_type": "error",
          "traceback": [
            "\u001b[0;31m---------------------------------------------------------------------------\u001b[0m",
            "\u001b[0;31mTypeError\u001b[0m                                 Traceback (most recent call last)",
            "\u001b[0;32m<ipython-input-20-b68bfb74435b>\u001b[0m in \u001b[0;36m<cell line: 0>\u001b[0;34m()\u001b[0m\n\u001b[1;32m     12\u001b[0m     \u001b[0mprint\u001b[0m\u001b[0;34m(\u001b[0m\u001b[0mi\u001b[0m\u001b[0;34m,\u001b[0m\u001b[0mend\u001b[0m\u001b[0;34m=\u001b[0m\u001b[0;34m\",\"\u001b[0m\u001b[0;34m)\u001b[0m\u001b[0;34m\u001b[0m\u001b[0;34m\u001b[0m\u001b[0m\n\u001b[1;32m     13\u001b[0m \u001b[0mprint\u001b[0m\u001b[0;34m(\u001b[0m\u001b[0;34m)\u001b[0m\u001b[0;34m\u001b[0m\u001b[0;34m\u001b[0m\u001b[0m\n\u001b[0;32m---> 14\u001b[0;31m \u001b[0;32mfor\u001b[0m \u001b[0mi\u001b[0m \u001b[0;32min\u001b[0m \u001b[0mrange\u001b[0m\u001b[0;34m(\u001b[0m\u001b[0;36m1\u001b[0m\u001b[0;34m,\u001b[0m\u001b[0;36m6\u001b[0m\u001b[0;34m,\u001b[0m\u001b[0;36m0.5\u001b[0m\u001b[0;34m)\u001b[0m\u001b[0;34m:\u001b[0m\u001b[0;34m\u001b[0m\u001b[0;34m\u001b[0m\u001b[0m\n\u001b[0m\u001b[1;32m     15\u001b[0m     \u001b[0mprint\u001b[0m\u001b[0;34m(\u001b[0m\u001b[0mi\u001b[0m\u001b[0;34m,\u001b[0m\u001b[0mend\u001b[0m\u001b[0;34m=\u001b[0m\u001b[0;34m\",\"\u001b[0m\u001b[0;34m)\u001b[0m\u001b[0;34m\u001b[0m\u001b[0;34m\u001b[0m\u001b[0m\n",
            "\u001b[0;31mTypeError\u001b[0m: 'float' object cannot be interpreted as an integer"
          ]
        }
      ],
      "source": [
        "'''\n",
        "end is where it will stop\n",
        "so execution is from 1 to end-1\n",
        "for counter +1 for countdown -1:end\n",
        "for <var> in range(start,end,step):\n",
        "    #loop block\n",
        "'''\n",
        "for i in range(1,6,1):\n",
        "    print(i,end=\",\")\n",
        "print()\n",
        "for i in range(5,0,-1):\n",
        "    print(i,end=\",\")\n",
        "print()\n",
        "for i in range(1,6,0.5):\n",
        "    print(i,end=\",\")"
      ]
    },
    {
      "cell_type": "code",
      "execution_count": null,
      "metadata": {
        "colab": {
          "base_uri": "https://localhost:8080/"
        },
        "id": "iiyOMTpNyY-K",
        "outputId": "bf13d9b0-ecd7-4b7e-94e1-e968c8e9c001"
      },
      "outputs": [
        {
          "name": "stdout",
          "output_type": "stream",
          "text": [
            "11\n",
            "22\n",
            "33\n",
            "44\n",
            "55\n",
            "66\n",
            "77\n"
          ]
        }
      ],
      "source": [
        "for i in [11,22,33,44,55,66,77]:\n",
        "    print(i)"
      ]
    },
    {
      "cell_type": "code",
      "execution_count": null,
      "metadata": {
        "colab": {
          "base_uri": "https://localhost:8080/"
        },
        "id": "HQH9YFU4ylG_",
        "outputId": "002abc91-53cf-4132-a23b-1e29fecd884d"
      },
      "outputs": [
        {
          "name": "stdout",
          "output_type": "stream",
          "text": [
            "A\n",
            "B\n",
            "C\n",
            "D\n",
            "E\n",
            "F\n",
            "G\n",
            "H\n",
            "I\n"
          ]
        }
      ],
      "source": [
        "for char in \"ABCDEFGHI\":\n",
        "    print(char)"
      ]
    },
    {
      "cell_type": "code",
      "execution_count": null,
      "metadata": {
        "colab": {
          "base_uri": "https://localhost:8080/"
        },
        "id": "TpkxYKLby64q",
        "outputId": "4ac9619c-3f78-4e92-8a4d-ae2ad2721ef9"
      },
      "outputs": [
        {
          "name": "stdout",
          "output_type": "stream",
          "text": [
            "11\n",
            "10\n",
            "9\n",
            "8\n",
            "7\n",
            "6\n",
            "5\n",
            "4\n",
            "3\n",
            "2\n",
            "1\n"
          ]
        }
      ],
      "source": [
        "#default values: start 0 ,step :+1\n",
        "for i in range(11,0,-1):\n",
        "    print(i)\n"
      ]
    },
    {
      "cell_type": "code",
      "execution_count": null,
      "metadata": {
        "colab": {
          "base_uri": "https://localhost:8080/"
        },
        "id": "3jjgRk2LzdXG",
        "outputId": "65b703cc-e21b-4654-ae6b-6d100c666838"
      },
      "outputs": [
        {
          "name": "stdout",
          "output_type": "stream",
          "text": [
            "Enter start and end:2 -4\n",
            "2,1,0,-1,-2,-3,-4,"
          ]
        }
      ],
      "source": [
        "#implement start to end print using for\n",
        "#start:2 end:5 2,3,4,5\n",
        "#start:2 end:-2 2,1,0,-1,-2\n",
        "start,end=map(int,input(\"Enter start and end:\").split())\n",
        "if start<end:\n",
        "    step=1\n",
        "    end+=1\n",
        "else:\n",
        "    step=-1\n",
        "    end-=1\n",
        "for i in range(start,end,step):\n",
        "    print(i,end=\",\")"
      ]
    },
    {
      "cell_type": "code",
      "execution_count": null,
      "metadata": {
        "colab": {
          "base_uri": "https://localhost:8080/"
        },
        "id": "73m3jkoR1xo2",
        "outputId": "6af19515-dc89-4641-f852-12e3ad82d0fb"
      },
      "outputs": [
        {
          "name": "stdout",
          "output_type": "stream",
          "text": [
            "i: 1  j= 1\n",
            "i: 1  j= 2\n",
            "i: 1  j= 3\n",
            "i: 2  j= 1\n",
            "i: 2  j= 2\n",
            "i: 2  j= 3\n",
            "i: 3  j= 1\n",
            "i: 3  j= 2\n",
            "i: 3  j= 3\n"
          ]
        }
      ],
      "source": [
        "for i in range(1,4):\n",
        "    for j in range(1,4):\n",
        "        print(\"i:\",i,\" j=\",j)"
      ]
    },
    {
      "cell_type": "code",
      "execution_count": null,
      "metadata": {
        "colab": {
          "base_uri": "https://localhost:8080/"
        },
        "id": "VL4XY9bQ17aD",
        "outputId": "68030655-544c-45f4-a6b8-8518fef4c205"
      },
      "outputs": [
        {
          "name": "stdout",
          "output_type": "stream",
          "text": [
            "1 \n",
            "2 2 \n",
            "3 3 3 \n",
            "4 4 4 4 \n",
            "5 5 5 5 5 \n"
          ]
        }
      ],
      "source": [
        "k=1\n",
        "for i in range(1,6):#lines\n",
        "    for j in range(1,i+1):#data at each line\n",
        "        print(i,end=\" \")\n",
        "    print()"
      ]
    },
    {
      "cell_type": "code",
      "execution_count": null,
      "metadata": {
        "colab": {
          "base_uri": "https://localhost:8080/"
        },
        "id": "ylcSICoN3WYt",
        "outputId": "8f4727c7-8ad3-48e5-9bb8-b45ec68c5657"
      },
      "outputs": [
        {
          "name": "stdout",
          "output_type": "stream",
          "text": [
            "1 \n",
            "2 3 \n",
            "4 5 6 \n",
            "7 8 9 10 \n",
            "11 12 13 14 15 \n"
          ]
        }
      ],
      "source": [
        "k=1\n",
        "for i in range(1,6):#lines\n",
        "    for j in range(1,i+1):#data at each line\n",
        "        print(k,end=\" \")\n",
        "        k+=1\n",
        "    print()"
      ]
    },
    {
      "cell_type": "code",
      "execution_count": null,
      "metadata": {
        "colab": {
          "base_uri": "https://localhost:8080/"
        },
        "id": "e2QHtnD93uyK",
        "outputId": "41ea097a-c629-48ad-8f2d-62af0d6882c2"
      },
      "outputs": [
        {
          "name": "stdout",
          "output_type": "stream",
          "text": [
            "1 2 3 4 5 \n",
            "1 2 3 4 \n",
            "1 2 3 \n",
            "1 2 \n",
            "1 \n"
          ]
        }
      ],
      "source": [
        "'''\n",
        "1 2 3 4 5\n",
        "1 2 3 4\n",
        "1 2 3\n",
        "1 2\n",
        "1\n",
        "'''\n",
        "\n",
        "for i in range(5,0,-1):#lines\n",
        "    for j in range(1,i+1):#data at each line\n",
        "        print(j,end=\" \")\n",
        "    print()\n",
        "\n"
      ]
    },
    {
      "cell_type": "code",
      "execution_count": null,
      "metadata": {
        "colab": {
          "base_uri": "https://localhost:8080/"
        },
        "id": "a393Pc8e34CF",
        "outputId": "d736def3-a00f-4517-b628-d32870a8d3cb"
      },
      "outputs": [
        {
          "name": "stdout",
          "output_type": "stream",
          "text": [
            "5 5 5 5 5 \n",
            "4 4 4 4 \n",
            "3 3 3 \n",
            "2 2 \n",
            "1 \n"
          ]
        }
      ],
      "source": [
        "'''\n",
        "5 5 5 5 5\n",
        "4 4 4 4\n",
        "3 3 3\n",
        "2 2\n",
        "1\n",
        "'''\n",
        "for i in range(5,0,-1):#lines\n",
        "    for j in range(1,i+1):#data at each line\n",
        "        print(i,end=\" \")\n",
        "    print()"
      ]
    },
    {
      "cell_type": "code",
      "execution_count": null,
      "metadata": {
        "colab": {
          "base_uri": "https://localhost:8080/",
          "height": 123
        },
        "id": "eWo_92bH5CaU",
        "outputId": "0c33fe21-9f6b-4b8e-f544-6c357946aeb5"
      },
      "outputs": [
        {
          "name": "stdout",
          "output_type": "stream",
          "text": [
            "1 0 1 0 1 \n",
            "1 0 1 0 \n",
            "1 0 1 \n",
            "1 0 \n",
            "1 \n"
          ]
        },
        {
          "data": {
            "application/vnd.google.colaboratory.intrinsic+json": {
              "type": "string"
            },
            "text/plain": [
              "'\\n1 1 1 1 1 \\n0 0 0 0\\n1 1 1 \\n0 0 \\n1\\n'"
            ]
          },
          "execution_count": 38,
          "metadata": {},
          "output_type": "execute_result"
        }
      ],
      "source": [
        "'''\n",
        "1 0 1 0 1\n",
        "1 0 1 0\n",
        "1 0 1\n",
        "1 0\n",
        "1\n",
        "'''\n",
        "for i in range(5,0,-1):#lines\n",
        "    for j in range(1,i+1):#data at each line\n",
        "        print(j%2,end=\" \")\n",
        "    print()\n"
      ]
    },
    {
      "cell_type": "code",
      "execution_count": null,
      "metadata": {
        "colab": {
          "base_uri": "https://localhost:8080/"
        },
        "id": "_eaZq6wi5my8",
        "outputId": "e2aca342-3850-4b70-db54-5ae5f398ba2c"
      },
      "outputs": [
        {
          "name": "stdout",
          "output_type": "stream",
          "text": [
            "1 1 1 1 1 \n",
            "0 0 0 0 \n",
            "1 1 1 \n",
            "0 0 \n",
            "1 \n"
          ]
        }
      ],
      "source": [
        "'''\n",
        "1 1 1 1 1\n",
        "0 0 0 0\n",
        "1 1 1\n",
        "0 0\n",
        "1\n",
        "'''\n",
        "for i in range(5,0,-1):#lines\n",
        "    for j in range(1,i+1):#data at each line\n",
        "        print(i%2,end=\" \")\n",
        "    print()"
      ]
    },
    {
      "cell_type": "code",
      "execution_count": null,
      "metadata": {
        "colab": {
          "base_uri": "https://localhost:8080/"
        },
        "id": "lQdOIlMV5w3S",
        "outputId": "aaf52834-1f63-45e7-d522-76d7f7e0a529"
      },
      "outputs": [
        {
          "name": "stdout",
          "output_type": "stream",
          "text": [
            "1 1 1 1 1 \n",
            "2 2 2 2 \n",
            "3 3 3 \n",
            "4 4 \n",
            "5 \n"
          ]
        }
      ],
      "source": [
        "'''\n",
        "1 1 1 1 1\n",
        "2 2 2 2\n",
        "3 3 3\n",
        "4 4\n",
        "5\n",
        "'''\n",
        "k=1\n",
        "for i in range(5,0,-1):#lines\n",
        "    for j in range(1,i+1):#data at each line\n",
        "        print(k,end=\" \")\n",
        "    k+=1\n",
        "    print()\n"
      ]
    },
    {
      "cell_type": "code",
      "execution_count": null,
      "metadata": {
        "colab": {
          "base_uri": "https://localhost:8080/"
        },
        "id": "7i1US4mJ7ogU",
        "outputId": "8f4388d9-aba6-4f76-f61f-225e62d8ba80"
      },
      "outputs": [
        {
          "name": "stdout",
          "output_type": "stream",
          "text": [
            "5 \n",
            "4 4 \n",
            "3 3 3 \n",
            "2 2 2 2 \n",
            "1 1 1 1 1 \n"
          ]
        }
      ],
      "source": [
        "'''\n",
        "5\n",
        "4 4\n",
        "3 3 3\n",
        "4 4 4 4\n",
        "5 5 5 5 5\n",
        "'''\n",
        "k=5\n",
        "for i in range(1,6):#lines\n",
        "    for j in range(1,i+1):#data at each line\n",
        "        print(k,end=\" \")\n",
        "    k-=1\n",
        "    print()"
      ]
    },
    {
      "cell_type": "code",
      "execution_count": null,
      "metadata": {
        "colab": {
          "base_uri": "https://localhost:8080/"
        },
        "id": "cuMBylTU9EwR",
        "outputId": "2d539bef-d986-4c68-9533-fbe67ead3386"
      },
      "outputs": [
        {
          "name": "stdout",
          "output_type": "stream",
          "text": [
            "Enter no:12\n",
            "not prime\n"
          ]
        }
      ],
      "source": [
        "#prime no :\n",
        "'''\n",
        "o/p:yes or no\n",
        "process : no/ 2 to no-1 should not be perfectly div %--->0 means perfectly div\n",
        "i/p:no\n",
        "'''\n",
        "no=int(input(\"Enter no:\"))\n",
        "flag=True\n",
        "for i in range(2,no):\n",
        "\tif no%i==0:\n",
        "\t\tflag=False\n",
        "\t\tbreak\n",
        "if flag==True:\n",
        "\tprint(\"yes prime\")\n",
        "else:\n",
        "\tprint(\"not prime\")"
      ]
    },
    {
      "cell_type": "code",
      "execution_count": null,
      "metadata": {
        "colab": {
          "base_uri": "https://localhost:8080/"
        },
        "id": "h0Hwdhuy-0ZW",
        "outputId": "d9667930-3d28-4de4-bbe8-b53e7a70e92e"
      },
      "outputs": [
        {
          "name": "stdout",
          "output_type": "stream",
          "text": [
            "1 is prime\n",
            "2 is prime\n",
            "3 is prime\n",
            "5 is prime\n",
            "7 is prime\n",
            "11 is prime\n",
            "13 is prime\n",
            "17 is prime\n",
            "19 is prime\n",
            "23 is prime\n",
            "29 is prime\n",
            "31 is prime\n",
            "37 is prime\n",
            "41 is prime\n",
            "43 is prime\n",
            "47 is prime\n",
            "53 is prime\n",
            "59 is prime\n",
            "61 is prime\n",
            "67 is prime\n",
            "71 is prime\n",
            "73 is prime\n",
            "79 is prime\n",
            "83 is prime\n",
            "89 is prime\n",
            "97 is prime\n"
          ]
        }
      ],
      "source": [
        "for no in range(1,101):\n",
        "    flag=True\n",
        "    for i in range(2,no):\n",
        "        if no%i==0:\n",
        "            flag=False\n",
        "            break\n",
        "    if flag:#flag==True\n",
        "        print(no,\"is prime\")"
      ]
    },
    {
      "cell_type": "code",
      "execution_count": null,
      "metadata": {
        "colab": {
          "base_uri": "https://localhost:8080/"
        },
        "id": "S-anCpGqBvA1",
        "outputId": "9666604e-4167-41a8-8202-6f1546340937"
      },
      "outputs": [
        {
          "name": "stdout",
          "output_type": "stream",
          "text": [
            "15\n",
            "30\n",
            "45\n",
            "60\n",
            "75\n",
            "90\n"
          ]
        }
      ],
      "source": [
        "#print all numbers from 1 to 100 perfectly div by 3 and 5\n",
        "for i in range(1,101):\n",
        "    if i%3==0 and i%5==0:\n",
        "        print(i)"
      ]
    },
    {
      "cell_type": "code",
      "execution_count": null,
      "metadata": {
        "colab": {
          "base_uri": "https://localhost:8080/"
        },
        "id": "7ahZoVsMCIYO",
        "outputId": "c69630c4-4a9e-4d87-e586-f9f582d592d2"
      },
      "outputs": [
        {
          "name": "stdout",
          "output_type": "stream",
          "text": [
            "1 + 9 = 10\n",
            "2 + 8 = 10\n",
            "3 + 7 = 10\n",
            "4 + 6 = 10\n",
            "5 + 5 = 10\n",
            "6 + 4 = 10\n",
            "7 + 3 = 10\n",
            "8 + 2 = 10\n",
            "9 + 1 = 10\n"
          ]
        }
      ],
      "source": [
        "'''print\n",
        "1 + 9 = 10\n",
        "2 + 8 = 10\n",
        "3 + 7 = 10\n",
        "4 + 6 = 10\n",
        "5 + 5 = 10\n",
        "6 + 4 = 10\n",
        "7 + 3 = 10\n",
        "8 + 2 = 10\n",
        "9 + 1 = 10\n",
        "\n",
        "for i in range(1,11):\n",
        "    print(i,\"+\",10-i,\"=\",(i+(10-i)))\n",
        "'''\n",
        "for i,j in zip(range(1,11),range(9,0,-1)):\n",
        "    print(i,\"+\",j,\"=\",(i+j))"
      ]
    },
    {
      "cell_type": "code",
      "execution_count": null,
      "metadata": {
        "colab": {
          "base_uri": "https://localhost:8080/"
        },
        "id": "8IZWNA5DDwwG",
        "outputId": "2807a155-8d27-491c-94fb-ccf66afa4cd2"
      },
      "outputs": [
        {
          "name": "stdout",
          "output_type": "stream",
          "text": [
            "1,2,4,5,"
          ]
        }
      ],
      "source": [
        "for i in range(1,6):\n",
        "    if i==3:\n",
        "        continue#when executed it will start next pass\n",
        "    print(i,end=\",\")"
      ]
    },
    {
      "cell_type": "code",
      "execution_count": null,
      "metadata": {
        "colab": {
          "base_uri": "https://localhost:8080/"
        },
        "id": "bfNu0Re9ED9B",
        "outputId": "30554b58-06bf-4d64-ce7b-bedab4cafe76"
      },
      "outputs": [
        {
          "name": "stdout",
          "output_type": "stream",
          "text": [
            "1,2,"
          ]
        }
      ],
      "source": [
        "for i in range(1,6):\n",
        "    if i==3:\n",
        "        break#when executed it will stop loop\n",
        "    print(i,end=\",\")"
      ]
    },
    {
      "cell_type": "code",
      "execution_count": null,
      "metadata": {
        "id": "5Tgghg_yEXBa"
      },
      "outputs": [],
      "source": [
        "#accept a number from user and check it is in range of prime number or not"
      ]
    },
    {
      "cell_type": "code",
      "execution_count": null,
      "metadata": {
        "id": "_8-N8T1rErKp"
      },
      "outputs": [],
      "source": [
        "'''\n",
        "number div based\n",
        "123\n",
        "\n",
        "123%10:3 mod return last digit\n",
        "\n",
        "123//10:12 // int div removes last digit\n",
        "3\n",
        "2\n",
        "1"
      ]
    },
    {
      "cell_type": "code",
      "execution_count": null,
      "metadata": {
        "colab": {
          "base_uri": "https://localhost:8080/"
        },
        "id": "HMtqYaIaFHP7",
        "outputId": "01991d68-ddb0-4977-e9c9-9e7664619d71"
      },
      "outputs": [
        {
          "name": "stdout",
          "output_type": "stream",
          "text": [
            "Enter a number:1234\n",
            "123 4\n",
            "12 3\n",
            "1 2\n",
            "0 1\n",
            "10\n"
          ]
        }
      ],
      "source": [
        "#find sum of all digits of a given number\n",
        "#i/p:123  o/p:6\n",
        "sum=0\n",
        "no=int(input(\"Enter a number:\"))\n",
        "while no>0:\n",
        "    digit=no%10\n",
        "    no=no//10\n",
        "    print(no,digit)\n",
        "    sum+=digit\n",
        "print(sum)"
      ]
    },
    {
      "cell_type": "code",
      "execution_count": null,
      "metadata": {
        "colab": {
          "base_uri": "https://localhost:8080/"
        },
        "id": "DOt14dvvGom2",
        "outputId": "46dbbfc6-c1ee-4023-c34d-a96b7f725cae"
      },
      "outputs": [
        {
          "name": "stdout",
          "output_type": "stream",
          "text": [
            "Enter a number:1234\n",
            "10\n"
          ]
        }
      ],
      "source": [
        "sum=0\n",
        "no=input(\"Enter a number:\")\n",
        "for digit in no:\n",
        "    sum+=int(digit)\n",
        "print(sum)"
      ]
    },
    {
      "cell_type": "code",
      "execution_count": null,
      "metadata": {
        "colab": {
          "base_uri": "https://localhost:8080/"
        },
        "id": "JwFFWwIzG78U",
        "outputId": "effb23f1-6a8a-4bef-f601-b72af5550b9c"
      },
      "outputs": [
        {
          "name": "stdout",
          "output_type": "stream",
          "text": [
            "Enter a number:121\n",
            "121 is armstrong: False\n"
          ]
        }
      ],
      "source": [
        "#armstrong:True/False\n",
        "#153--->1^3+5^3+3^3-->1+125+27=153\n",
        "no=input(\"Enter a number:\")\n",
        "sum=0\n",
        "for digit in no:\n",
        "    sum+=int(digit)**3\n",
        "print(no,\"is armstrong:\",sum==int(no))\n"
      ]
    },
    {
      "cell_type": "code",
      "execution_count": null,
      "metadata": {
        "colab": {
          "base_uri": "https://localhost:8080/"
        },
        "id": "Q3yUNdglKQ62",
        "outputId": "094ef8fd-6d60-4471-8248-70c8fc348c34"
      },
      "outputs": [
        {
          "name": "stdout",
          "output_type": "stream",
          "text": [
            "1 <class 'str'> 1\n",
            "2 <class 'str'> 3\n",
            "3 <class 'str'> 6\n",
            "4 <class 'str'> 10\n",
            "5 <class 'str'> 15\n",
            "6 <class 'str'> 21\n"
          ]
        }
      ],
      "source": [
        "no=\"123456\"\n",
        "sum=0\n",
        "for digit in no:\n",
        "    sum+=int(digit)\n",
        "    print(digit,type(digit),sum)\n"
      ]
    },
    {
      "cell_type": "code",
      "execution_count": null,
      "metadata": {
        "id": "PaqfbdZ3JKBG"
      },
      "outputs": [],
      "source": [
        "10--->str(10)-->\"10\""
      ]
    },
    {
      "cell_type": "code",
      "execution_count": null,
      "metadata": {
        "colab": {
          "base_uri": "https://localhost:8080/",
          "height": 228
        },
        "id": "o9_GfwyqLQzL",
        "outputId": "7077868d-7dc4-445b-e9e8-ca12e1793d05"
      },
      "outputs": [
        {
          "name": "stdout",
          "output_type": "stream",
          "text": [
            "1234 <class 'int'>\n"
          ]
        },
        {
          "ename": "TypeError",
          "evalue": "'int' object is not iterable",
          "output_type": "error",
          "traceback": [
            "\u001b[0;31m---------------------------------------------------------------------------\u001b[0m",
            "\u001b[0;31mTypeError\u001b[0m                                 Traceback (most recent call last)",
            "\u001b[0;32m<ipython-input-74-565183efc5f4>\u001b[0m in \u001b[0;36m<cell line: 0>\u001b[0;34m()\u001b[0m\n\u001b[1;32m      1\u001b[0m \u001b[0mi\u001b[0m\u001b[0;34m=\u001b[0m\u001b[0;36m1234\u001b[0m\u001b[0;34m\u001b[0m\u001b[0;34m\u001b[0m\u001b[0m\n\u001b[1;32m      2\u001b[0m \u001b[0mprint\u001b[0m\u001b[0;34m(\u001b[0m\u001b[0mi\u001b[0m\u001b[0;34m,\u001b[0m\u001b[0mtype\u001b[0m\u001b[0;34m(\u001b[0m\u001b[0mi\u001b[0m\u001b[0;34m)\u001b[0m\u001b[0;34m)\u001b[0m\u001b[0;34m\u001b[0m\u001b[0;34m\u001b[0m\u001b[0m\n\u001b[0;32m----> 3\u001b[0;31m \u001b[0;32mfor\u001b[0m \u001b[0mdigit\u001b[0m \u001b[0;32min\u001b[0m \u001b[0mi\u001b[0m\u001b[0;34m:\u001b[0m\u001b[0;34m\u001b[0m\u001b[0;34m\u001b[0m\u001b[0m\n\u001b[0m\u001b[1;32m      4\u001b[0m     \u001b[0mprint\u001b[0m\u001b[0;34m(\u001b[0m\u001b[0mdigit\u001b[0m\u001b[0;34m)\u001b[0m\u001b[0;34m\u001b[0m\u001b[0;34m\u001b[0m\u001b[0m\n\u001b[1;32m      5\u001b[0m \u001b[0mj\u001b[0m\u001b[0;34m=\u001b[0m\u001b[0mstr\u001b[0m\u001b[0;34m(\u001b[0m\u001b[0mi\u001b[0m\u001b[0;34m)\u001b[0m\u001b[0;34m\u001b[0m\u001b[0;34m\u001b[0m\u001b[0m\n",
            "\u001b[0;31mTypeError\u001b[0m: 'int' object is not iterable"
          ]
        }
      ],
      "source": [
        "i=1234\n",
        "print(i,type(i))\n",
        "for digit in i:\n",
        "    print(digit)\n",
        "j=str(i)\n",
        "print(j,type(j))\n",
        "for digit in j:\n",
        "    print(digit)"
      ]
    },
    {
      "cell_type": "code",
      "execution_count": null,
      "metadata": {
        "colab": {
          "base_uri": "https://localhost:8080/"
        },
        "id": "rMxbip1-JDyG",
        "outputId": "8b57922c-033b-43c4-cf4a-e180b42ec10a"
      },
      "outputs": [
        {
          "name": "stdout",
          "output_type": "stream",
          "text": [
            "153\n",
            "370\n",
            "371\n",
            "407\n"
          ]
        }
      ],
      "source": [
        "#print all armstrong number between 100 to 1000\n",
        "'''\n",
        "op:armstrong only\n",
        "process:100---break---check---if armstrong print\n",
        "        101---str()---break---check\n",
        "'''\n",
        "for no in range(100,1001):\n",
        "    sum=0\n",
        "    for digit in str(no):\n",
        "        sum+=int(digit)**3\n",
        "    if sum==no:\n",
        "        print(no)\n"
      ]
    },
    {
      "cell_type": "code",
      "execution_count": null,
      "metadata": {
        "colab": {
          "base_uri": "https://localhost:8080/"
        },
        "id": "rnh8KM7dWpet",
        "outputId": "ff7ff4e9-84f0-443b-bce8-d83e9a27529b"
      },
      "outputs": [
        {
          "name": "stdout",
          "output_type": "stream",
          "text": [
            "1\n",
            "2\n",
            "3\n"
          ]
        }
      ],
      "source": [
        "for i in range(1,6):\n",
        "    if i==4:\n",
        "        break\n",
        "    print(i)\n",
        "else:\n",
        "    print(\"normal end\")"
      ]
    },
    {
      "cell_type": "code",
      "execution_count": null,
      "metadata": {
        "colab": {
          "base_uri": "https://localhost:8080/"
        },
        "id": "xt1Gue-HXOrC",
        "outputId": "4861582e-00ab-4df6-bf59-dca7e255fcae"
      },
      "outputs": [
        {
          "name": "stdout",
          "output_type": "stream",
          "text": [
            "Enter no:8\n",
            "not prime\n"
          ]
        }
      ],
      "source": [
        "no=int(input(\"Enter no:\"))\n",
        "for i in range(2,no):\n",
        "    if no%i==0:\n",
        "        print(\"not prime\")\n",
        "        break\n",
        "else:\n",
        "    print(\"yes prime\")\n",
        "'''\n",
        "loop--else:\n",
        "for i in range():\n",
        "\t#code\n",
        "else:\n",
        "\t#code to run if loop ends normally\n",
        "\t'''"
      ]
    },
    {
      "cell_type": "markdown",
      "metadata": {
        "id": "fBgl2kNL2ggq"
      },
      "source": [
        "**=================================================================================================**"
      ]
    },
    {
      "cell_type": "markdown",
      "metadata": {
        "id": "sMj7-LVZ2gWP"
      },
      "source": [
        "# Day three  , data strucutres\n",
        "### ---------------- >  list  ,  tuple  ,  set  ,  dictionary"
      ]
    },
    {
      "cell_type": "markdown",
      "metadata": {
        "id": "YZXbbKVx2gLf"
      },
      "source": [
        "**=================================================================================================**"
      ]
    },
    {
      "cell_type": "markdown",
      "metadata": {
        "id": "MOO0FyTg2q4Z"
      },
      "source": []
    },
    {
      "cell_type": "code",
      "execution_count": null,
      "metadata": {
        "id": "AWaj9NeDZrKK"
      },
      "outputs": [],
      "source": [
        "data structure:\n",
        "way of storing data such that accessing and updating data becomes easy and fast as per application\n",
        "\n",
        "types:\n",
        "all are hetrogeneous in nature\n",
        "1-list []/list()\n",
        "    -dynamic in nature\n",
        "    -insertion order maintained and accessesd by index(0 to len-1)\n",
        "    -can handle duplicates\n",
        "    used for:\n",
        "             any problem with array concept,list\n",
        "             max used by user\n",
        "\n",
        "2-tuple ()/tuple()\n",
        "    -static in nature\n",
        "    -insertion order maintained and accessesd by index(0 to len-1)\n",
        "    -can handle duplicates\n",
        "    used for:\n",
        "             max used by python internally for security\n",
        "             as immutable\n",
        "\n",
        "3-set {0}/set()\n",
        "    -dynamic in nature\n",
        "    -custome order maintained so no direct access on index\n",
        "    -can not handle duplicates(hence used in filteration)\n",
        "    used for:\n",
        "             used in filteration or in set operation\n",
        "             (union,intersection,symmetric difference,difference)\n",
        "\n",
        "4-dict {}/dict():\n",
        "    -dynamic in nature\n",
        "    -key order maintained and accessesd by key value\n",
        "    -can handle duplicates data but not key\n",
        "    used for:\n",
        "             used in mapping key to bunch of data\n",
        "            seat no: student record\n",
        "             emp_id: record"
      ]
    },
    {
      "cell_type": "code",
      "execution_count": null,
      "metadata": {
        "colab": {
          "base_uri": "https://localhost:8080/"
        },
        "id": "O-dkkjkDaWGM",
        "outputId": "cf3dc714-9c4f-40f9-917c-86cc27470dd6"
      },
      "outputs": [
        {
          "name": "stdout",
          "output_type": "stream",
          "text": [
            "<class 'set'>\n"
          ]
        }
      ],
      "source": [
        "data=\n",
        "print(type(data))"
      ]
    },
    {
      "cell_type": "code",
      "execution_count": null,
      "metadata": {
        "id": "Nr_zb2kFjqGt"
      },
      "outputs": [],
      "source": [
        "data=[]"
      ]
    },
    {
      "cell_type": "code",
      "execution_count": null,
      "metadata": {
        "id": "tOczT0w8jteG"
      },
      "outputs": [],
      "source": [
        "data=[11,2.3,\"amar\",True]"
      ]
    },
    {
      "cell_type": "code",
      "execution_count": null,
      "metadata": {
        "id": "mxGloGKPjyfQ"
      },
      "outputs": [],
      "source": [
        "can be indexed accessed / auto-iterated access"
      ]
    },
    {
      "cell_type": "code",
      "execution_count": null,
      "metadata": {
        "colab": {
          "base_uri": "https://localhost:8080/"
        },
        "id": "dOet_TM4j5UY",
        "outputId": "99711950-afce-4dab-a02d-488bf8f192f9"
      },
      "outputs": [
        {
          "name": "stdout",
          "output_type": "stream",
          "text": [
            "11 <class 'int'>\n",
            "2.3 <class 'float'>\n",
            "amar <class 'str'>\n",
            "True <class 'bool'>\n"
          ]
        }
      ],
      "source": [
        "#auto-iterated access\n",
        "for item in data:\n",
        "    print(item,type(item))"
      ]
    },
    {
      "cell_type": "code",
      "execution_count": null,
      "metadata": {
        "colab": {
          "base_uri": "https://localhost:8080/"
        },
        "id": "lS6MSSglkNpu",
        "outputId": "8f457bc3-230f-4eb0-995f-b529e26ba835"
      },
      "outputs": [
        {
          "name": "stdout",
          "output_type": "stream",
          "text": [
            "@[ 0 ] we have: 11\n",
            "@[ 1 ] we have: 2.3\n",
            "@[ 2 ] we have: amar\n",
            "@[ 3 ] we have: True\n"
          ]
        }
      ],
      "source": [
        "#indexed accessed\n",
        "for index in range(len(data)):\n",
        "    print(\"@[\",index,\"] we have:\",data[index])"
      ]
    },
    {
      "cell_type": "code",
      "execution_count": null,
      "metadata": {
        "id": "wpIghVmlky0q"
      },
      "outputs": [],
      "source": [
        "#index can be +ve:start(0) to end(len()-1)\n",
        "#             -ve:end(-1) to start(-len())\n",
        "      0  1  2   3 :+ve index\n",
        "data=[10,20,30,40]\n",
        "      -4 -3 -2 -1 :-ve index"
      ]
    },
    {
      "cell_type": "code",
      "execution_count": null,
      "metadata": {
        "colab": {
          "base_uri": "https://localhost:8080/"
        },
        "id": "dsmjvS5wlPS2",
        "outputId": "9163b5c7-6667-40bc-ad72-b8aec9c7dc44"
      },
      "outputs": [
        {
          "name": "stdout",
          "output_type": "stream",
          "text": [
            "[1, 2, 3, 11, 22, 33]\n",
            "[11, 22, 33]\n",
            "[]\n"
          ]
        }
      ],
      "source": [
        "#list+list--appends\n",
        "data1=[11,22,33]\n",
        "data2=[1,2,3]\n",
        "data3=data2+data1\n",
        "print(data3)\n",
        "#list*number(int)--repeates list n times\n",
        "#if list*-ve >>>>>  []\n",
        "print(data1)\n",
        "print(data1)\n"
      ]
    },
    {
      "cell_type": "code",
      "execution_count": null,
      "metadata": {
        "colab": {
          "base_uri": "https://localhost:8080/"
        },
        "id": "w3hGuw2FmJwv",
        "outputId": "77c2028e-dfa0-41c5-9260-6f92e456b463"
      },
      "outputs": [
        {
          "name": "stdout",
          "output_type": "stream",
          "text": [
            "[11, 22, 33] [1, 2, 3]\n"
          ]
        }
      ],
      "source": [
        "print(data1,data2)"
      ]
    },
    {
      "cell_type": "code",
      "execution_count": null,
      "metadata": {
        "colab": {
          "base_uri": "https://localhost:8080/"
        },
        "id": "wTmTtyH5m2vt",
        "outputId": "0c53f094-76d5-4e6a-8864-f4e5545e70f6"
      },
      "outputs": [
        {
          "name": "stdout",
          "output_type": "stream",
          "text": [
            "[10, 20]\n",
            "[30, 40, 50]\n",
            "[60, 70, 80, 90]\n"
          ]
        }
      ],
      "source": [
        "list2d=[[10,20],[30,40,50],[60,70,80,90]]\n",
        "for row in list2d:\n",
        "    print(row)"
      ]
    },
    {
      "cell_type": "code",
      "execution_count": null,
      "metadata": {
        "id": "z5L9o0mXnHVf"
      },
      "outputs": [],
      "source": [
        "list2d=[[10,20],[30,40,50],[60,70,80,90]]\n",
        "for row in list2d:\n",
        "    print(row)\n",
        "    for element in row:\n",
        "        print(element)"
      ]
    },
    {
      "cell_type": "code",
      "execution_count": null,
      "metadata": {
        "colab": {
          "base_uri": "https://localhost:8080/"
        },
        "id": "zkSCQLW_nP-H",
        "outputId": "ae938489-514c-4674-c6d5-c7e54509003f"
      },
      "outputs": [
        {
          "name": "stdout",
          "output_type": "stream",
          "text": [
            "40 is at -2,1\n"
          ]
        }
      ],
      "source": [
        "print(list2d[-2][1],\"is at -2,1\")"
      ]
    },
    {
      "cell_type": "code",
      "execution_count": null,
      "metadata": {
        "id": "cgCvhP0nonJU"
      },
      "outputs": [],
      "source": [
        "#built in\n",
        "len():returns number of elements\n",
        "sum():total iff number type\n",
        "min():singular type of comparissions\n",
        "max():\n"
      ]
    },
    {
      "cell_type": "code",
      "execution_count": null,
      "metadata": {
        "colab": {
          "base_uri": "https://localhost:8080/"
        },
        "id": "-f6KPsjwo6ow",
        "outputId": "5d0b137b-5d70-4d17-8b20-75fc0f075243"
      },
      "outputs": [
        {
          "data": {
            "text/plain": [
              "88"
            ]
          },
          "execution_count": 22,
          "metadata": {},
          "output_type": "execute_result"
        }
      ],
      "source": [
        "data_list=[55,11,66,22,88,33]\n",
        "len(data_list)\n",
        "sum(data_list)\n",
        "min(data_list)\n",
        "max(data_list)"
      ]
    },
    {
      "cell_type": "code",
      "execution_count": null,
      "metadata": {
        "id": "xGCguUqapJ99"
      },
      "outputs": [],
      "source": [
        "sl=sorted(data_list)#returns sorted list but will not change original"
      ]
    },
    {
      "cell_type": "code",
      "execution_count": null,
      "metadata": {
        "colab": {
          "base_uri": "https://localhost:8080/"
        },
        "id": "YhVh6_c9pWVD",
        "outputId": "6a95baa9-67eb-4546-9bb8-399cca8fe348"
      },
      "outputs": [
        {
          "data": {
            "text/plain": [
              "[55, 11, 66, 22, 88, 33]"
            ]
          },
          "execution_count": 24,
          "metadata": {},
          "output_type": "execute_result"
        }
      ],
      "source": [
        "data_list"
      ]
    },
    {
      "cell_type": "code",
      "execution_count": null,
      "metadata": {
        "colab": {
          "base_uri": "https://localhost:8080/"
        },
        "id": "INyrEDhEpmi7",
        "outputId": "a4c98842-d7ff-4599-853f-16cb10550fed"
      },
      "outputs": [
        {
          "data": {
            "text/plain": [
              "[11, 22, 33, 55, 66, 88]"
            ]
          },
          "execution_count": 28,
          "metadata": {},
          "output_type": "execute_result"
        }
      ],
      "source": [
        "sl"
      ]
    },
    {
      "cell_type": "code",
      "execution_count": null,
      "metadata": {
        "colab": {
          "base_uri": "https://localhost:8080/"
        },
        "id": "UolYsyVtqOXQ",
        "outputId": "b2dfd951-511a-444d-a04f-3420fd5b1872"
      },
      "outputs": [
        {
          "name": "stdout",
          "output_type": "stream",
          "text": [
            "[1, 2, 3, 4, 5, 6, 7, 8, 9, 10]\n",
            "[10, 9, 8, 7, 6, 5, 4, 3, 2, 1]\n",
            "[1, 2, 3, 4, 5, 6, 7, 8, 9, 10]\n",
            "[1, 2, 3, 4]\n",
            "[5, 6, 7, 8, 9, 10]\n",
            "[1, 3, 5, 7, 9]\n",
            "[2, 4, 6, 8, 10]\n",
            "[10, 8, 6, 4, 2]\n",
            "[5, 4, 3, 2, 1]\n"
          ]
        }
      ],
      "source": [
        "#slice [start:end:step] default start:0 end:len() step:1\n",
        "d_list=[1,2,3,4,5,6,7,8,9,10]\n",
        "#print(d_list[])#error as no index\n",
        "print(d_list[:])#all data\n",
        "print(d_list[::-1])\n",
        "print(d_list)\n",
        "print(d_list[:4])\n",
        "print(d_list[4:])\n",
        "print(d_list[::2])\n",
        "print(d_list[1::2])\n",
        "print(d_list[::-2])\n",
        "print(d_list[4::-1])"
      ]
    },
    {
      "cell_type": "code",
      "execution_count": null,
      "metadata": {
        "colab": {
          "base_uri": "https://localhost:8080/"
        },
        "id": "I9AAq18StK8f",
        "outputId": "40d01c39-ca41-4834-c551-ab3aa6a9002a"
      },
      "outputs": [
        {
          "name": "stdout",
          "output_type": "stream",
          "text": [
            "False\n"
          ]
        }
      ],
      "source": [
        "d_list=[1,2,3,4,5,6,7,8,9,10]\n",
        "print(100 in d_list)\n",
        "#in True if there else False\n",
        "#not in True if not there else False"
      ]
    },
    {
      "cell_type": "code",
      "execution_count": null,
      "metadata": {
        "id": "jUVtFUPwuOGP"
      },
      "outputs": [],
      "source": [
        "list=[\"amar\",\"ajay\",\"vijay\"]"
      ]
    },
    {
      "cell_type": "code",
      "execution_count": null,
      "metadata": {
        "colab": {
          "base_uri": "https://localhost:8080/",
          "height": 36
        },
        "id": "_pBc6YJIuVTK",
        "outputId": "633d4b1a-bfc8-4cc0-fb3e-bfa3598e87f4"
      },
      "outputs": [
        {
          "data": {
            "application/vnd.google.colaboratory.intrinsic+json": {
              "type": "string"
            },
            "text/plain": [
              "'amar'"
            ]
          },
          "execution_count": 49,
          "metadata": {},
          "output_type": "execute_result"
        }
      ],
      "source": [
        "sorted(list)[-2]"
      ]
    },
    {
      "cell_type": "code",
      "execution_count": null,
      "metadata": {
        "colab": {
          "base_uri": "https://localhost:8080/",
          "height": 36
        },
        "id": "Dxkwu4YwuynV",
        "outputId": "0c7aa357-01c6-45b6-d84f-7df94e81d62b"
      },
      "outputs": [
        {
          "data": {
            "application/vnd.google.colaboratory.intrinsic+json": {
              "type": "string"
            },
            "text/plain": [
              "'j'"
            ]
          },
          "execution_count": 51,
          "metadata": {},
          "output_type": "execute_result"
        }
      ],
      "source": [
        "names=[[\"amar\",\"ajay\"],[11,22,44],[True,False]]\n",
        "(names[0][1])[1]"
      ]
    },
    {
      "cell_type": "code",
      "execution_count": null,
      "metadata": {
        "colab": {
          "base_uri": "https://localhost:8080/"
        },
        "id": "xmS9LTBfvVsU",
        "outputId": "32d799c6-8530-40f1-99dc-5bf390d9cdea"
      },
      "outputs": [
        {
          "name": "stdout",
          "output_type": "stream",
          "text": [
            "sorted: [1, 2, 3, 4, 7, 8]\n",
            "after [4, 1, 7, 8, 2, 3]\n",
            "after ,sort() [1, 2, 3, 4, 7, 8]\n"
          ]
        }
      ],
      "source": [
        "d=[4,1,7,8,2,3]\n",
        "print(\"sorted:\",sorted(d))\n",
        "print(\"after\",d)\n",
        "d.sort()\n",
        "print(\"after ,sort()\",d)"
      ]
    },
    {
      "cell_type": "code",
      "execution_count": null,
      "metadata": {
        "id": "G1oOjMTw4hDt"
      },
      "outputs": [],
      "source": [
        "data=[]\n"
      ]
    },
    {
      "cell_type": "code",
      "execution_count": null,
      "metadata": {
        "id": "G7cT9ot240pE"
      },
      "outputs": [],
      "source": []
    },
    {
      "cell_type": "markdown",
      "metadata": {
        "id": "Edo5avx95F1h"
      },
      "source": [
        "![image.png](data:image/png;base64,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)"
      ]
    },
    {
      "cell_type": "code",
      "execution_count": null,
      "metadata": {
        "id": "qeRnH0_d5LWm"
      },
      "outputs": [],
      "source": [
        "data=[]"
      ]
    },
    {
      "cell_type": "code",
      "execution_count": null,
      "metadata": {
        "colab": {
          "base_uri": "https://localhost:8080/"
        },
        "id": "GDu6KuRf5RCG",
        "outputId": "8ee76ca1-90f3-4257-b73c-a31322a5ad50"
      },
      "outputs": [
        {
          "name": "stdout",
          "output_type": "stream",
          "text": [
            "Enter data:45\n"
          ]
        }
      ],
      "source": [
        "data.append(int(input(\"Enter data:\")))"
      ]
    },
    {
      "cell_type": "code",
      "execution_count": null,
      "metadata": {
        "id": "rD1J7PMh5a8d"
      },
      "outputs": [],
      "source": [
        "data.append([11,22,33])"
      ]
    },
    {
      "cell_type": "code",
      "execution_count": null,
      "metadata": {
        "id": "t1p2QWub5htM"
      },
      "outputs": [],
      "source": [
        "data.extend([100,200,300])"
      ]
    },
    {
      "cell_type": "code",
      "execution_count": null,
      "metadata": {
        "colab": {
          "base_uri": "https://localhost:8080/"
        },
        "id": "_vRJwLGB5Nci",
        "outputId": "9bc9e2b5-833f-49ae-c052-bab3d2733606"
      },
      "outputs": [
        {
          "name": "stdout",
          "output_type": "stream",
          "text": [
            "[1000, 132, 45, [11, 22, 33], 100, 200, 10000, 300] 8\n"
          ]
        }
      ],
      "source": [
        "print(data,len(data))"
      ]
    },
    {
      "cell_type": "code",
      "execution_count": null,
      "metadata": {
        "id": "ZG6eDiZC5yoE"
      },
      "outputs": [],
      "source": [
        "data.insert(0,1000)"
      ]
    },
    {
      "cell_type": "code",
      "execution_count": null,
      "metadata": {
        "colab": {
          "base_uri": "https://localhost:8080/"
        },
        "id": "skT2EFgE5432",
        "outputId": "500cb47b-03ee-447a-af86-70f9d999cb6a"
      },
      "outputs": [
        {
          "name": "stdout",
          "output_type": "stream",
          "text": [
            "[1000, 132, 45, [11, 22, 33], 100, 200, 10000, 'last', 'final', 300, 'the end']\n"
          ]
        }
      ],
      "source": [
        "data.insert(1000,\"the end\")\n",
        "#if index if out or range then insert left/right will take place\n",
        "print(data)"
      ]
    },
    {
      "cell_type": "markdown",
      "metadata": {
        "id": "s72vjSHv6gxl"
      },
      "source": [
        "![image.png](data:image/png;base64,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)"
      ]
    },
    {
      "cell_type": "code",
      "execution_count": null,
      "metadata": {
        "colab": {
          "base_uri": "https://localhost:8080/"
        },
        "id": "Khl_vMB16rQ_",
        "outputId": "e8e56b8a-1585-4202-c0fd-2a396ebde1cb"
      },
      "outputs": [
        {
          "data": {
            "text/plain": [
              "[1000, 132, 45, [11, 22, 33], 100, 200, 10000, 'last', 'final', 300, 'the end']"
            ]
          },
          "execution_count": 72,
          "metadata": {},
          "output_type": "execute_result"
        }
      ],
      "source": [
        "data"
      ]
    },
    {
      "cell_type": "code",
      "execution_count": null,
      "metadata": {
        "id": "7R4Exnc46s9F"
      },
      "outputs": [],
      "source": [
        "data.remove(300)"
      ]
    },
    {
      "cell_type": "code",
      "execution_count": null,
      "metadata": {
        "colab": {
          "base_uri": "https://localhost:8080/"
        },
        "id": "vwpIzrLg6wVY",
        "outputId": "0ddc7d19-bbed-43f6-f18b-e781ca429fab"
      },
      "outputs": [
        {
          "data": {
            "text/plain": [
              "[1000, 132, 45, [11, 22, 33], 100, 200, 10000, 'last', 'final', 'the end']"
            ]
          },
          "execution_count": 74,
          "metadata": {},
          "output_type": "execute_result"
        }
      ],
      "source": [
        "data"
      ]
    },
    {
      "cell_type": "code",
      "execution_count": null,
      "metadata": {
        "colab": {
          "base_uri": "https://localhost:8080/"
        },
        "id": "Qm1Ero9m6zdb",
        "outputId": "1f726ff9-a543-4987-aeed-38387073df21"
      },
      "outputs": [
        {
          "data": {
            "text/plain": [
              "1000"
            ]
          },
          "execution_count": 75,
          "metadata": {},
          "output_type": "execute_result"
        }
      ],
      "source": [
        "data.pop(0)"
      ]
    },
    {
      "cell_type": "code",
      "execution_count": null,
      "metadata": {
        "colab": {
          "base_uri": "https://localhost:8080/"
        },
        "id": "hf8HhD7P61tX",
        "outputId": "d4d61eb2-49cd-47a7-908f-d63e181f1200"
      },
      "outputs": [
        {
          "data": {
            "text/plain": [
              "[132, 45, [11, 22, 33], 100, 200]"
            ]
          },
          "execution_count": 82,
          "metadata": {},
          "output_type": "execute_result"
        }
      ],
      "source": [
        "data"
      ]
    },
    {
      "cell_type": "code",
      "execution_count": null,
      "metadata": {
        "colab": {
          "base_uri": "https://localhost:8080/"
        },
        "id": "huDYNQQP67bb",
        "outputId": "8f4f012e-dbe1-46b1-ab31-052ebf7896ae"
      },
      "outputs": [
        {
          "data": {
            "text/plain": [
              "10000"
            ]
          },
          "execution_count": 81,
          "metadata": {},
          "output_type": "execute_result"
        }
      ],
      "source": [
        "data.pop()#default last removed"
      ]
    },
    {
      "cell_type": "code",
      "execution_count": null,
      "metadata": {
        "colab": {
          "base_uri": "https://localhost:8080/",
          "height": 141
        },
        "id": "dHx_hBMV7Eqm",
        "outputId": "4527eef1-9dce-40e9-b491-c589288254a1"
      },
      "outputs": [
        {
          "ename": "TypeError",
          "evalue": "list.remove() takes exactly one argument (0 given)",
          "output_type": "error",
          "traceback": [
            "\u001b[0;31m---------------------------------------------------------------------------\u001b[0m",
            "\u001b[0;31mTypeError\u001b[0m                                 Traceback (most recent call last)",
            "\u001b[0;32m<ipython-input-83-c78877c1d592>\u001b[0m in \u001b[0;36m<cell line: 0>\u001b[0;34m()\u001b[0m\n\u001b[0;32m----> 1\u001b[0;31m \u001b[0mdata\u001b[0m\u001b[0;34m.\u001b[0m\u001b[0mremove\u001b[0m\u001b[0;34m(\u001b[0m\u001b[0;34m)\u001b[0m\u001b[0;34m\u001b[0m\u001b[0;34m\u001b[0m\u001b[0m\n\u001b[0m",
            "\u001b[0;31mTypeError\u001b[0m: list.remove() takes exactly one argument (0 given)"
          ]
        }
      ],
      "source": [
        "data.remove()#error on no data\n"
      ]
    },
    {
      "cell_type": "code",
      "execution_count": null,
      "metadata": {
        "colab": {
          "base_uri": "https://localhost:8080/",
          "height": 141
        },
        "id": "BjoCM_hR7LAU",
        "outputId": "bb93fe46-1d3f-46d0-a767-2f86f7c63be9"
      },
      "outputs": [
        {
          "ename": "ValueError",
          "evalue": "list.remove(x): x not in list",
          "output_type": "error",
          "traceback": [
            "\u001b[0;31m---------------------------------------------------------------------------\u001b[0m",
            "\u001b[0;31mValueError\u001b[0m                                Traceback (most recent call last)",
            "\u001b[0;32m<ipython-input-84-7d8e2037d712>\u001b[0m in \u001b[0;36m<cell line: 0>\u001b[0;34m()\u001b[0m\n\u001b[0;32m----> 1\u001b[0;31m \u001b[0mdata\u001b[0m\u001b[0;34m.\u001b[0m\u001b[0mremove\u001b[0m\u001b[0;34m(\u001b[0m\u001b[0;36m420\u001b[0m\u001b[0;34m)\u001b[0m\u001b[0;31m#error on no data\u001b[0m\u001b[0;34m\u001b[0m\u001b[0;34m\u001b[0m\u001b[0m\n\u001b[0m",
            "\u001b[0;31mValueError\u001b[0m: list.remove(x): x not in list"
          ]
        }
      ],
      "source": [
        "data.remove(420)#error on no data found"
      ]
    },
    {
      "cell_type": "code",
      "execution_count": null,
      "metadata": {
        "colab": {
          "base_uri": "https://localhost:8080/"
        },
        "id": "KdDjlisP7Xzl",
        "outputId": "fdd16d7b-934d-4bd0-d7c4-af47896f66c3"
      },
      "outputs": [
        {
          "name": "stdout",
          "output_type": "stream",
          "text": [
            "[2, 1, 3, 1, 4]\n"
          ]
        }
      ],
      "source": [
        "data=[1,2,1,3,1,4]\n",
        "data.remove(1)#in case of duplicate 1st\n",
        "print(data)"
      ]
    },
    {
      "cell_type": "code",
      "execution_count": null,
      "metadata": {
        "colab": {
          "base_uri": "https://localhost:8080/"
        },
        "id": "81PUxQkZ7lrg",
        "outputId": "59f275e4-be35-43dd-e66a-3aebf2174912"
      },
      "outputs": [
        {
          "name": "stdout",
          "output_type": "stream",
          "text": [
            "[2, 1, 3, 1, 4]\n",
            "[]\n"
          ]
        }
      ],
      "source": [
        "print(data)\n",
        "data.clear()\n",
        "print(data)"
      ]
    },
    {
      "cell_type": "markdown",
      "metadata": {
        "id": "pJ8_qqIG7460"
      },
      "source": [
        "![image.png](data:image/png;base64,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)"
      ]
    },
    {
      "cell_type": "code",
      "execution_count": null,
      "metadata": {
        "colab": {
          "base_uri": "https://localhost:8080/"
        },
        "id": "-izwVoYS8DJl",
        "outputId": "c3155554-49d6-46bf-ce3b-015c097cbdbb"
      },
      "outputs": [
        {
          "name": "stdout",
          "output_type": "stream",
          "text": [
            "1 is repeated: 0\n"
          ]
        }
      ],
      "source": [
        "data=[1,2,1,3,1,4]\n",
        "#print(data.index(3))\n",
        "#print(data.index(33))\n",
        "print(\"121 is repeated:\",data.count(121))"
      ]
    },
    {
      "cell_type": "code",
      "execution_count": null,
      "metadata": {
        "colab": {
          "base_uri": "https://localhost:8080/"
        },
        "id": "UxDrAe8h8RIx",
        "outputId": "c8bfd674-c7de-4d96-f64d-19ede358c29b"
      },
      "outputs": [
        {
          "name": "stdout",
          "output_type": "stream",
          "text": [
            "[1, 2, 3, 4] : 134855476092672\n",
            "[1, 2, 3, 4] : 134855476092672\n",
            "[1000, 2, 3, 4] : 134855476092672\n",
            "[1000, 2, 3, 4] : 134855476092672\n",
            "[1000, 2, 3, 4] : 134855476092672\n",
            "[1000, 2, 3, 4] : 134855468550208\n",
            "[1000, 2, 3, 4] : 134855476092672\n",
            "[1000000, 2, 3, 4] : 134855468550208\n"
          ]
        }
      ],
      "source": [
        "#deep copy\n",
        "data=[1,2,3,4]\n",
        "data2=data#not a deep copy\n",
        "print(data,\":\",id(data))\n",
        "print(data2,\":\",id(data2))\n",
        "data2[0]=data2[0]*1000\n",
        "print(data,\":\",id(data))\n",
        "print(data2,\":\",id(data2))\n",
        "data3=data.copy()#deep copy\n",
        "print(data,\":\",id(data))\n",
        "print(data3,\":\",id(data3))\n",
        "data3[0]=data3[0]*1000\n",
        "print(data,\":\",id(data))\n",
        "print(data3,\":\",id(data3))"
      ]
    },
    {
      "cell_type": "code",
      "execution_count": null,
      "metadata": {
        "colab": {
          "base_uri": "https://localhost:8080/"
        },
        "id": "jIKXLNZmAseC",
        "outputId": "6106af90-d5d6-4212-c918-ae244b3b19b6"
      },
      "outputs": [
        {
          "name": "stdout",
          "output_type": "stream",
          "text": [
            "134855468408192 134855899897280\n"
          ]
        }
      ],
      "source": [
        "d1=[1,2,3]\n",
        "d2=[1,2,3]\n",
        "print(id(d1),id(d2))"
      ]
    },
    {
      "cell_type": "code",
      "execution_count": null,
      "metadata": {
        "colab": {
          "base_uri": "https://localhost:8080/"
        },
        "id": "dfPHtjlYA5gT",
        "outputId": "e88bb735-0d59-4996-b502-88f991748565"
      },
      "outputs": [
        {
          "name": "stdout",
          "output_type": "stream",
          "text": [
            "134855468408192 134855899897280\n"
          ]
        }
      ],
      "source": [
        "d1.append(100)\n",
        "d2.append(1001)\n",
        "print(id(d1),id(d2))"
      ]
    },
    {
      "cell_type": "code",
      "execution_count": null,
      "metadata": {
        "colab": {
          "base_uri": "https://localhost:8080/"
        },
        "id": "CBJor7ydBqzM",
        "outputId": "d18ed2e6-f0a0-4511-dbaf-a699d1265268"
      },
      "outputs": [
        {
          "name": "stdout",
          "output_type": "stream",
          "text": [
            "enter data:\n",
            "Total data: 0 []\n"
          ]
        }
      ],
      "source": [
        "#keep adding dta to list till user gives first blank\n",
        "#o/p list with data\n",
        "#process:within loop .append(input())\n",
        "           # if blank break\n",
        "#input:blank list\n",
        "data_list=[]\n",
        "while True:\n",
        "    data=input(\"enter data:\")\n",
        "    if data==\"\":\n",
        "        break\n",
        "    data_list.append(float(data))\n",
        "print(\"Total data:\",len(data_list),data_list)"
      ]
    },
    {
      "cell_type": "code",
      "execution_count": null,
      "metadata": {
        "colab": {
          "base_uri": "https://localhost:8080/",
          "height": 211
        },
        "id": "1xeqiY9uCnKt",
        "outputId": "f1194f05-ed60-4592-d2a3-49bed2ae3655"
      },
      "outputs": [
        {
          "name": "stdout",
          "output_type": "stream",
          "text": [
            "enter data:\n",
            "Total data: 0 []\n"
          ]
        },
        {
          "ename": "ValueError",
          "evalue": "max() arg is an empty sequence",
          "output_type": "error",
          "traceback": [
            "\u001b[0;31m---------------------------------------------------------------------------\u001b[0m",
            "\u001b[0;31mValueError\u001b[0m                                Traceback (most recent call last)",
            "\u001b[0;32m<ipython-input-101-d46825d9a222>\u001b[0m in \u001b[0;36m<cell line: 0>\u001b[0;34m()\u001b[0m\n\u001b[1;32m     11\u001b[0m     \u001b[0mdata_list\u001b[0m\u001b[0;34m.\u001b[0m\u001b[0mappend\u001b[0m\u001b[0;34m(\u001b[0m\u001b[0mfloat\u001b[0m\u001b[0;34m(\u001b[0m\u001b[0mdata\u001b[0m\u001b[0;34m)\u001b[0m\u001b[0;34m)\u001b[0m\u001b[0;34m\u001b[0m\u001b[0;34m\u001b[0m\u001b[0m\n\u001b[1;32m     12\u001b[0m \u001b[0mprint\u001b[0m\u001b[0;34m(\u001b[0m\u001b[0;34m\"Total data:\"\u001b[0m\u001b[0;34m,\u001b[0m\u001b[0mlen\u001b[0m\u001b[0;34m(\u001b[0m\u001b[0mdata_list\u001b[0m\u001b[0;34m)\u001b[0m\u001b[0;34m,\u001b[0m\u001b[0mdata_list\u001b[0m\u001b[0;34m)\u001b[0m\u001b[0;34m\u001b[0m\u001b[0;34m\u001b[0m\u001b[0m\n\u001b[0;32m---> 13\u001b[0;31m \u001b[0mprint\u001b[0m\u001b[0;34m(\u001b[0m\u001b[0;34m\"Max:\"\u001b[0m\u001b[0;34m,\u001b[0m\u001b[0mmax\u001b[0m\u001b[0;34m(\u001b[0m\u001b[0mdata_list\u001b[0m\u001b[0;34m)\u001b[0m\u001b[0;34m,\u001b[0m\u001b[0;34m\"Min:\"\u001b[0m\u001b[0;34m,\u001b[0m\u001b[0mmin\u001b[0m\u001b[0;34m(\u001b[0m\u001b[0mdata_list\u001b[0m\u001b[0;34m)\u001b[0m\u001b[0;34m,\u001b[0m\u001b[0;34m\"Average:\"\u001b[0m\u001b[0;34m,\u001b[0m\u001b[0msum\u001b[0m\u001b[0;34m(\u001b[0m\u001b[0mdata_list\u001b[0m\u001b[0;34m)\u001b[0m\u001b[0;34m/\u001b[0m\u001b[0mlen\u001b[0m\u001b[0;34m(\u001b[0m\u001b[0mdata_list\u001b[0m\u001b[0;34m)\u001b[0m\u001b[0;34m)\u001b[0m\u001b[0;34m\u001b[0m\u001b[0;34m\u001b[0m\u001b[0m\n\u001b[0m",
            "\u001b[0;31mValueError\u001b[0m: max() arg is an empty sequence"
          ]
        }
      ],
      "source": [
        "#keep adding dta to list till user gives first blank then show max(),min() and average\n",
        "#o/p list with data\n",
        "#process:within loop .append(input())\n",
        "           # if blank break\n",
        "#input:blank list\n",
        "data_list=[]\n",
        "while True:\n",
        "    data=input(\"enter data:\")\n",
        "    if data==\"\":\n",
        "        break\n",
        "    data_list.append(float(data))\n",
        "print(\"Total data:\",len(data_list),data_list)\n",
        "print(\"Max:\",max(data_list),\"Min:\",min(data_list),\"Average:\",sum(data_list)/len(data_list))"
      ]
    },
    {
      "cell_type": "code",
      "execution_count": null,
      "metadata": {
        "colab": {
          "base_uri": "https://localhost:8080/"
        },
        "id": "dlpwVDp8Ec_A",
        "outputId": "49405b83-c538-4e6b-8082-67bb2378d72f"
      },
      "outputs": [
        {
          "name": "stdout",
          "output_type": "stream",
          "text": [
            "enter data:33\n",
            "enter data:11\n",
            "enter data:99\n",
            "enter data:77\n",
            "enter data:22\n",
            "enter data:44\n",
            "enter data:89\n",
            "enter data:79\n",
            "enter data:\n",
            "Total data: 8 [33.0, 11.0, 99.0, 77.0, 22.0, 44.0, 89.0, 79.0]\n",
            "Max: 99.0 Min: 11.0 Average: 56.75\n",
            "99.0\n",
            "77.0\n",
            "89.0\n",
            "79.0\n"
          ]
        }
      ],
      "source": [
        "#keep adding dta to list till user gives first blank then show max(),min() and average\n",
        "#print all elements greater than the average\n",
        "#o/p list with data\n",
        "#process:within loop .append(input())\n",
        "           # if blank break\n",
        "#input:blank list\n",
        "data_list=[]\n",
        "while True:\n",
        "    data=input(\"enter data:\")\n",
        "    if data==\"\":\n",
        "        break\n",
        "    data_list.append(float(data))\n",
        "avg=sum(data_list)/len(data_list)\n",
        "print(\"Total data:\",len(data_list),data_list)\n",
        "print(\"Max:\",max(data_list),\"Min:\",min(data_list),\"Average:\",avg)\n",
        "for item in data_list:\n",
        "    if item>avg:\n",
        "        print(item)"
      ]
    },
    {
      "cell_type": "code",
      "execution_count": null,
      "metadata": {
        "colab": {
          "base_uri": "https://localhost:8080/"
        },
        "id": "Sce8RlT1GPTp",
        "outputId": "33574e78-01d5-4012-a60e-addd9acf2c04"
      },
      "outputs": [
        {
          "name": "stdout",
          "output_type": "stream",
          "text": [
            "Enter cycles to rotate for:5\n",
            "[22, 33, 44, 55, 11]\n",
            "[33, 44, 55, 11, 22]\n",
            "[44, 55, 11, 22, 33]\n",
            "[55, 11, 22, 33, 44]\n",
            "[11, 22, 33, 44, 55]\n"
          ]
        }
      ],
      "source": [
        "#rotation of list:\n",
        "#[11,22,33,44,55]:rotate clockwise as per given cycles\n",
        "#cycle for :3  [22,33,44,55,11] [33,44,55,11,22] [44,55,11,22,33]\n",
        "data=[11,22,33,44,55]\n",
        "cycles=int(input(\"Enter cycles to rotate for:\"))\n",
        "while cycles>0:\n",
        "    temp=data.pop(0)\n",
        "    data.append(temp)\n",
        "    print(data)\n",
        "    cycles-=1\n"
      ]
    },
    {
      "cell_type": "code",
      "execution_count": null,
      "metadata": {
        "colab": {
          "base_uri": "https://localhost:8080/"
        },
        "id": "ffp9fg0lJ5cd",
        "outputId": "c67df3a5-b988-4d94-e792-74e58e69eca2"
      },
      "outputs": [
        {
          "name": "stdout",
          "output_type": "stream",
          "text": [
            "Enter cycles to rotate for:5\n",
            "[22, 33, 44, 55, 11]\n",
            "[33, 44, 55, 11, 22]\n",
            "[44, 55, 11, 22, 33]\n",
            "[55, 11, 22, 33, 44]\n",
            "[11, 22, 33, 44, 55]\n",
            "Anti-clockwise\n",
            "Enter cycles to rotate for:5\n",
            "[55, 11, 22, 33, 44]\n",
            "[44, 55, 11, 22, 33]\n",
            "[33, 44, 55, 11, 22]\n",
            "[22, 33, 44, 55, 11]\n",
            "[11, 22, 33, 44, 55]\n"
          ]
        }
      ],
      "source": [
        "#rotation of list:\n",
        "#[11,22,33,44,55]:rotate clockwise as per given cycles\n",
        "#cycle for :3  [22,33,44,55,11] [33,44,55,11,22] [44,55,11,22,33]\n",
        "data=[11,22,33,44,55]\n",
        "cycles=int(input(\"Enter cycles to rotate for:\"))\n",
        "while cycles>0:\n",
        "    data.append(data.pop(0))\n",
        "    print(data)\n",
        "    cycles-=1\n",
        "data=[11,22,33,44,55]\n",
        "print(\"Anti-clockwise\")\n",
        "cycles=int(input(\"Enter cycles to rotate for:\"))\n",
        "while cycles>0:\n",
        "    data.insert(0,data.pop())\n",
        "    print(data)\n",
        "    cycles-=1\n"
      ]
    },
    {
      "cell_type": "code",
      "execution_count": null,
      "metadata": {
        "colab": {
          "base_uri": "https://localhost:8080/"
        },
        "id": "zit0Q3yNKIOe",
        "outputId": "f9b39e9d-d580-4344-ce42-02578f860ac4"
      },
      "outputs": [
        {
          "name": "stdout",
          "output_type": "stream",
          "text": [
            "Enter cycles to rotate for:5\n",
            "[22, 33, 44, 55, 11]\n",
            "[33, 44, 55, 11, 22]\n",
            "[44, 55, 11, 22, 33]\n",
            "[55, 11, 22, 33, 44]\n",
            "[11, 22, 33, 44, 55]\n"
          ]
        }
      ],
      "source": [
        "#rotation of list:\n",
        "#[11,22,33,44,55]:rotate clockwise as per given cycles\n",
        "#cycle for :3  [22,33,44,55,11] [33,44,55,11,22] [44,55,11,22,33]\n",
        "data=[11,22,33,44,55]\n",
        "cycles=int(input(\"Enter cycles to rotate for:\"))\n",
        "for _ in range(cycles):\n",
        "    data.append(data.pop(0))\n",
        "    print(data)\n",
        "\n"
      ]
    },
    {
      "cell_type": "code",
      "execution_count": null,
      "metadata": {
        "colab": {
          "base_uri": "https://localhost:8080/"
        },
        "id": "_PHu0QYUK20P",
        "outputId": "c867eb4a-0737-482c-e058-abc948c30c43"
      },
      "outputs": [
        {
          "name": "stdout",
          "output_type": "stream",
          "text": [
            "[1, 2, 4, 5, 7, 8, 9, 10, 11]\n"
          ]
        }
      ],
      "source": [
        "#given 3 lists combine them in sorted manner\n",
        "#with minimum code\n",
        "l1=[4,1,8,2]\n",
        "l2=[9,7]\n",
        "l3=[11,5,10]\n",
        "print(sorted(l1+l2+l3))"
      ]
    },
    {
      "cell_type": "markdown",
      "metadata": {
        "id": "7r1WBYwmTVnt"
      },
      "source": [
        "Tuple\n",
        "\n",
        "![image.png](data:image/png;base64,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)"
      ]
    },
    {
      "cell_type": "code",
      "execution_count": null,
      "metadata": {
        "colab": {
          "base_uri": "https://localhost:8080/"
        },
        "id": "Zwg5g65Id9hr",
        "outputId": "9d12c60c-ba4d-4fba-b5b5-c40e90b56d52"
      },
      "outputs": [
        {
          "data": {
            "text/plain": [
              "134855471228672"
            ]
          },
          "execution_count": 117,
          "metadata": {},
          "output_type": "execute_result"
        }
      ],
      "source": [
        "data=(11,2.2,\"amar\",True)\n",
        "id(data)"
      ]
    },
    {
      "cell_type": "code",
      "execution_count": null,
      "metadata": {
        "colab": {
          "base_uri": "https://localhost:8080/"
        },
        "id": "M4WmCtXkedAk",
        "outputId": "3a972bcd-9c5e-47aa-a6ca-42e494e8af1e"
      },
      "outputs": [
        {
          "name": "stdout",
          "output_type": "stream",
          "text": [
            "134855469526336\n"
          ]
        }
      ],
      "source": [
        "data=(22,44,77)\n",
        "print(id(data))"
      ]
    },
    {
      "cell_type": "code",
      "execution_count": null,
      "metadata": {
        "colab": {
          "base_uri": "https://localhost:8080/"
        },
        "id": "An_btEvne6PE",
        "outputId": "c6920e3d-061e-4a14-e65b-9e7702f08dba"
      },
      "outputs": [
        {
          "name": "stdout",
          "output_type": "stream",
          "text": [
            "(10, 20, [11, 22, 1000])\n"
          ]
        }
      ],
      "source": [
        "data=(10,20,[11,22])\n",
        "#what is list inside tuple: dynamic/static\n",
        "    #dynamic\n",
        "data[2].append(1000)\n",
        "print(data)"
      ]
    },
    {
      "cell_type": "code",
      "execution_count": null,
      "metadata": {
        "colab": {
          "base_uri": "https://localhost:8080/"
        },
        "id": "myc64tuJeFYR",
        "outputId": "d3f14f7f-7b58-4546-bca6-387749af0da0"
      },
      "outputs": [
        {
          "name": "stdout",
          "output_type": "stream",
          "text": [
            "() <class 'tuple'>\n"
          ]
        }
      ],
      "source": [
        "print(data,type(data))"
      ]
    },
    {
      "cell_type": "markdown",
      "metadata": {
        "id": "4R5X_ieHTqFg"
      },
      "source": [
        "Dict\n",
        "\n",
        "\n",
        "\n",
        "![image.png](data:image/png;base64,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)"
      ]
    },
    {
      "cell_type": "code",
      "execution_count": null,
      "metadata": {
        "id": "EFi4t7SHk2NS"
      },
      "outputs": [],
      "source": [
        "union: symbol | a|b={1,2,3,4,5,6}\n",
        "intersection: symbol & a&b={3,4}\n",
        "symmetric difference: symbol ^ a^b={1,2,5,6}\n",
        "difference:symbol -   a-b={1,2}      b-a={5,6}\n"
      ]
    },
    {
      "cell_type": "code",
      "execution_count": null,
      "metadata": {
        "id": "X9hJw26Fk4SX"
      },
      "outputs": [],
      "source": [
        "all={1,2,3,4,5,6,7,8,9,10}\n",
        "dance={2,5,8,9}\n",
        "sing={2,6,7,10}\n"
      ]
    },
    {
      "cell_type": "code",
      "execution_count": null,
      "metadata": {
        "colab": {
          "base_uri": "https://localhost:8080/"
        },
        "id": "HU1ZACUklDVV",
        "outputId": "6f4fdf79-5c10-48d1-e681-19e35ef45b76"
      },
      "outputs": [
        {
          "data": {
            "text/plain": [
              "{6, 7, 10}"
            ]
          },
          "execution_count": 127,
          "metadata": {},
          "output_type": "execute_result"
        }
      ],
      "source": [
        "#who all are not doing anything\n",
        "all-dance-sing\n",
        "#who are in all\n",
        "dance & sing\n",
        "#only dance or only sing\n",
        "dance-sing\n",
        "sing-dance"
      ]
    },
    {
      "cell_type": "code",
      "execution_count": null,
      "metadata": {
        "colab": {
          "base_uri": "https://localhost:8080/"
        },
        "id": "juRXa1V7lyom",
        "outputId": "8db4e185-de47-4af9-d5ad-4f40168324a2"
      },
      "outputs": [
        {
          "name": "stdout",
          "output_type": "stream",
          "text": [
            "{33, 22, 55, 88, 11, 77}\n"
          ]
        }
      ],
      "source": [
        "#3.7 onwards set are ordered in python\n",
        "s={22,11,55,33,11,77,88,22,11,33}\n",
        "print(s)"
      ]
    },
    {
      "cell_type": "code",
      "execution_count": null,
      "metadata": {
        "id": "7j9hoLSFmHFh"
      },
      "outputs": [],
      "source": [
        "s.add(35)"
      ]
    },
    {
      "cell_type": "code",
      "execution_count": null,
      "metadata": {
        "colab": {
          "base_uri": "https://localhost:8080/"
        },
        "id": "Yg_MX4FLmBBS",
        "outputId": "f6009b10-c823-43cb-f2cc-9f2623af4866"
      },
      "outputs": [
        {
          "data": {
            "text/plain": [
              "{11, 22, 33, 35, 55, 77, 88}"
            ]
          },
          "execution_count": 131,
          "metadata": {},
          "output_type": "execute_result"
        }
      ],
      "source": [
        "s"
      ]
    },
    {
      "cell_type": "code",
      "execution_count": null,
      "metadata": {
        "colab": {
          "base_uri": "https://localhost:8080/"
        },
        "id": "cBRVgZU5mNod",
        "outputId": "6555e5de-c94c-4dd1-e372-74d732d4b174"
      },
      "outputs": [
        {
          "name": "stdout",
          "output_type": "stream",
          "text": [
            "{33, 35, 22, 55, 88, 11, 77}\n"
          ]
        }
      ],
      "source": [
        "print(s)"
      ]
    },
    {
      "cell_type": "code",
      "execution_count": null,
      "metadata": {
        "colab": {
          "base_uri": "https://localhost:8080/",
          "height": 141
        },
        "id": "9keQ3WfhmPvp",
        "outputId": "c66e74e1-e580-4e9b-9e5c-d79671b2c05d"
      },
      "outputs": [
        {
          "ename": "TypeError",
          "evalue": "'set' object is not subscriptable",
          "output_type": "error",
          "traceback": [
            "\u001b[0;31m---------------------------------------------------------------------------\u001b[0m",
            "\u001b[0;31mTypeError\u001b[0m                                 Traceback (most recent call last)",
            "\u001b[0;32m<ipython-input-133-354d6d7fa2e4>\u001b[0m in \u001b[0;36m<cell line: 0>\u001b[0;34m()\u001b[0m\n\u001b[0;32m----> 1\u001b[0;31m \u001b[0ms\u001b[0m\u001b[0;34m[\u001b[0m\u001b[0;36m3\u001b[0m\u001b[0;34m]\u001b[0m\u001b[0;34m\u001b[0m\u001b[0;34m\u001b[0m\u001b[0m\n\u001b[0m",
            "\u001b[0;31mTypeError\u001b[0m: 'set' object is not subscriptable"
          ]
        }
      ],
      "source": [
        "s[3]"
      ]
    },
    {
      "cell_type": "code",
      "execution_count": null,
      "metadata": {
        "colab": {
          "base_uri": "https://localhost:8080/"
        },
        "id": "mov57olfmVBo",
        "outputId": "e27f64b9-1be2-4878-a8f2-0e732422d071"
      },
      "outputs": [
        {
          "name": "stdout",
          "output_type": "stream",
          "text": [
            "11\n",
            "22\n",
            "33\n",
            "35\n",
            "55\n",
            "77\n",
            "88\n"
          ]
        }
      ],
      "source": [
        "for item in sorted(s):\n",
        "    print(item)"
      ]
    },
    {
      "cell_type": "markdown",
      "metadata": {
        "id": "TxS2EZ1ATbV4"
      },
      "source": [
        "SET\n",
        "\n",
        "![image.png](data:image/png;base64,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)"
      ]
    },
    {
      "cell_type": "code",
      "execution_count": null,
      "metadata": {
        "colab": {
          "base_uri": "https://localhost:8080/"
        },
        "id": "GzBcDmh2mwjr",
        "outputId": "ec7aebfb-703a-4cea-ac64-3f28de879814"
      },
      "outputs": [
        {
          "name": "stdout",
          "output_type": "stream",
          "text": [
            "{5, 25, 10, 30, 15}\n",
            "{5, 10, 30, 15}\n"
          ]
        }
      ],
      "source": [
        "s={10,5,15,30,25}\n",
        "print(s)\n",
        "#s.remove(25)\n",
        "s.discard(25)\n",
        "print(s)\n",
        "#s.remove(25)\n",
        "s.discard(25)"
      ]
    },
    {
      "cell_type": "code",
      "execution_count": null,
      "metadata": {
        "colab": {
          "base_uri": "https://localhost:8080/"
        },
        "id": "ZOiA7_WAnMlZ",
        "outputId": "53f04b6c-c875-45d6-bb79-743af9ce90a6"
      },
      "outputs": [
        {
          "name": "stdout",
          "output_type": "stream",
          "text": [
            "[11, 22, 33, 44, 55, 66]\n"
          ]
        }
      ],
      "source": [
        "data_list=[11,22,11,33,11,44,11,33,22,55,66,22]\n",
        "#unique elements in sorted manner\n",
        "print(sorted(set(data_list)))"
      ]
    },
    {
      "cell_type": "code",
      "execution_count": null,
      "metadata": {
        "colab": {
          "base_uri": "https://localhost:8080/"
        },
        "id": "bpCp0cBsny9T",
        "outputId": "c0cb430c-4c27-4298-fc27-a85533a84a9c"
      },
      "outputs": [
        {
          "name": "stdout",
          "output_type": "stream",
          "text": [
            "11 : 4\n",
            "22 : 3\n",
            "33 : 2\n",
            "44 : 1\n",
            "55 : 1\n",
            "66 : 1\n"
          ]
        }
      ],
      "source": [
        "#given list of numbers print in sorted manner of data\n",
        "#element:count\n",
        "data_list=[11,22,11,33,11,44,11,33,22,55,66,22]\n",
        "for element in sorted(set(data_list)):\n",
        "    print(element,\":\",data_list.count(element))\n",
        "#11:4\n",
        "#22:3\n",
        "#33:2"
      ]
    },
    {
      "cell_type": "code",
      "execution_count": null,
      "metadata": {
        "colab": {
          "base_uri": "https://localhost:8080/"
        },
        "id": "qmEdWDjCp6DU",
        "outputId": "83c79c8a-a3df-48f5-ebc8-3b7a00643623"
      },
      "outputs": [
        {
          "name": "stdout",
          "output_type": "stream",
          "text": [
            "{1: 'one', 2: 'two', 3: 'three', 1.5: 'dedh shana'}\n",
            "dict_keys([1, 2, 3, 1.5])\n",
            "@ 1 we have one\n",
            "@ 2 we have two\n",
            "@ 3 we have three\n",
            "@ 1.5 we have dedh shana\n",
            "-------------------------------\n",
            "@ 1 we have one\n",
            "@ 1.5 we have dedh shana\n",
            "@ 2 we have two\n",
            "@ 3 we have three\n",
            "-------------------------------\n",
            "@ 1 we have one\n",
            "@ 2 we have two\n",
            "@ 3 we have three\n",
            "@ 1.5 we have dedh shana\n"
          ]
        }
      ],
      "source": [
        "#dict:map\n",
        "d={1:\"one\",2:\"two\",3:\"three\",1.5:\"dedh shana\"}\n",
        "\n",
        "print(d)\n",
        "print(d.keys())\n",
        "for key in d.keys():\n",
        "    print(\"@\",key,\"we have\",d[key])\n",
        "print(\"-------------------------------\")\n",
        "for key in sorted(d.keys()):\n",
        "    print(\"@\",key,\"we have\",d[key])\n",
        "print(\"-------------------------------\")\n",
        "for key,value in d.items():\n",
        "    print(\"@\",key,\"we have\",value)"
      ]
    },
    {
      "cell_type": "code",
      "execution_count": null,
      "metadata": {
        "id": "y240o0-XqazP"
      },
      "outputs": [],
      "source": [
        "contact={}"
      ]
    },
    {
      "cell_type": "code",
      "execution_count": null,
      "metadata": {
        "colab": {
          "base_uri": "https://localhost:8080/"
        },
        "id": "xt6vN1Bxqhgm",
        "outputId": "b5292de8-c500-4251-c6d2-88f1ae03d812"
      },
      "outputs": [
        {
          "name": "stdout",
          "output_type": "stream",
          "text": [
            "Enter name:xena\n",
            "Enter number99887766\n"
          ]
        }
      ],
      "source": [
        "contact[int(input(\"Enter number\"))]=input(\"Enter name:\")"
      ]
    },
    {
      "cell_type": "code",
      "execution_count": null,
      "metadata": {
        "colab": {
          "base_uri": "https://localhost:8080/"
        },
        "id": "7PyQoii4qt_k",
        "outputId": "0b0b59b4-e5bb-47b8-ec9c-851e5959a4b0"
      },
      "outputs": [
        {
          "name": "stdout",
          "output_type": "stream",
          "text": [
            "{9821601163: 'amar', 99887766: 'xena'}\n"
          ]
        }
      ],
      "source": [
        "print(contact)"
      ]
    },
    {
      "cell_type": "code",
      "execution_count": null,
      "metadata": {
        "colab": {
          "base_uri": "https://localhost:8080/"
        },
        "id": "ZJHbLOgyq2y3",
        "outputId": "b3f85aff-3de1-44fa-e88e-2f3d50fc9098"
      },
      "outputs": [
        {
          "name": "stdout",
          "output_type": "stream",
          "text": [
            "calling from......:9821601163\n",
            "amar\n"
          ]
        }
      ],
      "source": [
        "print(contact[int(input(\"calling from......:\"))])"
      ]
    },
    {
      "cell_type": "code",
      "execution_count": null,
      "metadata": {
        "colab": {
          "base_uri": "https://localhost:8080/"
        },
        "id": "8M24SlwCsQdY",
        "outputId": "8b4db7bd-1646-4139-8b2d-8c576fbdf267"
      },
      "outputs": [
        {
          "data": {
            "text/plain": [
              "False"
            ]
          },
          "execution_count": 155,
          "metadata": {},
          "output_type": "execute_result"
        }
      ],
      "source": [
        "9821601160 in contact#in to check key uniqueness"
      ]
    },
    {
      "cell_type": "markdown",
      "metadata": {
        "id": "tW5ZeeyxT5fR"
      },
      "source": [
        "![image.png](data:image/png;base64,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)"
      ]
    },
    {
      "cell_type": "markdown",
      "metadata": {
        "id": "Zj5Wk4NwT9T5"
      },
      "source": [
        "![image.png](data:image/png;base64,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)"
      ]
    },
    {
      "cell_type": "code",
      "execution_count": null,
      "metadata": {
        "id": "LMHF4ulmTYhv"
      },
      "outputs": [],
      "source": [
        "Question:\n",
        "Write a Python program that takes an integer as input and prints the number in words.\n",
        "For example, if the input is 123, the output should be \"one two three\"."
      ]
    },
    {
      "cell_type": "code",
      "execution_count": null,
      "metadata": {
        "colab": {
          "base_uri": "https://localhost:8080/"
        },
        "id": "HAP-aSQ0u65y",
        "outputId": "3aa0fcdb-c75e-47f5-abc5-a1deb833e4b1"
      },
      "outputs": [
        {
          "name": "stdout",
          "output_type": "stream",
          "text": [
            "Enter a number:96537\n",
            "nine six five three seven "
          ]
        }
      ],
      "source": [
        "num_to_word = {\n",
        "    0: \"zero\", 1: \"one\", 2: \"two\", 3: \"three\", 4: \"four\",\n",
        "    5: \"five\", 6: \"six\", 7: \"seven\", 8: \"eight\", 9: \"nine\"\n",
        "}\n",
        "no=input(\"Enter a number:\")\n",
        "for digit in no:\n",
        "    print(num_to_word[int(digit)],end=\" \")"
      ]
    },
    {
      "cell_type": "code",
      "execution_count": null,
      "metadata": {
        "colab": {
          "base_uri": "https://localhost:8080/"
        },
        "id": "lXJ-Mmz3w8W0",
        "outputId": "bef098b6-3dc3-4143-f8f0-e1437a3e1eae"
      },
      "outputs": [
        {
          "name": "stdout",
          "output_type": "stream",
          "text": [
            "{11: 4, 22: 3, 33: 2, 44: 1, 55: 1, 66: 1}\n"
          ]
        }
      ],
      "source": [
        "#given list of numbers print in sorted manner of data\n",
        "#element:count using a dict\n",
        "#{11:4,22:3.....}\n",
        "data_list=[11,22,11,33,11,44,11,33,22,55,66,22]\n",
        "d={}\n",
        "for element in sorted(set(data_list)):\n",
        "    d[element]=data_list.count(element)\n",
        "print(d)"
      ]
    },
    {
      "cell_type": "markdown",
      "metadata": {
        "id": "z0A-XWhy292H"
      },
      "source": [
        "**=================================================================================================**"
      ]
    },
    {
      "cell_type": "markdown",
      "metadata": {
        "id": "qSnQOfT93GYH"
      },
      "source": [
        "# Day four ,  String / Functions"
      ]
    },
    {
      "cell_type": "markdown",
      "metadata": {
        "id": "CFWVCvaE3EWd"
      },
      "source": [
        "**=================================================================================================**"
      ]
    },
    {
      "cell_type": "code",
      "execution_count": null,
      "metadata": {
        "id": "W6ivDwFc3CyC"
      },
      "outputs": [],
      "source": []
    },
    {
      "cell_type": "code",
      "execution_count": null,
      "metadata": {
        "id": "FrWUVpOZlW9p"
      },
      "outputs": [],
      "source": [
        "String in immutable in pyhton\n",
        "means all changes are done by generating new string not on current\n",
        "s=''\n",
        "s=\" \"\n",
        "s=''' '''\n",
        "s=\"\"\" \"\"\""
      ]
    },
    {
      "cell_type": "code",
      "execution_count": null,
      "metadata": {
        "id": "0bVZFCfHlfFm"
      },
      "outputs": [],
      "source": [
        "+ used to concate"
      ]
    },
    {
      "cell_type": "code",
      "execution_count": null,
      "metadata": {
        "id": "5smQ2SCxlim9"
      },
      "outputs": [],
      "source": [
        "* n makes string repeat n times"
      ]
    },
    {
      "cell_type": "code",
      "execution_count": null,
      "metadata": {
        "colab": {
          "base_uri": "https://localhost:8080/",
          "height": 36
        },
        "id": "3tz-cmk8lm53",
        "outputId": "3e16a1f0-4cdb-4f98-a7fd-ff35ceab9c8b"
      },
      "outputs": [
        {
          "data": {
            "application/vnd.google.colaboratory.intrinsic+json": {
              "type": "string"
            },
            "text/plain": [
              "'god god god god god '"
            ]
          },
          "execution_count": 2,
          "metadata": {},
          "output_type": "execute_result"
        }
      ],
      "source": [
        "\"god \"*5"
      ]
    },
    {
      "cell_type": "code",
      "execution_count": null,
      "metadata": {
        "id": "VsVqY3tXluzh"
      },
      "outputs": [],
      "source": [
        "X\n",
        "XX\n",
        "XXX\n",
        "XXXX\n",
        "XXXXX"
      ]
    },
    {
      "cell_type": "code",
      "execution_count": null,
      "metadata": {
        "colab": {
          "base_uri": "https://localhost:8080/"
        },
        "id": "MNHIVRkwlzFl",
        "outputId": "6c00ca26-ad60-44c1-f123-c2df1cba4943"
      },
      "outputs": [
        {
          "name": "stdout",
          "output_type": "stream",
          "text": [
            "X\n",
            "XX\n",
            "XXX\n",
            "XXXX\n",
            "XXXXX\n"
          ]
        }
      ],
      "source": [
        "for i in range(1,6):\n",
        "    print(\"X\"*i)"
      ]
    },
    {
      "cell_type": "code",
      "execution_count": null,
      "metadata": {
        "id": "AdprKeUul_bC"
      },
      "outputs": [],
      "source": [
        "XXXXX\n",
        "XXXX\n",
        "XXX\n",
        "XX\n",
        "X"
      ]
    },
    {
      "cell_type": "code",
      "execution_count": null,
      "metadata": {
        "colab": {
          "base_uri": "https://localhost:8080/"
        },
        "id": "_524LWqRmOyr",
        "outputId": "572d42c4-71e8-4bfc-cfbc-03e9dae36eb0"
      },
      "outputs": [
        {
          "name": "stdout",
          "output_type": "stream",
          "text": [
            "XXXXX\n",
            "XXXX\n",
            "XXX\n",
            "XX\n",
            "X\n"
          ]
        }
      ],
      "source": [
        "for i in range(5,0,-1):\n",
        "    print(\"X\"*i)"
      ]
    },
    {
      "cell_type": "code",
      "execution_count": null,
      "metadata": {
        "colab": {
          "base_uri": "https://localhost:8080/"
        },
        "id": "GEDd9o7pmUEW",
        "outputId": "eda2d3e5-0fee-436e-bd1c-0433f1c19770"
      },
      "outputs": [
        {
          "name": "stdout",
          "output_type": "stream",
          "text": [
            "      X \n",
            "     X X \n",
            "    X X X \n",
            "   X X X X \n",
            "  X X X X X \n"
          ]
        }
      ],
      "source": [
        "for i in range(1,6):\n",
        "    print(\" \"*(6-i),\"X \"*i)"
      ]
    },
    {
      "cell_type": "code",
      "execution_count": null,
      "metadata": {
        "colab": {
          "base_uri": "https://localhost:8080/"
        },
        "id": "v96u7LgNnfQU",
        "outputId": "df05ee30-69ba-49ec-fb1c-24c714d2a4bf"
      },
      "outputs": [
        {
          "name": "stdout",
          "output_type": "stream",
          "text": [
            "Enter n5\n",
            "     X \n",
            "    X X \n",
            "   X X X \n",
            "  X X X X \n",
            " X X X X X \n"
          ]
        }
      ],
      "source": [
        "#create center triangle of n where n given by user\n",
        "#n=10 10 lines\n",
        "n=int(input(\"Enter n\"))\n",
        "for i in range(1,n+1):\n",
        "    print(\" \"*(n-i),\"X \"*i)"
      ]
    },
    {
      "cell_type": "code",
      "execution_count": null,
      "metadata": {
        "colab": {
          "base_uri": "https://localhost:8080/"
        },
        "id": "3BIwqV4XoTHp",
        "outputId": "b121cf9e-fbbf-4817-9eb9-dc10cfcf5453"
      },
      "outputs": [
        {
          "name": "stdout",
          "output_type": "stream",
          "text": [
            "cde\n"
          ]
        }
      ],
      "source": [
        "s=\"abcdefghijkl\"\n",
        "print(s[2:5])"
      ]
    },
    {
      "cell_type": "code",
      "execution_count": null,
      "metadata": {
        "colab": {
          "base_uri": "https://localhost:8080/",
          "height": 36
        },
        "id": "XyvLjx4GoxG3",
        "outputId": "c8346e3b-c5fe-4a9f-eb54-bd0ec512cc9a"
      },
      "outputs": [
        {
          "data": {
            "application/vnd.google.colaboratory.intrinsic+json": {
              "type": "string"
            },
            "text/plain": [
              "'rama'"
            ]
          },
          "execution_count": 15,
          "metadata": {},
          "output_type": "execute_result"
        }
      ],
      "source": [
        "s=\"amar\"\n",
        "s[::-1]"
      ]
    },
    {
      "cell_type": "code",
      "execution_count": null,
      "metadata": {
        "colab": {
          "base_uri": "https://localhost:8080/"
        },
        "id": "NNC0uHEPo1ep",
        "outputId": "e5aa02f0-d3e4-49e6-8ff1-e3a4f5fcf359"
      },
      "outputs": [
        {
          "name": "stdout",
          "output_type": "stream",
          "text": [
            "Enter word:amar\n",
            "amar is palindrome False\n"
          ]
        }
      ],
      "source": [
        "#in minimum line of code check palindrome or not\n",
        "#read,reverse,compare\n",
        "word=input(\"Enter word:\")\n",
        "print(word,\"is palindrome\",word==word[::-1])"
      ]
    },
    {
      "cell_type": "code",
      "execution_count": null,
      "metadata": {
        "colab": {
          "base_uri": "https://localhost:8080/"
        },
        "id": "PJWIaT8upje5",
        "outputId": "3f39a898-41b9-45f5-bde4-0543098e3dc6"
      },
      "outputs": [
        {
          "name": "stdout",
          "output_type": "stream",
          "text": [
            "Enter word:program\n",
            "p\n",
            "pr\n",
            "pro\n",
            "prog\n",
            "progr\n",
            "progra\n",
            "program\n"
          ]
        }
      ],
      "source": [
        "#create word triangle\n",
        "\"python\"\n",
        "'''\n",
        "p\n",
        "py\n",
        ".\n",
        ".\n",
        ".\n",
        "python'''\n",
        "word=input(\"Enter word:\")\n",
        "for i in range(1,len(word)+1):\n",
        "    print(word[:i])"
      ]
    },
    {
      "cell_type": "code",
      "execution_count": null,
      "metadata": {
        "colab": {
          "base_uri": "https://localhost:8080/"
        },
        "id": "cSJzZcUWrLAP",
        "outputId": "7d6579d2-725d-4ebc-e8ab-df96de970304"
      },
      "outputs": [
        {
          "data": {
            "text/plain": [
              "True"
            ]
          },
          "execution_count": 20,
          "metadata": {},
          "output_type": "execute_result"
        }
      ],
      "source": [
        "\"amar\" in \"amaradra bahubali\""
      ]
    },
    {
      "cell_type": "code",
      "execution_count": null,
      "metadata": {
        "colab": {
          "base_uri": "https://localhost:8080/"
        },
        "id": "d7fHMsB2rVk7",
        "outputId": "028450f2-639a-4735-bdf5-5bb4981b4e9a"
      },
      "outputs": [
        {
          "name": "stdout",
          "output_type": "stream",
          "text": [
            "['p', 'y', 't', 'h', 'o', 'n']\n"
          ]
        }
      ],
      "source": [
        "s=\"python\"\n",
        "s_list=list(s)\n",
        "print(s_list)"
      ]
    },
    {
      "cell_type": "code",
      "execution_count": null,
      "metadata": {
        "colab": {
          "base_uri": "https://localhost:8080/"
        },
        "id": "H_rPiKTXrk8p",
        "outputId": "1dd4c781-7712-4434-be69-cfa3db819d53"
      },
      "outputs": [
        {
          "name": "stdout",
          "output_type": "stream",
          "text": [
            "t\n",
            "h\n",
            "i\n",
            "s\n",
            " \n",
            "i\n",
            "s\n",
            " \n",
            "t\n",
            "e\n",
            "s\n",
            "t\n"
          ]
        }
      ],
      "source": [
        "for character in \"this is test\":\n",
        "    print(character)"
      ]
    },
    {
      "cell_type": "code",
      "execution_count": null,
      "metadata": {
        "colab": {
          "base_uri": "https://localhost:8080/"
        },
        "id": "T_ogFGI_ruPU",
        "outputId": "96d0d8c7-8a9c-40e7-d550-f4c4108f08f7"
      },
      "outputs": [
        {
          "name": "stdout",
          "output_type": "stream",
          "text": [
            "Enter character to search:a\n",
            "2\n"
          ]
        }
      ],
      "source": [
        "#count vowels(a,e,i,o,u) in given line of string\n",
        "line=\"this is a test line for you all\"\n",
        "#.count()\n",
        "c=input(\"Enter character to search:\")\n",
        "print(line.lower().count(c))\n"
      ]
    },
    {
      "cell_type": "code",
      "execution_count": null,
      "metadata": {
        "id": "Ur-viU9uuFV5"
      },
      "outputs": [],
      "source": [
        "#count user given character from line\n",
        "line=\"this is a test line for you all\"\n",
        "#.count()\n",
        "count=0\n",
        "for c in \"aeiou\":\n",
        "    count+=line.count(c)\n",
        "    print(c,line.count(c))\n",
        "print(count)"
      ]
    },
    {
      "cell_type": "markdown",
      "metadata": {
        "id": "mD665dVcsK6P"
      },
      "source": [
        "Here are the string methods to change cases in Python:\n",
        "\n",
        "upper() – Converts all characters to uppercase.\n",
        "\n",
        "lower() – Converts all characters to lowercase.\n",
        "\n",
        "title() – Converts the first letter of each word to uppercase.\n",
        "\n",
        "capitalize() – Converts the first letter of the string to uppercase and the rest to lowercase.\n",
        "\n",
        "swapcase() – Swaps uppercase characters to lowercase and vice versa.\n",
        "\n",
        "count()- Return total count for given character/string\n",
        "\n",
        "Here are the explanations for the string methods in Python:\n",
        "\n",
        "count(substring) – Returns the number of occurrences of substring in the string.\n",
        "\n",
        "find(substring) – Returns the lowest index of substring if found; otherwise, returns -1.\n",
        "\n",
        "rfind(substring) – Returns the highest index of substring if found; otherwise, returns -1.\n",
        "\n",
        "index(substring) – Returns the lowest index of substring if found; raises a ValueError if not found.\n",
        "\n",
        "rindex(substring) – Returns the highest index of substring if found; raises a ValueError if not found."
      ]
    },
    {
      "cell_type": "code",
      "execution_count": null,
      "metadata": {
        "colab": {
          "base_uri": "https://localhost:8080/"
        },
        "id": "FycfVhnLsqpG",
        "outputId": "5aa675af-9356-426e-d857-5720f5aa69b5"
      },
      "outputs": [
        {
          "name": "stdout",
          "output_type": "stream",
          "text": [
            "This is so much fun\n",
            "This Is So Much Fun\n",
            "THiS is SO muCH Fun\n",
            "2\n"
          ]
        }
      ],
      "source": [
        "s=\"thIs IS so MUch fUN\"\n",
        "print(s.capitalize())\n",
        "print(s.title())\n",
        "print(s.swapcase())\n",
        "print(s.lower().count('i'))"
      ]
    },
    {
      "cell_type": "code",
      "execution_count": null,
      "metadata": {
        "colab": {
          "base_uri": "https://localhost:8080/"
        },
        "id": "74d190iUv9nX",
        "outputId": "aa0e1b5c-db25-44f9-8131-621ca74db40e"
      },
      "outputs": [
        {
          "data": {
            "text/plain": [
              "0"
            ]
          },
          "execution_count": 34,
          "metadata": {},
          "output_type": "execute_result"
        }
      ],
      "source": [
        "s=\"imagination\"\n",
        "s.find('i')"
      ]
    },
    {
      "cell_type": "code",
      "execution_count": null,
      "metadata": {
        "id": "Se41G4SnwIWB"
      },
      "outputs": [],
      "source": [
        ".replace(\"old\",\"new\")"
      ]
    },
    {
      "cell_type": "code",
      "execution_count": null,
      "metadata": {
        "colab": {
          "base_uri": "https://localhost:8080/",
          "height": 36
        },
        "id": "xmf77wMcwkeq",
        "outputId": "ede39c3d-5b96-46e4-d9ee-3c2f030cb03b"
      },
      "outputs": [
        {
          "data": {
            "application/vnd.google.colaboratory.intrinsic+json": {
              "type": "string"
            },
            "text/plain": [
              "'he came by cab'"
            ]
          },
          "execution_count": 35,
          "metadata": {},
          "output_type": "execute_result"
        }
      ],
      "source": [
        "line=\"he came by taxi\"\n",
        "line.replace(\"taxi\",\"cab\")"
      ]
    },
    {
      "cell_type": "code",
      "execution_count": null,
      "metadata": {
        "colab": {
          "base_uri": "https://localhost:8080/"
        },
        "id": "UHghj3d0wtKc",
        "outputId": "d3d66565-c7d2-4a16-e961-4dd40f85a13e"
      },
      "outputs": [
        {
          "name": "stdout",
          "output_type": "stream",
          "text": [
            "this was done by him\n"
          ]
        }
      ],
      "source": [
        "line=\"this is done by him\"\n",
        "#convert to past\n",
        "line=line.replace(\" is\",\" was\")\n",
        "print(line)"
      ]
    },
    {
      "cell_type": "code",
      "execution_count": null,
      "metadata": {
        "id": "2SYFIAcTx0Bx"
      },
      "outputs": [],
      "source": [
        ".split():breaks string in tokens and store in list\n",
        "default is blank space"
      ]
    },
    {
      "cell_type": "code",
      "execution_count": null,
      "metadata": {
        "colab": {
          "base_uri": "https://localhost:8080/"
        },
        "id": "qKsIkERAx630",
        "outputId": "fc7a38c0-5107-4f61-cea6-dabf2093e613"
      },
      "outputs": [
        {
          "name": "stdout",
          "output_type": "stream",
          "text": [
            "['this', 'is', 'example', 'for', 'the', 'code']\n"
          ]
        }
      ],
      "source": [
        "line=\"this is example for the code\"\n",
        "word_list=line.split()\n",
        "print(word_list)"
      ]
    },
    {
      "cell_type": "code",
      "execution_count": null,
      "metadata": {
        "colab": {
          "base_uri": "https://localhost:8080/"
        },
        "id": "8hY_8vs2yPFw",
        "outputId": "1dc57e4f-4ca1-4409-b12a-0244be5d96bf"
      },
      "outputs": [
        {
          "data": {
            "text/plain": [
              "2"
            ]
          },
          "execution_count": 41,
          "metadata": {},
          "output_type": "execute_result"
        }
      ],
      "source": [
        "line.count(\"is\")"
      ]
    },
    {
      "cell_type": "code",
      "execution_count": null,
      "metadata": {
        "colab": {
          "base_uri": "https://localhost:8080/"
        },
        "id": "qAG-YIvSyWGV",
        "outputId": "475b5cfa-20e2-490d-c57b-528c3b275a8c"
      },
      "outputs": [
        {
          "data": {
            "text/plain": [
              "1"
            ]
          },
          "execution_count": 42,
          "metadata": {},
          "output_type": "execute_result"
        }
      ],
      "source": [
        "word_list.count(\"is\")"
      ]
    },
    {
      "cell_type": "code",
      "execution_count": null,
      "metadata": {
        "id": "Rn4d6wGfyj__"
      },
      "outputs": [],
      "source": [
        "#reverse line by words:\n",
        "line =\"this is example i have\"\n",
        "o/p=\"have i example is this\"\n",
        "process: break in words,reverse list ,reconstruct line\n",
        "          .split()         [::-1]         for"
      ]
    },
    {
      "cell_type": "code",
      "execution_count": null,
      "metadata": {
        "colab": {
          "base_uri": "https://localhost:8080/"
        },
        "id": "UBGTsBOG0UNu",
        "outputId": "4a08b7d7-562c-45bb-d47c-774fe01b4535"
      },
      "outputs": [
        {
          "name": "stdout",
          "output_type": "stream",
          "text": [
            "have i example is this \n",
            "reverse:  have i example is this\n"
          ]
        }
      ],
      "source": [
        "line =\"this is example i have\"\n",
        "word_list=line.split()\n",
        "rline=\"\"\n",
        "for word in word_list[::-1]:\n",
        "    print(word,end=\" \")\n",
        "    rline=rline+\" \"+word\n",
        "print(\"\\nreverse:\",rline)"
      ]
    },
    {
      "cell_type": "code",
      "execution_count": null,
      "metadata": {
        "colab": {
          "base_uri": "https://localhost:8080/"
        },
        "id": "saCysGAA1BdP",
        "outputId": "e221cc0b-8bf9-4a86-b154-5c36273c8040"
      },
      "outputs": [
        {
          "name": "stdout",
          "output_type": "stream",
          "text": [
            "53\n",
            "43\n",
            "Many\n",
            "Python\n",
            "Python’s\n",
            "The\n",
            "a\n",
            "alike.\n",
            "and\n",
            "are\n",
            "automation.\n",
            "because\n",
            "beginners\n",
            "choice\n",
            "community\n",
            "data\n",
            "day.\n",
            "developers\n",
            "development,\n",
            "every\n",
            "for\n",
            "great\n",
            "growing\n",
            "in\n",
            "is\n",
            "it\n",
            "its\n",
            "language.\n",
            "learning\n",
            "makes\n",
            "more\n",
            "of\n",
            "people\n",
            "powerful\n",
            "prefer\n",
            "professionals\n",
            "programming\n",
            "rapidly,\n",
            "readability.\n",
            "science,\n",
            "simplicity\n",
            "used\n",
            "versatility\n",
            "web\n",
            "widely\n"
          ]
        }
      ],
      "source": [
        "data=\"                            Python is a powerful programming language. Python is widely used in web development, data science, and automation. Many developers prefer Python because of its simplicity and readability.                    The Python community is growing rapidly, and more people are learning Python every day. Python’s versatility makes                 it a great choice for beginners and professionals alike.\"\n",
        "#write a code to 1.count number of words\n",
        "print(len(data.split()))\n",
        "#print total unique words in para\n",
        "print(len(set(data.split())))\n",
        "for word in sorted(set(data.split())):\n",
        "    print(word)"
      ]
    },
    {
      "cell_type": "code",
      "execution_count": null,
      "metadata": {
        "id": "br1J5IMh2uYZ"
      },
      "outputs": [],
      "source": [
        "data=\"Data is important. Data helps in decision-making. Big data is widely used in data science. The more data we have, the better our data analysis. Good data leads to good insights. Without data, decision-making is difficult. Companies collect data, store data, and analyze data. Data-driven decisions are based on data patterns. In today's world, data is the key to success. The importance of data cannot be ignored, as data plays a crucial role in every field. Understanding data and managing data efficiently is essential for growth. Data, data, and more data—everything revolves around data!\""
      ]
    },
    {
      "cell_type": "code",
      "execution_count": null,
      "metadata": {
        "colab": {
          "base_uri": "https://localhost:8080/"
        },
        "id": "DF-kb6Cj2xaJ",
        "outputId": "7474dffc-d079-484d-b4ed-fddab0365a38"
      },
      "outputs": [
        {
          "name": "stdout",
          "output_type": "stream",
          "text": [
            "Big : 1\n",
            "Companies : 1\n",
            "Data : 4\n",
            "Good : 1\n",
            "In : 1\n",
            "The : 2\n",
            "Understanding : 1\n",
            "Without : 1\n",
            "a : 1\n",
            "analysis : 1\n",
            "analyze : 1\n",
            "and : 3\n",
            "are : 1\n",
            "around : 1\n",
            "as : 1\n",
            "based : 1\n",
            "be : 1\n",
            "better : 1\n",
            "cannot : 1\n",
            "collect : 1\n",
            "crucial : 1\n",
            "data : 18\n",
            "decision : 2\n",
            "decisions : 1\n",
            "difficult : 1\n",
            "driven : 1\n",
            "efficiently : 1\n",
            "essential : 1\n",
            "every : 1\n",
            "everything : 1\n",
            "field : 1\n",
            "for : 1\n",
            "good : 1\n",
            "growth : 1\n",
            "have : 1\n",
            "helps : 1\n",
            "ignored : 1\n",
            "importance : 1\n",
            "important : 1\n",
            "in : 3\n",
            "insights : 1\n",
            "is : 5\n",
            "key : 1\n",
            "leads : 1\n",
            "making : 2\n",
            "managing : 1\n",
            "more : 2\n",
            "of : 1\n",
            "on : 1\n",
            "our : 1\n",
            "patterns : 1\n",
            "plays : 1\n",
            "revolves : 1\n",
            "role : 1\n",
            "science : 1\n",
            "store : 1\n",
            "success : 1\n",
            "the : 2\n",
            "to : 2\n",
            "todays : 1\n",
            "used : 1\n",
            "we : 1\n",
            "widely : 1\n",
            "world : 1\n"
          ]
        }
      ],
      "source": [
        "#print count of each word\n",
        "'''\n",
        "word list----unique word list---cout unique word ---in list\n",
        ".split()      set()                .count()\n",
        "'''\n",
        "data=\"Data is important Data helps in decision making Big data is widely used in data science The more data we have the better our data analysis Good data leads to good insights Without data decision making is difficult Companies collect data store data and analyze data Data driven decisions are based on data patterns In todays world data is the key to success The importance of data cannot be ignored as data plays a crucial role in every field Understanding data and managing data efficiently is essential for growth Data data and more data everything revolves around data\"\n",
        "word_list=data.split()\n",
        "for word in sorted(set(word_list)):\n",
        "    print(word,\":\",word_list.count(word))"
      ]
    },
    {
      "cell_type": "code",
      "execution_count": null,
      "metadata": {
        "colab": {
          "base_uri": "https://localhost:8080/"
        },
        "id": "qPVAJ3Oj4Stc",
        "outputId": "1ba2abe7-ef19-45a1-a22e-0dcb987896e5"
      },
      "outputs": [
        {
          "name": "stdout",
          "output_type": "stream",
          "text": [
            "{'Big': 1, 'Companies': 1, 'Data': 4, 'Good': 1, 'In': 1, 'The': 2, 'Understanding': 1, 'Without': 1, 'a': 1, 'analysis': 1, 'analyze': 1, 'and': 3, 'are': 1, 'around': 1, 'as': 1, 'based': 1, 'be': 1, 'better': 1, 'cannot': 1, 'collect': 1, 'crucial': 1, 'data': 18, 'decision': 2, 'decisions': 1, 'difficult': 1, 'driven': 1, 'efficiently': 1, 'essential': 1, 'every': 1, 'everything': 1, 'field': 1, 'for': 1, 'good': 1, 'growth': 1, 'have': 1, 'helps': 1, 'ignored': 1, 'importance': 1, 'important': 1, 'in': 3, 'insights': 1, 'is': 5, 'key': 1, 'leads': 1, 'making': 2, 'managing': 1, 'more': 2, 'of': 1, 'on': 1, 'our': 1, 'patterns': 1, 'plays': 1, 'revolves': 1, 'role': 1, 'science': 1, 'store': 1, 'success': 1, 'the': 2, 'to': 2, 'todays': 1, 'used': 1, 'we': 1, 'widely': 1, 'world': 1}\n",
            "Max repeated word is: data repeated for 18\n"
          ]
        }
      ],
      "source": [
        "#print word with max count\n",
        "\n",
        "'''\n",
        "word list----unique word list---cout unique word ---in list\n",
        ".split()      set()                .count()\n",
        "'''\n",
        "data=\"Data is important Data helps in decision making Big data is widely used in data science The more data we have the better our data analysis Good data leads to good insights Without data decision making is difficult Companies collect data store data and analyze data Data driven decisions are based on data patterns In todays world data is the key to success The importance of data cannot be ignored as data plays a crucial role in every field Understanding data and managing data efficiently is essential for growth Data data and more data everything revolves around data\"\n",
        "word_list=data.split()\n",
        "word_dict={}\n",
        "for word in sorted(set(word_list)):\n",
        "    word_dict[word]=word_list.count(word)\n",
        "print(word_dict)\n",
        "#go to each word and check count,store max count and finally print\n",
        "ref_count=0\n",
        "ref_word=\"\"\n",
        "for word in word_dict.keys():\n",
        "    if word_dict[word]>ref_count:\n",
        "        ref_count=word_dict[word]\n",
        "        ref_word=word\n",
        "print(\"Max repeated word is:\",ref_word,\"repeated for\",ref_count)"
      ]
    },
    {
      "cell_type": "code",
      "execution_count": null,
      "metadata": {
        "id": "ZBdGtXgOCO8R"
      },
      "outputs": [],
      "source": [
        "function:\n",
        "1.code written away from main script\n",
        "2.called from script when needed\n",
        "3.when called control gets trasfered ,code gets executed and then control comes back to main script\n",
        "\n",
        "example:any function in your life(happy birthday)"
      ]
    },
    {
      "cell_type": "code",
      "execution_count": null,
      "metadata": {
        "id": "BC88heD9EuzZ"
      },
      "outputs": [],
      "source": [
        "def <name>(parameter list):\n",
        "    '''document string if needed:kind of help to use function'''\n",
        "    #code\n",
        "\n",
        "#not activated till called"
      ]
    },
    {
      "cell_type": "code",
      "execution_count": null,
      "metadata": {
        "id": "Z0gZQl8SFZQN"
      },
      "outputs": [],
      "source": [
        "def welcome(name):\n",
        "    print(\"Function:  hi,\",name)"
      ]
    },
    {
      "cell_type": "code",
      "execution_count": null,
      "metadata": {
        "colab": {
          "base_uri": "https://localhost:8080/"
        },
        "id": "f1xgIjWEFhVa",
        "outputId": "42cdba43-91e0-469c-c232-76eaf26ed81b"
      },
      "outputs": [
        {
          "name": "stdout",
          "output_type": "stream",
          "text": [
            "Function:  hi, amar\n"
          ]
        }
      ],
      "source": [
        "welcome(\"amar\")"
      ]
    },
    {
      "cell_type": "code",
      "execution_count": null,
      "metadata": {
        "id": "hx7v90GDFphM"
      },
      "outputs": [],
      "source": [
        "welcome()"
      ]
    },
    {
      "cell_type": "code",
      "execution_count": null,
      "metadata": {
        "id": "pyBXNjmlFujc"
      },
      "outputs": [],
      "source": [
        "def welcome(name):\n",
        "    '''input:string name o/p:welcome message'''\n",
        "    print(\"Function:  hi,\",name)"
      ]
    },
    {
      "cell_type": "code",
      "execution_count": null,
      "metadata": {
        "id": "knS3uE6MF0Ol"
      },
      "outputs": [],
      "source": [
        "welcome()"
      ]
    },
    {
      "cell_type": "code",
      "execution_count": null,
      "metadata": {
        "id": "Vax_fqejGBda"
      },
      "outputs": [],
      "source": [
        "def add(no1,no2):\n",
        "    print(no1,\"+\",no2,\"=\",(no1+no2))"
      ]
    },
    {
      "cell_type": "code",
      "execution_count": null,
      "metadata": {
        "colab": {
          "base_uri": "https://localhost:8080/"
        },
        "id": "V6f7WISFGNlc",
        "outputId": "b14428e2-edb4-423c-ff25-bcd0bee5e013"
      },
      "outputs": [
        {
          "name": "stdout",
          "output_type": "stream",
          "text": [
            "10 + 20 = 30\n"
          ]
        }
      ],
      "source": [
        "add(10,20)"
      ]
    },
    {
      "cell_type": "code",
      "execution_count": null,
      "metadata": {
        "id": "Pbg2R80VGSnH"
      },
      "outputs": [],
      "source": [
        "'''in python parameters are dynamic hence overloaded by default\n",
        "overload mean n function with one name'''\n",
        "def add(no1,no2):\n",
        "    print(type(no1),type(no2))\n",
        "    print(no1,\"+\",no2,\"=\",(no1+no2))"
      ]
    },
    {
      "cell_type": "code",
      "execution_count": null,
      "metadata": {
        "colab": {
          "base_uri": "https://localhost:8080/"
        },
        "id": "tucMZWHQGaWS",
        "outputId": "270edca9-0fe6-4d61-a31e-cf576a25a466"
      },
      "outputs": [
        {
          "name": "stdout",
          "output_type": "stream",
          "text": [
            "<class 'int'> <class 'int'>\n",
            "10 + 20 = 30\n",
            "<class 'float'> <class 'float'>\n",
            "12.3 + 5.6 = 17.9\n",
            "<class 'str'> <class 'str'>\n",
            "amar +  panchal = amar panchal\n",
            "<class 'int'> <class 'float'>\n",
            "100 + 3.5 = 103.5\n"
          ]
        }
      ],
      "source": [
        "add(10,20)\n",
        "add(12.3,5.6)\n",
        "add(\"amar\",\" panchal\")\n",
        "add(100,3.5)"
      ]
    },
    {
      "cell_type": "code",
      "execution_count": null,
      "metadata": {
        "id": "PNp1Rqk7G4mu"
      },
      "outputs": [],
      "source": [
        "def add(no1,no2):\n",
        "    return no1+no2\n",
        "    #return returns data/control to script from function\n"
      ]
    },
    {
      "cell_type": "code",
      "execution_count": null,
      "metadata": {
        "colab": {
          "base_uri": "https://localhost:8080/"
        },
        "id": "57Z-_X8BHIPi",
        "outputId": "afd3c018-457f-4845-d62c-666f9455c3ae"
      },
      "outputs": [
        {
          "name": "stdout",
          "output_type": "stream",
          "text": [
            "addition is: 300\n",
            "addition is: 3000\n"
          ]
        }
      ],
      "source": [
        "print(\"addition is:\",add(100,200))#one can directly print\n",
        "ans=add(1000,2000)\n",
        "print(\"addition is:\",ans)#store and print later"
      ]
    },
    {
      "cell_type": "code",
      "execution_count": null,
      "metadata": {
        "id": "Cvhlp4msHid9"
      },
      "outputs": [],
      "source": [
        "#as per standard it is best to pass data and return answer\n",
        "#one can use it in nested manner\n",
        "def minimum(no1,no2):\n",
        "    if no1<no2:\n",
        "        return no1\n",
        "    else:\n",
        "        return no2"
      ]
    },
    {
      "cell_type": "code",
      "execution_count": null,
      "metadata": {
        "colab": {
          "base_uri": "https://localhost:8080/"
        },
        "id": "GlRYnWsfHxAu",
        "outputId": "0d55489d-086a-4f92-fea7-adfcc43617d6"
      },
      "outputs": [
        {
          "name": "stdout",
          "output_type": "stream",
          "text": [
            "Enter number 1:100\n",
            "Enter number 2:6\n",
            "minimum is: 6\n"
          ]
        }
      ],
      "source": [
        "print(\"minimum is:\",minimum(int(input(\"Enter number 1:\")),int(input(\"Enter number 2:\"))))"
      ]
    },
    {
      "cell_type": "code",
      "execution_count": null,
      "metadata": {
        "colab": {
          "base_uri": "https://localhost:8080/"
        },
        "id": "5EbXG3tHIBlI",
        "outputId": "81775e55-70c1-4f8f-dd1d-49ade445ae3c"
      },
      "outputs": [
        {
          "data": {
            "text/plain": [
              "2"
            ]
          },
          "execution_count": 77,
          "metadata": {},
          "output_type": "execute_result"
        }
      ],
      "source": [
        "minimum(minimum(10,5),minimum(2,9))\n",
        "#minimu(        5     ,        2   )\n",
        "#                     2"
      ]
    },
    {
      "cell_type": "code",
      "execution_count": null,
      "metadata": {
        "id": "3or5OleNIaMp"
      },
      "outputs": [],
      "source": [
        "Write a Python function to convert Indian Rupees (INR) to US Dollars (USD) using a fixed exchange rate of 85 INR = 1 USD. The function should take an amount in INR as input and return the equivalent amount in USD."
      ]
    },
    {
      "cell_type": "code",
      "execution_count": null,
      "metadata": {
        "id": "Dd2ri73RLRjL"
      },
      "outputs": [],
      "source": [
        "def inr_to_usd(inr):\n",
        "    return inr/85"
      ]
    },
    {
      "cell_type": "code",
      "execution_count": null,
      "metadata": {
        "colab": {
          "base_uri": "https://localhost:8080/"
        },
        "id": "9hPky23oLW0z",
        "outputId": "10a7ea94-b55b-4039-c06f-a42fca00e909"
      },
      "outputs": [
        {
          "name": "stdout",
          "output_type": "stream",
          "text": [
            "Enter amount in INR120000\n",
            "120000.0 INR in USD is 1411.764705882353\n"
          ]
        }
      ],
      "source": [
        "inr=float(input(\"Enter amount in INR\"))\n",
        "print(inr,\"INR in USD is\",inr_to_usd(inr))"
      ]
    },
    {
      "cell_type": "code",
      "execution_count": null,
      "metadata": {
        "id": "Bja2drT4L02p"
      },
      "outputs": [],
      "source": [
        "#Recursion:function calling itself\n",
        "+ve:makes code look smaller hence more readable\n",
        "-ve:makes code run slower,takes more memory(stack),more complex to understand\n",
        "used one when last/only option"
      ]
    },
    {
      "cell_type": "code",
      "execution_count": null,
      "metadata": {
        "id": "n13qYzugML_K"
      },
      "outputs": [],
      "source": [
        "def fact(no):\n",
        "    if no==1:\n",
        "        return 1\n",
        "    else:\n",
        "        return no*fact(no-1)\n"
      ]
    },
    {
      "cell_type": "code",
      "execution_count": null,
      "metadata": {
        "colab": {
          "base_uri": "https://localhost:8080/"
        },
        "id": "qomlkI_3MYC0",
        "outputId": "aef376b6-aa48-4324-abff-71bf1bba8f93"
      },
      "outputs": [
        {
          "data": {
            "text/plain": [
              "24"
            ]
          },
          "execution_count": 84,
          "metadata": {},
          "output_type": "execute_result"
        }
      ],
      "source": [
        "fact(4)"
      ]
    },
    {
      "cell_type": "code",
      "execution_count": null,
      "metadata": {
        "id": "AFfM1Xd-NbrU"
      },
      "outputs": [],
      "source": [
        "'''\n",
        "GCD 18 12---6\n",
        "algo: if no2 perfectly div no1 then no2 is gcd\n",
        "      else let no1<---no2 and no2<---remainder of no1,no2\n",
        "'''\n",
        "def gcd(no1,no2):\n",
        "    if no1%no2==0:\n",
        "        return no2\n",
        "    else:\n",
        "        return gcd(no2,no1%no2)\n"
      ]
    },
    {
      "cell_type": "code",
      "execution_count": null,
      "metadata": {
        "colab": {
          "base_uri": "https://localhost:8080/"
        },
        "id": "b5H_69MlOpDX",
        "outputId": "787ff407-9208-4d21-a768-519e9dae74a1"
      },
      "outputs": [
        {
          "data": {
            "text/plain": [
              "6"
            ]
          },
          "execution_count": 86,
          "metadata": {},
          "output_type": "execute_result"
        }
      ],
      "source": [
        "gcd(18,12)"
      ]
    },
    {
      "cell_type": "code",
      "execution_count": null,
      "metadata": {
        "id": "Oy01YbctPKqq"
      },
      "outputs": [],
      "source": [
        "#only in python possible not in other lang"
      ]
    },
    {
      "cell_type": "code",
      "execution_count": null,
      "metadata": {
        "id": "lb1nznZaPQFe"
      },
      "outputs": [],
      "source": [
        "#mutiple return: in python return can return more than one parameter\n",
        "#return pack everything in a tuple and sends\n",
        "def ascending(no1,no2):\n",
        "    if no1<no2:\n",
        "        return no1,no2\n",
        "    else:\n",
        "        return no2,no1"
      ]
    },
    {
      "cell_type": "code",
      "execution_count": null,
      "metadata": {
        "colab": {
          "base_uri": "https://localhost:8080/"
        },
        "id": "bz5KvmEWPjoP",
        "outputId": "137a3519-1378-4d32-cd04-0c417739fbc5"
      },
      "outputs": [
        {
          "name": "stdout",
          "output_type": "stream",
          "text": [
            "(2, 6) <class 'tuple'>\n"
          ]
        }
      ],
      "source": [
        "result=ascending(6,2)\n",
        "print(result,type(result))"
      ]
    },
    {
      "cell_type": "code",
      "execution_count": null,
      "metadata": {
        "id": "-nIgHp8HQbJH"
      },
      "outputs": [],
      "source": [
        "#variable size parameter *data\n",
        "def hobbies(*h):\n",
        "    print(type(h))\n",
        "    print(h)\n",
        "    print(len(h))\n"
      ]
    },
    {
      "cell_type": "code",
      "execution_count": null,
      "metadata": {
        "colab": {
          "base_uri": "https://localhost:8080/"
        },
        "id": "_QvlHvHDRJc6",
        "outputId": "3c2cc13c-d279-403d-8ace-1f589c4bda6e"
      },
      "outputs": [
        {
          "name": "stdout",
          "output_type": "stream",
          "text": [
            "<class 'tuple'>\n",
            "('code', 'sketch', 'cook', 'travel')\n",
            "4\n"
          ]
        }
      ],
      "source": [
        "hobbies(\"code\",\"sketch\",\"cook\",\"travel\")"
      ]
    },
    {
      "cell_type": "code",
      "execution_count": null,
      "metadata": {
        "colab": {
          "base_uri": "https://localhost:8080/"
        },
        "id": "VsQWhmL3RTiw",
        "outputId": "cce506fb-f939-4b1d-b639-18ea99e18616"
      },
      "outputs": [
        {
          "name": "stdout",
          "output_type": "stream",
          "text": [
            "<class 'tuple'>\n",
            "('eat', 'sleep')\n",
            "2\n"
          ]
        }
      ],
      "source": [
        "hobbies(\"eat\",\"sleep\")"
      ]
    },
    {
      "cell_type": "code",
      "execution_count": null,
      "metadata": {
        "colab": {
          "base_uri": "https://localhost:8080/"
        },
        "id": "TDAGF9S5RXvl",
        "outputId": "4626bc1e-0428-4726-f423-c6072b7048b3"
      },
      "outputs": [
        {
          "name": "stdout",
          "output_type": "stream",
          "text": [
            "<class 'tuple'>\n",
            "('live',)\n",
            "1\n"
          ]
        }
      ],
      "source": [
        "hobbies(\"live\")"
      ]
    },
    {
      "cell_type": "code",
      "execution_count": null,
      "metadata": {
        "id": "FUAbflK3Rghb"
      },
      "outputs": [],
      "source": [
        "#code summary fuction tak would take n paramenter and print\n",
        "#sum of all\n",
        "#minimum of all\n",
        "#maximum of all\n",
        "#average of all\n",
        "def summary(*data):\n",
        "    print(\"Sum:\",sum(data))\n",
        "    print(\"Minimum:\",min(data))\n",
        "    print(\"Maximum:\",max(data))\n",
        "    print(\"Average:\",sum(data)/len(data))"
      ]
    },
    {
      "cell_type": "code",
      "execution_count": null,
      "metadata": {
        "colab": {
          "base_uri": "https://localhost:8080/"
        },
        "id": "zZHWlpRUTo-b",
        "outputId": "efbd1cde-4fbd-49a1-a47d-161fc22c3172"
      },
      "outputs": [
        {
          "name": "stdout",
          "output_type": "stream",
          "text": [
            "Sum: 396\n",
            "Minimum: 11\n",
            "Maximum: 99\n",
            "Average: 49.5\n"
          ]
        }
      ],
      "source": [
        "summary(11,33,77,22,44,99,88,22)\n"
      ]
    },
    {
      "cell_type": "code",
      "execution_count": null,
      "metadata": {
        "id": "b4SHFqliToW8"
      },
      "outputs": [],
      "source": [
        "def summary(data):\n",
        "    print(type(data))\n",
        "    data=list(data)\n",
        "    print(\"Sum:\",sum(data))\n",
        "    print(\"Minimum:\",min(data))\n",
        "    print(\"Maximum:\",max(data))\n",
        "    print(\"Average:\",sum(data)/len(data))"
      ]
    },
    {
      "cell_type": "code",
      "execution_count": null,
      "metadata": {
        "colab": {
          "base_uri": "https://localhost:8080/"
        },
        "id": "7vM-XdgxUI36",
        "outputId": "d3508b57-d026-4ec9-83c8-9674d6c63198"
      },
      "outputs": [
        {
          "name": "stdout",
          "output_type": "stream",
          "text": [
            "Enter data with ,11,66,22,99,33,55,44\n",
            "<class 'map'>\n",
            "Sum: 330\n",
            "Minimum: 11\n",
            "Maximum: 99\n",
            "Average: 47.142857142857146\n"
          ]
        }
      ],
      "source": [
        "summary(map(int,input(\"Enter data with ,\").split(\",\")))"
      ]
    },
    {
      "cell_type": "code",
      "execution_count": null,
      "metadata": {
        "id": "CrUbgZFuncLu"
      },
      "outputs": [],
      "source": [
        "#key value parameter:given when calling\n",
        "def intro(name,native):\n",
        "    print(\"hi\",name,\",so you are from\",native)"
      ]
    },
    {
      "cell_type": "code",
      "execution_count": null,
      "metadata": {
        "colab": {
          "base_uri": "https://localhost:8080/"
        },
        "id": "u_c5kNnxnq7z",
        "outputId": "01fb324e-5810-43d5-dca2-9388537a0565"
      },
      "outputs": [
        {
          "name": "stdout",
          "output_type": "stream",
          "text": [
            "hi amar ,so you are from mumbai\n"
          ]
        }
      ],
      "source": [
        "intro(\"amar\",\"mumbai\")"
      ]
    },
    {
      "cell_type": "code",
      "execution_count": null,
      "metadata": {
        "colab": {
          "base_uri": "https://localhost:8080/"
        },
        "id": "cDoDU7YCnu4W",
        "outputId": "ccd679ec-ccec-43ea-d41a-a32c9e944610"
      },
      "outputs": [
        {
          "name": "stdout",
          "output_type": "stream",
          "text": [
            "hi gujrat ,so you are from jingesh\n"
          ]
        }
      ],
      "source": [
        "intro(\"gujrat\",\"jingesh\")"
      ]
    },
    {
      "cell_type": "code",
      "execution_count": null,
      "metadata": {
        "colab": {
          "base_uri": "https://localhost:8080/"
        },
        "id": "Q2rZMSqEn3KF",
        "outputId": "61594914-9483-47fd-cab7-fc3408ebfa31"
      },
      "outputs": [
        {
          "name": "stdout",
          "output_type": "stream",
          "text": [
            "hi jingesh ,so you are from gujrat\n"
          ]
        }
      ],
      "source": [
        "#given in ary order but as a pair of key=value\n",
        "intro(native=\"gujrat\",name=\"jingesh\")"
      ]
    },
    {
      "cell_type": "code",
      "execution_count": null,
      "metadata": {
        "id": "Oug_B9RpoTcU"
      },
      "outputs": [],
      "source": [
        "#default value parameter:given in definition itself\n",
        "#default: mean to be used when not given\n",
        "def intro(name=\"unnamed\",native=\"india\"):\n",
        "    print(\"hi\",name,\",so you are from\",native)"
      ]
    },
    {
      "cell_type": "code",
      "execution_count": null,
      "metadata": {
        "colab": {
          "base_uri": "https://localhost:8080/"
        },
        "id": "dp90-jvho5Kh",
        "outputId": "fc5081c6-753d-488a-e6d6-e67663cc6489"
      },
      "outputs": [
        {
          "name": "stdout",
          "output_type": "stream",
          "text": [
            "hi amar ,so you are from mumbai\n",
            "hi amar ,so you are from india\n",
            "hi unnamed ,so you are from india\n",
            "hi unnamed ,so you are from rajasthan\n"
          ]
        }
      ],
      "source": [
        "intro(\"amar\",\"mumbai\")\n",
        "intro(\"amar\")\n",
        "intro()\n",
        "intro(native=\"rajasthan\")"
      ]
    },
    {
      "cell_type": "code",
      "execution_count": null,
      "metadata": {
        "colab": {
          "base_uri": "https://localhost:8080/"
        },
        "id": "lMU-TChRpdox",
        "outputId": "8f6dbe08-e10b-4e1b-c426-a30569b819c5"
      },
      "outputs": [
        {
          "name": "stdout",
          "output_type": "stream",
          "text": [
            "welcome, amar hope you good\n"
          ]
        }
      ],
      "source": [
        "#function polymorphism\n",
        "#ability to exists in mutiple forms\n",
        "def welcome(name):\n",
        "    print(\"welcome,\",name,\"hope you good\")\n",
        "\n",
        "hi=welcome\n",
        "\n",
        "hi(\"amar\")"
      ]
    },
    {
      "cell_type": "code",
      "execution_count": null,
      "metadata": {
        "id": "Wmkvc4GNqf-x"
      },
      "outputs": [],
      "source": [
        "#decorator-wrapping old functions within new calls\n",
        "def eng(name):\n",
        "    print(name,\"Welcome my dear friend\")\n",
        "def hindi(name):\n",
        "    print(name,\"स्वागत है मेरे प्रिय मित्र!\")\n",
        "def marathi(name):\n",
        "    print(name,\"स्वागत माझ्या प्रिय मित्रा!\")\n",
        "def ott(name,lang=eng):\n",
        "    lang(name)"
      ]
    },
    {
      "cell_type": "code",
      "execution_count": null,
      "metadata": {
        "colab": {
          "base_uri": "https://localhost:8080/"
        },
        "id": "1cKwT-uetrrJ",
        "outputId": "00282346-1829-4429-bf23-afec17db4e53"
      },
      "outputs": [
        {
          "name": "stdout",
          "output_type": "stream",
          "text": [
            "amar स्वागत है मेरे प्रिय मित्र!\n",
            "someone Welcome my dear friend\n"
          ]
        }
      ],
      "source": [
        "ott(\"amar\",hindi)\n",
        "ott(\"someone\")"
      ]
    },
    {
      "cell_type": "code",
      "execution_count": null,
      "metadata": {
        "colab": {
          "base_uri": "https://localhost:8080/"
        },
        "id": "helI1QZkvMYf",
        "outputId": "17c5b929-4a4b-4757-8390-b94167944c7a"
      },
      "outputs": [
        {
          "name": "stdout",
          "output_type": "stream",
          "text": [
            "1\n",
            "2\n",
            "3\n"
          ]
        }
      ],
      "source": [
        "#genrator:\n",
        "#function that generates value on every .next() call\n",
        "#function that pauses execution when yield encounters\n",
        "def go():\n",
        "    yield 1\n",
        "    yield 2\n",
        "    yield 3\n",
        "def go_2():\n",
        "    print(\"1\")\n",
        "    print(\"2\")\n",
        "    print(\"3\")\n",
        "def FD(amount,roi):\n",
        "    year=1\n",
        "    while True:\n",
        "        if year==10:\n",
        "            break\n",
        "        amount=amount+(amount*roi)\n",
        "        print(\"after\",year,amount)\n",
        "        year+=1\n",
        "        yield\n",
        "obj=go()\n",
        "o=go_2()"
      ]
    },
    {
      "cell_type": "code",
      "execution_count": null,
      "metadata": {
        "id": "7Cp_Lsyywetl"
      },
      "outputs": [],
      "source": [
        "x=FD(10000,0.08)"
      ]
    },
    {
      "cell_type": "code",
      "execution_count": null,
      "metadata": {
        "colab": {
          "base_uri": "https://localhost:8080/",
          "height": 141
        },
        "id": "gWV8oHIoxSTW",
        "outputId": "d7a8b5b1-1bc7-432a-9b3a-cc8fea3cec14"
      },
      "outputs": [
        {
          "ename": "StopIteration",
          "evalue": "",
          "output_type": "error",
          "traceback": [
            "\u001b[0;31m---------------------------------------------------------------------------\u001b[0m",
            "\u001b[0;31mStopIteration\u001b[0m                             Traceback (most recent call last)",
            "\u001b[0;32m<ipython-input-48-92de4e9f6b1e>\u001b[0m in \u001b[0;36m<cell line: 0>\u001b[0;34m()\u001b[0m\n\u001b[0;32m----> 1\u001b[0;31m \u001b[0mnext\u001b[0m\u001b[0;34m(\u001b[0m\u001b[0mx\u001b[0m\u001b[0;34m)\u001b[0m\u001b[0;34m\u001b[0m\u001b[0;34m\u001b[0m\u001b[0m\n\u001b[0m",
            "\u001b[0;31mStopIteration\u001b[0m: "
          ]
        }
      ],
      "source": [
        "next(x)"
      ]
    },
    {
      "cell_type": "code",
      "execution_count": null,
      "metadata": {
        "id": "P7jcSEJoyov8"
      },
      "outputs": [],
      "source": [
        "#iterator:iterate over n values\n",
        "data=[11,22,33,44,55,66,77,88,99,111]\n",
        "i=iter(data)"
      ]
    },
    {
      "cell_type": "code",
      "execution_count": null,
      "metadata": {
        "colab": {
          "base_uri": "https://localhost:8080/"
        },
        "id": "LkG0seZ-y0ir",
        "outputId": "ef964a07-eda8-4fc1-b272-43a2d892bd6e"
      },
      "outputs": [
        {
          "name": "stdout",
          "output_type": "stream",
          "text": [
            "66\n"
          ]
        }
      ],
      "source": [
        "print(next(i))"
      ]
    },
    {
      "cell_type": "code",
      "execution_count": null,
      "metadata": {
        "id": "NcTCvPAjz5-c"
      },
      "outputs": [],
      "source": [
        "#iterator:iterate over a given sequence\n",
        "#generator:in one pass at a time generates value(funcntion)\n",
        "#docarator:takes old function wrap it with ne needs and use old core for adaptation"
      ]
    },
    {
      "cell_type": "code",
      "execution_count": null,
      "metadata": {
        "colab": {
          "base_uri": "https://localhost:8080/"
        },
        "id": "_9fTnj-Z1J8B",
        "outputId": "11de39d4-f738-4ca6-9de7-c64e00ae1fb1"
      },
      "outputs": [
        {
          "name": "stdout",
          "output_type": "stream",
          "text": [
            "main script\n",
            "in script:start: data 10\n",
            "in function:start: data 10\n",
            "in function:end: data 20\n",
            "in script:end: data 10\n"
          ]
        }
      ],
      "source": [
        "#data passed by value:changes seen only in function\n",
        "def doubler(data):\n",
        "    print(\"in function:start: data\",data)\n",
        "    data=data*2\n",
        "    print(\"in function:end: data\",data)\n",
        "data=10\n",
        "print(\"main script\")\n",
        "print(\"in script:start: data\",data)\n",
        "doubler(data)\n",
        "print(\"in script:end: data\",data)\n",
        "\n"
      ]
    },
    {
      "cell_type": "code",
      "execution_count": null,
      "metadata": {
        "colab": {
          "base_uri": "https://localhost:8080/"
        },
        "id": "_Gxca0DF2LmK",
        "outputId": "55be175f-c385-4334-e632-723abba6842a"
      },
      "outputs": [
        {
          "name": "stdout",
          "output_type": "stream",
          "text": [
            "main script\n",
            "in script:start: data [10]\n",
            "in function:start: data [10]\n",
            "in function:end: data [20]\n",
            "in script:end: data [20]\n"
          ]
        }
      ],
      "source": [
        "#data structure passed by ref:changes seen all places\n",
        "def doubler(data):\n",
        "    print(\"in function:start: data\",data)\n",
        "    data[0]=data[0]*2\n",
        "    print(\"in function:end: data\",data)\n",
        "data=[10]\n",
        "print(\"main script\")\n",
        "print(\"in script:start: data\",data)\n",
        "doubler(data)\n",
        "print(\"in script:end: data\",data)"
      ]
    },
    {
      "cell_type": "code",
      "execution_count": null,
      "metadata": {
        "colab": {
          "base_uri": "https://localhost:8080/"
        },
        "id": "RgDVRR-P2nBe",
        "outputId": "f45bb186-dfc4-43f7-88bc-772afe0f866f"
      },
      "outputs": [
        {
          "name": "stdout",
          "output_type": "stream",
          "text": [
            "in main: 10\n",
            "in function: 10\n"
          ]
        }
      ],
      "source": [
        "#global v/s local\n",
        "x=10#ACT AS GLOBAL\n",
        "def hi():\n",
        "    print(\"in function:\",x)\n",
        "print(\"in main:\",x)\n",
        "hi()\n"
      ]
    },
    {
      "cell_type": "code",
      "execution_count": null,
      "metadata": {
        "colab": {
          "base_uri": "https://localhost:8080/"
        },
        "id": "Z9_MmmeS28Xe",
        "outputId": "3a47ad71-b6cf-4573-ec19-32149fb90dd2"
      },
      "outputs": [
        {
          "name": "stdout",
          "output_type": "stream",
          "text": [
            "in main: 10\n",
            "in function: 100\n",
            "in main: 100\n"
          ]
        }
      ],
      "source": [
        "x=10#ACT AS GLOBAL\n",
        "def hi():\n",
        "    global x\n",
        "    x=100#global access\n",
        "    print(\"in function:\",x)\n",
        "print(\"in main:\",x)\n",
        "hi()\n",
        "print(\"in main:\",x)"
      ]
    },
    {
      "cell_type": "code",
      "execution_count": null,
      "metadata": {
        "colab": {
          "base_uri": "https://localhost:8080/"
        },
        "id": "vfopRx1a32xf",
        "outputId": "324d5919-eb05-4332-f319-2d6c7bba8829"
      },
      "outputs": [
        {
          "data": {
            "text/plain": [
              "[88, 77, 66, 99, 100]"
            ]
          },
          "execution_count": 64,
          "metadata": {},
          "output_type": "execute_result"
        }
      ],
      "source": [
        "#create filter function that read a list and returns a list\n",
        "#consisting only elements > the average of passed list\n",
        "def filter(data):\n",
        "    avg=sum(data)/len(data)\n",
        "    new_list=[]\n",
        "    for i in data:\n",
        "        if i>avg:\n",
        "            new_list.append(i)\n",
        "    return new_list\n",
        "filter([11,22,44,88,77,66,55,44,22,99,100])"
      ]
    },
    {
      "cell_type": "markdown",
      "metadata": {
        "id": "f6X7ZiTN3iZo"
      },
      "source": [
        "**=========================================================================================================================**"
      ]
    },
    {
      "cell_type": "markdown",
      "metadata": {
        "id": "TZlzhnIc3l6T"
      },
      "source": [
        "# Day five ,imp"
      ]
    },
    {
      "cell_type": "markdown",
      "metadata": {
        "id": "66S06p9M3rrh"
      },
      "source": [
        "**==========================================================================================================**"
      ]
    },
    {
      "cell_type": "code",
      "execution_count": null,
      "metadata": {
        "id": "TpZTUkko3uwL"
      },
      "outputs": [],
      "source": []
    },
    {
      "cell_type": "code",
      "execution_count": null,
      "metadata": {
        "colab": {
          "base_uri": "https://localhost:8080/"
        },
        "id": "7rTmoPtzKui8",
        "outputId": "bf82d59e-54ef-4c29-970e-08941d325c4f"
      },
      "outputs": [
        {
          "name": "stdout",
          "output_type": "stream",
          "text": [
            "sorted: False\n"
          ]
        }
      ],
      "source": [
        "l=[3,2,4,1,5]\n",
        "\n",
        "print(\"sorted:\",l==sorted(l))"
      ]
    },
    {
      "cell_type": "code",
      "execution_count": null,
      "metadata": {
        "colab": {
          "base_uri": "https://localhost:8080/"
        },
        "id": "icRgbCLRLfx_",
        "outputId": "0f0f6624-5d34-4fdb-c578-63f80b0445cc"
      },
      "outputs": [
        {
          "name": "stdout",
          "output_type": "stream",
          "text": [
            "2, 4, 2, "
          ]
        }
      ],
      "source": [
        "l1=[2,1,4,5,3,2]\n",
        "l2=[4,7,8,2,9,2]\n",
        "#list(set(l1)&set(l2)) only if all unique\n",
        "#check each element from one list in other list\n",
        "# in to check ,each elment  for item\n",
        "for element in l1:\n",
        "    if element in l2:\n",
        "        print(element,end=\", \")\n",
        "        l2.remove(element)\n"
      ]
    },
    {
      "cell_type": "code",
      "execution_count": null,
      "metadata": {
        "colab": {
          "base_uri": "https://localhost:8080/"
        },
        "id": "w1v1Co9eNZaa",
        "outputId": "65d8d37b-2cce-4a03-f11e-f15b3d1e86a5"
      },
      "outputs": [
        {
          "name": "stdout",
          "output_type": "stream",
          "text": [
            "Best Profit 9 by buying at 1 and selleing at 4\n"
          ]
        }
      ],
      "source": [
        "#given 7 days share values\n",
        "#return buy and sell day for max profit\n",
        "trade=[5,1,1,4,10,3,8]\n",
        "#lowest buy highest sell\n",
        "buy_at=0\n",
        "sell_at=0\n",
        "profit=0\n",
        "for i in range(0,len(trade)):#buy\n",
        "    for j in range(i+1,len(trade)):#check profit(buy-sell)\n",
        "        if trade[j]-trade[i]>profit:\n",
        "            buy_at=i\n",
        "            sell_at=j\n",
        "            profit=trade[j]-trade[i]\n",
        "print(f\"Best Profit {profit} by buying at {buy_at} and selleing at {sell_at}\")\n",
        "\n"
      ]
    },
    {
      "cell_type": "code",
      "execution_count": null,
      "metadata": {
        "colab": {
          "base_uri": "https://localhost:8080/"
        },
        "id": "S4FkRJe0Sopp",
        "outputId": "e30a6bea-54b6-4063-97c3-ee45e69a39d3"
      },
      "outputs": [
        {
          "name": "stdout",
          "output_type": "stream",
          "text": [
            "22.3\n"
          ]
        }
      ],
      "source": [
        "#given is set of bids by 10 users  give product to nearest bidder of original cost.\n",
        "cost_product=22.5\n",
        "bids=[11,44,23,67,45.5,5.1,22.3,26]\n",
        "nearest_bid=bids[0]\n",
        "difference=10000\n",
        "for bid in bids:\n",
        "    if bid<cost_product and cost_product-bid<difference:\n",
        "        nearest_bid=bid\n",
        "        difference=cost_product-bid\n",
        "print(nearest_bid)\n"
      ]
    },
    {
      "cell_type": "code",
      "execution_count": null,
      "metadata": {
        "colab": {
          "base_uri": "https://localhost:8080/"
        },
        "id": "vydvmWpPX99M",
        "outputId": "d209a6d6-120c-4693-8ed4-b5e7ab6e611d"
      },
      "outputs": [
        {
          "name": "stdout",
          "output_type": "stream",
          "text": [
            "[5.1, 11, 22.3] \n",
            " 22.3\n"
          ]
        }
      ],
      "source": [
        "cost_product=22.5\n",
        "bids=[11,44,23,67,45.5,5.1,22.3,26]\n",
        "closest=[]\n",
        "for bid in bids:\n",
        "    if (bid)<(cost_product):\n",
        "        closest.append(bid)\n",
        "\n",
        "print(sorted(closest),\"\\n\",sorted(closest)[-1])\n",
        "\n"
      ]
    },
    {
      "cell_type": "code",
      "execution_count": null,
      "metadata": {
        "id": "p3zmXN-oZkFP"
      },
      "outputs": [],
      "source": [
        "#sum of set given a value m ,return set of number pairs that can add to this number\n",
        "#def sum_set([1,2,3,4,5],5)\n",
        "#return (1,4)(2,3)\n",
        "def sum_set(data,m):\n",
        "    ans=[]\n",
        "    for i in range(len(data)):\n",
        "        for j in range(i+1,len(data)):\n",
        "            if data[i]+data[j]==m:\n",
        "                ans.append((data[i],data[j]))\n",
        "    return ans\n"
      ]
    },
    {
      "cell_type": "code",
      "execution_count": null,
      "metadata": {
        "colab": {
          "base_uri": "https://localhost:8080/"
        },
        "id": "QihRUrFOcgGG",
        "outputId": "86dc670e-3dae-4a8f-cbd6-283da2f70db3"
      },
      "outputs": [
        {
          "data": {
            "text/plain": [
              "[(1, 4), (2, 3)]"
            ]
          },
          "execution_count": 50,
          "metadata": {},
          "output_type": "execute_result"
        }
      ],
      "source": [
        "sum_set([1,2,3,4,5],5)"
      ]
    },
    {
      "cell_type": "markdown",
      "metadata": {
        "id": "5SwnN4GBcp7d"
      },
      "source": []
    },
    {
      "cell_type": "code",
      "execution_count": null,
      "metadata": {
        "id": "sMwo8xqbcoUk"
      },
      "outputs": [],
      "source": [
        "Split List Based on Average\n",
        "arr = [10, 20, 30, 40, 50]\n",
        "Average = (10 + 20 + 30 + 40 + 50) / 5 = 30\n",
        "Greater than 30 → [40, 50]\n",
        "Less than or equal to 30 → [10, 20, 30]"
      ]
    },
    {
      "cell_type": "code",
      "execution_count": null,
      "metadata": {
        "colab": {
          "base_uri": "https://localhost:8080/"
        },
        "id": "zwoF0tece0zI",
        "outputId": "909251f9-66bd-4440-c915-99eeb6046884"
      },
      "outputs": [
        {
          "name": "stdout",
          "output_type": "stream",
          "text": [
            "Greater: [30, 40, 50] lesser: [10, 20]\n"
          ]
        }
      ],
      "source": [
        "def cutter(arr):\n",
        "    avg=sum(arr)/len(arr)\n",
        "    a_lesser=[]\n",
        "    a_greater=[]\n",
        "    for item in arr:\n",
        "        if item<avg:\n",
        "            a_lesser.append(item)\n",
        "        else:\n",
        "            a_greater.append(item)\n",
        "    return a_greater,a_lesser\n",
        "\n",
        "arr = [10, 20, 30, 40, 50]\n",
        "res=cutter(arr)\n",
        "print(\"Greater:\",res[0],\"lesser:\",res[1])"
      ]
    },
    {
      "cell_type": "code",
      "execution_count": null,
      "metadata": {
        "id": "m33TNkvsdFgM"
      },
      "outputs": [],
      "source": [
        "Given a nested list where each sublist contains random numbers, write a program to calculate the sum of each sublist and append the sum to the respective sublist.\n",
        "\n",
        "Constraints:\n",
        "Each sublist contains at least one integer.\n",
        "The numbers can be positive, negative, or zero.\n",
        "The length of the outer list is 3 (i.e., exactly 3 sublists).\n",
        "The output should be the modified nested list with sums appended.\n",
        "nested_list = [\n",
        "    [3, 5, 7],\n",
        "    [10, 20, 30],\n",
        "    [4, 8, 12]\n",
        "]\n",
        "First sublist: 3 + 5 + 7 = 15 → Append 15\n",
        "Second sublist: 10 + 20 + 30 = 60 → Append 60\n",
        "Third sublist: 4 + 8 + 12 = 24 → Append 24\n",
        "\n",
        "[\n",
        "    [3, 5, 7, 15],\n",
        "    [10, 20, 30, 60],\n",
        "    [4, 8, 12, 24]\n",
        "]\n",
        "\n"
      ]
    },
    {
      "cell_type": "code",
      "execution_count": null,
      "metadata": {
        "colab": {
          "base_uri": "https://localhost:8080/"
        },
        "id": "lLoDWgVlgKWM",
        "outputId": "37253bdc-65ba-4547-a5b7-6a56a2fd34c3"
      },
      "outputs": [
        {
          "name": "stdout",
          "output_type": "stream",
          "text": [
            "[3, 5, 7]\n",
            "[10, 20, 30]\n",
            "[4, 8, 12]\n",
            "[[3, 5, 7, 15], [10, 20, 30, 60], [4, 8, 12, 24]]\n"
          ]
        }
      ],
      "source": [
        "def adder(arr):\n",
        "    for sub_array in arr:\n",
        "        print(sub_array)\n",
        "        sub_array.append(sum(sub_array))\n",
        "    return arr\n",
        "nested_list =\n",
        " [\n",
        "    [3, 5, 7],\n",
        "    [10, 20, 30],\n",
        "    [4, 8, 12]\n",
        "]\n",
        "nested_list=adder(nested_list)\n",
        "print(nested_list)"
      ]
    },
    {
      "cell_type": "code",
      "execution_count": null,
      "metadata": {
        "colab": {
          "base_uri": "https://localhost:8080/"
        },
        "id": "3cUQGq9nr9p5",
        "outputId": "70bb511d-e98a-4fdc-930b-62c98bb26eeb"
      },
      "outputs": [
        {
          "name": "stdout",
          "output_type": "stream",
          "text": [
            "False\n"
          ]
        }
      ],
      "source": [
        "def anagram(w1,w2):\n",
        "    return sorted((w1))==sorted((w2))\n",
        "word1=\"listen\"\n",
        "word2=\"silent\"\n",
        "print(anagram(word1,word2))\n"
      ]
    },
    {
      "cell_type": "code",
      "execution_count": null,
      "metadata": {
        "colab": {
          "base_uri": "https://localhost:8080/"
        },
        "id": "o6ZUJf5uyWs0",
        "outputId": "d5297ede-287c-4355-ae6e-36e4838ce70c"
      },
      "outputs": [
        {
          "name": "stdout",
          "output_type": "stream",
          "text": [
            "Longest substring is: aabbc\n"
          ]
        }
      ],
      "source": [
        "\"abcdefgh\",\"abcgtthh\"\n",
        "#start 1 to n till it exsits in other string\n",
        "#substring [:i]\n",
        "#a , ab, abc, adcd not last was ans\n",
        "def substring_finder(string,substring):\n",
        "    pos=0\n",
        "    for i in range(1,len(substring)):\n",
        "        if substring[:i] in string:#a,aa,aab,aabb,aabbc,aabbcc not\n",
        "            pos=i\n",
        "        else:\n",
        "            break\n",
        "    return substring[:pos]\n",
        "\n",
        "print(\"Longest substring is:\",substring_finder(\"aabbccdd\",\"aabbceee\"))"
      ]
    },
    {
      "cell_type": "code",
      "execution_count": null,
      "metadata": {
        "id": "qLUpGVTM0zqS"
      },
      "outputs": [],
      "source": [
        "# try BATA---TATA---ATA\n"
      ]
    },
    {
      "cell_type": "code",
      "execution_count": null,
      "metadata": {
        "colab": {
          "base_uri": "https://localhost:8080/"
        },
        "id": "sM0Mt5lv2H_2",
        "outputId": "a3eb218c-61b6-491a-cd5b-ca276ac72347"
      },
      "outputs": [
        {
          "data": {
            "text/plain": [
              "dict_keys([1, 2, 3])"
            ]
          },
          "execution_count": 65,
          "metadata": {},
          "output_type": "execute_result"
        }
      ],
      "source": [
        "d={1:\"one\",2:\"two\",3:\"three\"}\n",
        "d.keys()"
      ]
    },
    {
      "cell_type": "code",
      "execution_count": null,
      "metadata": {
        "colab": {
          "base_uri": "https://localhost:8080/"
        },
        "id": "eEAnt9jD2QU6",
        "outputId": "46551968-b1a1-47d7-e804-593b5e7e7f7d"
      },
      "outputs": [
        {
          "data": {
            "text/plain": [
              "dict_values(['one', 'two', 'three'])"
            ]
          },
          "execution_count": 66,
          "metadata": {},
          "output_type": "execute_result"
        }
      ],
      "source": [
        "d.values()"
      ]
    },
    {
      "cell_type": "code",
      "execution_count": null,
      "metadata": {
        "colab": {
          "base_uri": "https://localhost:8080/",
          "height": 36
        },
        "id": "YI8Esee02Ss2",
        "outputId": "c04fd7be-53a0-4bff-b613-d2a4bf7f004c"
      },
      "outputs": [
        {
          "data": {
            "application/vnd.google.colaboratory.intrinsic+json": {
              "type": "string"
            },
            "text/plain": [
              "'one'"
            ]
          },
          "execution_count": 67,
          "metadata": {},
          "output_type": "execute_result"
        }
      ],
      "source": [
        "d[1]"
      ]
    },
    {
      "cell_type": "code",
      "execution_count": null,
      "metadata": {
        "colab": {
          "base_uri": "https://localhost:8080/",
          "height": 36
        },
        "id": "W7-ic2-K2W48",
        "outputId": "f28d9335-db2e-471f-d0a2-b32ec70248cb"
      },
      "outputs": [
        {
          "data": {
            "application/vnd.google.colaboratory.intrinsic+json": {
              "type": "string"
            },
            "text/plain": [
              "'one'"
            ]
          },
          "execution_count": 68,
          "metadata": {},
          "output_type": "execute_result"
        }
      ],
      "source": [
        "d.get(1)"
      ]
    },
    {
      "cell_type": "code",
      "execution_count": null,
      "metadata": {
        "id": "gPqhuRFS2ahO"
      },
      "outputs": [],
      "source": [
        "d[2.5]=\"two and half\""
      ]
    },
    {
      "cell_type": "code",
      "execution_count": null,
      "metadata": {
        "colab": {
          "base_uri": "https://localhost:8080/"
        },
        "id": "YecihjTD2khR",
        "outputId": "c4d918fd-bdfc-489a-c934-4e361823b516"
      },
      "outputs": [
        {
          "name": "stdout",
          "output_type": "stream",
          "text": [
            "{1: 'one', 2: 'two', 3: 'three', 2.5: 'two and half'}\n"
          ]
        }
      ],
      "source": [
        "print(d)"
      ]
    },
    {
      "cell_type": "code",
      "execution_count": null,
      "metadata": {
        "colab": {
          "base_uri": "https://localhost:8080/"
        },
        "id": "Plb5kQnQ4UMc",
        "outputId": "1e1d02fe-6458-4872-fc3f-6894dfcef16f"
      },
      "outputs": [
        {
          "data": {
            "text/plain": [
              "{'a': 1, 'b': 3, 'd': 4}"
            ]
          },
          "execution_count": 74,
          "metadata": {},
          "output_type": "execute_result"
        }
      ],
      "source": [
        "dict1 = {'a': 1, 'b': 2}\n",
        "dict2 = {'b': 3, 'd': 4}\n",
        "#combine 2 dict where if key already there then add value\n",
        "return {'a': 1, 'b': 5, 'd': 4}"
      ]
    },
    {
      "cell_type": "code",
      "execution_count": null,
      "metadata": {
        "colab": {
          "base_uri": "https://localhost:8080/"
        },
        "id": "7uFtWMBC47VG",
        "outputId": "d7d75f70-284b-4250-d9f5-05ba1bee2815"
      },
      "outputs": [
        {
          "data": {
            "text/plain": [
              "{'a': 1, 'b': 5, 'd': 4}"
            ]
          },
          "execution_count": 76,
          "metadata": {},
          "output_type": "execute_result"
        }
      ],
      "source": [
        "def combine(d1,d2):\n",
        "    #update d1 to d3\n",
        "    d3={}\n",
        "    d3.update(d1)#{'a': 1, 'b': 2}\n",
        "    #add d2 to d3 if key already there then add value\n",
        "    #key there or not\n",
        "    for key in d2.keys():#{'b': 3, 'd': 4}\n",
        "        if key in d3:#b\n",
        "            d3[key]+=d2[key]\n",
        "           #     b:2   b:3\n",
        "        else:\n",
        "            d3[key]=d2[key]\n",
        "            #new d3['d']=4\n",
        "    return d3\n",
        "combine({'a': 1, 'b': 2} ,{'b': 3, 'd': 4})"
      ]
    },
    {
      "cell_type": "code",
      "execution_count": null,
      "metadata": {
        "colab": {
          "base_uri": "https://localhost:8080/"
        },
        "id": "OMrdIcuY7Oll",
        "outputId": "dff43d78-5b4d-4fc1-cc8c-ef7ba06e44f1"
      },
      "outputs": [
        {
          "data": {
            "text/plain": [
              "{1: 'one', 2: 'two', 5: 'five', 8: 'eight'}"
            ]
          },
          "execution_count": 79,
          "metadata": {},
          "output_type": "execute_result"
        }
      ],
      "source": [
        "data = {5: \"five\", 2: \"two\", 8: \"eight\", 1: \"one\"}\n",
        "dict(sorted(data.items()))\n"
      ]
    },
    {
      "cell_type": "code",
      "execution_count": null,
      "metadata": {
        "id": "lirULjWe7-np"
      },
      "outputs": [],
      "source": [
        "data = {1: \"dog\", 2: \"cat\", 3: \"elephant\", 4: \"bee\"}"
      ]
    },
    {
      "cell_type": "code",
      "execution_count": null,
      "metadata": {
        "colab": {
          "base_uri": "https://localhost:8080/",
          "height": 176
        },
        "id": "E70SZJyp7_39",
        "outputId": "2bcb6403-99ea-4533-f291-91dcc5ef3949"
      },
      "outputs": [
        {
          "ename": "NameError",
          "evalue": "name 'item' is not defined",
          "output_type": "error",
          "traceback": [
            "\u001b[0;31m---------------------------------------------------------------------------\u001b[0m",
            "\u001b[0;31mNameError\u001b[0m                                 Traceback (most recent call last)",
            "\u001b[0;32m<ipython-input-85-33e273074272>\u001b[0m in \u001b[0;36m<cell line: 0>\u001b[0;34m()\u001b[0m\n\u001b[1;32m      2\u001b[0m     \u001b[0;32mreturn\u001b[0m \u001b[0mitem\u001b[0m\u001b[0;34m[\u001b[0m\u001b[0;36m1\u001b[0m\u001b[0;34m]\u001b[0m\u001b[0;34m\u001b[0m\u001b[0;34m\u001b[0m\u001b[0m\n\u001b[1;32m      3\u001b[0m \u001b[0;34m\u001b[0m\u001b[0m\n\u001b[0;32m----> 4\u001b[0;31m \u001b[0msorted\u001b[0m\u001b[0;34m(\u001b[0m\u001b[0mdata\u001b[0m\u001b[0;34m.\u001b[0m\u001b[0mitems\u001b[0m\u001b[0;34m(\u001b[0m\u001b[0;34m)\u001b[0m\u001b[0;34m,\u001b[0m\u001b[0mkey\u001b[0m\u001b[0;34m=\u001b[0m\u001b[0mitem\u001b[0m\u001b[0;34m[\u001b[0m\u001b[0;36m1\u001b[0m\u001b[0;34m]\u001b[0m\u001b[0;34m)\u001b[0m\u001b[0;34m\u001b[0m\u001b[0;34m\u001b[0m\u001b[0m\n\u001b[0m",
            "\u001b[0;31mNameError\u001b[0m: name 'item' is not defined"
          ]
        }
      ],
      "source": [
        "def get_value(item):\n",
        "    return item[1]\n",
        "\n",
        "sorted(data.items(),key=get_value)"
      ]
    },
    {
      "cell_type": "code",
      "execution_count": null,
      "metadata": {
        "colab": {
          "base_uri": "https://localhost:8080/"
        },
        "id": "VCa8jGjS8fQM",
        "outputId": "76223baf-eeca-4e58-e9da-b4da624f2ca7"
      },
      "outputs": [
        {
          "data": {
            "text/plain": [
              "dict_items([(5, 'five'), (2, 'two'), (8, 'eight'), (1, 'one')])"
            ]
          },
          "execution_count": 81,
          "metadata": {},
          "output_type": "execute_result"
        }
      ],
      "source": [
        "data.items()"
      ]
    },
    {
      "cell_type": "code",
      "execution_count": null,
      "metadata": {
        "id": "eJFupKC99NOO"
      },
      "outputs": [],
      "source": [
        "#system building:\n",
        "#create a system called student management\n",
        "#where seat number are keys and name,gender,email id are store as value\n",
        "#add---\n",
        "#search\n",
        "#delete\n",
        "#modify iff existing"
      ]
    },
    {
      "cell_type": "code",
      "execution_count": null,
      "metadata": {
        "id": "6KTimpo9_cLo"
      },
      "outputs": [],
      "source": [
        "students={}"
      ]
    },
    {
      "cell_type": "code",
      "execution_count": null,
      "metadata": {
        "colab": {
          "base_uri": "https://localhost:8080/"
        },
        "id": "B7h2_KE-9y-z",
        "outputId": "ea49e55f-f1ed-49ec-934a-9e08c3eaaba7"
      },
      "outputs": [
        {
          "name": "stdout",
          "output_type": "stream",
          "text": [
            "Enter name:abbadabba\n",
            "Enter gender:m\n",
            "Enter emailid:ab#cc.com\n",
            "Seat no:202502\n"
          ]
        }
      ],
      "source": [
        "#add\n",
        "#read name,gender,email store all in list\n",
        "record=[]\n",
        "record.append(input(\"Enter name:\"))\n",
        "record.append(input(\"Enter gender:\"))\n",
        "record.append(input(\"Enter emailid:\"))\n",
        "seat_no=int(input(\"Seat no:\"))\n",
        "students[seat_no]=record\n"
      ]
    },
    {
      "cell_type": "code",
      "execution_count": null,
      "metadata": {
        "colab": {
          "base_uri": "https://localhost:8080/"
        },
        "id": "uAz4Sxv4_jwf",
        "outputId": "8c8129c5-d2cb-4e69-e0d1-aa052fb1252c"
      },
      "outputs": [
        {
          "name": "stdout",
          "output_type": "stream",
          "text": [
            "{202501: ['amrita', 'female', 'a@b.com']}\n"
          ]
        }
      ],
      "source": [
        "print(students)"
      ]
    },
    {
      "cell_type": "code",
      "execution_count": null,
      "metadata": {
        "colab": {
          "base_uri": "https://localhost:8080/"
        },
        "id": "CP_rRwLb_jqU",
        "outputId": "6f02c439-aa6c-43ef-9de0-da21f829065a"
      },
      "outputs": [
        {
          "name": "stdout",
          "output_type": "stream",
          "text": [
            "Enter seat no:420\n",
            "No\n"
          ]
        }
      ],
      "source": [
        "#search\n",
        "seat_no=int(input(\"Enter seat no:\"))\n",
        "if seat_no in students:\n",
        "    print(\"Yes\")\n",
        "    students[seat_no]\n",
        "else:\n",
        "    print(\"No\")\n"
      ]
    },
    {
      "cell_type": "code",
      "execution_count": null,
      "metadata": {
        "colab": {
          "base_uri": "https://localhost:8080/"
        },
        "id": "-hI7yTo0ARz-",
        "outputId": "c35aacb0-38d5-41fe-8064-27807c3cbc5a"
      },
      "outputs": [
        {
          "name": "stdout",
          "output_type": "stream",
          "text": [
            "Seat_no202502\n"
          ]
        },
        {
          "data": {
            "text/plain": [
              "['abbadabba', 'm', 'ab#cc.com']"
            ]
          },
          "execution_count": 94,
          "metadata": {},
          "output_type": "execute_result"
        }
      ],
      "source": [
        "#delete:\n",
        "students.pop(int(input(\"Seat_no\")))"
      ]
    },
    {
      "cell_type": "code",
      "execution_count": null,
      "metadata": {
        "colab": {
          "base_uri": "https://localhost:8080/"
        },
        "id": "v0ovWW_nAiww",
        "outputId": "8bbabee6-cb4f-4e21-cd7d-83e61f8465f7"
      },
      "outputs": [
        {
          "name": "stdout",
          "output_type": "stream",
          "text": [
            "Seat no:202601\n",
            "not there\n"
          ]
        }
      ],
      "source": [
        "#update:\n",
        "seat_no=int(input(\"Seat no:\"))\n",
        "if seat_no in students:\n",
        "    record=[]\n",
        "    record.append(input(\"Enter name:\"))\n",
        "    record.append(input(\"Enter gender:\"))\n",
        "    record.append(input(\"Enter emailid:\"))\n",
        "    students[seat_no]=record\n",
        "else:\n",
        "    print(\"not there\")\n"
      ]
    },
    {
      "cell_type": "code",
      "execution_count": null,
      "metadata": {
        "colab": {
          "base_uri": "https://localhost:8080/"
        },
        "id": "XNaAIIvYBHt5",
        "outputId": "8e374906-6368-44fd-8148-243a6ee0097b"
      },
      "outputs": [
        {
          "name": "stdout",
          "output_type": "stream",
          "text": [
            "Student Management System\n",
            "-------------------------\n",
            "1.Add\n",
            "2.Search\n",
            "3.Update\n",
            "4.Delete\n",
            "0.Exit\n",
            ":1\n",
            "Enter name:amar\n",
            "Enter gender:male\n",
            "Enter emailid:a@b.com\n",
            "Registred your seatno is: 202501\n",
            "Student Management System\n",
            "-------------------------\n",
            "1.Add\n",
            "2.Search\n",
            "3.Update\n",
            "4.Delete\n",
            "0.Exit\n",
            ":1\n",
            "Enter name:superman\n",
            "Enter gender:male\n",
            "Enter emailid:s@r.com\n",
            "Registred your seatno is: 202502\n",
            "Student Management System\n",
            "-------------------------\n",
            "1.Add\n",
            "2.Search\n",
            "3.Update\n",
            "4.Delete\n",
            "0.Exit\n",
            ":1\n",
            "Enter name:shaktiman\n",
            "Enter gender:man\n",
            "Enter emailid:m@k.com\n",
            "Registred your seatno is: 202503\n",
            "Student Management System\n",
            "-------------------------\n",
            "1.Add\n",
            "2.Search\n",
            "3.Update\n",
            "4.Delete\n",
            "0.Exit\n",
            ":2\n",
            "Enter seat no:202506\n",
            "Not found\n",
            "Student Management System\n",
            "-------------------------\n",
            "1.Add\n",
            "2.Search\n",
            "3.Update\n",
            "4.Delete\n",
            "0.Exit\n",
            ":3\n",
            "Seat no:202503\n",
            "Enter name:shaktiman\n",
            "Enter gender:male\n",
            "Enter emailid:q@y.com\n",
            "Updated....\n",
            "Student Management System\n",
            "-------------------------\n",
            "1.Add\n",
            "2.Search\n",
            "3.Update\n",
            "4.Delete\n",
            "0.Exit\n",
            ":99\n",
            "Wrong option selected....\n",
            "Student Management System\n",
            "-------------------------\n",
            "1.Add\n",
            "2.Search\n",
            "3.Update\n",
            "4.Delete\n",
            "0.Exit\n",
            ":0\n",
            "bye bye...\n"
          ]
        }
      ],
      "source": [
        "#build menu drive code for student management system\n",
        "#1.add,2.search,3.update,4 delete\n",
        "#seatnumber is auto generated by system\n",
        "seat_number_generator=202500\n",
        "students={}\n",
        "while True:\n",
        "    print(\"Student Management System\")\n",
        "    print(\"-------------------------\")\n",
        "    print(\"1.Add\")\n",
        "    print(\"2.Search\")\n",
        "    print(\"3.Update\")\n",
        "    print(\"4.Delete\")\n",
        "    print(\"0.Exit\")\n",
        "    ch=int(input(\":\"))\n",
        "    if ch==1:\n",
        "        record=[]\n",
        "        record.append(input(\"Enter name:\"))\n",
        "        record.append(input(\"Enter gender:\"))\n",
        "        record.append(input(\"Enter emailid:\"))\n",
        "        seat_number_generator+=1\n",
        "        seat_no=seat_number_generator\n",
        "        students[seat_no]=record\n",
        "        print(\"Registred your seatno is:\",seat_no)\n",
        "    elif ch==2:\n",
        "        seat_no=int(input(\"Enter seat no:\"))\n",
        "        if seat_no in students:\n",
        "            print(\"Yes\")\n",
        "            print(\"Details:\",students[seat_no])\n",
        "        else:\n",
        "            print(\"Not found\")\n",
        "    elif ch==3:\n",
        "        seat_no=int(input(\"Seat no:\"))\n",
        "        if seat_no in students:\n",
        "            record=[]\n",
        "            record.append(input(\"Enter name:\"))\n",
        "            record.append(input(\"Enter gender:\"))\n",
        "            record.append(input(\"Enter emailid:\"))\n",
        "            students[seat_no]=record\n",
        "            print(\"Updated....\")\n",
        "        else:\n",
        "            print(\"not there\")\n",
        "    elif ch==4:\n",
        "        seat_no=int(input(\"Seat_no\"))\n",
        "        if seat_no in students:\n",
        "            print(\"Deleted:\",students.pop(seat_no))\n",
        "        else:\n",
        "            print(\"wrong seat no\")\n",
        "    elif ch==0:\n",
        "        print(\"bye bye...\")\n",
        "        break\n",
        "    else:\n",
        "        print(\"Wrong option selected....\")\n",
        "\n",
        "\n"
      ]
    },
    {
      "cell_type": "markdown",
      "metadata": {
        "id": "VmuGYofv37YY"
      },
      "source": [
        "**=====================================================================**"
      ]
    },
    {
      "cell_type": "markdown",
      "metadata": {
        "id": "8UUCX3ix3-IC"
      },
      "source": [
        "# Day six  ,  OOPs  /  sums"
      ]
    },
    {
      "cell_type": "markdown",
      "metadata": {
        "id": "nmGjtN_E4Cde"
      },
      "source": [
        "**======================================================================================**"
      ]
    },
    {
      "cell_type": "code",
      "execution_count": null,
      "metadata": {
        "id": "3H6tISD339i-"
      },
      "outputs": [],
      "source": []
    },
    {
      "cell_type": "code",
      "execution_count": null,
      "metadata": {
        "id": "Aap4h59PKJsU"
      },
      "outputs": [],
      "source": [
        "'''\n",
        "class\n",
        "-virtual idea \"Human\"\n",
        "-its a frame work\n",
        "-has properties\n",
        "-has operations to access/set properties\n",
        "\n",
        "object(he/she/it)\n",
        "-physical entity \"of human type\"\n",
        "-implementation of frame work\n",
        "-has values of properties\n",
        "-methods to access/set values or properties\n",
        "\n",
        "n object--->1 class\n",
        "\n",
        "class: design:\n",
        "\n",
        "design methods/operations as per need that creates properties as per need.\n",
        "\n",
        "properties in python are created by methods called on them\n",
        "(needed will be created).\n",
        "\n",
        "self is  a ref of one that is calling the class/class's method\n",
        "\n",
        "as method written once but used by each object as per need\n",
        "'''\n",
        "class Human:\n",
        "    def birth(self):\n",
        "        self.gender=input(\"Enter gender:\")\n",
        "        print(\"id is:\",id(self))\n",
        "    def naming(self):\n",
        "        self.name=input(\"Enter name:\")\n",
        "        print(\"id is:\",id(self))\n",
        "    def intro(self):\n",
        "        print(f\"hi i am {self.name} a {self.gender}\")\n",
        "        print(\"id is:\",id(self))"
      ]
    },
    {
      "cell_type": "code",
      "execution_count": null,
      "metadata": {
        "colab": {
          "base_uri": "https://localhost:8080/"
        },
        "id": "zjqZ__64KP-A",
        "outputId": "ef2f04aa-fe97-407e-db4e-5ebcd0666c97"
      },
      "outputs": [
        {
          "name": "stdout",
          "output_type": "stream",
          "text": [
            "134259467574928 134259419081936 134259467566096\n"
          ]
        }
      ],
      "source": [
        "h=Human()\n",
        "h2=Human()\n",
        "h3=Human()\n",
        "print(id(h),id(h2),id(h3))"
      ]
    },
    {
      "cell_type": "code",
      "execution_count": null,
      "metadata": {
        "colab": {
          "base_uri": "https://localhost:8080/"
        },
        "id": "q5VFeAw7Ke3k",
        "outputId": "83cc38f4-3154-4146-8242-fc177777dd16"
      },
      "outputs": [
        {
          "name": "stdout",
          "output_type": "stream",
          "text": [
            "Enter gender:male\n",
            "id is: 134259467574928\n"
          ]
        }
      ],
      "source": [
        "h.birth()#-- birth(5504-->self)"
      ]
    },
    {
      "cell_type": "code",
      "execution_count": null,
      "metadata": {
        "colab": {
          "base_uri": "https://localhost:8080/"
        },
        "id": "lo9aRc3qKv3o",
        "outputId": "92e7a775-bd49-4ea2-cac5-dd3b2bef5bb6"
      },
      "outputs": [
        {
          "name": "stdout",
          "output_type": "stream",
          "text": [
            "Enter name:heman\n",
            "id is: 134259467574928\n"
          ]
        }
      ],
      "source": [
        "h.naming()"
      ]
    },
    {
      "cell_type": "code",
      "execution_count": null,
      "metadata": {
        "colab": {
          "base_uri": "https://localhost:8080/"
        },
        "id": "8L53Sl-dKz2P",
        "outputId": "dcb0a9c6-886b-4ecc-8083-66cabe383f18"
      },
      "outputs": [
        {
          "name": "stdout",
          "output_type": "stream",
          "text": [
            "hi i am heman a male\n",
            "id is: 134259467574928\n"
          ]
        }
      ],
      "source": [
        "h.intro()"
      ]
    },
    {
      "cell_type": "code",
      "execution_count": null,
      "metadata": {
        "colab": {
          "base_uri": "https://localhost:8080/"
        },
        "id": "ga-ixc9NMke4",
        "outputId": "46c9ae32-0976-4f91-abf6-ac3abb66967f"
      },
      "outputs": [
        {
          "name": "stdout",
          "output_type": "stream",
          "text": [
            "Enter gender:male\n",
            "id is: 134259419081936\n"
          ]
        }
      ],
      "source": [
        "h2.birth()"
      ]
    },
    {
      "cell_type": "code",
      "execution_count": null,
      "metadata": {
        "colab": {
          "base_uri": "https://localhost:8080/",
          "height": 141
        },
        "id": "aoHtyCMfMsTx",
        "outputId": "3a1b0c57-003f-447f-cf46-4162c4c7b1a6"
      },
      "outputs": [
        {
          "ename": "AttributeError",
          "evalue": "'Human' object has no attribute 'name'",
          "output_type": "error",
          "traceback": [
            "\u001b[0;31m---------------------------------------------------------------------------\u001b[0m",
            "\u001b[0;31mAttributeError\u001b[0m                            Traceback (most recent call last)",
            "\u001b[0;32m<ipython-input-27-5599c42f04e7>\u001b[0m in \u001b[0;36m<cell line: 0>\u001b[0;34m()\u001b[0m\n\u001b[0;32m----> 1\u001b[0;31m \u001b[0mh2\u001b[0m\u001b[0;34m.\u001b[0m\u001b[0mname\u001b[0m\u001b[0;34m\u001b[0m\u001b[0;34m\u001b[0m\u001b[0m\n\u001b[0m",
            "\u001b[0;31mAttributeError\u001b[0m: 'Human' object has no attribute 'name'"
          ]
        }
      ],
      "source": [
        "h2.name"
      ]
    },
    {
      "cell_type": "code",
      "execution_count": null,
      "metadata": {
        "id": "eJHOKLyWOcOn"
      },
      "outputs": [],
      "source": [
        "'''\n",
        "class\n",
        "-virtual idea \"Human\"\n",
        "-its a frame work\n",
        "-has properties\n",
        "-has operations to access/set properties\n",
        "\n",
        "object(he/she/it)\n",
        "-physical entity \"of human type\"\n",
        "-implementation of frame work\n",
        "-has values of properties\n",
        "-methods to access/set values or properties\n",
        "\n",
        "n object--->1 class\n",
        "\n",
        "class: design:\n",
        "\n",
        "design methods/operations as per need that creates properties as per need.\n",
        "\n",
        "properties in python are created by methods called on them\n",
        "(needed will be created).\n",
        "\n",
        "self is  a ref of one that is calling the class/class's method\n",
        "\n",
        "as method written once but used by each object as per need\n",
        "'''\n",
        "class Human:\n",
        "    def birth(self):\n",
        "        self.gender=input(\"Enter gender:\")\n",
        "        print(\"id is:\",id(self))\n",
        "    def naming(self):\n",
        "        self.name=input(\"Enter name:\")\n",
        "        print(\"id is:\",id(self))\n",
        "    def intro(self):\n",
        "        self.birth()\n",
        "        self.naming()\n",
        "        print(f\"hi i am {self.name} a {self.gender}\")\n",
        "        print(\"id is:\",id(self))"
      ]
    },
    {
      "cell_type": "code",
      "execution_count": null,
      "metadata": {
        "colab": {
          "base_uri": "https://localhost:8080/"
        },
        "id": "42QH06POOlan",
        "outputId": "8a4dd9c1-0ab0-4ec3-b5a1-38a407b7dfa8"
      },
      "outputs": [
        {
          "name": "stdout",
          "output_type": "stream",
          "text": [
            "Enter gender:male\n",
            "id is: 134259170465744\n",
            "Enter name:amar\n",
            "id is: 134259170465744\n",
            "hi i am amar a male\n",
            "id is: 134259170465744\n"
          ]
        }
      ],
      "source": [
        "h=Human()\n",
        "h.intro()"
      ]
    },
    {
      "cell_type": "code",
      "execution_count": null,
      "metadata": {
        "id": "AEkN9fptPAA-"
      },
      "outputs": [],
      "source": [
        "#wap in oop to print area of circle\n",
        "#setters and getters\n",
        "class Circle:\n",
        "    def set_r(self):\n",
        "        self.r=float(input(\"Enter r:\"))\n",
        "    def print_area(self):\n",
        "        print(\"Area is:\",(self.r**2*3.14))\n"
      ]
    },
    {
      "cell_type": "code",
      "execution_count": null,
      "metadata": {
        "colab": {
          "base_uri": "https://localhost:8080/"
        },
        "id": "LizrooJtPdcD",
        "outputId": "e5aa24e5-b683-4025-f67a-8a1fdd7f2606"
      },
      "outputs": [
        {
          "name": "stdout",
          "output_type": "stream",
          "text": [
            "Enter r:12.7\n",
            "Area is: 506.4506\n"
          ]
        }
      ],
      "source": [
        "obj=Circle()\n",
        "obj.set_r()\n",
        "obj.print_area()"
      ]
    },
    {
      "cell_type": "code",
      "execution_count": null,
      "metadata": {
        "id": "Is1lxv7GPsjJ"
      },
      "outputs": [],
      "source": [
        "#write OOP code for calculator with add,sub,mul,div\n",
        "#on 2 numbers\n",
        "class Cal:\n",
        "    def set_data(self):\n",
        "        self.no1=int(input(\"Enter a number:\"))\n",
        "        self.no2=int(input(\"Enter other number:\"))\n",
        "    def add(self):\n",
        "        print(f\"{self.no1}+{self.no2}={self.no1+self.no2}\")"
      ]
    },
    {
      "cell_type": "code",
      "execution_count": null,
      "metadata": {
        "colab": {
          "base_uri": "https://localhost:8080/"
        },
        "id": "XQnaKAN9RV2Q",
        "outputId": "7c5c7527-109c-4d5a-b316-00d3a38e4d17"
      },
      "outputs": [
        {
          "name": "stdout",
          "output_type": "stream",
          "text": [
            "Enter a number:10\n",
            "Enter other number:20\n",
            "10+20=30\n"
          ]
        }
      ],
      "source": [
        "c=Cal()\n",
        "c.set_data()\n",
        "c.add()"
      ]
    },
    {
      "cell_type": "code",
      "execution_count": null,
      "metadata": {
        "id": "j2mumzdlR6BF"
      },
      "outputs": [],
      "source": [
        "#industry standard:data are scanned  and passed not read\n",
        "#write OOP code for calculator with add,sub,mul,div\n",
        "#on 2 numbers\n",
        "class Cal:\n",
        "    def set_data(self,no1,no2):\n",
        "        self.no1=no1\n",
        "        self.no2=no2\n",
        "\n",
        "        #self.XXX is member of object/instance member,can be access anywhere in class\n",
        "        #XXX(no1,no2):are temp/local variables only till method\n",
        "    def add(self):\n",
        "        #print(no1,no2)\n",
        "        print(f\"{self.no1}+{self.no2}={self.no1+self.no2}\")"
      ]
    },
    {
      "cell_type": "code",
      "execution_count": null,
      "metadata": {
        "colab": {
          "base_uri": "https://localhost:8080/"
        },
        "id": "F-I5n5SDSdRV",
        "outputId": "ed22e423-d769-42eb-cd37-3e2f6bb32d87"
      },
      "outputs": [
        {
          "name": "stdout",
          "output_type": "stream",
          "text": [
            "Enter 2 numbers:100 200\n",
            "100+200=300\n"
          ]
        }
      ],
      "source": [
        "c=Cal()\n",
        "n1,n2=map(int,input(\"Enter 2 numbers:\").split())\n",
        "c.set_data(n1,n2)\n",
        "c.add()"
      ]
    },
    {
      "cell_type": "code",
      "execution_count": null,
      "metadata": {
        "colab": {
          "base_uri": "https://localhost:8080/"
        },
        "id": "AVBpe14kWZpW",
        "outputId": "08823487-aa6b-46ba-b4fa-7d6c125b3a6e"
      },
      "outputs": [
        {
          "name": "stdout",
          "output_type": "stream",
          "text": [
            "10 100\n"
          ]
        }
      ],
      "source": [
        "print(no1,no2)"
      ]
    },
    {
      "cell_type": "code",
      "execution_count": null,
      "metadata": {
        "colab": {
          "base_uri": "https://localhost:8080/",
          "height": 106
        },
        "id": "ScA6zZSUSzE3",
        "outputId": "7d723587-6220-4c92-e7a6-f1278f24e157"
      },
      "outputs": [
        {
          "ename": "SyntaxError",
          "evalue": "invalid syntax (<ipython-input-6-49b2876dc757>, line 1)",
          "output_type": "error",
          "traceback": [
            "\u001b[0;36m  File \u001b[0;32m\"<ipython-input-6-49b2876dc757>\"\u001b[0;36m, line \u001b[0;32m1\u001b[0m\n\u001b[0;31m    Pillars:\u001b[0m\n\u001b[0m            ^\u001b[0m\n\u001b[0;31mSyntaxError\u001b[0m\u001b[0;31m:\u001b[0m invalid syntax\n"
          ]
        }
      ],
      "source": [
        "Pillars:\n",
        "\n",
        "Encasulation: process to combine data+operation on data:\n",
        "              laptop+windown+bag\n",
        "              ex:food comming in container\n",
        "               class method(function)+data\n",
        "              +ve:ease of use,reuse,better control\n",
        "Abstraction:  process of hiding unwanted complex data\n",
        "              +implementation and giving simplest access to needed info/data\n",
        "              ex:press button laptop starts...\n",
        "              menu in hotels\n",
        "              +ve:ease of access/better access to needed info only\n",
        "              visibilities:\n",
        "                public  : var\n",
        "                private/hidden: _var:not reflected if known accessed\n",
        "                strong private: __var:not accessed not reflected outside class\n",
        "Inheritance:\n",
        "            process of derriving properties from pre-existing\n",
        "            +ve:standardization,faster development(+i),enhancement\n",
        "\n",
        "Polymorphism:"
      ]
    },
    {
      "cell_type": "code",
      "execution_count": null,
      "metadata": {
        "id": "6XEjJihAe3qx"
      },
      "outputs": [],
      "source": [
        "class Person:\n",
        "    gender=\"male\"#public\n",
        "    _name=\"amar\"#private/hidden\n",
        "    __contact=\"9821601163\"#strong private\n"
      ]
    },
    {
      "cell_type": "code",
      "execution_count": null,
      "metadata": {
        "colab": {
          "base_uri": "https://localhost:8080/",
          "height": 141
        },
        "id": "fjaUkQMhjff8",
        "outputId": "cc96209a-0bf5-42a9-c681-e594f2fdf95d"
      },
      "outputs": [
        {
          "ename": "AttributeError",
          "evalue": "type object 'Person' has no attribute '__contact'",
          "output_type": "error",
          "traceback": [
            "\u001b[0;31m---------------------------------------------------------------------------\u001b[0m",
            "\u001b[0;31mAttributeError\u001b[0m                            Traceback (most recent call last)",
            "\u001b[0;32m<ipython-input-11-7a2a4c34f158>\u001b[0m in \u001b[0;36m<cell line: 0>\u001b[0;34m()\u001b[0m\n\u001b[0;32m----> 1\u001b[0;31m \u001b[0mPerson\u001b[0m\u001b[0;34m.\u001b[0m\u001b[0m__contact\u001b[0m\u001b[0;34m\u001b[0m\u001b[0;34m\u001b[0m\u001b[0m\n\u001b[0m",
            "\u001b[0;31mAttributeError\u001b[0m: type object 'Person' has no attribute '__contact'"
          ]
        }
      ],
      "source": [
        "Person.__contact"
      ]
    },
    {
      "cell_type": "code",
      "execution_count": null,
      "metadata": {
        "id": "EJC_7rv2kBAY"
      },
      "outputs": [],
      "source": [
        "class Human:\n",
        "    def birth(self):\n",
        "        self.__gender=input(\"Enter gender:\")\n",
        "    def naming(self):\n",
        "        self.__name=input(\"Enter name:\")\n",
        "    def __super_power(self):\n",
        "        print(\"my super power is me\")\n",
        "    def intro(self):\n",
        "        print(f\"hi i am {self.__name} a {self.__gender}\")\n",
        "        self.__super_power()\n"
      ]
    },
    {
      "cell_type": "code",
      "execution_count": null,
      "metadata": {
        "colab": {
          "base_uri": "https://localhost:8080/"
        },
        "id": "HRUrzZKwkLYp",
        "outputId": "75951be6-8632-4dbb-ac89-dfd889f13353"
      },
      "outputs": [
        {
          "name": "stdout",
          "output_type": "stream",
          "text": [
            "Enter gender:male\n",
            "Enter name:super man\n",
            "hi i am super man a male\n",
            "my super power is me\n"
          ]
        }
      ],
      "source": [
        "h=Human()\n",
        "h.birth()\n",
        "h.naming()\n",
        "h.intro()"
      ]
    },
    {
      "cell_type": "code",
      "execution_count": null,
      "metadata": {
        "id": "ZTLJyz35kUuM"
      },
      "outputs": [],
      "source": [
        "h."
      ]
    },
    {
      "cell_type": "code",
      "execution_count": null,
      "metadata": {
        "colab": {
          "base_uri": "https://localhost:8080/"
        },
        "id": "xoT_XuAukXEA",
        "outputId": "20f533fa-6bcc-43d8-d223-4247cbcdfc2f"
      },
      "outputs": [
        {
          "name": "stdout",
          "output_type": "stream",
          "text": [
            "hi i am modi a male\n"
          ]
        }
      ],
      "source": [
        "h.intro()"
      ]
    },
    {
      "cell_type": "code",
      "execution_count": null,
      "metadata": {
        "id": "J5MS9y3Fl23G"
      },
      "outputs": [],
      "source": [
        "#constructor\n",
        "#called on its own when object is created\n",
        "#used for init,setting values to user defined\n",
        "syntax:\n",
        "def __int__(self):\n",
        "    #code\n"
      ]
    },
    {
      "cell_type": "code",
      "execution_count": null,
      "metadata": {
        "id": "UnhAZ3FZmMAQ"
      },
      "outputs": [],
      "source": [
        "class Human:\n",
        "    def __init__(self):\n",
        "        print(\"new object created \",id(self))\n",
        "    def birth(self):\n",
        "        self.__gender=input(\"Enter gender:\")\n",
        "    def naming(self):\n",
        "        self.__name=input(\"Enter name:\")\n",
        "    def intro(self):\n",
        "        print(f\"hi i am {self.__name} a {self.__gender}\")\n"
      ]
    },
    {
      "cell_type": "code",
      "execution_count": null,
      "metadata": {
        "colab": {
          "base_uri": "https://localhost:8080/"
        },
        "id": "ePq9H-InmZ2U",
        "outputId": "eef9a838-d986-4746-c7d9-e421218c681f"
      },
      "outputs": [
        {
          "name": "stdout",
          "output_type": "stream",
          "text": [
            "new object created  134150850303184\n"
          ]
        }
      ],
      "source": [
        "h=Human()"
      ]
    },
    {
      "cell_type": "code",
      "execution_count": null,
      "metadata": {
        "id": "t4rZGqRnmud1"
      },
      "outputs": [],
      "source": [
        "class Human:\n",
        "    def __init__(self,gender,name):\n",
        "        print(\"new object created \",id(self))\n",
        "        self.__gender=gender\n",
        "        self.__name=name\n",
        "        print(\"object created and initilized...\")\n",
        "\n",
        "    def intro(self):\n",
        "        print(f\"hi i am {self.__name} a {self.__gender}\")\n"
      ]
    },
    {
      "cell_type": "code",
      "execution_count": null,
      "metadata": {
        "colab": {
          "base_uri": "https://localhost:8080/"
        },
        "id": "hDmSzzPFm-xI",
        "outputId": "513145c3-6817-4958-dc82-d82440ca4c21"
      },
      "outputs": [
        {
          "name": "stdout",
          "output_type": "stream",
          "text": [
            "new object created  134150851940304\n",
            "object created and initilized...\n"
          ]
        }
      ],
      "source": [
        "h=Human(\"male\",\"he_man\")"
      ]
    },
    {
      "cell_type": "code",
      "execution_count": null,
      "metadata": {
        "id": "U2kDMrHanJYL"
      },
      "outputs": [],
      "source": [
        "#default value init\n",
        "class Human:\n",
        "    def __init__(self,gender=\"unknown\",name=\"unnamed\"):\n",
        "        print(\"new object created \",id(self))\n",
        "        self.__gender=gender\n",
        "        self.__name=name\n",
        "        print(\"object created and initilized...\")\n",
        "    def education(self,degree):\n",
        "        self.__degree=degree\n",
        "    def intro(self):\n",
        "        print(f\"hi i am {self.__name} a {self.__gender},workwise {self.__degree}\")"
      ]
    },
    {
      "cell_type": "code",
      "execution_count": null,
      "metadata": {
        "colab": {
          "base_uri": "https://localhost:8080/"
        },
        "id": "EZcbjx9AnTre",
        "outputId": "a0d2c3bb-4881-4316-a662-8302120654ce"
      },
      "outputs": [
        {
          "name": "stdout",
          "output_type": "stream",
          "text": [
            "new object created  134150863686736\n",
            "object created and initilized...\n"
          ]
        }
      ],
      "source": [
        "h=Human(name=\"amar\",gender=\"male\")"
      ]
    },
    {
      "cell_type": "code",
      "execution_count": null,
      "metadata": {
        "id": "6-_H1DJ4nVor"
      },
      "outputs": [],
      "source": []
    },
    {
      "cell_type": "code",
      "execution_count": null,
      "metadata": {
        "colab": {
          "base_uri": "https://localhost:8080/"
        },
        "id": "Vj3dNzU6oLKd",
        "outputId": "555d4d1d-bbea-4fe2-fdad-6e6400071cf6"
      },
      "outputs": [
        {
          "name": "stdout",
          "output_type": "stream",
          "text": [
            "hi i am amar a male,workwise Phd\n"
          ]
        }
      ],
      "source": [
        "h.intro()"
      ]
    },
    {
      "cell_type": "code",
      "execution_count": null,
      "metadata": {
        "colab": {
          "base_uri": "https://localhost:8080/"
        },
        "id": "aey4-HaMoWca",
        "outputId": "62a7cfb8-46e3-4245-f5e4-b807f8f9d66a"
      },
      "outputs": [
        {
          "name": "stdout",
          "output_type": "stream",
          "text": [
            "<__main__.Human object at 0x7a026e938c50>\n"
          ]
        }
      ],
      "source": [
        "print(h)"
      ]
    },
    {
      "cell_type": "code",
      "execution_count": null,
      "metadata": {
        "colab": {
          "base_uri": "https://localhost:8080/",
          "height": 106
        },
        "id": "FhZBbxlGoa4o",
        "outputId": "27535cb2-602f-4575-b14c-9872de2e007c"
      },
      "outputs": [
        {
          "ename": "IndentationError",
          "evalue": "unexpected indent (<ipython-input-47-7452d32d5869>, line 2)",
          "output_type": "error",
          "traceback": [
            "\u001b[0;36m  File \u001b[0;32m\"<ipython-input-47-7452d32d5869>\"\u001b[0;36m, line \u001b[0;32m2\u001b[0m\n\u001b[0;31m    return a str that can be directly printed in print\u001b[0m\n\u001b[0m    ^\u001b[0m\n\u001b[0;31mIndentationError\u001b[0m\u001b[0;31m:\u001b[0m unexpected indent\n"
          ]
        }
      ],
      "source": [
        "#printer method:\n",
        "    return a str that can be directly printed in print\n",
        "def __str__(self):\n",
        "\n",
        "\n",
        "    return \"string......\"\n"
      ]
    },
    {
      "cell_type": "code",
      "execution_count": null,
      "metadata": {
        "id": "C4DSMkiXojnm"
      },
      "outputs": [],
      "source": [
        "#default value init\n",
        "class Human:\n",
        "    def __init__(self,gender=\"unknown\",name=\"unnamed\"):\n",
        "        print(\"new object created \",id(self))\n",
        "        self.__gender=gender\n",
        "        self.__name=name\n",
        "        print(\"object created and initilized...\")\n",
        "    def education(self,degree):\n",
        "        self.__degree=degree\n",
        "    def __str__(self):\n",
        "         return \"hi i am \"+self.__name+\" a \"+ self.__gender+\" workwise \"+self.__degree"
      ]
    },
    {
      "cell_type": "code",
      "execution_count": null,
      "metadata": {
        "colab": {
          "base_uri": "https://localhost:8080/"
        },
        "id": "M7YTr4RTpCaJ",
        "outputId": "8c113885-ed3d-4beb-9fd9-e6f83ebed811"
      },
      "outputs": [
        {
          "name": "stdout",
          "output_type": "stream",
          "text": [
            "new object created  134150851945360\n",
            "object created and initilized...\n"
          ]
        }
      ],
      "source": [
        "h=Human(name=\"amar\",gender=\"male\")\n",
        "h.education(\"Phd\")"
      ]
    },
    {
      "cell_type": "code",
      "execution_count": null,
      "metadata": {
        "colab": {
          "base_uri": "https://localhost:8080/"
        },
        "id": "DsvyYXMApIOZ",
        "outputId": "a18460c0-4134-455a-eae8-640cf1a41d1f"
      },
      "outputs": [
        {
          "name": "stdout",
          "output_type": "stream",
          "text": [
            "hi i am amar a male workwise Phd\n"
          ]
        }
      ],
      "source": [
        "print(h)"
      ]
    },
    {
      "cell_type": "code",
      "execution_count": null,
      "metadata": {
        "id": "VKdHXD7hri_O"
      },
      "outputs": [],
      "source": [
        "\n",
        "Human:\n",
        "    __init__:gender\n",
        "    naming:name\n",
        "    education:degree\n",
        "    job: salary\n",
        "\n"
      ]
    },
    {
      "cell_type": "code",
      "execution_count": null,
      "metadata": {
        "id": "73qjEyuFtIlt"
      },
      "outputs": [],
      "source": [
        "#create class student: having details, rollno,name,gender,pointer\n",
        "#create init to read this with default values safe\n",
        "#also code str to print all details directly\n",
        "\n",
        "class Student:\n",
        "    def __init__(self,rollno=0,name=\"\",gender=\"\",pointer=0.0):\n",
        "        self.__rollno=rollno\n",
        "        self.__name=name\n",
        "        self.__gender=gender\n",
        "        self.__pointer=pointer\n",
        "    def __str__(self):\n",
        "        return \"Seat no:\"+str(self.__rollno)+\" Name:\"+self.__name+\" Gender:\"+self.__gender+\" Pointer:\"+str(self.__pointer)\n",
        "    def get_rollno(self):#method coded to get data outside class\n",
        "        return self.__rollno\n",
        "        #to be coded iff needed by coder"
      ]
    },
    {
      "cell_type": "code",
      "execution_count": null,
      "metadata": {
        "colab": {
          "base_uri": "https://localhost:8080/"
        },
        "id": "pruC5Q9MwqnM",
        "outputId": "0d86d569-477d-4da0-c2d6-d066de4a5cfe"
      },
      "outputs": [
        {
          "name": "stdout",
          "output_type": "stream",
          "text": [
            "Rollno:46\n",
            "Name:amar\n",
            "Gender:male\n",
            "Pointer:9.1\n",
            "Seat no:46 Name:amar Gender:male Pointer:9.1\n"
          ]
        }
      ],
      "source": [
        "s=Student(int(input(\"Rollno:\")),input(\"Name:\"),input(\"Gender:\"),float(input(\"Pointer:\")))\n",
        "print(s)"
      ]
    },
    {
      "cell_type": "code",
      "execution_count": null,
      "metadata": {
        "colab": {
          "base_uri": "https://localhost:8080/"
        },
        "id": "tFBqJ5VUxUsR",
        "outputId": "20ca175c-c7a4-4fe7-bc9f-a2e458d92057"
      },
      "outputs": [
        {
          "data": {
            "text/plain": [
              "46"
            ]
          },
          "execution_count": 57,
          "metadata": {},
          "output_type": "execute_result"
        }
      ],
      "source": [
        "s.get_rollno()"
      ]
    },
    {
      "cell_type": "code",
      "execution_count": null,
      "metadata": {
        "id": "iKmHOvbMFSWI"
      },
      "outputs": [],
      "source": [
        "#Membership\n",
        "class member:\n",
        "    exists with class ,accessed with class_name.XXX only,only one copy(with class itself)\n",
        "    longest life(till class exists---till even one object out there)\n",
        "object memeber:\n",
        "    exists with each object having own copy ,accessed with object_name.XXX or within method self.XXX\n",
        "    life till object there\n",
        "local member:\n",
        "    passed data\n",
        "    shortes life(one method only)"
      ]
    },
    {
      "cell_type": "code",
      "execution_count": null,
      "metadata": {
        "id": "2zO7ABs3G23D"
      },
      "outputs": [],
      "source": [
        "class Student:\n",
        "    student_roll_no=202500#as created here becomes class member\n",
        "    def __init__(self,name=\"\",gender=\"\",pointer=0.0):\n",
        "        Student.student_roll_no+=1\n",
        "        self.__rollno=Student.student_roll_no\n",
        "        self.__name=name\n",
        "        self.__gender=gender\n",
        "        self.__pointer=pointer\n",
        "        print(\"Student created with roll number:\",self.__rollno)\n",
        "    def __str__(self):\n",
        "        return \"Seat no:\"+str(self.__rollno)+\" Name:\"+self.__name+\" Gender:\"+self.__gender+\" Pointer:\"+str(self.__pointer)\n",
        "    def get_rollno(self):#method coded to get data outside class\n",
        "        return self.__rollno\n",
        "        #to be coded iff needed by coder"
      ]
    },
    {
      "cell_type": "code",
      "execution_count": null,
      "metadata": {
        "id": "SiB4S3LmHetW"
      },
      "outputs": [],
      "source": [
        "s_dict={}\n"
      ]
    },
    {
      "cell_type": "code",
      "execution_count": null,
      "metadata": {
        "colab": {
          "base_uri": "https://localhost:8080/"
        },
        "id": "57HfyUgeHoBz",
        "outputId": "57fd3a94-ff4d-41de-f7e8-5d5ce0f162cb"
      },
      "outputs": [
        {
          "name": "stdout",
          "output_type": "stream",
          "text": [
            "Name:bbbbb\n",
            "Gender:female\n",
            "Pointer:8.1\n",
            "Student created with roll number: 202502\n",
            "Seat no:202502 Name:bbbbb Gender:female Pointer:8.1\n"
          ]
        }
      ],
      "source": [
        "s=Student(input(\"Name:\"),input(\"Gender:\"),float(input(\"Pointer:\")))\n",
        "print(s)\n",
        "s_dict[s.get_rollno()]=s"
      ]
    },
    {
      "cell_type": "code",
      "execution_count": null,
      "metadata": {
        "colab": {
          "base_uri": "https://localhost:8080/"
        },
        "id": "8kwpK7YPJMTE",
        "outputId": "c840f607-7b2b-4319-e402-ae26a16c0e3d"
      },
      "outputs": [
        {
          "name": "stdout",
          "output_type": "stream",
          "text": [
            "{202501: <__main__.Student object at 0x7f4cc896e1d0>, 202502: <__main__.Student object at 0x7f4cc805a310>}\n"
          ]
        }
      ],
      "source": [
        "print(s_dict)"
      ]
    },
    {
      "cell_type": "code",
      "execution_count": null,
      "metadata": {
        "colab": {
          "base_uri": "https://localhost:8080/"
        },
        "id": "af_0FR2iJXxX",
        "outputId": "90b6cb6b-13c4-4244-dbf5-5855ad6816d3"
      },
      "outputs": [
        {
          "name": "stdout",
          "output_type": "stream",
          "text": [
            "Seat no:202501 Name:abcd Gender:m Pointer:9.1\n"
          ]
        }
      ],
      "source": [
        "#to print\n",
        "print(s_dict[202501])"
      ]
    },
    {
      "cell_type": "code",
      "execution_count": null,
      "metadata": {
        "colab": {
          "base_uri": "https://localhost:8080/",
          "height": 141
        },
        "id": "UiFvbx35JqI2",
        "outputId": "cee1b0da-2d77-487b-b9f4-d49ba971f2d4"
      },
      "outputs": [
        {
          "ename": "AttributeError",
          "evalue": "'Student' object has no attribute '__name'",
          "output_type": "error",
          "traceback": [
            "\u001b[0;31m---------------------------------------------------------------------------\u001b[0m",
            "\u001b[0;31mAttributeError\u001b[0m                            Traceback (most recent call last)",
            "\u001b[0;32m<ipython-input-14-b381025ec7d8>\u001b[0m in \u001b[0;36m<cell line: 0>\u001b[0;34m()\u001b[0m\n\u001b[0;32m----> 1\u001b[0;31m \u001b[0ms_dict\u001b[0m\u001b[0;34m[\u001b[0m\u001b[0;36m202501\u001b[0m\u001b[0;34m]\u001b[0m\u001b[0;34m.\u001b[0m\u001b[0m__name\u001b[0m\u001b[0;34m\u001b[0m\u001b[0;34m\u001b[0m\u001b[0m\n\u001b[0m",
            "\u001b[0;31mAttributeError\u001b[0m: 'Student' object has no attribute '__name'"
          ]
        }
      ],
      "source": [
        "s_dict[202501].__name"
      ]
    },
    {
      "cell_type": "code",
      "execution_count": null,
      "metadata": {
        "colab": {
          "base_uri": "https://localhost:8080/"
        },
        "id": "qrK5O4cDJ06g",
        "outputId": "fc755cef-dceb-44cc-a6bc-7bccbeb1df50"
      },
      "outputs": [
        {
          "data": {
            "text/plain": [
              "False"
            ]
          },
          "execution_count": 17,
          "metadata": {},
          "output_type": "execute_result"
        }
      ],
      "source": [
        "202510 in s_dict#searching"
      ]
    },
    {
      "cell_type": "code",
      "execution_count": null,
      "metadata": {
        "id": "Owha3CgYHuzo"
      },
      "outputs": [],
      "source": [
        "#when n objects of a type is needed then we would need list/dict or both\n",
        "#list good but slow in searching\n",
        "#dict:complex but extreemly fast 1 pass search"
      ]
    },
    {
      "cell_type": "code",
      "execution_count": null,
      "metadata": {
        "id": "iAgkXAzIIt1u"
      },
      "outputs": [],
      "source": [
        "#code"
      ]
    },
    {
      "cell_type": "code",
      "execution_count": null,
      "metadata": {
        "id": "Fouo_HQJLXeo"
      },
      "outputs": [],
      "source": [
        "Problem Definition\n",
        "Create a Python program to manage bank accounts with the following requirements:\n",
        "\n",
        "Attributes:\n",
        "name: Name of the account holder\n",
        "amount: Current balance in the account\n",
        "account_number: Auto-generated bank account number\n",
        "\n",
        "Methods:\n",
        "Create Account\n",
        "    Prompt the user for the account holder's name.\n",
        "\n",
        "    Initialize the balance minimum should be 5000.\n",
        "\n",
        "    Auto-generate a unique bank account number.\n",
        "\n",
        "Deposit\n",
        "    Prompt the user for the account number and the amount to deposit.\n",
        "\n",
        "    Add the amount to the current balance.\n",
        "\n",
        "Withdraw\n",
        "    Prompt the user for the account number and the amount to withdraw.\n",
        "\n",
        "    Ensure the remaining balance does not fall below 5000 after the withdrawal. If it does, display an error message and do not process the withdrawal.\n",
        "\n",
        "Check Balance\n",
        "    Prompt the user for the account number.\n",
        "\n",
        "Display the current balance.\n",
        "\n",
        "Menu:\n",
        "The program should display a menu with the following options:\n",
        "1.Create Account\n",
        "2.Deposit\n",
        "3.Withdraw\n",
        "4.Check Balance\n",
        "0.Exit"
      ]
    },
    {
      "cell_type": "code",
      "execution_count": null,
      "metadata": {
        "id": "2MO_oQucQtYw"
      },
      "outputs": [],
      "source": [
        "\n",
        "class Account:\n",
        "    Account_no_generator=2025000\n",
        "    def __init__(self,name,gender,amount):\n",
        "        self.name=name\n",
        "        self.gender=gender\n",
        "        self.amount=amount\n",
        "        Account.Account_no_generator+=1\n",
        "        self.account_no=Account.Account_no_generator\n",
        "        print(\"Account created ,your account number is:\",self.account_no)\n",
        "\n",
        "    def get_account_no(self):\n",
        "        return self.account_no\n",
        "\n",
        "    def check_balance(self):\n",
        "        print(\"Account details\")\n",
        "        print(\"----------------------------\")\n",
        "        print(\"Account no:\",self.account_no)\n",
        "        print(\"Account Name:\",self.name)\n",
        "        print(\"Account Balance:\",self.amount);\n",
        "\n",
        "    def deposit(self,amount_given):\n",
        "        if amount_given<=0:\n",
        "            print(\"Amount can not be zero or Negative\")\n",
        "        else:\n",
        "            self.amount+=amount_given\n",
        "            self.check_balance()\n",
        "\n",
        "    def withdraw(self,amount_given):\n",
        "        if self.amount-amount_given<=5000:\n",
        "            print(\"insufficient funds...\")\n",
        "        else:\n",
        "            self.amount-=amount_given\n",
        "            self.check_balance()\n",
        "\n"
      ]
    },
    {
      "cell_type": "code",
      "execution_count": null,
      "metadata": {
        "id": "1vhskkptXIDg"
      },
      "outputs": [],
      "source": [
        "#code with script\n",
        "bank={}\n",
        "while True:\n",
        "    print(\"----------------\")\n",
        "    print(\"---LENA BANK----\")\n",
        "    print(\"----------------\")\n",
        "    print(\"1.Create Account\")\n",
        "    print(\"2.Withdraw\")\n",
        "    print(\"3.Deposit\")\n",
        "    print(\"4.Check Balance\")\n",
        "    print(\"0.Exit\")\n",
        "    ch=int(input(\"Choice:\"))\n",
        "    if ch==1:\n",
        "        name=input(\"Enter Name:\")\n",
        "        gender=input(\"Enter Gender:\")\n",
        "        while True:\n",
        "            amt=float(input(\"Enter amount to open account(min 5000):\"))\n",
        "            if amt>=5000:\n",
        "                a=Account(name,gender,amt)\n",
        "                bank[a.get_account_no()]=a\n",
        "                break\n",
        "    elif ch==2:\n",
        "        acc_no=int(input(\"Enter account no:\"))\n",
        "        if acc_no in bank:\n",
        "            print(\"Account found:\")\n",
        "            bank[acc_no].check_balance()\n",
        "            amt=float(input(\"Enter amount to withdraw:\"))\n",
        "            bank[acc_no].withdraw(amt)\n",
        "        else:\n",
        "            print(acc_no,\"not found...\")\n",
        "    elif ch==3:\n",
        "        acc_no=int(input(\"Enter account no:\"))\n",
        "        if acc_no in bank:\n",
        "            print(\"Account found:\")\n",
        "            bank[acc_no].check_balance()\n",
        "            amt=float(input(\"Enter amount to deposit:\"))\n",
        "            bank[acc_no].deposit(amt)\n",
        "        else:\n",
        "            print(acc_no,\"not found...\")\n",
        "    elif ch==4:\n",
        "        acc_no=int(input(\"Enter account no:\"))\n",
        "        if acc_no in bank:\n",
        "            print(\"Account found:\")\n",
        "            bank[acc_no].check_balance()\n",
        "            amt=float(input(\"Enter amount to deposit:\"))\n",
        "            bank[acc_no].deposit(amt)\n",
        "        else:\n",
        "            print(acc_no,\"not found...\")\n",
        "    elif ch==0:\n",
        "        print(\"Thanks for using Lena bank\")\n",
        "        break\n",
        "    else:\n",
        "        print(\"Wrong choice...\")"
      ]
    },
    {
      "cell_type": "code",
      "execution_count": null,
      "metadata": {
        "colab": {
          "base_uri": "https://localhost:8080/"
        },
        "id": "nN45IcV5a72Z",
        "outputId": "f506d683-325d-4b0d-9fbf-99ffa46e54f5"
      },
      "outputs": [
        {
          "name": "stdout",
          "output_type": "stream",
          "text": [
            "----------------\n",
            "---LENA BANK----\n",
            "----------------\n",
            "1.Create Account\n",
            "2.Withdraw\n",
            "3.Deposit\n",
            "4.Check Balance\n",
            "0.Exit\n",
            "Choice:1\n",
            "Enter Name:abcd\n",
            "Enter Gender:m\n",
            "Enter amount to open account(min 5000):12000\n",
            "Account created ,your account number is: 2025001\n",
            "----------------\n",
            "---LENA BANK----\n",
            "----------------\n",
            "1.Create Account\n",
            "2.Withdraw\n",
            "3.Deposit\n",
            "4.Check Balance\n",
            "0.Exit\n",
            "Choice:2\n",
            "Enter account no:2025001\n",
            "Account found:\n",
            "Account details\n",
            "----------------------------\n",
            "Account no: 2025001\n",
            "Account Name: abcd\n",
            "Account Balance: 12000.0\n",
            "Enter amount to withdraw:2000\n",
            "Account details\n",
            "----------------------------\n",
            "Account no: 2025001\n",
            "Account Name: abcd\n",
            "Account Balance: 10000.0\n",
            "----------------\n",
            "---LENA BANK----\n",
            "----------------\n",
            "1.Create Account\n",
            "2.Withdraw\n",
            "3.Deposit\n",
            "4.Check Balance\n",
            "0.Exit\n",
            "Choice:3\n",
            "Enter account no:2025001\n",
            "Account found:\n",
            "Account details\n",
            "----------------------------\n",
            "Account no: 2025001\n",
            "Account Name: abcd\n",
            "Account Balance: 10000.0\n",
            "Enter amount to deposit:10000\n",
            "Account details\n",
            "----------------------------\n",
            "Account no: 2025001\n",
            "Account Name: abcd\n",
            "Account Balance: 20000.0\n",
            "----------------\n",
            "---LENA BANK----\n",
            "----------------\n",
            "1.Create Account\n",
            "2.Withdraw\n",
            "3.Deposit\n",
            "4.Check Balance\n",
            "0.Exit\n",
            "Choice:4\n",
            "Enter account no:202501\n",
            "202501 not found...\n",
            "----------------\n",
            "---LENA BANK----\n",
            "----------------\n",
            "1.Create Account\n",
            "2.Withdraw\n",
            "3.Deposit\n",
            "4.Check Balance\n",
            "0.Exit\n",
            "Choice:4\n",
            "Enter account no:2025001\n",
            "Account found:\n",
            "Account details\n",
            "----------------------------\n",
            "Account no: 2025001\n",
            "Account Name: abcd\n",
            "Account Balance: 20000.0\n",
            "Enter amount to deposit:5000\n",
            "Account details\n",
            "----------------------------\n",
            "Account no: 2025001\n",
            "Account Name: abcd\n",
            "Account Balance: 25000.0\n",
            "----------------\n",
            "---LENA BANK----\n",
            "----------------\n",
            "1.Create Account\n",
            "2.Withdraw\n",
            "3.Deposit\n",
            "4.Check Balance\n",
            "0.Exit\n",
            "Choice:0\n",
            "Thanks for using Lena bank\n"
          ]
        }
      ],
      "source": [
        "#code with script with functions\n",
        "class Account:\n",
        "    Account_no_generator=2025000\n",
        "    def __init__(self,name,gender,amount):\n",
        "        self.name=name\n",
        "        self.gender=gender\n",
        "        self.amount=amount\n",
        "        Account.Account_no_generator+=1\n",
        "        self.account_no=Account.Account_no_generator\n",
        "        print(\"Account created ,your account number is:\",self.account_no)\n",
        "\n",
        "    def get_account_no(self):\n",
        "        return self.account_no\n",
        "\n",
        "    def check_balance(self):\n",
        "        print(\"Account details\")\n",
        "        print(\"----------------------------\")\n",
        "        print(\"Account no:\",self.account_no)\n",
        "        print(\"Account Name:\",self.name)\n",
        "        print(\"Account Balance:\",self.amount);\n",
        "\n",
        "    def deposit(self,amount_given):\n",
        "        if amount_given<=0:\n",
        "            print(\"Amount can not be zero or Negative\")\n",
        "        else:\n",
        "            self.amount+=amount_given\n",
        "            self.check_balance()\n",
        "\n",
        "    def withdraw(self,amount_given):\n",
        "        if self.amount-amount_given<=5000:\n",
        "            print(\"insufficient funds...\")\n",
        "        else:\n",
        "            self.amount-=amount_given\n",
        "            self.check_balance()\n",
        "\n",
        "def create(bank):\n",
        "     name=input(\"Enter Name:\")\n",
        "     gender=input(\"Enter Gender:\")\n",
        "     while True:\n",
        "            amt=float(input(\"Enter amount to open account(min 5000):\"))\n",
        "            if amt>=5000:\n",
        "                a=Account(name,gender,amt)\n",
        "                bank[a.get_account_no()]=a\n",
        "            break\n",
        "\n",
        "def withdraw(bank):\n",
        "    acc_no=int(input(\"Enter account no:\"))\n",
        "    if acc_no in bank:\n",
        "        print(\"Account found:\")\n",
        "        bank[acc_no].check_balance()\n",
        "        amt=float(input(\"Enter amount to withdraw:\"))\n",
        "        bank[acc_no].withdraw(amt)\n",
        "    else:\n",
        "        print(acc_no,\"not found...\")\n",
        "\n",
        "def deposit(bank):\n",
        "    acc_no=int(input(\"Enter account no:\"))\n",
        "    if acc_no in bank:\n",
        "        print(\"Account found:\")\n",
        "        bank[acc_no].check_balance()\n",
        "        amt=float(input(\"Enter amount to deposit:\"))\n",
        "        bank[acc_no].deposit(amt)\n",
        "    else:\n",
        "        print(acc_no,\"not found...\")\n",
        "def check_balance(bank):\n",
        "    acc_no=int(input(\"Enter account no:\"))\n",
        "    if acc_no in bank:\n",
        "        print(\"Account found:\")\n",
        "        bank[acc_no].check_balance()\n",
        "        amt=float(input(\"Enter amount to deposit:\"))\n",
        "        bank[acc_no].deposit(amt)\n",
        "    else:\n",
        "        print(acc_no,\"not found...\")\n",
        "\n",
        "bank={}\n",
        "while True:\n",
        "    print(\"----------------\")\n",
        "    print(\"---LENA BANK----\")\n",
        "    print(\"----------------\")\n",
        "    print(\"1.Create Account\")\n",
        "    print(\"2.Withdraw\")\n",
        "    print(\"3.Deposit\")\n",
        "    print(\"4.Check Balance\")\n",
        "    print(\"0.Exit\")\n",
        "    ch=int(input(\"Choice:\"))\n",
        "    if ch==1:\n",
        "        create(bank)\n",
        "    elif ch==2:\n",
        "        withdraw(bank)\n",
        "    elif ch==3:\n",
        "        deposit(bank)\n",
        "    elif ch==4:\n",
        "       check_balance(bank)\n",
        "    elif ch==0:\n",
        "        print(\"Thanks for using Lena bank\")\n",
        "        break\n",
        "    else:\n",
        "        print(\"Wrong choice...\")"
      ]
    },
    {
      "cell_type": "code",
      "execution_count": null,
      "metadata": {
        "id": "v7g4EHCwk3fT"
      },
      "outputs": [],
      "source": [
        "5000"
      ]
    },
    {
      "cell_type": "code",
      "execution_count": null,
      "metadata": {
        "id": "S9ZkoDr_muDM"
      },
      "outputs": [],
      "source": [
        "Inheritance:\n",
        "            process of derriving properties from pre-existing\n",
        "            +ve:standardization,faster development(+i),enhancement\n",
        "types:\n",
        "single level/simple\n",
        "    parent----->child\n",
        "\n",
        "muti level:generations\n",
        "parent--->child\n",
        "          Parent----->child\n",
        "\n",
        "hierarchical\n",
        "mutiple\n",
        "hybrid"
      ]
    },
    {
      "cell_type": "code",
      "execution_count": null,
      "metadata": {
        "id": "w4-Vrs98Hb9R"
      },
      "outputs": [],
      "source": [
        "class A:\n",
        "    def public(self):#family name\n",
        "        print(\"hi i m public from A\")\n",
        "    def _private(self):#wealth/money\n",
        "        print(\"hi i m private from A\")\n",
        "    def __strong_private(self):#educational degrees\n",
        "        print(\"hi i m strong private from A\")"
      ]
    },
    {
      "cell_type": "code",
      "execution_count": null,
      "metadata": {
        "id": "28QaKD61Hz6l"
      },
      "outputs": [],
      "source": [
        "class B(A):\n",
        "    pass"
      ]
    },
    {
      "cell_type": "code",
      "execution_count": null,
      "metadata": {
        "id": "CPuD2dCCIERn"
      },
      "outputs": [],
      "source": [
        "obj=B()"
      ]
    },
    {
      "cell_type": "code",
      "execution_count": null,
      "metadata": {
        "colab": {
          "base_uri": "https://localhost:8080/"
        },
        "id": "FNBHrerEIHAS",
        "outputId": "9a2b2284-6be1-4e9a-f821-39fcfd6cc4e7"
      },
      "outputs": [
        {
          "name": "stdout",
          "output_type": "stream",
          "text": [
            "hi i m public from A\n"
          ]
        }
      ],
      "source": [
        "obj.public()"
      ]
    },
    {
      "cell_type": "code",
      "execution_count": null,
      "metadata": {
        "colab": {
          "base_uri": "https://localhost:8080/"
        },
        "id": "OqepWsZoIOnH",
        "outputId": "fac46a12-0002-44f0-caa1-23f3a325d0c5"
      },
      "outputs": [
        {
          "name": "stdout",
          "output_type": "stream",
          "text": [
            "hi i m private from A\n"
          ]
        }
      ],
      "source": [
        "obj._private()"
      ]
    },
    {
      "cell_type": "code",
      "execution_count": null,
      "metadata": {
        "colab": {
          "base_uri": "https://localhost:8080/",
          "height": 141
        },
        "id": "6g9UeqgVITkh",
        "outputId": "57deb97c-2092-48a1-fc06-dfda18ea208b"
      },
      "outputs": [
        {
          "ename": "AttributeError",
          "evalue": "'B' object has no attribute '__strong_private'",
          "output_type": "error",
          "traceback": [
            "\u001b[0;31m---------------------------------------------------------------------------\u001b[0m",
            "\u001b[0;31mAttributeError\u001b[0m                            Traceback (most recent call last)",
            "\u001b[0;32m<ipython-input-15-7a53f17538aa>\u001b[0m in \u001b[0;36m<cell line: 0>\u001b[0;34m()\u001b[0m\n\u001b[0;32m----> 1\u001b[0;31m \u001b[0mobj\u001b[0m\u001b[0;34m.\u001b[0m\u001b[0m__strong_private\u001b[0m\u001b[0;34m(\u001b[0m\u001b[0;34m)\u001b[0m\u001b[0;34m\u001b[0m\u001b[0;34m\u001b[0m\u001b[0m\n\u001b[0m",
            "\u001b[0;31mAttributeError\u001b[0m: 'B' object has no attribute '__strong_private'"
          ]
        }
      ],
      "source": [
        "obj.__strong_private()#can not be inherited"
      ]
    },
    {
      "cell_type": "code",
      "execution_count": null,
      "metadata": {
        "id": "j9A6hnieJn_l"
      },
      "outputs": [],
      "source": [
        "#override\n",
        "#child class will rewrite its own method to meet new needs\n",
        "#in the process rejects inherited method of parents\n",
        "#called child override parents method\n",
        "class Parent:\n",
        "    def welcome(self,name):\n",
        "        print(\"welcome,\",name)\n",
        "    def food(self):\n",
        "        print(\"roti sabji...\")\n",
        "class Child(Parent):\n",
        "    def food(self):#override\n",
        "        print(\"child:Fast food\")"
      ]
    },
    {
      "cell_type": "code",
      "execution_count": null,
      "metadata": {
        "colab": {
          "base_uri": "https://localhost:8080/"
        },
        "id": "LgcuOfZkMLYu",
        "outputId": "1eb7f63e-8798-462d-a1ab-6fe0a7b6e2c9"
      },
      "outputs": [
        {
          "name": "stdout",
          "output_type": "stream",
          "text": [
            "welcome, amar\n",
            "child:Fast food\n"
          ]
        }
      ],
      "source": [
        "obj=Child()\n",
        "obj.welcome(\"amar\")\n",
        "obj.food()"
      ]
    },
    {
      "cell_type": "code",
      "execution_count": null,
      "metadata": {
        "id": "iC063pVRNfnj"
      },
      "outputs": [],
      "source": [
        "#multiple without ambiguity\n",
        "class A:\n",
        "    def myA(self):\n",
        "        print(\"Hi from A My_A\")\n",
        "class B:\n",
        "    def myB(self):\n",
        "        print(\"Hi from B My_B\")\n",
        "class C:\n",
        "    def myC(self):\n",
        "        print(\"Hi from C My_C\")\n",
        "class X(A,B,C):\n",
        "    def myX(self):\n",
        "        print(\"Hi from X My_X\")\n"
      ]
    },
    {
      "cell_type": "code",
      "execution_count": null,
      "metadata": {
        "id": "aSnZUwwON31O"
      },
      "outputs": [],
      "source": [
        "obj=X()"
      ]
    },
    {
      "cell_type": "code",
      "execution_count": null,
      "metadata": {
        "id": "tgXab-CPN6w9"
      },
      "outputs": [],
      "source": [
        "obj."
      ]
    },
    {
      "cell_type": "code",
      "execution_count": null,
      "metadata": {
        "id": "KGIxodztPyrQ"
      },
      "outputs": [],
      "source": [
        "#multiple with ambiguity\n",
        "class A:\n",
        "    def my(self):\n",
        "        print(\"Hi from A My_A\")\n",
        "class B:\n",
        "    def my(self):\n",
        "        print(\"Hi from B My_B\")\n",
        "class C:\n",
        "    def my(self):\n",
        "        print(\"Hi from C My_C\")\n",
        "class X(C,A,B):\n",
        "    def myX(self):\n",
        "        print(\"Hi from X My_X\")"
      ]
    },
    {
      "cell_type": "code",
      "execution_count": null,
      "metadata": {
        "colab": {
          "base_uri": "https://localhost:8080/"
        },
        "id": "MdCYmxFjP4jl",
        "outputId": "0c5a884e-de54-4407-ff0b-eb50adc1d493"
      },
      "outputs": [
        {
          "name": "stdout",
          "output_type": "stream",
          "text": [
            "Hi from B My_B\n"
          ]
        }
      ],
      "source": [
        "obj=X()\n",
        "obj.my()"
      ]
    },
    {
      "cell_type": "code",
      "execution_count": null,
      "metadata": {
        "id": "idbnDOvYQVTr"
      },
      "outputs": [],
      "source": [
        "#multilevel without ambiguity\n",
        "class A:\n",
        "    def myA(self):\n",
        "        print(\"Hi from A My_A\")\n",
        "class B(A):\n",
        "    def myB(self):\n",
        "        print(\"Hi from B My_B\")\n",
        "class C(B):\n",
        "    def myC(self):\n",
        "        print(\"Hi from C My_C\")\n",
        "class X(C):\n",
        "    def myX(self):\n",
        "        print(\"Hi from X My_X\")\n"
      ]
    },
    {
      "cell_type": "code",
      "execution_count": null,
      "metadata": {
        "id": "LQBK6HSEQcsi"
      },
      "outputs": [],
      "source": [
        "obj=X()\n"
      ]
    },
    {
      "cell_type": "code",
      "execution_count": null,
      "metadata": {
        "id": "tQgsXP4aQiu9"
      },
      "outputs": [],
      "source": [
        "obj."
      ]
    },
    {
      "cell_type": "code",
      "execution_count": null,
      "metadata": {
        "id": "T8EYdreAQjLF"
      },
      "outputs": [],
      "source": [
        "#super():to access init of super class/ anything of super class\n",
        "class A:\n",
        "    def __init__(self):\n",
        "        print(\"Hi from A My_A\")\n",
        "class B(A):\n",
        "    def __init__(self):\n",
        "        super().__init__()\n",
        "        print(\"Hi from B My_B\")"
      ]
    },
    {
      "cell_type": "code",
      "execution_count": null,
      "metadata": {
        "colab": {
          "base_uri": "https://localhost:8080/"
        },
        "id": "GDOKsFGjSWr8",
        "outputId": "c7c78ee8-8f44-40e6-eb61-f943ef02741e"
      },
      "outputs": [
        {
          "name": "stdout",
          "output_type": "stream",
          "text": [
            "Hi from A My_A\n",
            "Hi from B My_B\n"
          ]
        }
      ],
      "source": [
        "objb=B()"
      ]
    },
    {
      "cell_type": "code",
      "execution_count": null,
      "metadata": {
        "id": "mLB87uIjSsXu"
      },
      "outputs": [],
      "source": [
        "class A:\n",
        "    def __init__(self,data):\n",
        "        print(\"Hi from A My_A:\",data)\n",
        "class B(A):\n",
        "    def __init__(self,data1,data2):\n",
        "        super().__init__(data1)\n",
        "        print(\"Hi from B My_B:\",data2)"
      ]
    },
    {
      "cell_type": "code",
      "execution_count": null,
      "metadata": {
        "colab": {
          "base_uri": "https://localhost:8080/"
        },
        "id": "CHxCFhUOS0KU",
        "outputId": "8199d4e2-5e38-471d-a613-b3b150d86e33"
      },
      "outputs": [
        {
          "name": "stdout",
          "output_type": "stream",
          "text": [
            "Hi from A My_A: 10\n",
            "Hi from B My_B: 20\n"
          ]
        }
      ],
      "source": [
        "objb=B(10,20)"
      ]
    },
    {
      "cell_type": "code",
      "execution_count": null,
      "metadata": {
        "colab": {
          "base_uri": "https://localhost:8080/"
        },
        "id": "pE3_6WyXTf4f",
        "outputId": "5cfb7224-5c5f-44e1-d63c-20b889d00707"
      },
      "outputs": [
        {
          "name": "stdout",
          "output_type": "stream",
          "text": [
            "name,gender set in Human\n",
            "degree set in Education\n",
            "salary set in Job\n",
            "Name: Amit\n",
            "Gender: Male\n",
            "Degree: B.Tech\n",
            "Salary: 60000\n"
          ]
        }
      ],
      "source": [
        "# create human:has gender ,name\n",
        "# education : has degree\n",
        "# job: has salary\n",
        "#using __init__() set all values and print them from job only\n",
        "#accept parameters in job only but set in respective class\n",
        "class Human:\n",
        "    def __init__(self, name, gender):\n",
        "        self.name = name\n",
        "        self.gender = gender\n",
        "        print(\"name,gender set in Human\")\n",
        "\n",
        "class Education(Human):\n",
        "    def __init__(self, name,gender,degree):\n",
        "        super().__init__(name,gender)\n",
        "        self.degree = degree\n",
        "        print(\"degree set in Education\")\n",
        "\n",
        "class Job(Education):\n",
        "    def __init__(self, name, gender, degree, salary):\n",
        "        super().__init__(name, gender,degree)\n",
        "        self.salary = salary\n",
        "        print(\"salary set in \")\n",
        "\n",
        "    def display(self):\n",
        "        print(f\"Name: {self.name}\")\n",
        "        print(f\"Gender: {self.gender}\")\n",
        "        print(f\"Degree: {self.degree}\")\n",
        "        print(f\"Salary: {self.salary}\")\n",
        "\n",
        "employee = Job(\"Amit\", \"Male\", \"B.Tech\", 60000)\n",
        "employee.display()"
      ]
    },
    {
      "cell_type": "code",
      "execution_count": null,
      "metadata": {
        "id": "JfQZ6uX-XUdo"
      },
      "outputs": [],
      "source": [
        "class Human:\n",
        "    def __init__(self, name, gender):\n",
        "        self.name = name\n",
        "        self.gender = gender\n",
        "\n",
        "class Education:\n",
        "    def __init__(self, degree):\n",
        "        self.degree = degree\n",
        "\n",
        "class Job(Human, Education):\n",
        "    def __init__(self, name, gender, degree, salary):\n",
        "        Human.__init__(self, name, gender)\n",
        "        Education.__init__(self, degree)\n",
        "        self.salary = salary\n",
        "\n",
        "    def display(self):\n",
        "        print(f\"Name: {self.name}\")\n",
        "        print(f\"Gender: {self.gender}\")\n",
        "        print(f\"Degree: {self.degree}\")\n",
        "        print(f\"Salary: {self.salary}\")\n",
        "\n",
        "employee = Job(\"Amit\", \"Male\", \"B.Tech\", 60000)\n",
        "employee.display()\n"
      ]
    },
    {
      "cell_type": "code",
      "execution_count": null,
      "metadata": {
        "id": "7Jk576YHX8zs"
      },
      "outputs": [],
      "source": [
        "Problem Definition\n",
        "Create a Python program using multiple inheritance to model a Vehicle Management System.\n",
        "\n",
        "The Vehicle class stores brand and model.\n",
        "The Specifications class stores engine type and mileage.\n",
        "The Car class inherits from both and also stores the price.\n",
        "The program should take input only in the Car class, set values in respective classes, and display all details from the Car class.\n",
        "\n",
        "car1 = Car(\"Toyota\", \"Camry\", \"Hybrid\", 25, 30000)\n",
        "car1.display()\n",
        "\n",
        "o/p\n",
        "Brand: Toyota\n",
        "Model: Camry\n",
        "Engine Type: Hybrid\n",
        "Mileage: 25 km/l\n",
        "Price: $30000"
      ]
    },
    {
      "cell_type": "code",
      "execution_count": null,
      "metadata": {
        "colab": {
          "base_uri": "https://localhost:8080/"
        },
        "id": "jKAt_TQfaAA6",
        "outputId": "442007e8-3181-470c-a861-00ff6f0869e0"
      },
      "outputs": [
        {
          "name": "stdout",
          "output_type": "stream",
          "text": [
            "Brand: Toyota\n",
            "Model: Camry\n",
            "Engine Type: Hybrid\n",
            "Mileage: 25 km/l\n",
            "Price: $30000\n"
          ]
        }
      ],
      "source": [
        "class Vehicle:\n",
        "    def __init__(self, brand, model):\n",
        "        self.brand = brand\n",
        "        self.model = model\n",
        "\n",
        "class Specifications:\n",
        "    def __init__(self, engine_type, mileage):\n",
        "        self.engine_type = engine_type\n",
        "        self.mileage = mileage\n",
        "\n",
        "class Car(Vehicle, Specifications):\n",
        "    def __init__(self, brand, model, engine_type, mileage, price):\n",
        "        Vehicle.__init__(self, brand, model)\n",
        "        Specifications.__init__(self, engine_type, mileage)\n",
        "        self.price = price\n",
        "\n",
        "    def display(self):\n",
        "        print(f\"Brand: {self.brand}\")\n",
        "        print(f\"Model: {self.model}\")\n",
        "        print(f\"Engine Type: {self.engine_type}\")\n",
        "        print(f\"Mileage: {self.mileage} km/l\")\n",
        "        print(f\"Price: ${self.price}\")\n",
        "\n",
        "car1 = Car(\"Toyota\", \"Camry\", \"Hybrid\", 25, 30000)\n",
        "car1.display()\n"
      ]
    },
    {
      "cell_type": "code",
      "execution_count": null,
      "metadata": {
        "id": "LOlFXtWTZqDU"
      },
      "outputs": [],
      "source": [
        "Interview Question:\n",
        "Library Management System (Using OOP in Python)\n",
        "Problem Statement:\n",
        "Design a Library Management System using Object-Oriented Programming (OOP) concepts in Python.\n",
        "\n",
        "The system should allow:\n",
        "Adding books to the library (with title, author, and ISBN).\n",
        "Registering members (with name and membership ID).\n",
        "Issuing books to members.\n",
        "Returning books to the library.\n",
        "Tracking issued books and available books.\n",
        "\n",
        "Classes and Their Responsibilities:\n",
        "Book:\n",
        "    Stores details about a book (title, author, ISBN, availability).\n",
        "Member:\n",
        "    Represents a library member (name, membership ID, borrowed books).\n",
        "Library:\n",
        "    Manages books and members, issues and returns books."
      ]
    },
    {
      "cell_type": "code",
      "execution_count": null,
      "metadata": {
        "id": "mKXclDIglBx5"
      },
      "outputs": [],
      "source": [
        "class Book:\n",
        "    def __init__(self,title,author,isbn,availability=True):\n",
        "        self.title=title\n",
        "        self.author=author\n",
        "        self.isbn=isbn\n",
        "        self.availability=availability\n",
        "    def __str__(self):\n",
        "        status=\"\"\n",
        "        if self.availability:\n",
        "            status=\"Available\"\n",
        "        else:\n",
        "            status=\"Issued\"\n",
        "        return f\"\\nISBN:{self.isbn}\\tTitle:{self.title}\\tAuthor:{self.author}\\tStatus:{status}\"\n",
        "    def status(self):\n",
        "        return self.availability\n",
        "\n",
        "\n",
        "class Member:\n",
        "    def __init__(self,name,member_id):\n",
        "        self.name=name\n",
        "        self.member_id=member_id\n",
        "        self.borrowed_book=[]\n",
        "    def __str__(self):\n",
        "        return f\"\\nName:{self.name}\\tMember_id:{self.member_id}\"\n",
        "\n",
        "class Library:\n",
        "    def __init__(self):\n",
        "        self.books={}\n",
        "        self.members={}\n",
        "\n",
        "    def add_book(self,book):\n",
        "        self.books[book.isbn]=book\n",
        "\n",
        "    def add_member(self,member):\n",
        "        self.members[member.member_id]=member\n",
        "\n",
        "    def list_books(self):\n",
        "        print(\"Books.........\")\n",
        "        for item in self.books.keys():\n",
        "            print(self.books[item])\n",
        "\n",
        "    def issue(self,member_id,book_isbn):\n",
        "        if member_id in self.members and book_isbn in self.books and self.books[book_isbn].status()==True:\n",
        "            self.members[member_id].borrowed_book.append(self.books[book_isbn])\n",
        "            #status change book\n",
        "            self.books[book_isbn].availability=False\n",
        "        else:\n",
        "            print(\"Error check membership/book id/book status\")\n",
        "\n",
        "    def return_book(self,member_id,book_isbn):\n",
        "        if member_id in self.members and book_isbn in self.books:\n",
        "            self.members[member_id].borrowed_book.remove(self.books[book_isbn])\n",
        "            #status change book\n",
        "            self.books[book_isbn].availability=True\n",
        "        else:\n",
        "            print(\"Error check membership/book id/book status\")\n"
      ]
    },
    {
      "cell_type": "code",
      "execution_count": null,
      "metadata": {
        "colab": {
          "base_uri": "https://localhost:8080/"
        },
        "id": "9aCToRjM2wCg",
        "outputId": "b45409c4-6db3-47f4-f984-a43bddd81cf3"
      },
      "outputs": [
        {
          "name": "stdout",
          "output_type": "stream",
          "text": [
            "\n",
            "Library Management System\n",
            "1. Add Book\n",
            "2. Add Member\n",
            "3. List Books\n",
            "4. Issue Book\n",
            "5. Return Book\n",
            "6. Exit\n",
            "Enter your choice: 1\n",
            "Enter book title: let us c\n",
            "Enter book author: yashwant kanitkar\n",
            "Enter book ISBN: 123\n",
            "Book added successfully!\n",
            "\n",
            "Library Management System\n",
            "1. Add Book\n",
            "2. Add Member\n",
            "3. List Books\n",
            "4. Issue Book\n",
            "5. Return Book\n",
            "6. Exit\n",
            "Enter your choice: 1\n",
            "Enter book title: java\n",
            "Enter book author: balguruswami\n",
            "Enter book ISBN: 234\n",
            "Book added successfully!\n",
            "\n",
            "Library Management System\n",
            "1. Add Book\n",
            "2. Add Member\n",
            "3. List Books\n",
            "4. Issue Book\n",
            "5. Return Book\n",
            "6. Exit\n",
            "Enter your choice: 3\n",
            "Books.........\n",
            "\n",
            "ISBN:123\tTitle:let us c\tAuthor:yashwant kanitkar\tStatus:Available\n",
            "\n",
            "ISBN:234\tTitle:java\tAuthor:balguruswami\tStatus:Available\n",
            "\n",
            "Library Management System\n",
            "1. Add Book\n",
            "2. Add Member\n",
            "3. List Books\n",
            "4. Issue Book\n",
            "5. Return Book\n",
            "6. Exit\n",
            "Enter your choice: 2\n",
            "Enter member name: amar\n",
            "Enter member ID: 1\n",
            "Member added successfully!\n",
            "\n",
            "Library Management System\n",
            "1. Add Book\n",
            "2. Add Member\n",
            "3. List Books\n",
            "4. Issue Book\n",
            "5. Return Book\n",
            "6. Exit\n",
            "Enter your choice: 2\n",
            "Enter member name: amit\n",
            "Enter member ID: 2\n",
            "Member added successfully!\n",
            "\n",
            "Library Management System\n",
            "1. Add Book\n",
            "2. Add Member\n",
            "3. List Books\n",
            "4. Issue Book\n",
            "5. Return Book\n",
            "6. Exit\n",
            "Enter your choice: 4\n",
            "Enter member ID: 1\n",
            "Enter book ISBN: 123\n",
            "\n",
            "Library Management System\n",
            "1. Add Book\n",
            "2. Add Member\n",
            "3. List Books\n",
            "4. Issue Book\n",
            "5. Return Book\n",
            "6. Exit\n",
            "Enter your choice: 3\n",
            "Books.........\n",
            "\n",
            "ISBN:123\tTitle:let us c\tAuthor:yashwant kanitkar\tStatus:Issued\n",
            "\n",
            "ISBN:234\tTitle:java\tAuthor:balguruswami\tStatus:Available\n",
            "\n",
            "Library Management System\n",
            "1. Add Book\n",
            "2. Add Member\n",
            "3. List Books\n",
            "4. Issue Book\n",
            "5. Return Book\n",
            "6. Exit\n",
            "Enter your choice: 4\n",
            "Enter member ID: 2\n",
            "Enter book ISBN: 123\n",
            "Error check membership/book id/book status\n",
            "\n",
            "Library Management System\n",
            "1. Add Book\n",
            "2. Add Member\n",
            "3. List Books\n",
            "4. Issue Book\n",
            "5. Return Book\n",
            "6. Exit\n",
            "Enter your choice: 99\n",
            "Invalid choice! Please try again.\n",
            "\n",
            "Library Management System\n",
            "1. Add Book\n",
            "2. Add Member\n",
            "3. List Books\n",
            "4. Issue Book\n",
            "5. Return Book\n",
            "6. Exit\n",
            "Enter your choice: 6\n",
            "Exiting... Thank you!\n"
          ]
        }
      ],
      "source": [
        "# Menu-driven script\n",
        "library = Library()\n",
        "while True:\n",
        "    print(\"\\nLibrary Management System\")\n",
        "    print(\"1. Add Book\")\n",
        "    print(\"2. Add Member\")\n",
        "    print(\"3. List Books\")\n",
        "    print(\"4. Issue Book\")\n",
        "    print(\"5. Return Book\")\n",
        "    print(\"6. Exit\")\n",
        "    choice = input(\"Enter your choice: \")\n",
        "\n",
        "    if choice == \"1\":\n",
        "        title = input(\"Enter book title: \")\n",
        "        author = input(\"Enter book author: \")\n",
        "        isbn = input(\"Enter book ISBN: \")\n",
        "        library.add_book(Book(title, author, isbn))\n",
        "        print(\"Book added successfully!\")\n",
        "    elif choice == \"2\":\n",
        "        name = input(\"Enter member name: \")\n",
        "        member_id = input(\"Enter member ID: \")\n",
        "        library.add_member(Member(name, member_id))\n",
        "        print(\"Member added successfully!\")\n",
        "    elif choice == \"3\":\n",
        "        library.list_books()\n",
        "    elif choice == \"4\":\n",
        "        member_id = input(\"Enter member ID: \")\n",
        "        book_isbn = input(\"Enter book ISBN: \")\n",
        "        library.issue(member_id, book_isbn)\n",
        "    elif choice == \"5\":\n",
        "        member_id = input(\"Enter member ID: \")\n",
        "        book_isbn = input(\"Enter book ISBN: \")\n",
        "        library.return_book(member_id, book_isbn)\n",
        "    elif choice == \"6\":\n",
        "        print(\"Exiting... Thank you!\")\n",
        "        break\n",
        "    else:\n",
        "        print(\"Invalid choice! Please try again.\")"
      ]
    },
    {
      "cell_type": "code",
      "execution_count": null,
      "metadata": {
        "id": "2FHcbD7fpMlq"
      },
      "outputs": [],
      "source": [
        "library_obj=Library()\n",
        "b1=Book(\"let us C\",\"Yashwant kanitkar\",1234)\n",
        "b2=Book(\"let us java\",\"Tanenbaum\",2345)\n",
        "library_obj.add_book(b1)\n",
        "library_obj.add_book(b2)"
      ]
    },
    {
      "cell_type": "code",
      "execution_count": null,
      "metadata": {
        "id": "nJlejCRAya1a"
      },
      "outputs": [],
      "source": [
        "m1=Member(\"amar\",202501)\n",
        "m2=Member(\"amarita\",202502)\n",
        "library_obj.add_member(m1)\n",
        "library_obj.add_member(m2)"
      ]
    },
    {
      "cell_type": "code",
      "execution_count": null,
      "metadata": {
        "colab": {
          "base_uri": "https://localhost:8080/"
        },
        "id": "gZBkQDCxyPWr",
        "outputId": "464cf4b9-738e-433b-fee6-e00e7329a164"
      },
      "outputs": [
        {
          "name": "stdout",
          "output_type": "stream",
          "text": [
            "Books.........\n",
            "\n",
            "ISBN:1234\tTitle:let us C\tAuthor:Yashwant kanitkar\tStatus:Available\n",
            "\n",
            "ISBN:2345\tTitle:let us java\tAuthor:Tanenbaum\tStatus:Available\n"
          ]
        }
      ],
      "source": [
        "library_obj.list_books()"
      ]
    },
    {
      "cell_type": "code",
      "execution_count": null,
      "metadata": {
        "id": "gvS88rzBywPZ"
      },
      "outputs": [],
      "source": [
        "library_obj.issue(202501,1234)"
      ]
    },
    {
      "cell_type": "code",
      "execution_count": null,
      "metadata": {
        "id": "hR6KyjAMy7XB"
      },
      "outputs": [],
      "source": [
        "library_obj.return_book(202501,1234)"
      ]
    },
    {
      "cell_type": "code",
      "execution_count": null,
      "metadata": {
        "id": "KfkCk_KF2NxX"
      },
      "outputs": [],
      "source": [
        "Info:\n",
        "Inventory Management System (Using OOP in Python)\n",
        "Problem Statement:\n",
        "Design an Inventory Management System using Object-Oriented Programming (OOP) concepts in Python. The system should:\n",
        "\n",
        "Add products to the inventory with attributes like product ID, name, quantity, and price.\n",
        "Update product details, such as modifying the quantity or price.\n",
        "Remove products from the inventory.\n",
        "Display current inventory status, showing all products with their details.\n",
        "Classes and Their Responsibilities:\n",
        "Product: Represents individual products with attributes like product ID, name, quantity, and price.\n",
        "Inventory: Manages a collection of products, providing methods to add, update, remove, and display products."
      ]
    },
    {
      "cell_type": "markdown",
      "metadata": {
        "id": "Ta7USnpU4UKw"
      },
      "source": [
        "**============================================================================================================**"
      ]
    },
    {
      "cell_type": "markdown",
      "metadata": {
        "id": "0AwJRuOo4XQr"
      },
      "source": [
        "# Day eight  ,  reg ex"
      ]
    },
    {
      "cell_type": "markdown",
      "metadata": {
        "id": "5b5unRYn4ePd"
      },
      "source": [
        "**==========================================================================================================**"
      ]
    },
    {
      "cell_type": "code",
      "execution_count": null,
      "metadata": {
        "id": "Er-smKuh4bLl"
      },
      "outputs": [],
      "source": []
    },
    {
      "cell_type": "code",
      "execution_count": null,
      "metadata": {
        "id": "ePgwJTCwQebW"
      },
      "outputs": [],
      "source": [
        "Files:\n",
        "    used for permanent storage\n",
        "    process:\n",
        "        open---->operate(r/w/a)---->close(makes changes permanent)\n",
        "\n",
        "    open:\n",
        "    file_ref=open(\"full_path\",\"mode\")\n",
        "    r:read only\n",
        "        (file should exists)\n",
        "    w:write only\n",
        "        (file would be created if not there else overwrite)\n",
        "    a:append only\n",
        "        (file would be created if not there else data added at end)\n",
        "    r+:read and write(append to file from start of file)\n",
        "    w+:write and read(current data that is written can be read)\n",
        "    a+:read and write(append to file from end)\n",
        "    b:binary for none-text file\n",
        "    (br,bw,ba,br+,bw+,ba+)\n",
        "    x:create file iff not already there else gives exception\n",
        "\n",
        "    read:\n",
        "    .read():all in one shot\n",
        "    .read(size):only given size is read at a time\n",
        "    .readline():one line at a time\n",
        "    .readlines():n lines at a time\n",
        "\n",
        "    write(data)\n",
        "    write(\"message\")\n",
        "\n",
        "    close():needed to make changes permanent\n"
      ]
    },
    {
      "cell_type": "code",
      "execution_count": null,
      "metadata": {
        "colab": {
          "base_uri": "https://localhost:8080/"
        },
        "id": "H9q69yzuUozB",
        "outputId": "0a46d742-c78c-4505-d22b-bb48c81ad9f1"
      },
      "outputs": [
        {
          "name": "stdout",
          "output_type": "stream",
          "text": [
            "Enter data in file:asdf dfghj werty asdfgh tyu\n"
          ]
        }
      ],
      "source": [
        "file=open(\"myfile.txt\",\"w\")\n",
        "line=input(\"Enter data in file:\")\n",
        "file.write(line)\n",
        "file.close()"
      ]
    },
    {
      "cell_type": "code",
      "execution_count": null,
      "metadata": {
        "colab": {
          "base_uri": "https://localhost:8080/"
        },
        "id": "5BicILLPVW3N",
        "outputId": "b5277816-984b-4262-bd4c-93a6824a64fd"
      },
      "outputs": [
        {
          "name": "stdout",
          "output_type": "stream",
          "text": [
            "Enter data in file:qqqq qqq www eee\n"
          ]
        }
      ],
      "source": [
        "file=open(\"myfile.txt\",\"w\")\n",
        "line=input(\"Enter data in file:\")\n",
        "file.write(line)\n",
        "file.close()"
      ]
    },
    {
      "cell_type": "code",
      "execution_count": null,
      "metadata": {
        "colab": {
          "base_uri": "https://localhost:8080/",
          "height": 193
        },
        "id": "SqeqmgayVlPv",
        "outputId": "66eeadfb-a4e6-4636-e115-76606a2f52b7"
      },
      "outputs": [
        {
          "ename": "FileExistsError",
          "evalue": "[Errno 17] File exists: 'myfile2.txt'",
          "output_type": "error",
          "traceback": [
            "\u001b[0;31m---------------------------------------------------------------------------\u001b[0m",
            "\u001b[0;31mFileExistsError\u001b[0m                           Traceback (most recent call last)",
            "\u001b[0;32m<ipython-input-5-20bedb1b0965>\u001b[0m in \u001b[0;36m<cell line: 0>\u001b[0;34m()\u001b[0m\n\u001b[0;32m----> 1\u001b[0;31m \u001b[0mfile\u001b[0m\u001b[0;34m=\u001b[0m\u001b[0mopen\u001b[0m\u001b[0;34m(\u001b[0m\u001b[0;34m\"myfile2.txt\"\u001b[0m\u001b[0;34m,\u001b[0m\u001b[0;34m\"x\"\u001b[0m\u001b[0;34m)\u001b[0m\u001b[0;34m\u001b[0m\u001b[0;34m\u001b[0m\u001b[0m\n\u001b[0m\u001b[1;32m      2\u001b[0m \u001b[0mline\u001b[0m\u001b[0;34m=\u001b[0m\u001b[0minput\u001b[0m\u001b[0;34m(\u001b[0m\u001b[0;34m\"Enter data in file:\"\u001b[0m\u001b[0;34m)\u001b[0m\u001b[0;34m\u001b[0m\u001b[0;34m\u001b[0m\u001b[0m\n\u001b[1;32m      3\u001b[0m \u001b[0mfile\u001b[0m\u001b[0;34m.\u001b[0m\u001b[0mwrite\u001b[0m\u001b[0;34m(\u001b[0m\u001b[0mline\u001b[0m\u001b[0;34m)\u001b[0m\u001b[0;34m\u001b[0m\u001b[0;34m\u001b[0m\u001b[0m\n\u001b[1;32m      4\u001b[0m \u001b[0mfile\u001b[0m\u001b[0;34m.\u001b[0m\u001b[0mclose\u001b[0m\u001b[0;34m(\u001b[0m\u001b[0;34m)\u001b[0m\u001b[0;34m\u001b[0m\u001b[0;34m\u001b[0m\u001b[0m\n",
            "\u001b[0;31mFileExistsError\u001b[0m: [Errno 17] File exists: 'myfile2.txt'"
          ]
        }
      ],
      "source": [
        "file=open(\"myfile2.txt\",\"x\")\n",
        "line=input(\"Enter data in file:\")\n",
        "file.write(line)\n",
        "file.close()"
      ]
    },
    {
      "cell_type": "code",
      "execution_count": null,
      "metadata": {
        "colab": {
          "base_uri": "https://localhost:8080/"
        },
        "id": "2aDxQzkpV7CS",
        "outputId": "cc74a1b3-57c9-40e2-918b-2799c56989ca"
      },
      "outputs": [
        {
          "name": "stdout",
          "output_type": "stream",
          "text": [
            "Enter name:amar\n",
            "Enter data in file:hi good morning \n",
            "Enter data in file:2nd thing is to teach\n",
            "Enter data in file:files going on \n",
            "Enter data in file:\n",
            "data saved in file\n"
          ]
        }
      ],
      "source": [
        "#ask user his/her name create file <name>.txt and then keep adding data to file till user gives first blank\n",
        "user_name=input(\"Enter name:\")\n",
        "file=open(user_name+\".txt\",\"x\")\n",
        "while True:\n",
        "    line=input(\"Enter data in file:\")\n",
        "    if line==\"\":\n",
        "        file.close()\n",
        "        print(\"data saved in file\")\n",
        "        break\n",
        "    file.write(line)\n"
      ]
    },
    {
      "cell_type": "code",
      "execution_count": null,
      "metadata": {
        "colab": {
          "base_uri": "https://localhost:8080/"
        },
        "id": "5SzyJ07SV78X",
        "outputId": "17e556ee-d699-41bd-d564-527c7004bdb7"
      },
      "outputs": [
        {
          "name": "stdout",
          "output_type": "stream",
          "text": [
            "Enter name:amar\n",
            "Enter data in file:this is so much fun\n",
            "Enter data in file:next line is this \n",
            "Enter data in file:this is going to be important\n",
            "Enter data in file:now lets see this\n",
            "Enter data in file:\n",
            "data saved in file\n"
          ]
        }
      ],
      "source": [
        "user_name=input(\"Enter name:\")\n",
        "file=open(user_name+\".txt\",\"w\")\n",
        "while True:\n",
        "    line=input(\"Enter data in file:\")\n",
        "    if line==\"\":\n",
        "        file.close()\n",
        "        print(\"data saved in file\")\n",
        "        break\n",
        "    file.write(line+\"\\n\")"
      ]
    },
    {
      "cell_type": "code",
      "execution_count": null,
      "metadata": {
        "colab": {
          "base_uri": "https://localhost:8080/"
        },
        "id": "LExeshW2Zl2n",
        "outputId": "b43b2fa5-6b81-423e-94a1-8e89fd5a6760"
      },
      "outputs": [
        {
          "name": "stdout",
          "output_type": "stream",
          "text": [
            "Enter name:amar\n",
            "this is so much fun\n",
            "next line is this \n",
            "this is going to be important\n",
            "now lets see this\n",
            "\n"
          ]
        }
      ],
      "source": [
        "user_name=input(\"Enter name:\")\n",
        "file=open(user_name+\".txt\",\"r\")\n",
        "data=file.read()\n",
        "print(data)\n",
        "file.close()"
      ]
    },
    {
      "cell_type": "code",
      "execution_count": null,
      "metadata": {
        "colab": {
          "base_uri": "https://localhost:8080/"
        },
        "id": "9ny41_p6Z2bm",
        "outputId": "e557430f-9453-4c40-bddb-9d8e8d47a6aa"
      },
      "outputs": [
        {
          "name": "stdout",
          "output_type": "stream",
          "text": [
            "Enter name:amar\n",
            "Line----: this is so much fun\n",
            "\n",
            "Line----: next line is this \n",
            "\n",
            "Line----: this is going to be important\n",
            "\n",
            "Line----: now lets see this\n",
            "\n",
            "---------EOF--------\n"
          ]
        }
      ],
      "source": [
        "user_name=input(\"Enter name:\")\n",
        "file=open(user_name+\".txt\",\"r\")\n",
        "while True:\n",
        "    data=file.readline()\n",
        "    if data==\"\":\n",
        "        print(\"---------EOF--------\")\n",
        "        break\n",
        "    print(\"Line----:\",data)\n",
        "file.close()"
      ]
    },
    {
      "cell_type": "code",
      "execution_count": null,
      "metadata": {
        "colab": {
          "base_uri": "https://localhost:8080/"
        },
        "id": "uoD5oCSPabNo",
        "outputId": "cf993c9b-30cf-45bf-aae6-78e4a16608cd"
      },
      "outputs": [
        {
          "name": "stdout",
          "output_type": "stream",
          "text": [
            "Enter name:amar\n",
            "Line----: this \n",
            "Line----: is so\n",
            "Line----:  much\n",
            "Line----:  fun\n",
            "\n",
            "Line----: next \n",
            "Line----: line \n",
            "Line----: is th\n",
            "Line----: is \n",
            "t\n",
            "Line----: his i\n",
            "Line----: s goi\n",
            "Line----: ng to\n",
            "Line----:  be i\n",
            "Line----: mport\n",
            "Line----: ant\n",
            "n\n",
            "Line----: ow le\n",
            "Line----: ts se\n",
            "Line----: e thi\n",
            "Line----: s\n",
            "\n",
            "---------EOF--------\n"
          ]
        }
      ],
      "source": [
        "user_name=input(\"Enter name:\")\n",
        "file=open(user_name+\".txt\",\"r\")\n",
        "while True:\n",
        "    data=file.read(5)\n",
        "    if data==\"\":\n",
        "        print(\"---------EOF--------\")\n",
        "        break\n",
        "    print(\"Line----:\",data)\n",
        "file.close()"
      ]
    },
    {
      "cell_type": "code",
      "execution_count": null,
      "metadata": {
        "colab": {
          "base_uri": "https://localhost:8080/"
        },
        "id": "wgDhVxt7atrP",
        "outputId": "942ed233-583c-4f48-90c3-ae17b1714103"
      },
      "outputs": [
        {
          "name": "stdout",
          "output_type": "stream",
          "text": [
            "Enter name:aamar\n",
            "Error: [Errno 2] No such file or directory: 'aamar.txt'\n"
          ]
        }
      ],
      "source": [
        "#Exception handling in files\n",
        "#open always needs exception handingling\n",
        "try:\n",
        "    user_name=input(\"Enter name:\")\n",
        "    file=open(user_name+\".txt\",\"r\")\n",
        "#except shows error\n",
        "except Exception as msg:\n",
        "    print(\"Error:\",msg)\n",
        "else:#iff opened without error then only read/write\n",
        "    while True:\n",
        "        data=file.readline()\n",
        "        if data==\"\":\n",
        "            print(\"---------EOF--------\")\n",
        "            break\n",
        "        print(\"Line----:\",data)\n",
        "#finally will close file\n",
        "finally:\n",
        "    file.close()"
      ]
    },
    {
      "cell_type": "code",
      "execution_count": null,
      "metadata": {
        "id": "e0hk53DDdW7S"
      },
      "outputs": [],
      "source": [
        "\n",
        "file=open(\"test.txt\",\"r+\")\n",
        "file.write(\"@@@@@@@@@\")\n",
        "file.close()"
      ]
    },
    {
      "cell_type": "code",
      "execution_count": null,
      "metadata": {
        "id": "aQYuZF-Sd8Iw"
      },
      "outputs": [],
      "source": [
        "file=open(\"test.txt\",\"a+\")\n",
        "file.write(\"###############\")\n",
        "file.close()"
      ]
    },
    {
      "cell_type": "code",
      "execution_count": null,
      "metadata": {
        "id": "HG2xZHwKe46j"
      },
      "outputs": [],
      "source": [
        "file=open(\"test.txt\",\"w\")\n",
        "file.write(\"this is done\")\n",
        "file.close()"
      ]
    },
    {
      "cell_type": "code",
      "execution_count": null,
      "metadata": {
        "id": "nv6Qeos2fCX-"
      },
      "outputs": [],
      "source": [
        "file=open(\"test.txt\",\"a+\")\n",
        "file.write(\"\\nthis is done\")\n",
        "file.close()"
      ]
    },
    {
      "cell_type": "code",
      "execution_count": null,
      "metadata": {
        "colab": {
          "base_uri": "https://localhost:8080/"
        },
        "id": "ytkMC6x0fRHW",
        "outputId": "d992356e-6a2b-46f5-e7aa-fe1d22a9833c"
      },
      "outputs": [
        {
          "name": "stdout",
          "output_type": "stream",
          "text": [
            "both files copied\n"
          ]
        }
      ],
      "source": [
        "#combine\n",
        "fr1=open(\"file1.txt\",\"r\")\n",
        "fr2=open(\"file2.txt\",\"r\")\n",
        "fw=open(\"file3.txt\",\"w\")\n",
        "while True:\n",
        "    read1=fr1.readline()\n",
        "    if read1!=\"\":\n",
        "        fw.write(read1)\n",
        "\n",
        "    read2=fr2.readline()\n",
        "    if read2!=\"\":\n",
        "        fw.write(read2)\n",
        "\n",
        "    if read1==\"\" and read2==\"\":\n",
        "        print(\"both files copied\")\n",
        "        fw.close()\n",
        "        fr1.close()\n",
        "        fr2.close()\n",
        "        break"
      ]
    },
    {
      "cell_type": "code",
      "execution_count": null,
      "metadata": {
        "colab": {
          "base_uri": "https://localhost:8080/"
        },
        "id": "CHMjUhYBkmsL",
        "outputId": "d6e53a6b-cbf9-40b5-adc1-3d4bbd532150"
      },
      "outputs": [
        {
          "name": "stdout",
          "output_type": "stream",
          "text": [
            "files separated and saved\n"
          ]
        }
      ],
      "source": [
        "#file_even.txt:has data from even lines only\n",
        "#file_odd.txt:has data from odd lines only\n",
        "file_even=open(\"file_even.txt\",\"w\")\n",
        "file_odd=open(\"file_odd.txt\",\"w\")\n",
        "file_source=open(\"file3.txt\",\"r\")\n",
        "count=1\n",
        "while True:\n",
        "    line=file_source.readline()\n",
        "    if line==\"\":\n",
        "        file_even.close()\n",
        "        file_odd.close()\n",
        "        file_source.close()\n",
        "        print(\"files separated and saved\")\n",
        "        break\n",
        "    if count%2==1:\n",
        "        file_odd.write(line)\n",
        "    else:\n",
        "        file_even.write(line)\n",
        "    count+=1\n"
      ]
    },
    {
      "cell_type": "code",
      "execution_count": null,
      "metadata": {
        "colab": {
          "base_uri": "https://localhost:8080/"
        },
        "id": "i3Lk1DfAnoae",
        "outputId": "2aa8175e-c022-4fb7-b843-5e056ad6219d"
      },
      "outputs": [
        {
          "name": "stdout",
          "output_type": "stream",
          "text": [
            "aaa\n",
            "111\n",
            "bbb\n",
            "222\n",
            "ccc\n",
            "333\n",
            "ddd\n",
            "444\n",
            "eee\n",
            "fff\n",
            "ggg\n",
            "hhh\n",
            "iii\n",
            "jjj\n",
            "\n"
          ]
        }
      ],
      "source": [
        "with open(\"file3.txt\",\"r\") as file:\n",
        "    print(file.read())\n",
        "#open file with control scope when scope ends auto closes file"
      ]
    },
    {
      "cell_type": "code",
      "execution_count": null,
      "metadata": {
        "colab": {
          "base_uri": "https://localhost:8080/"
        },
        "id": "Fk2znXuRoDYV",
        "outputId": "ed2cb545-7361-4af9-9cdf-3344b95231b8"
      },
      "outputs": [
        {
          "name": "stdout",
          "output_type": "stream",
          "text": [
            "Enter data in file:123456789\n",
            "Enter data in file:qwertyuio\n",
            "Enter data in file:asdfghjk\n",
            "Enter data in file:zxcvbnm,\n",
            "Enter data in file:\n",
            "data saved in file\n"
          ]
        }
      ],
      "source": [
        "with open(\"file_new.txt\",\"w\") as file:\n",
        "    while True:\n",
        "        line=input(\"Enter data in file:\")\n",
        "        if line==\"\":\n",
        "            print(\"data saved in file\")\n",
        "            break\n",
        "        file.write(line)\n",
        "\n",
        "#open file with control scope when scope ends auto closes file"
      ]
    },
    {
      "cell_type": "markdown",
      "metadata": {
        "id": "M99a5OnB5MUI"
      },
      "source": [
        "**================================================================================================**"
      ]
    },
    {
      "cell_type": "markdown",
      "metadata": {
        "id": "kssRfC7_5O_r"
      },
      "source": [
        "# Day nine"
      ]
    },
    {
      "cell_type": "markdown",
      "metadata": {
        "id": "Y645eJSr5SQ4"
      },
      "source": [
        "**===============================================================================================**"
      ]
    },
    {
      "cell_type": "code",
      "execution_count": null,
      "metadata": {
        "id": "tQW0kHA6S93Z"
      },
      "outputs": [],
      "source": [
        "#from bs4  import Beautifulsoup\n",
        "\n",
        "soup.find(): This method is used to find the first occurrence of a specified HTML tag in the BeautifulSoup object. You can search for tags based on their name, attributes, and text content.\n",
        "\n",
        "soup.find_all(): This method is used to find all occurrences of a specified HTML tag in the BeautifulSoup object. You can search for tags based on their name, attributes, and text content.\n",
        "\n",
        "soup.select(): This method is used to select HTML elements based on CSS selectors. You can use CSS selectors to select tags based on their attributes, class names, and parent-child relationships.\n",
        "\n",
        "soup.get_text(): This method is used to extract the text content of an HTML document. It returns all the text in the document, including the text inside tags.\n",
        "\n",
        "soup.prettify(): This method is used to format the HTML document in a human-readable way. It adds line breaks and indentation to the document to make it easier to read.\n",
        "\n",
        "soup.contents: This method returns a list of all the direct child elements of an HTML tag. It can be used to iterate over the child elements of a tag and extract their contents.\n",
        "\n",
        "soup.parent: This method returns the parent element of an HTML tag. It can be used to navigate up the HTML document and extract information from parent elements.\n",
        "\n",
        "soup.next_sibling: This method returns the next sibling element of an HTML tag. It can be used to navigate to the next sibling element and extract information from it.\n",
        "\n",
        "soup.previous_sibling: This method returns the previous sibling element of an HTML tag. It can be used to navigate to the previous sibling element and extract information from it."
      ]
    },
    {
      "cell_type": "code",
      "execution_count": null,
      "metadata": {
        "id": "y6kGmm-ATRIi"
      },
      "outputs": [],
      "source": [
        "html_doc = \"\"\"\n",
        "<html>\n",
        "<head>\n",
        "<title>My Website</title>\n",
        "</head>\n",
        "<body>\n",
        "<div id=\"content\">\n",
        "<h1>Welcome to my website!</h1>\n",
        "<p>This is a paragraph of text.</p>\n",
        "<a href=\"http://www.google.com\">Google</a>\n",
        "</div>\n",
        "<div id=\"content2\">\n",
        "<h1>zingalala</h1>\n",
        "</div>\n",
        "</body>\n",
        "</html>\n",
        "\"\"\""
      ]
    },
    {
      "cell_type": "code",
      "execution_count": null,
      "metadata": {
        "colab": {
          "base_uri": "https://localhost:8080/"
        },
        "id": "ji95C68qcIwc",
        "outputId": "33e082fb-0750-49c1-8b86-6e66a32c90ad"
      },
      "outputs": [
        {
          "name": "stdout",
          "output_type": "stream",
          "text": [
            "<div id=\"content\">\n",
            "<h1>Welcome to my website!</h1>\n",
            "<p>This is a paragraph of text.</p>\n",
            "<a href=\"http://www.google.com\">Google</a>\n",
            "</div>\n",
            "<div id=\"content2\">\n",
            "<h1>zingalala</h1>\n",
            "</div>\n",
            "Only text\n",
            "\n",
            "Welcome to my website!\n",
            "This is a paragraph of text.\n",
            "Google\n",
            "\n",
            "\n",
            "zingalala\n",
            "\n"
          ]
        }
      ],
      "source": [
        "from bs4 import BeautifulSoup\n",
        "soup=BeautifulSoup(html_doc,'html.parser')\n",
        "#connected page data to html parser and getting soup object\n",
        "div_tags=soup.find_all('div')#list\n",
        "for item in div_tags:#taken one item at a time\n",
        "    #print(item.text)#item has.text\n",
        "    print(item)\n",
        "print(\"Only text\")\n",
        "for item in div_tags:#taken one item at a time\n",
        "    print(item.text)#item has.text"
      ]
    },
    {
      "cell_type": "code",
      "execution_count": null,
      "metadata": {
        "id": "u3huwapAdqCG"
      },
      "outputs": [],
      "source": [
        "cities='''\n",
        "<!DOCTYPE html>\n",
        "<html lang=\"en\">\n",
        "<head>\n",
        "    <meta charset=\"UTF-8\">\n",
        "    <meta name=\"viewport\" content=\"width=device-width, initial-scale=1.0\">\n",
        "    <title>Indian States and Cities</title>\n",
        "    <style>\n",
        "        body {\n",
        "            font-family: Arial, sans-serif;\n",
        "            margin: 20px;\n",
        "            padding: 20px;\n",
        "        }\n",
        "        h2 {\n",
        "            color: #007bff;\n",
        "        }\n",
        "    </style>\n",
        "</head>\n",
        "<body>\n",
        "    <h1>List of Cities in Each State of India</h1>\n",
        "    <ol>\n",
        "        <li>\n",
        "            <h2>Maharashtra</h2>\n",
        "            <ol>\n",
        "                <li>Mumbai</li>\n",
        "                <li>Pune</li>\n",
        "                <li>Nagpur</li>\n",
        "                <li>Nashik</li>\n",
        "                <li>Aurangabad</li>\n",
        "            </ol>\n",
        "        </li>\n",
        "        <li>\n",
        "            <h2>Karnataka</h2>\n",
        "            <ol>\n",
        "                <li>Bengaluru</li>\n",
        "                <li>Mysuru</li>\n",
        "                <li>Hubballi</li>\n",
        "                <li>Mangaluru</li>\n",
        "                <li>Belagavi</li>\n",
        "            </ol>\n",
        "        </li>\n",
        "        <li>\n",
        "            <h2>Tamil Nadu</h2>\n",
        "            <ol>\n",
        "                <li>Chennai</li>\n",
        "                <li>Coimbatore</li>\n",
        "                <li>Madurai</li>\n",
        "                <li>Tiruchirappalli</li>\n",
        "                <li>Salem</li>\n",
        "            </ol>\n",
        "        </li>\n",
        "        <li>\n",
        "            <h2>Uttar Pradesh</h2>\n",
        "            <ol>\n",
        "                <li>Lucknow</li>\n",
        "                <li>Kanpur</li>\n",
        "                <li>Varanasi</li>\n",
        "                <li>Agra</li>\n",
        "                <li>Meerut</li>\n",
        "            </ol>\n",
        "        </li>\n",
        "        <li>\n",
        "            <h2>West Bengal</h2>\n",
        "            <ol>\n",
        "                <li>Kolkata</li>\n",
        "                <li>Howrah</li>\n",
        "                <li>Darjeeling</li>\n",
        "                <li>Asansol</li>\n",
        "                <li>Siliguri</li>\n",
        "            </ol>\n",
        "        </li>\n",
        "    </ol>\n",
        "</body>\n",
        "</html>\n",
        "'''"
      ]
    },
    {
      "cell_type": "code",
      "execution_count": null,
      "metadata": {
        "colab": {
          "base_uri": "https://localhost:8080/"
        },
        "id": "f2IUIVHhefzM",
        "outputId": "04a47de2-30a2-4ec5-d2a2-260572df31ac"
      },
      "outputs": [
        {
          "name": "stdout",
          "output_type": "stream",
          "text": [
            "<class 'bs4.element.ResultSet'>\n",
            "[<h2>Maharashtra</h2>, <h2>Karnataka</h2>, <h2>Tamil Nadu</h2>, <h2>Uttar Pradesh</h2>, <h2>West Bengal</h2>]\n",
            "['Maharashtra', 'Karnataka', 'Tamil Nadu', 'Uttar Pradesh', 'West Bengal']\n"
          ]
        }
      ],
      "source": [
        "from bs4 import BeautifulSoup\n",
        "soup=BeautifulSoup(cities,'html.parser')\n",
        "h2_tags=soup.find_all('h2')#list\n",
        "print(type(h2_tags))\n",
        "h2_list=list(h2_tags)\n",
        "print(h2_list)\n",
        "\n",
        "h2_list_text=[]\n",
        "for item in h2_tags:#taken one item at a time\n",
        "    h2_list_text.append(item.text)#item has.text\n",
        "print(h2_list_text)"
      ]
    },
    {
      "cell_type": "code",
      "execution_count": null,
      "metadata": {
        "colab": {
          "base_uri": "https://localhost:8080/"
        },
        "id": "ZIq6_LbFgNGC",
        "outputId": "cb72b6f7-e8b7-4bf0-b547-909107008186"
      },
      "outputs": [
        {
          "name": "stdout",
          "output_type": "stream",
          "text": [
            "1 State: Maharashtra\n",
            "total cities: 5\n",
            "-> Mumbai\n",
            "-> Pune\n",
            "-> Nagpur\n",
            "-> Nashik\n",
            "-> Aurangabad\n",
            "2 State: Karnataka\n",
            "total cities: 5\n",
            "-> Bengaluru\n",
            "-> Mysuru\n",
            "-> Hubballi\n",
            "-> Mangaluru\n",
            "-> Belagavi\n",
            "3 State: Tamil Nadu\n",
            "total cities: 5\n",
            "-> Chennai\n",
            "-> Coimbatore\n",
            "-> Madurai\n",
            "-> Tiruchirappalli\n",
            "-> Salem\n",
            "4 State: Uttar Pradesh\n",
            "total cities: 5\n",
            "-> Lucknow\n",
            "-> Kanpur\n",
            "-> Varanasi\n",
            "-> Agra\n",
            "-> Meerut\n",
            "5 State: West Bengal\n",
            "total cities: 5\n",
            "-> Kolkata\n",
            "-> Howrah\n",
            "-> Darjeeling\n",
            "-> Asansol\n",
            "-> Siliguri\n"
          ]
        }
      ],
      "source": [
        "from bs4 import BeautifulSoup\n",
        "soup=BeautifulSoup(cities,'html.parser')\n",
        "count=0\n",
        "li_tags=soup.find_all('li')#list\n",
        "for li_tag in li_tags:\n",
        "    h2_within=li_tag.find(\"h2\")\n",
        "    if h2_within:\n",
        "        count+=1\n",
        "        print(count,\"State:\",h2_within.text)\n",
        "        li_within_tags=li_tag.find_all('li')\n",
        "        print(\"total cities:\",len(li_within_tags))\n",
        "        for cities in li_within_tags:\n",
        "            print(\"->\",cities.text)\n",
        "\n",
        "\n"
      ]
    },
    {
      "cell_type": "code",
      "execution_count": null,
      "metadata": {
        "id": "xhWcXuaYfirg"
      },
      "outputs": [],
      "source": [
        "#give count of total states and cities in each state and total of cities"
      ]
    },
    {
      "cell_type": "markdown",
      "metadata": {
        "id": "9U80Yko555Cf"
      },
      "source": [
        "**===========================================================================================**"
      ]
    },
    {
      "cell_type": "markdown",
      "metadata": {
        "id": "7obBgtLz57W2"
      },
      "source": [
        "# day 10  , problems"
      ]
    },
    {
      "cell_type": "markdown",
      "metadata": {
        "id": "fL21ERIH59F4"
      },
      "source": [
        "**===================================================================================================**"
      ]
    },
    {
      "cell_type": "code",
      "execution_count": null,
      "metadata": {
        "id": "zdNyhNBGzGTV"
      },
      "outputs": [],
      "source": [
        "Detect the Type of Triangle\n",
        "Problem Statement:\n",
        "Given three sides of a triangle, determine its type. The program should classify the triangle as one of the following:\n",
        "\n",
        "Equilateral Triangle – All three sides are equal.\n",
        "Isosceles Triangle – Exactly two sides are equal.\n",
        "Scalene Triangle – All three sides are different.\n",
        "Not a Triangle – The given sides do not satisfy the triangle inequality theorem:\n",
        "a+b>c,b+c>a,a+c>b\n",
        "Input:\n",
        "Three integers or floating-point numbers representing the sides of a triangle.\n",
        "\n",
        "Output:\n",
        "A string indicating the type of triangle or stating that the sides do not form a valid triangle.\n",
        "\n",
        "Example Cases:\n",
        "Example 1: Equilateral Triangle\n",
        "Input: 3, 3, 3\n",
        "Output: \"Equilateral Triangle\"\n",
        "\n",
        "Example 2: Isosceles Triangle\n",
        "Input: 5, 5, 8\n",
        "Output: \"Isosceles Triangle\"\n",
        "\n",
        "Example 3: Scalene Triangle\n",
        "Input: 4, 5, 6\n",
        "Output: \"Scalene Triangle\"\n",
        "\n",
        "Example 4: Not a Triangle\n",
        "Input: 1, 2, 3\n",
        "Output: \"Not a Triangle\""
      ]
    },
    {
      "cell_type": "code",
      "execution_count": null,
      "metadata": {
        "id": "LOzBB3RljOOw"
      },
      "outputs": [],
      "source": [
        "Happy Number\n",
        "Problem Statement:\n",
        "A number is called a Happy Number if, by repeatedly replacing the number with the sum of the squares of its digits, we eventually reach 1. If the process results in a loop that does not include 1, the number is considered unhappy (or sad).\n",
        "\n",
        "Steps to Determine a Happy Number:\n",
        "Take a number n and replace it with the sum of the squares of its digits.\n",
        "Repeat the process until:\n",
        "The number becomes 1 (in which case it is happy).\n",
        "The number starts repeating (forming a cycle), meaning it will never reach 1 (in which case it is unhappy).\n",
        "Input:\n",
        "An integer n (where n > 0).\n",
        "\n",
        "Output:\n",
        "A boolean or string indicating whether the number is happy or not."
      ]
    },
    {
      "cell_type": "code",
      "execution_count": null,
      "metadata": {
        "id": "RRPYTnk2jv-M"
      },
      "outputs": [],
      "source": [
        "def happy_or_not(no):\n",
        "    no=str(no)\n",
        "    sum=0\n",
        "    for digit in no:\n",
        "        sum+=int(digit)**2\n",
        "    print(sum)\n",
        "    if sum==1:\n",
        "        return True\n",
        "    elif sum<10:\n",
        "        return False\n",
        "    else:\n",
        "        return happy_or_not(sum)\n"
      ]
    },
    {
      "cell_type": "code",
      "execution_count": null,
      "metadata": {
        "colab": {
          "base_uri": "https://localhost:8080/"
        },
        "id": "6EYmUra3mRw5",
        "outputId": "61a19ce3-47cc-47fa-b9d1-7f617e5c2538"
      },
      "outputs": [
        {
          "name": "stdout",
          "output_type": "stream",
          "text": [
            "68\n",
            "100\n",
            "1\n",
            "Happy number\n"
          ]
        }
      ],
      "source": [
        "if happy_or_not(82):\n",
        "    print(\"Happy number\")\n",
        "else:\n",
        "    print(\"Un-happy number\")"
      ]
    },
    {
      "cell_type": "code",
      "execution_count": null,
      "metadata": {
        "id": "Mj7Q89A1nfDz"
      },
      "outputs": [],
      "source": [
        "#check number is part of fibonacci or not\n",
        "#if so return true else false\n",
        "#0 1 1 2 3 5 8 13.......\n",
        "#input:8 True\n",
        "#input:12 False\n",
        "def fibo_part(no):\n",
        "    f0,f1,=0,1\n",
        "    if no==0 or no==1:\n",
        "        return True\n",
        "    while True:\n",
        "        fn=f0+f1\n",
        "        print(\"checking:\",fn)\n",
        "        if fn==no:\n",
        "            return True\n",
        "        elif fn>no:\n",
        "            return False\n",
        "        f0,f1=f1,fn\n"
      ]
    },
    {
      "cell_type": "code",
      "execution_count": null,
      "metadata": {
        "colab": {
          "base_uri": "https://localhost:8080/"
        },
        "id": "rO7XGP01v0gU",
        "outputId": "26e8e7ba-e042-463d-c0c3-2e2e1333e032"
      },
      "outputs": [
        {
          "name": "stdout",
          "output_type": "stream",
          "text": [
            "checking: 1\n",
            "checking: 2\n",
            "checking: 3\n",
            "checking: 5\n",
            "checking: 8\n"
          ]
        },
        {
          "data": {
            "text/plain": [
              "False"
            ]
          },
          "execution_count": 19,
          "metadata": {},
          "output_type": "execute_result"
        }
      ],
      "source": [
        "fibo_part(7)"
      ]
    },
    {
      "cell_type": "code",
      "execution_count": null,
      "metadata": {
        "id": "NQbcbbpCwfoP"
      },
      "outputs": [],
      "source": [
        "'''\n",
        "Python Lambda:function without any name/id\n",
        "it is use a throw function\n",
        "var=lambda <arg>: <operation>\n",
        "'''\n",
        "doubler=lambda a:a*2\n",
        "multi=lambda a,b:a*b"
      ]
    },
    {
      "cell_type": "code",
      "execution_count": null,
      "metadata": {
        "colab": {
          "base_uri": "https://localhost:8080/"
        },
        "id": "hYykPzkew2BV",
        "outputId": "290b89ca-df40-4721-a45a-d41fb7ece738"
      },
      "outputs": [
        {
          "data": {
            "text/plain": [
              "6.268"
            ]
          },
          "execution_count": 24,
          "metadata": {},
          "output_type": "execute_result"
        }
      ],
      "source": [
        "doubler(3.134)"
      ]
    },
    {
      "cell_type": "code",
      "execution_count": null,
      "metadata": {
        "colab": {
          "base_uri": "https://localhost:8080/"
        },
        "id": "SkPGCV40xFC2",
        "outputId": "39f27eea-c297-4fe8-eb88-d38f929717b3"
      },
      "outputs": [
        {
          "data": {
            "text/plain": [
              "200"
            ]
          },
          "execution_count": 26,
          "metadata": {},
          "output_type": "execute_result"
        }
      ],
      "source": [
        "multi(10,20)"
      ]
    },
    {
      "cell_type": "code",
      "execution_count": null,
      "metadata": {
        "id": "Aaooemtf37EM"
      },
      "outputs": [],
      "source": [
        "fruits = [\"apple\", \"banana\", \"cherry\", \"kiwi\", \"mango\"]\n",
        "list2=[]\n",
        "for fruit in fruits:\n",
        "    if \"a\" in fruit:\n",
        "        list2.append(fruit)\n"
      ]
    },
    {
      "cell_type": "code",
      "execution_count": null,
      "metadata": {
        "colab": {
          "base_uri": "https://localhost:8080/"
        },
        "id": "1ty6Pmkb4Qu9",
        "outputId": "a8de5bfb-b4cb-4f0c-f7b5-2714ddbfe68f"
      },
      "outputs": [
        {
          "name": "stdout",
          "output_type": "stream",
          "text": [
            "['apple', 'banana', 'mango']\n"
          ]
        }
      ],
      "source": [
        "print(list2)"
      ]
    },
    {
      "cell_type": "code",
      "execution_count": null,
      "metadata": {
        "id": "AP_BDBC64SwH"
      },
      "outputs": [],
      "source": [
        "[ expression for in <list/tuple/dict/set> codition]"
      ]
    },
    {
      "cell_type": "code",
      "execution_count": null,
      "metadata": {
        "id": "IBJilNFX4gAM"
      },
      "outputs": [],
      "source": [
        "list_a=[fruit for fruit in fruits if \"a\" in fruit]"
      ]
    },
    {
      "cell_type": "code",
      "execution_count": null,
      "metadata": {
        "colab": {
          "base_uri": "https://localhost:8080/"
        },
        "id": "xRa9-Vlj40uQ",
        "outputId": "13e8fe04-6d1e-43ec-a57c-cd4779a5ef88"
      },
      "outputs": [
        {
          "data": {
            "text/plain": [
              "['apple', 'banana', 'mango']"
            ]
          },
          "execution_count": 31,
          "metadata": {},
          "output_type": "execute_result"
        }
      ],
      "source": [
        "list_a"
      ]
    },
    {
      "cell_type": "code",
      "execution_count": null,
      "metadata": {
        "id": "q1L0tIUK46IR"
      },
      "outputs": [],
      "source": [
        "list_1=[1,2,3,4,5,6,7,8,9]\n",
        "list_even=[item for item in list_1 if item%2==0]\n",
        "list_odd=[item for item in list_1 if item%2==1]"
      ]
    },
    {
      "cell_type": "code",
      "execution_count": null,
      "metadata": {
        "id": "4qzEY1pP5oXm"
      },
      "outputs": [],
      "source": [
        "list_1=[i for i in range(1,21,2)]"
      ]
    },
    {
      "cell_type": "code",
      "execution_count": null,
      "metadata": {
        "colab": {
          "base_uri": "https://localhost:8080/"
        },
        "id": "qFp6VMzs5toe",
        "outputId": "f6159a2f-004a-4cbb-8f25-e30dd1fe827b"
      },
      "outputs": [
        {
          "data": {
            "text/plain": [
              "[1, 3, 5, 7, 9, 11, 13, 15, 17, 19]"
            ]
          },
          "execution_count": 36,
          "metadata": {},
          "output_type": "execute_result"
        }
      ],
      "source": [
        "list_1"
      ]
    },
    {
      "cell_type": "code",
      "execution_count": null,
      "metadata": {
        "colab": {
          "base_uri": "https://localhost:8080/"
        },
        "id": "ZeyL11Yv52vP",
        "outputId": "f560ab8a-d39c-4428-f1a7-0b6e264f66e5"
      },
      "outputs": [
        {
          "name": "stdout",
          "output_type": "stream",
          "text": [
            "[11, 42, 33, 22, 45]\n"
          ]
        }
      ],
      "source": [
        "the_list=[11,42,99,66,55,33,77,66,22,45,67]\n",
        "#use minimum code to generate list with numbers < AVG\n",
        "new_list=[i for i in the_list if i<sum(the_list)/len(the_list)]\n",
        "print(new_list)"
      ]
    },
    {
      "cell_type": "code",
      "execution_count": null,
      "metadata": {
        "colab": {
          "base_uri": "https://localhost:8080/"
        },
        "id": "IStwkeqs6lPj",
        "outputId": "16b1d21a-2503-4634-f62f-de471c4de317"
      },
      "outputs": [
        {
          "name": "stdout",
          "output_type": "stream",
          "text": [
            "Enter n:2\n",
            "[2, 4, 6, 8, 10, 12]\n"
          ]
        }
      ],
      "source": [
        "#scalar mutiplication by n\n",
        "#i*list[]\n",
        "list1=[1,2,3,4,5,6]\n",
        "n=int(input(\"Enter n:\"))\n",
        "list2=[i*n for i in list1]\n",
        "#list1*2--->[2,4,6,8,10,12]\n",
        "print(list2)\n"
      ]
    },
    {
      "cell_type": "code",
      "execution_count": null,
      "metadata": {
        "id": "fQqPs8vb7vFS"
      },
      "outputs": [],
      "source": [
        "list1=[1,2,3,4,5,6]\n",
        "list2=[2,4,6,8,10,12]\n",
        "#mutiply both\n",
        "mutiplied_list=[a*b for a,b in zip(list1,list2)]"
      ]
    },
    {
      "cell_type": "code",
      "execution_count": null,
      "metadata": {
        "colab": {
          "base_uri": "https://localhost:8080/"
        },
        "id": "tqOiSLXK8Fm4",
        "outputId": "95832413-00b2-4ad9-8466-3ebea25934f7"
      },
      "outputs": [
        {
          "data": {
            "text/plain": [
              "[2, 8, 18, 32, 50, 72]"
            ]
          },
          "execution_count": 42,
          "metadata": {},
          "output_type": "execute_result"
        }
      ],
      "source": [
        "mutiplied_list"
      ]
    },
    {
      "cell_type": "code",
      "execution_count": null,
      "metadata": {
        "colab": {
          "base_uri": "https://localhost:8080/"
        },
        "id": "4NCK4B9g8ZvA",
        "outputId": "081c1427-a57f-4c23-982a-02297b4494be"
      },
      "outputs": [
        {
          "name": "stdout",
          "output_type": "stream",
          "text": [
            "['AARAV', 'VIHAAN', 'ISHAAN', 'KABIR', 'ADVAIT', 'ANANYA', 'SIYA', 'MYRA', 'TANVI', 'RIYA']\n"
          ]
        }
      ],
      "source": [
        "indian_names = [\"Aarav\", \"Vihaan\", \"Ishaan\", \"Kabir\", \"Advait\",\n",
        "                \"Ananya\", \"Siya\", \"Myra\", \"Tanvi\", \"Riya\"]\n",
        "print([name.upper() for name in indian_names])"
      ]
    },
    {
      "cell_type": "code",
      "execution_count": null,
      "metadata": {
        "id": "RCKLjTeN82j6"
      },
      "outputs": [],
      "source": [
        ".join():ony works on string core type list/tuple/set/dict but iff they have string"
      ]
    },
    {
      "cell_type": "code",
      "execution_count": null,
      "metadata": {
        "id": "Eup0pk-R9EEs"
      },
      "outputs": [],
      "source": [
        "\"seprator\".join(sequence)"
      ]
    },
    {
      "cell_type": "code",
      "execution_count": null,
      "metadata": {
        "colab": {
          "base_uri": "https://localhost:8080/"
        },
        "id": "2Q-buz1N9RSj",
        "outputId": "b3495c8b-0a36-47f2-ac92-9dc57de41ddb"
      },
      "outputs": [
        {
          "name": "stdout",
          "output_type": "stream",
          "text": [
            "amar\n"
          ]
        }
      ],
      "source": [
        "list1=['a','m','a','r']\n",
        "print(\"\".join(list1))"
      ]
    },
    {
      "cell_type": "code",
      "execution_count": null,
      "metadata": {
        "colab": {
          "base_uri": "https://localhost:8080/"
        },
        "id": "GM_VV4Dn9dYw",
        "outputId": "3eb6fb6b-f3e8-4635-e101-a88ddaba76b8"
      },
      "outputs": [
        {
          "name": "stdout",
          "output_type": "stream",
          "text": [
            "hukkubbbaahi\n"
          ]
        }
      ],
      "source": [
        "set1={\"hi\",\"hukku\",\"aa\",\"bbb\"}\n",
        "print(\"\".join(set1))"
      ]
    },
    {
      "cell_type": "code",
      "execution_count": null,
      "metadata": {
        "colab": {
          "base_uri": "https://localhost:8080/"
        },
        "id": "ZsQjrESs9zwv",
        "outputId": "f4e22d9e-654f-46b7-a737-5ffb051af514"
      },
      "outputs": [
        {
          "name": "stdout",
          "output_type": "stream",
          "text": [
            "one-two-three\n"
          ]
        }
      ],
      "source": [
        "dict1={\"one\":1,\"two\":2,\"three\":3}\n",
        "print(\"-\".join(dict1))#only keys"
      ]
    },
    {
      "cell_type": "code",
      "execution_count": null,
      "metadata": {
        "colab": {
          "base_uri": "https://localhost:8080/"
        },
        "id": "g2_gc8-6-AVn",
        "outputId": "7c149260-b1b5-4943-aca2-b2d8cbefec18"
      },
      "outputs": [
        {
          "name": "stdout",
          "output_type": "stream",
          "text": [
            "a--------m--------a--------r\n"
          ]
        }
      ],
      "source": [
        "list1=['a','m','a','r']\n",
        "print(\"--------\".join(list1))"
      ]
    },
    {
      "cell_type": "code",
      "execution_count": null,
      "metadata": {
        "colab": {
          "base_uri": "https://localhost:8080/"
        },
        "id": "3pr_apg0-TEm",
        "outputId": "e72dc3cb-82e0-4b51-901e-5ec2727430fa"
      },
      "outputs": [
        {
          "name": "stdout",
          "output_type": "stream",
          "text": [
            "123456\n"
          ]
        }
      ],
      "source": [
        "list2=[1,2,3,4,5,6]\n",
        "print(\"\".join([str(item) for item in list2]))"
      ]
    },
    {
      "cell_type": "code",
      "execution_count": null,
      "metadata": {
        "colab": {
          "base_uri": "https://localhost:8080/"
        },
        "id": "GJCoO3iJ_StZ",
        "outputId": "9fbef199-2d00-4190-acc3-fbdbc62a7edc"
      },
      "outputs": [
        {
          "name": "stdout",
          "output_type": "stream",
          "text": [
            "[1, 2, 3, 4]\n"
          ]
        }
      ],
      "source": [
        "#map(function,sequence)\n",
        "#apply function on each item of sequence\n",
        "s=['1','2','3','4']\n",
        "s_int=list(map(int,s))\n",
        "print(s_int)"
      ]
    },
    {
      "cell_type": "code",
      "execution_count": null,
      "metadata": {
        "colab": {
          "base_uri": "https://localhost:8080/",
          "height": 36
        },
        "id": "kJxOwR9H_5WV",
        "outputId": "e605fa11-b15d-47b3-856f-4d709f6aef42"
      },
      "outputs": [
        {
          "data": {
            "application/vnd.google.colaboratory.intrinsic+json": {
              "type": "string"
            },
            "text/plain": [
              "'Accessed by my_fun:10'"
            ]
          },
          "execution_count": 63,
          "metadata": {},
          "output_type": "execute_result"
        }
      ],
      "source": [
        "def my_fun(data):\n",
        "    return f\"Accessed by my_fun:{data}\"\n"
      ]
    },
    {
      "cell_type": "code",
      "execution_count": null,
      "metadata": {
        "colab": {
          "base_uri": "https://localhost:8080/"
        },
        "id": "i2uLHjsUAC3U",
        "outputId": "604c1f9c-d5ad-47b5-d65b-b4987bfe5de9"
      },
      "outputs": [
        {
          "name": "stdout",
          "output_type": "stream",
          "text": [
            "['Accessed by my_fun:1', 'Accessed by my_fun:2', 'Accessed by my_fun:3', 'Accessed by my_fun:4']\n"
          ]
        }
      ],
      "source": [
        "data=list(map(my_fun,s_int))\n",
        "print(data)"
      ]
    },
    {
      "cell_type": "code",
      "execution_count": null,
      "metadata": {
        "colab": {
          "base_uri": "https://localhost:8080/"
        },
        "id": "qCYHr_MmA6wp",
        "outputId": "876c0a03-5c2a-47c1-d853-2646ee8520fc"
      },
      "outputs": [
        {
          "data": {
            "text/plain": [
              "[1, 2, 3, 4]"
            ]
          },
          "execution_count": 67,
          "metadata": {},
          "output_type": "execute_result"
        }
      ],
      "source": [
        "s_int"
      ]
    },
    {
      "cell_type": "code",
      "execution_count": null,
      "metadata": {
        "id": "nZbK8kuIA9hN"
      },
      "outputs": [],
      "source": [
        "s_list2=list(map(lambda x:x*2,s_int))"
      ]
    },
    {
      "cell_type": "code",
      "execution_count": null,
      "metadata": {
        "colab": {
          "base_uri": "https://localhost:8080/"
        },
        "id": "U2ol-PaLBMot",
        "outputId": "63c0e5db-8787-45e4-8c4d-5281c036d084"
      },
      "outputs": [
        {
          "data": {
            "text/plain": [
              "[2, 4, 6, 8]"
            ]
          },
          "execution_count": 69,
          "metadata": {},
          "output_type": "execute_result"
        }
      ],
      "source": [
        "s_list2"
      ]
    },
    {
      "cell_type": "code",
      "execution_count": null,
      "metadata": {
        "colab": {
          "base_uri": "https://localhost:8080/"
        },
        "id": "iAqHAzMXBTSb",
        "outputId": "d05a94d8-e143-4905-bf9b-f513f0b12fda"
      },
      "outputs": [
        {
          "name": "stdout",
          "output_type": "stream",
          "text": [
            "[1, 2, 3, 4, 10, 20, 30, 40]\n",
            "[11, 22, 33, 44]\n"
          ]
        }
      ],
      "source": [
        "l1=[1,2,3,4]\n",
        "l2=[10,20,30,40]\n",
        "adder=lambda a,b:a+b\n",
        "print(adder(l1,l2))\n",
        "print(list(map(lambda a,b:a+b,l1,l2)))"
      ]
    },
    {
      "cell_type": "code",
      "execution_count": null,
      "metadata": {
        "colab": {
          "base_uri": "https://localhost:8080/"
        },
        "id": "Zp35TWgCD80_",
        "outputId": "13a55402-bd68-4772-ad4d-d0160d5a912d"
      },
      "outputs": [
        {
          "name": "stdout",
          "output_type": "stream",
          "text": [
            "[2, 4, 6, 8, 10]\n"
          ]
        }
      ],
      "source": [
        "#filter(function,sequence)\n",
        "l1=[1,2,3,4,5,6,7,8,9,10]\n",
        "#evaluate=lambda a:a%2==1\n",
        "#evaluate(5)\n",
        "l_even=list(filter(lambda a:a%2==0,l1))\n",
        "print(l_even)"
      ]
    }
  ],
  "metadata": {
    "colab": {
      "provenance": []
    },
    "kernelspec": {
      "display_name": "Python 3",
      "name": "python3"
    },
    "language_info": {
      "name": "python"
    }
  },
  "nbformat": 4,
  "nbformat_minor": 0
}
